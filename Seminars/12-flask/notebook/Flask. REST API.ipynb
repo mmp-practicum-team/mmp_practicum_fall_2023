{
 "cells": [
  {
   "cell_type": "markdown",
   "id": "b5445999",
   "metadata": {},
   "source": [
    "# `Практикум по программированию на языке Python`\n",
    "<br>\n",
    "\n",
    "## `Занятие 12: Flask`\n",
    "<br><br>\n",
    "\n",
    "### `Максим Находнов (nakhodnov17@gmail.com)`\n",
    "\n",
    "#### `Москва, 2023`"
   ]
  },
  {
   "cell_type": "markdown",
   "id": "8064f219",
   "metadata": {
    "ExecuteTime": {
     "end_time": "2023-01-26T11:20:54.591785Z",
     "start_time": "2023-01-26T11:20:54.576786Z"
    }
   },
   "source": [
    "О чём можно узнать из этого ноутбука:\n",
    "\n",
    "* Пример серверной библиотеки для создания WEB-приложений: Flask\n",
    "* REST API"
   ]
  },
  {
   "cell_type": "markdown",
   "id": "e920e35c",
   "metadata": {},
   "source": [
    "Источники материалов:\n",
    "\n",
    "* [Flask](https://github.com/mmp-practicum-team/mmp_practicum_fall_2022/tree/main/Seminars/12-flask)\n",
    "* [Flask WSGI](https://github.com/mmp-practicum-team/mmp_practicum_fall_2022/blob/main/Seminars/13-web-servers/13-web-servers.ipynb)\n",
    "* [REST](https://habr.com/ru/post/483202/), [REST Flask](https://habr.com/ru/post/246699/)"
   ]
  },
  {
   "cell_type": "markdown",
   "id": "29528a19",
   "metadata": {},
   "source": [
    "#### `Flask`"
   ]
  },
  {
   "cell_type": "markdown",
   "id": "7c6371da",
   "metadata": {
    "ExecuteTime": {
     "end_time": "2023-01-26T11:43:50.489178Z",
     "start_time": "2023-01-26T11:43:50.484178Z"
    }
   },
   "source": [
    "Flask — микрофреймворк для создания вебсайтов на языке Python."
   ]
  },
  {
   "cell_type": "markdown",
   "id": "a6456b47",
   "metadata": {},
   "source": [
    "##### `Простейший пример сервера`"
   ]
  },
  {
   "cell_type": "code",
   "execution_count": 1,
   "id": "4e4de611",
   "metadata": {
    "ExecuteTime": {
     "end_time": "2023-01-26T14:48:23.078888Z",
     "start_time": "2023-01-26T14:48:23.073890Z"
    }
   },
   "outputs": [
    {
     "name": "stdout",
     "output_type": "stream",
     "text": [
      "Writing simple_flask.py\n"
     ]
    }
   ],
   "source": [
    "%%writefile simple_flask.py\n",
    "# Простейший сервер на flask\n",
    "from flask import Flask\n",
    "\n",
    "app = Flask(__name__)\n",
    "\n",
    "@app.route('/')\n",
    "def hello_world():\n",
    "    return 'Hello, World!'\n",
    "   \n",
    "if __name__ == '__main__':\n",
    "    app.run(host='localhost')"
   ]
  },
  {
   "cell_type": "code",
   "execution_count": 14,
   "id": "a85925ec",
   "metadata": {
    "ExecuteTime": {
     "end_time": "2023-01-26T14:48:23.703131Z",
     "start_time": "2023-01-26T14:48:23.697130Z"
    }
   },
   "outputs": [],
   "source": [
    "import requests"
   ]
  },
  {
   "cell_type": "code",
   "execution_count": 15,
   "id": "5a1e5a0a",
   "metadata": {
    "ExecuteTime": {
     "end_time": "2023-01-26T14:48:32.406803Z",
     "start_time": "2023-01-26T14:48:32.393803Z"
    }
   },
   "outputs": [
    {
     "name": "stdout",
     "output_type": "stream",
     "text": [
      "200\n",
      "{'Server': 'Werkzeug/2.2.2 Python/3.10.6', 'Date': 'Thu, 26 Jan 2023 14:48:32 GMT', 'Content-Type': 'text/html; charset=utf-8', 'Content-Length': '13', 'Connection': 'close'}\n",
      "b'Hello, World!'\n"
     ]
    }
   ],
   "source": [
    "r = requests.get('http://127.0.0.1:5000/')\n",
    "print(r.status_code)\n",
    "print(r.headers)\n",
    "print(r.content)"
   ]
  },
  {
   "cell_type": "markdown",
   "id": "44a10f8c",
   "metadata": {
    "ExecuteTime": {
     "end_time": "2023-01-26T11:53:25.621675Z",
     "start_time": "2023-01-26T11:53:25.615675Z"
    }
   },
   "source": [
    "##### `Простейший пример сервера. POST/GET`"
   ]
  },
  {
   "cell_type": "markdown",
   "id": "ebe4cacc",
   "metadata": {},
   "source": [
    "По умолчанию `route` отвечает только на `GET` запросы.\n",
    "\n",
    "Если нужно, можно явно добавить HTTP-методы, которые будут обрабатываться"
   ]
  },
  {
   "cell_type": "code",
   "execution_count": 16,
   "id": "9bb1cc44",
   "metadata": {
    "ExecuteTime": {
     "end_time": "2023-01-26T14:48:37.407251Z",
     "start_time": "2023-01-26T14:48:37.393252Z"
    }
   },
   "outputs": [
    {
     "name": "stdout",
     "output_type": "stream",
     "text": [
      "Writing simple_flask_post.py\n"
     ]
    }
   ],
   "source": [
    "%%writefile simple_flask_post.py\n",
    "# Простейший сервер на flask\n",
    "from flask import Flask\n",
    "\n",
    "app = Flask(__name__)\n",
    "\n",
    "@app.route('/post', methods=['POST'])\n",
    "def hello_path():\n",
    "    return 'Hello, Path!'\n",
    "   \n",
    "if __name__ == '__main__':\n",
    "    app.run(host='localhost')"
   ]
  },
  {
   "cell_type": "code",
   "execution_count": 17,
   "id": "17345f56",
   "metadata": {
    "ExecuteTime": {
     "end_time": "2023-01-26T14:48:46.913384Z",
     "start_time": "2023-01-26T14:48:46.897384Z"
    }
   },
   "outputs": [
    {
     "name": "stdout",
     "output_type": "stream",
     "text": [
      "200\n",
      "{'Server': 'Werkzeug/2.2.2 Python/3.10.6', 'Date': 'Thu, 26 Jan 2023 14:48:46 GMT', 'Content-Type': 'text/html; charset=utf-8', 'Content-Length': '12', 'Connection': 'close'}\n",
      "b'Hello, Path!'\n"
     ]
    }
   ],
   "source": [
    "r = requests.post('http://127.0.0.1:5000/post')\n",
    "print(r.status_code)\n",
    "print(r.headers)\n",
    "print(r.content)"
   ]
  },
  {
   "cell_type": "code",
   "execution_count": 18,
   "id": "e914c9c5",
   "metadata": {
    "ExecuteTime": {
     "end_time": "2023-01-26T14:48:47.862794Z",
     "start_time": "2023-01-26T14:48:47.841794Z"
    }
   },
   "outputs": [
    {
     "name": "stdout",
     "output_type": "stream",
     "text": [
      "405\n",
      "{'Server': 'Werkzeug/2.2.2 Python/3.10.6', 'Date': 'Thu, 26 Jan 2023 14:48:47 GMT', 'Content-Type': 'text/html; charset=utf-8', 'Allow': 'POST, OPTIONS', 'Content-Length': '153', 'Connection': 'close'}\n",
      "b'<!doctype html>\\n<html lang=en>\\n<title>405 Method Not Allowed</title>\\n<h1>Method Not Allowed</h1>\\n<p>The method is not allowed for the requested URL.</p>\\n'\n"
     ]
    }
   ],
   "source": [
    "r = requests.get('http://127.0.0.1:5000/post')\n",
    "print(r.status_code)\n",
    "print(r.headers)\n",
    "print(r.content)"
   ]
  },
  {
   "cell_type": "markdown",
   "id": "0ae8a1da",
   "metadata": {},
   "source": [
    "##### `Простейший пример сервера. Variable Rules`"
   ]
  },
  {
   "cell_type": "markdown",
   "id": "f463c477",
   "metadata": {},
   "source": [
    "В пути можно использовать переменные\n",
    "\n",
    "Синтаксис: `<converter:variable_name>`\n",
    "\n",
    "Доступные converters:\n",
    "- `string`\n",
    "- `int`\n",
    "- `float`\n",
    "- `path`\n",
    "- `uuid`"
   ]
  },
  {
   "cell_type": "code",
   "execution_count": 19,
   "id": "4ccc1114",
   "metadata": {
    "ExecuteTime": {
     "end_time": "2023-01-26T14:48:53.996882Z",
     "start_time": "2023-01-26T14:48:53.984884Z"
    }
   },
   "outputs": [
    {
     "name": "stdout",
     "output_type": "stream",
     "text": [
      "Writing simple_flask_converters.py\n"
     ]
    }
   ],
   "source": [
    "%%writefile simple_flask_converters.py\n",
    "from flask import Flask\n",
    "\n",
    "app = Flask(__name__)\n",
    "\n",
    "@app.route('/hello/<string:name>')\n",
    "def hello_name(name):\n",
    "    return f'Hello {name}!'\n",
    "   \n",
    "if __name__ == '__main__':\n",
    "    app.run(host='localhost')"
   ]
  },
  {
   "cell_type": "code",
   "execution_count": 20,
   "id": "9b9583b5",
   "metadata": {
    "ExecuteTime": {
     "end_time": "2023-01-26T14:49:02.241848Z",
     "start_time": "2023-01-26T14:49:02.225851Z"
    }
   },
   "outputs": [
    {
     "name": "stdout",
     "output_type": "stream",
     "text": [
      "b'Hello John!'\n"
     ]
    }
   ],
   "source": [
    "r = requests.get('http://127.0.0.1:5000/hello/John')\n",
    "print(r.content)"
   ]
  },
  {
   "cell_type": "markdown",
   "id": "7ba4c590",
   "metadata": {},
   "source": [
    "#### `Flask WSGI`"
   ]
  },
  {
   "cell_type": "markdown",
   "id": "fedd9611",
   "metadata": {},
   "source": [
    "Flask используется для разработки и отладки.\n",
    "\n",
    "Для промышленной эксплуатации необходимо использование **WSGI** (Web Server Gateway Interface) сервера:\n",
    "- WSGI-сервера были разработаны чтобы обрабатывать множество запросов одновременно. А фреймворки (в том числе Flask) не предназначены для обработки тысяч запросов и не дают решения того, как наилучшим образом маршрутизировать запросы с веб-сервера\n",
    "- с WSGI не нужно беспокоиться о том, как ваша конкретная инфраструктура использует стандарт WSGI\n",
    "- WSGI дает Вам гибкость в изменении компонентов веб-стека без изменения приложения, которое работает с WSGI\n",
    "\n",
    "Здесь WSGI (Web Server Gateway Interface) — стандарт взаимодействия между Python-программой, выполняющейся на стороне сервера, и самим веб-сервером, например Apache. Фактически, это интерпретатор Python, который запускает WSGI-приложение, написанное на Flask.\n",
    "\n",
    "При поступлении запроса активизируется WSGI-приложение, выполняется определенный обработчик, который еще называется «Представление» и реализованный в виде функции на языке Python. Соответственно, если приходит сразу несколько запросов, то одна и та же функция-обработчик может быть запущена в параллельных потоках. Многопоточность – это норма для фреймворков, поэтому, работая с представлениями во Flask, всегда следует это учитывать."
   ]
  },
  {
   "cell_type": "markdown",
   "id": "91c78aa5",
   "metadata": {},
   "source": [
    "Если не планируется большой нагрузки, для `flask` это может быть `waitress`.\n",
    "\n",
    "Установка: `pip install waitress`\n",
    "\n",
    "Использование:"
   ]
  },
  {
   "cell_type": "code",
   "execution_count": 21,
   "id": "aa6fd424",
   "metadata": {
    "ExecuteTime": {
     "end_time": "2023-01-26T14:49:09.630853Z",
     "start_time": "2023-01-26T14:49:09.617851Z"
    }
   },
   "outputs": [
    {
     "name": "stdout",
     "output_type": "stream",
     "text": [
      "Writing flask_wsgi.py\n"
     ]
    }
   ],
   "source": [
    "%%writefile flask_wsgi.py\n",
    "import time\n",
    "from flask import Flask\n",
    "from waitress import serve\n",
    "\n",
    "app = Flask(__name__)\n",
    "\n",
    "@app.route('/')\n",
    "def hello_world():\n",
    "    time.sleep(5)\n",
    "    return 'Hello, World!'\n",
    "   \n",
    "if __name__ == '__main__':\n",
    "    # Вместо запуска flask запускаем waitress.serve\n",
    "#     app.run(host='localhost', threaded=False)\n",
    "    serve(app, host='localhost', port='5000', threads=2)"
   ]
  },
  {
   "cell_type": "markdown",
   "id": "816f57e5",
   "metadata": {},
   "source": [
    "Либо запускаем из командной строки: \n",
    "```bash\n",
    "waitress-serve --port 5000 '<имя модуля>:<перемнная приложения>'\n",
    "```\n",
    "\n",
    "Если наш файл называется `server.py`, то наш пример можно запустить командой: \n",
    "```bash\n",
    "waitress-serve --port 5000 'server:app'\n",
    "```"
   ]
  },
  {
   "cell_type": "markdown",
   "id": "bc74aff4",
   "metadata": {},
   "source": [
    "### REST API"
   ]
  },
  {
   "cell_type": "markdown",
   "id": "e9b4a95b",
   "metadata": {},
   "source": [
    "#### `Что такое REST?`"
   ]
  },
  {
   "cell_type": "markdown",
   "id": "d09e965f",
   "metadata": {},
   "source": [
    "**REST** (Representational State Transfer — «передача репрезентативного состояния» или «передача „самоописываемого“ состояния») — архитектурный стиль взаимодействия компонентов распределённого приложения в сети. Другими словами, REST — это **набор правил** того, как программисту организовать написание **кода серверного приложения**, чтобы все системы легко **обменивались данными** и приложение можно было масштабировать"
   ]
  },
  {
   "cell_type": "markdown",
   "id": "454af0f4",
   "metadata": {},
   "source": [
    "#### `Правила REST`"
   ]
  },
  {
   "cell_type": "markdown",
   "id": "a07d21dd",
   "metadata": {},
   "source": [
    "1. **Клиент-Сервер**: Должно быть разделение между сервером, который предлагает сервис и клиентом, который использует ее.\n",
    "2. **Stateless**: Каждый запрос от клиента должен содержать всю информацию, необходимую серверу для выполнения запроса. Другими словами, сервер не обязан сохранять информацию о состоянии клиента.\n",
    "3. **Кэширование**: В каждом запросе клиента должно явно содержаться указание о возможности кэширования ответа и получения ответа из существующего кэша.\n",
    "4. **Уровневая система**: Клиент может взаимодействовать не напрямую с сервером, а с произвольным количеством промежуточных узлов. При этом клиент может не знать о существовании промежуточных узлов, за исключением случаев передачи конфиденциальной информации.\n",
    "5. **Унификация**: Унифицированный программный интерфейс сервера.\n",
    "6. **Код по запросу**: Сервера могут поставлять исполняемый код или скрипты для выполнения их на стороне клиентов."
   ]
  },
  {
   "cell_type": "markdown",
   "id": "9aace593",
   "metadata": {},
   "source": [
    "#### `Ресурс`"
   ]
  },
  {
   "cell_type": "markdown",
   "id": "331bc37a",
   "metadata": {},
   "source": [
    "**Ресурс** — это ключевая абстракция, на которой концентрируется протокол HTTP. Ресурс — это все, что вы хотите показать внешнему миру через ваше приложение. Например, если мы пишем приложение для управления задачами, экземпляры ресурсов будут следующие:\n",
    "* Конкретный пользователь\n",
    "* Конкретная задача\n",
    "* Список задач"
   ]
  },
  {
   "cell_type": "markdown",
   "id": "b937d7d5",
   "metadata": {},
   "source": [
    "#### `Дизайн REST`"
   ]
  },
  {
   "cell_type": "markdown",
   "id": "949ea4a2",
   "metadata": {},
   "source": [
    "| Метод HTTP |            Действие           |                                      Пример                                     |\n",
    "|:----------:|:-----------------------------:|:-------------------------------------------------------------------------------:|\n",
    "| **GET**        | Получить информацию о ресурсе | `example.com/api/orders` (получить список заказов)                                |\n",
    "| **GET**        | Получить информацию о ресурсе | `example.com/api/orders/123` (получить заказ #123)                                |\n",
    "| **POST**       | Создать новый ресурс          | `example.com/api/orders` (создать новый заказ из данных переданных с запросом)    |\n",
    "| **PUT**        | Обновить ресурс               | `example.com/api/orders/123` (обновить заказ #123 данными переданными с запросом) |\n",
    "| **DELETE**     | Удалить ресурс                | `example.com/api/orders/123` (удалить заказ #123)                                 |"
   ]
  },
  {
   "cell_type": "markdown",
   "id": "5a69adc9",
   "metadata": {},
   "source": [
    "Дизайн REST не дает рекомендаций каким конкретно должен быть формат данных передаваемых с запросами. Данные переданные в теле запроса могут быть JSON blob, или с помощью аргументов в URL."
   ]
  },
  {
   "cell_type": "markdown",
   "id": "50756b72",
   "metadata": {
    "ExecuteTime": {
     "end_time": "2023-01-26T14:15:43.136280Z",
     "start_time": "2023-01-26T14:15:43.122281Z"
    }
   },
   "source": [
    "#### `REST. Пример на Flaks`"
   ]
  },
  {
   "cell_type": "markdown",
   "id": "8b7e8c0d",
   "metadata": {},
   "source": [
    "| Метод HTTP |                       URI                       |           Действие           |\n",
    "|:----------:|:-----------------------------------------------:|:----------------------------:|\n",
    "| **GET**        | `http://[hostname]/todo/api/v1.0/tasks`           | Получить список задач        |\n",
    "| **GET**        | `http://[hostname]/todo/api/v1.0/tasks/[task_id]` | Получить задачу              |\n",
    "| **POST**       | `http://[hostname]/todo/api/v1.0/tasks`           | Создать новую задачу         |\n",
    "| **PUT**        | `http://[hostname]/todo/api/v1.0/tasks/[task_id]` | Обновить существующую задачу |\n",
    "| **DELETE**     | `http://[hostname]/todo/api/v1.0/tasks/[task_id]` | Удалить задачу               |"
   ]
  },
  {
   "cell_type": "markdown",
   "id": "6df78b6b",
   "metadata": {},
   "source": [
    "Наша задача будет иметь следующие поля:\n",
    "\n",
    "* **id** — уникальный идентификатор задачи. Тип int.\n",
    "* **title** — Краткое описание задачи. Тип str.\n",
    "* **description** — подробное описание задачи. Тип str.\n",
    "* **done** — отметка о выполнении. Тип bool."
   ]
  },
  {
   "cell_type": "code",
   "execution_count": 22,
   "id": "47e5403d",
   "metadata": {
    "ExecuteTime": {
     "end_time": "2023-01-26T14:49:26.702330Z",
     "start_time": "2023-01-26T14:49:26.697329Z"
    }
   },
   "outputs": [
    {
     "name": "stdout",
     "output_type": "stream",
     "text": [
      "Writing flask_rest_api.py\n"
     ]
    }
   ],
   "source": [
    "%%writefile flask_rest_api.py\n",
    "\n",
    "from flask import Flask, jsonify, abort, request, make_response, url_for\n",
    "\n",
    "app = Flask(__name__)\n",
    "\n",
    "tasks = [\n",
    "    {\n",
    "        'id': 1,\n",
    "        'title': u'Buy groceries',\n",
    "        'description': u'Milk, Cheese, Pizza, Fruit, Tylenol', \n",
    "        'done': False\n",
    "    },\n",
    "    {\n",
    "        'id': 2,\n",
    "        'title': u'Learn Python',\n",
    "        'description': u'Need to find a good Python tutorial on the web', \n",
    "        'done': False\n",
    "    }\n",
    "]\n",
    "\n",
    "@app.route('/todo/api/v1.0/tasks', methods=['GET'])\n",
    "def get_tasks():\n",
    "    return {'tasks': tasks}\n",
    "\n",
    "\n",
    "@app.route('/todo/api/v1.0/tasks/<int:task_id>', methods=['GET'])\n",
    "def get_task(task_id):\n",
    "    for task in tasks:\n",
    "        if task['id'] == task_id:\n",
    "            return {'task': task}\n",
    "    abort(404)\n",
    "\n",
    "\n",
    "@app.route('/todo/api/v1.0/tasks', methods=['POST'])\n",
    "def create_task():\n",
    "    if not request.json or not 'title' in request.json:\n",
    "        abort(400)\n",
    "    task = {\n",
    "        'id': tasks[-1]['id'] + 1,\n",
    "        'title': request.json['title'],\n",
    "        'description': request.json.get('description', \"\"),\n",
    "        'done': False\n",
    "    }\n",
    "    tasks.append(task)\n",
    "    return jsonify({'task': task}), 201\n",
    "\n",
    "\n",
    "@app.route('/todo/api/v1.0/tasks/<int:task_id>', methods=['PUT'])\n",
    "def update_task(task_id):\n",
    "    target_tasks = [task for task in tasks if task['id'] == task_id]\n",
    "    if len(target_tasks) != 1:\n",
    "        abort(404)\n",
    "    task = target_tasks[0]\n",
    "        \n",
    "    if not request.json:\n",
    "        abort(400)\n",
    "    if 'title' in request.json and not isinstance(request.json['title'], str):\n",
    "        abort(400)\n",
    "    if 'description' in request.json and not isinstance(request.json['description'], str):\n",
    "        abort(400)\n",
    "    if 'done' in request.json and not isinstance(request.json['done'], bool):\n",
    "        abort(400)\n",
    "\n",
    "    task['title'] = request.json.get('title', task['title'])\n",
    "    task['description'] = request.json.get('description', task['description'])\n",
    "    task['done'] = request.json.get('done', task['done'])\n",
    "    \n",
    "    return jsonify({'task': task})\n",
    "    \n",
    "    \n",
    "@app.route('/todo/api/v1.0/tasks/<int:task_id>', methods = ['DELETE'])\n",
    "def delete_task(task_id):\n",
    "    target_tasks = [task for task in tasks if task['id'] == task_id]\n",
    "    if len(target_tasks) != 1:\n",
    "        abort(404)\n",
    "    task = target_tasks[0]\n",
    "    \n",
    "    tasks.remove(task)\n",
    "    return {'result': True}\n",
    "\n",
    "\n",
    "if __name__ == '__main__':\n",
    "    app.run(debug=True)"
   ]
  },
  {
   "cell_type": "markdown",
   "id": "cd2cc178",
   "metadata": {},
   "source": [
    "##### `GET tasks`"
   ]
  },
  {
   "cell_type": "code",
   "execution_count": 23,
   "id": "d50a8945",
   "metadata": {
    "ExecuteTime": {
     "end_time": "2023-01-26T14:49:37.466991Z",
     "start_time": "2023-01-26T14:49:37.448990Z"
    }
   },
   "outputs": [
    {
     "name": "stdout",
     "output_type": "stream",
     "text": [
      "200\n",
      "{\n",
      "    \"tasks\": [\n",
      "        {\n",
      "            \"description\": \"Milk, Cheese, Pizza, Fruit, Tylenol\",\n",
      "            \"done\": false,\n",
      "            \"id\": 1,\n",
      "            \"title\": \"Buy groceries\"\n",
      "        },\n",
      "        {\n",
      "            \"description\": \"Need to find a good Python tutorial on the web\",\n",
      "            \"done\": false,\n",
      "            \"id\": 2,\n",
      "            \"title\": \"Learn Python\"\n",
      "        }\n",
      "    ]\n",
      "}\n"
     ]
    }
   ],
   "source": [
    "r = requests.get('http://127.0.0.1:5000/todo/api/v1.0/tasks')\n",
    "print(r.status_code)\n",
    "\n",
    "content = json.loads(r.content)\n",
    "print(json.dumps(content, indent=4, sort_keys=True))"
   ]
  },
  {
   "cell_type": "markdown",
   "id": "36f64382",
   "metadata": {},
   "source": [
    "##### `GET specific task`"
   ]
  },
  {
   "cell_type": "code",
   "execution_count": 24,
   "id": "28de1010",
   "metadata": {
    "ExecuteTime": {
     "end_time": "2023-01-26T14:49:40.257570Z",
     "start_time": "2023-01-26T14:49:40.249570Z"
    }
   },
   "outputs": [
    {
     "name": "stdout",
     "output_type": "stream",
     "text": [
      "200\n",
      "{\n",
      "    \"task\": {\n",
      "        \"description\": \"Milk, Cheese, Pizza, Fruit, Tylenol\",\n",
      "        \"done\": false,\n",
      "        \"id\": 1,\n",
      "        \"title\": \"Buy groceries\"\n",
      "    }\n",
      "}\n"
     ]
    }
   ],
   "source": [
    "r = requests.get('http://127.0.0.1:5000/todo/api/v1.0/tasks/1')\n",
    "# r = requests.get(content['tasks'][0]['url'])\n",
    "\n",
    "print(r.status_code)\n",
    "\n",
    "content = json.loads(r.content)\n",
    "print(json.dumps(content, indent=4, sort_keys=True))"
   ]
  },
  {
   "cell_type": "markdown",
   "id": "65a3c409",
   "metadata": {
    "ExecuteTime": {
     "end_time": "2023-01-26T14:37:44.258468Z",
     "start_time": "2023-01-26T14:37:44.254468Z"
    }
   },
   "source": [
    "##### `POST new task`"
   ]
  },
  {
   "cell_type": "code",
   "execution_count": 25,
   "id": "cbe6e8e8",
   "metadata": {
    "ExecuteTime": {
     "end_time": "2023-01-26T14:49:41.936538Z",
     "start_time": "2023-01-26T14:49:41.921540Z"
    }
   },
   "outputs": [
    {
     "name": "stdout",
     "output_type": "stream",
     "text": [
      "201\n",
      "{\n",
      "    \"task\": {\n",
      "        \"description\": \"New info\",\n",
      "        \"done\": false,\n",
      "        \"id\": 3,\n",
      "        \"title\": \"New Task\"\n",
      "    }\n",
      "}\n"
     ]
    }
   ],
   "source": [
    "r = requests.post('http://127.0.0.1:5000/todo/api/v1.0/tasks', json={'title': 'New Task', 'description': 'New info'})\n",
    "\n",
    "print(r.status_code)\n",
    "\n",
    "content = json.loads(r.content)\n",
    "print(json.dumps(content, indent=4, sort_keys=True))"
   ]
  },
  {
   "cell_type": "code",
   "execution_count": 26,
   "id": "b57ca01d",
   "metadata": {
    "ExecuteTime": {
     "end_time": "2023-01-26T14:49:42.425037Z",
     "start_time": "2023-01-26T14:49:42.409039Z"
    }
   },
   "outputs": [
    {
     "name": "stdout",
     "output_type": "stream",
     "text": [
      "200\n",
      "{\n",
      "    \"tasks\": [\n",
      "        {\n",
      "            \"description\": \"Milk, Cheese, Pizza, Fruit, Tylenol\",\n",
      "            \"done\": false,\n",
      "            \"id\": 1,\n",
      "            \"title\": \"Buy groceries\"\n",
      "        },\n",
      "        {\n",
      "            \"description\": \"Need to find a good Python tutorial on the web\",\n",
      "            \"done\": false,\n",
      "            \"id\": 2,\n",
      "            \"title\": \"Learn Python\"\n",
      "        },\n",
      "        {\n",
      "            \"description\": \"New info\",\n",
      "            \"done\": false,\n",
      "            \"id\": 3,\n",
      "            \"title\": \"New Task\"\n",
      "        }\n",
      "    ]\n",
      "}\n"
     ]
    }
   ],
   "source": [
    "r = requests.get('http://127.0.0.1:5000/todo/api/v1.0/tasks')\n",
    "print(r.status_code)\n",
    "\n",
    "content = json.loads(r.content)\n",
    "print(json.dumps(content, indent=4, sort_keys=True))"
   ]
  },
  {
   "cell_type": "markdown",
   "id": "85c7468e",
   "metadata": {
    "ExecuteTime": {
     "end_time": "2023-01-26T14:37:59.489784Z",
     "start_time": "2023-01-26T14:37:59.478785Z"
    }
   },
   "source": [
    "##### `PUT changes to the tasks`"
   ]
  },
  {
   "cell_type": "code",
   "execution_count": 27,
   "id": "974b3c4a",
   "metadata": {
    "ExecuteTime": {
     "end_time": "2023-01-26T14:49:44.449885Z",
     "start_time": "2023-01-26T14:49:44.440885Z"
    }
   },
   "outputs": [
    {
     "name": "stdout",
     "output_type": "stream",
     "text": [
      "200\n",
      "{\n",
      "    \"task\": {\n",
      "        \"description\": \"Milk, Cheese, Pizza, Fruit, Tylenol\",\n",
      "        \"done\": true,\n",
      "        \"id\": 1,\n",
      "        \"title\": \"Buy groceries\"\n",
      "    }\n",
      "}\n"
     ]
    }
   ],
   "source": [
    "r = requests.put('http://127.0.0.1:5000/todo/api/v1.0/tasks/1', json={'done': True})\n",
    "print(r.status_code)\n",
    "\n",
    "content = json.loads(r.content)\n",
    "print(json.dumps(content, indent=4, sort_keys=True))"
   ]
  },
  {
   "cell_type": "code",
   "execution_count": 28,
   "id": "b0ffab9c",
   "metadata": {
    "ExecuteTime": {
     "end_time": "2023-01-26T14:49:44.919620Z",
     "start_time": "2023-01-26T14:49:44.904618Z"
    }
   },
   "outputs": [
    {
     "name": "stdout",
     "output_type": "stream",
     "text": [
      "200\n",
      "{\n",
      "    \"tasks\": [\n",
      "        {\n",
      "            \"description\": \"Milk, Cheese, Pizza, Fruit, Tylenol\",\n",
      "            \"done\": true,\n",
      "            \"id\": 1,\n",
      "            \"title\": \"Buy groceries\"\n",
      "        },\n",
      "        {\n",
      "            \"description\": \"Need to find a good Python tutorial on the web\",\n",
      "            \"done\": false,\n",
      "            \"id\": 2,\n",
      "            \"title\": \"Learn Python\"\n",
      "        },\n",
      "        {\n",
      "            \"description\": \"New info\",\n",
      "            \"done\": false,\n",
      "            \"id\": 3,\n",
      "            \"title\": \"New Task\"\n",
      "        }\n",
      "    ]\n",
      "}\n"
     ]
    }
   ],
   "source": [
    "r = requests.get('http://127.0.0.1:5000/todo/api/v1.0/tasks')\n",
    "print(r.status_code)\n",
    "\n",
    "content = json.loads(r.content)\n",
    "print(json.dumps(content, indent=4, sort_keys=True))"
   ]
  },
  {
   "cell_type": "markdown",
   "id": "76739349",
   "metadata": {},
   "source": [
    "##### `DELETE a task`"
   ]
  },
  {
   "cell_type": "code",
   "execution_count": 29,
   "id": "f79908e3",
   "metadata": {
    "ExecuteTime": {
     "end_time": "2023-01-26T14:49:46.663167Z",
     "start_time": "2023-01-26T14:49:46.656168Z"
    }
   },
   "outputs": [
    {
     "name": "stdout",
     "output_type": "stream",
     "text": [
      "200\n",
      "{\n",
      "    \"result\": true\n",
      "}\n"
     ]
    }
   ],
   "source": [
    "r = requests.delete('http://127.0.0.1:5000/todo/api/v1.0/tasks/1')\n",
    "print(r.status_code)\n",
    "\n",
    "content = json.loads(r.content)\n",
    "print(json.dumps(content, indent=4, sort_keys=True))"
   ]
  },
  {
   "cell_type": "code",
   "execution_count": 30,
   "id": "c783bcd7",
   "metadata": {
    "ExecuteTime": {
     "end_time": "2023-01-26T14:49:47.069915Z",
     "start_time": "2023-01-26T14:49:47.056915Z"
    }
   },
   "outputs": [
    {
     "name": "stdout",
     "output_type": "stream",
     "text": [
      "200\n",
      "{\n",
      "    \"tasks\": [\n",
      "        {\n",
      "            \"description\": \"Need to find a good Python tutorial on the web\",\n",
      "            \"done\": false,\n",
      "            \"id\": 2,\n",
      "            \"title\": \"Learn Python\"\n",
      "        },\n",
      "        {\n",
      "            \"description\": \"New info\",\n",
      "            \"done\": false,\n",
      "            \"id\": 3,\n",
      "            \"title\": \"New Task\"\n",
      "        }\n",
      "    ]\n",
      "}\n"
     ]
    }
   ],
   "source": [
    "r = requests.get('http://127.0.0.1:5000/todo/api/v1.0/tasks')\n",
    "print(r.status_code)\n",
    "\n",
    "content = json.loads(r.content)\n",
    "print(json.dumps(content, indent=4, sort_keys=True))"
   ]
  },
  {
   "cell_type": "code",
   "execution_count": 31,
   "id": "11178c6d",
   "metadata": {
    "ExecuteTime": {
     "end_time": "2023-01-26T14:49:48.400381Z",
     "start_time": "2023-01-26T14:49:48.385382Z"
    }
   },
   "outputs": [
    {
     "name": "stdout",
     "output_type": "stream",
     "text": [
      "404\n"
     ]
    }
   ],
   "source": [
    "r = requests.delete('http://127.0.0.1:5000/todo/api/v1.0/tasks/0')\n",
    "print(r.status_code)"
   ]
  },
  {
   "cell_type": "markdown",
   "id": "0e57f89d",
   "metadata": {
    "ExecuteTime": {
     "end_time": "2023-01-26T14:44:25.260515Z",
     "start_time": "2023-01-26T14:44:25.243516Z"
    }
   },
   "source": [
    "#### `REST. Пример на Flaks. V2.0`"
   ]
  },
  {
   "cell_type": "code",
   "execution_count": 32,
   "id": "4b54d093",
   "metadata": {
    "ExecuteTime": {
     "end_time": "2023-01-26T14:49:51.628817Z",
     "start_time": "2023-01-26T14:49:51.615815Z"
    }
   },
   "outputs": [
    {
     "name": "stdout",
     "output_type": "stream",
     "text": [
      "Writing flask_rest_api_v2.py\n"
     ]
    }
   ],
   "source": [
    "%%writefile flask_rest_api_v2.py\n",
    "\n",
    "from flask import Flask, jsonify, abort, request, make_response, url_for\n",
    "\n",
    "app = Flask(__name__)\n",
    "\n",
    "@app.errorhandler(400)\n",
    "def bad_request(error):\n",
    "    return make_response(jsonify( { 'error': error.description } ), 400)\n",
    "\n",
    "@app.errorhandler(404)\n",
    "def not_found(error):\n",
    "    return make_response(jsonify( { 'error': error.description } ), 404)\n",
    "\n",
    "\n",
    "tasks = [\n",
    "    {\n",
    "        'id': 1,\n",
    "        'title': u'Buy groceries',\n",
    "        'description': u'Milk, Cheese, Pizza, Fruit, Tylenol', \n",
    "        'done': False\n",
    "    },\n",
    "    {\n",
    "        'id': 2,\n",
    "        'title': u'Learn Python',\n",
    "        'description': u'Need to find a good Python tutorial on the web', \n",
    "        'done': False\n",
    "    }\n",
    "]\n",
    "\n",
    "def make_public_task(task):\n",
    "    return (\n",
    "        task | \n",
    "        {'url' : url_for('get_task', task_id=task['id'], _external=True)}\n",
    "    )\n",
    "\n",
    "\n",
    "@app.route('/todo/api/v2.0/tasks', methods=['GET'])\n",
    "def get_tasks():\n",
    "    return {\n",
    "        'tasks': [make_public_task(task) for task in tasks]\n",
    "    }\n",
    "\n",
    "\n",
    "@app.route('/todo/api/v2.0/tasks/<int:task_id>', methods=['GET'])\n",
    "def get_task(task_id):\n",
    "    for task in tasks:\n",
    "        if task['id'] == task_id:\n",
    "            return {'task': make_public_task(task)}\n",
    "    abort(404, 'Task not found')\n",
    "\n",
    "\n",
    "@app.route('/todo/api/v2.0/tasks', methods=['POST'])\n",
    "def create_task():\n",
    "    if not request.json or not 'title' in request.json:\n",
    "        abort(400, 'Not a json')\n",
    "    task = {\n",
    "        'id': tasks[-1]['id'] + 1,\n",
    "        'title': request.json['title'],\n",
    "        'description': request.json.get('description', \"\"),\n",
    "        'done': False\n",
    "    }\n",
    "    tasks.append(task)\n",
    "    return jsonify({'task': make_public_task(task)}), 201\n",
    "\n",
    "\n",
    "@app.route('/todo/api/v2.0/tasks/<int:task_id>', methods=['PUT'])\n",
    "def update_task(task_id):\n",
    "    target_tasks = [task for task in tasks if task['id'] == task_id]\n",
    "    if len(target_tasks) != 1:\n",
    "        abort(404, 'Task not found')\n",
    "    task = target_tasks[0]\n",
    "        \n",
    "    if not request.json:\n",
    "        abort(400, 'Not a json')\n",
    "    if 'title' in request.json and not isinstance(request.json['title'], str):\n",
    "        abort(400, 'Bad type for title')\n",
    "    if 'description' in request.json and not isinstance(request.json['description'], str):\n",
    "        abort(400, 'Bad type for description')\n",
    "    if 'done' in request.json and not isinstance(request.json['done'], bool):\n",
    "        abort(400, 'Bad type for done')\n",
    "\n",
    "    task['title'] = request.json.get('title', task['title'])\n",
    "    task['description'] = request.json.get('description', task['description'])\n",
    "    task['done'] = request.json.get('done', task['done'])\n",
    "    return jsonify({'task': make_public_task(task)})\n",
    "    \n",
    "    \n",
    "@app.route('/todo/api/v2.0/tasks/<int:task_id>', methods = ['DELETE'])\n",
    "def delete_task(task_id):\n",
    "    target_tasks = [task for task in tasks if task['id'] == task_id]\n",
    "    if len(target_tasks) != 1:\n",
    "        abort(404, 'Task not found')\n",
    "    task = target_tasks[0]\n",
    "    \n",
    "    tasks.remove(task)\n",
    "    return {'result': True}\n",
    "\n",
    "\n",
    "if __name__ == '__main__':\n",
    "    app.run(debug=True)"
   ]
  },
  {
   "cell_type": "markdown",
   "id": "c9eba8f9",
   "metadata": {},
   "source": [
    "##### `Более удобный интерфейс идентификаторов`"
   ]
  },
  {
   "cell_type": "code",
   "execution_count": 33,
   "id": "1e7f9f05",
   "metadata": {
    "ExecuteTime": {
     "end_time": "2023-01-26T14:49:57.562398Z",
     "start_time": "2023-01-26T14:49:57.552399Z"
    }
   },
   "outputs": [
    {
     "name": "stdout",
     "output_type": "stream",
     "text": [
      "200\n",
      "{\n",
      "    \"tasks\": [\n",
      "        {\n",
      "            \"description\": \"Milk, Cheese, Pizza, Fruit, Tylenol\",\n",
      "            \"done\": false,\n",
      "            \"id\": 1,\n",
      "            \"title\": \"Buy groceries\",\n",
      "            \"url\": \"http://127.0.0.1:5000/todo/api/v2.0/tasks/1\"\n",
      "        },\n",
      "        {\n",
      "            \"description\": \"Need to find a good Python tutorial on the web\",\n",
      "            \"done\": false,\n",
      "            \"id\": 2,\n",
      "            \"title\": \"Learn Python\",\n",
      "            \"url\": \"http://127.0.0.1:5000/todo/api/v2.0/tasks/2\"\n",
      "        }\n",
      "    ]\n",
      "}\n"
     ]
    }
   ],
   "source": [
    "r = requests.get('http://127.0.0.1:5000/todo/api/v2.0/tasks')\n",
    "print(r.status_code)\n",
    "\n",
    "content = json.loads(r.content)\n",
    "print(json.dumps(content, indent=4, sort_keys=True))"
   ]
  },
  {
   "cell_type": "code",
   "execution_count": 34,
   "id": "5852e23c",
   "metadata": {
    "ExecuteTime": {
     "end_time": "2023-01-26T14:49:58.594749Z",
     "start_time": "2023-01-26T14:49:58.576751Z"
    }
   },
   "outputs": [
    {
     "name": "stdout",
     "output_type": "stream",
     "text": [
      "200\n",
      "{\n",
      "    \"task\": {\n",
      "        \"description\": \"Milk, Cheese, Pizza, Fruit, Tylenol\",\n",
      "        \"done\": false,\n",
      "        \"id\": 1,\n",
      "        \"title\": \"Buy groceries\",\n",
      "        \"url\": \"http://127.0.0.1:5000/todo/api/v2.0/tasks/1\"\n",
      "    }\n",
      "}\n"
     ]
    }
   ],
   "source": [
    "target_task_url = content['tasks'][0]['url']\n",
    "r = requests.get(target_task_url)\n",
    "\n",
    "print(r.status_code)\n",
    "\n",
    "content = json.loads(r.content)\n",
    "print(json.dumps(content, indent=4, sort_keys=True))"
   ]
  },
  {
   "cell_type": "code",
   "execution_count": 35,
   "id": "407efde7",
   "metadata": {
    "ExecuteTime": {
     "end_time": "2023-01-26T14:49:59.485368Z",
     "start_time": "2023-01-26T14:49:59.464369Z"
    }
   },
   "outputs": [
    {
     "name": "stdout",
     "output_type": "stream",
     "text": [
      "200\n"
     ]
    }
   ],
   "source": [
    "r = requests.delete(target_task_url)\n",
    "print(r.status_code)"
   ]
  },
  {
   "cell_type": "markdown",
   "id": "c9358d22",
   "metadata": {},
   "source": [
    "##### `Более понятные ошибки`"
   ]
  },
  {
   "cell_type": "code",
   "execution_count": 36,
   "id": "3fbcda68",
   "metadata": {
    "ExecuteTime": {
     "end_time": "2023-01-26T14:49:59.921708Z",
     "start_time": "2023-01-26T14:49:59.912708Z"
    }
   },
   "outputs": [
    {
     "name": "stdout",
     "output_type": "stream",
     "text": [
      "404\n",
      "{\n",
      "    \"error\": \"Task not found\"\n",
      "}\n"
     ]
    }
   ],
   "source": [
    "r = requests.put(target_task_url, json={'done': True})\n",
    "print(r.status_code)\n",
    "\n",
    "content = json.loads(r.content)\n",
    "print(json.dumps(content, indent=4, sort_keys=True))"
   ]
  }
 ],
 "metadata": {
  "kernelspec": {
   "display_name": "Python 3 (ipykernel)",
   "language": "python",
   "name": "python3"
  },
  "language_info": {
   "codemirror_mode": {
    "name": "ipython",
    "version": 3
   },
   "file_extension": ".py",
   "mimetype": "text/x-python",
   "name": "python",
   "nbconvert_exporter": "python",
   "pygments_lexer": "ipython3",
   "version": "3.10.12"
  }
 },
 "nbformat": 4,
 "nbformat_minor": 5
}
