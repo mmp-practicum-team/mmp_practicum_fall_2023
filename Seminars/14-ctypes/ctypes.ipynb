{
 "cells": [
  {
   "cell_type": "markdown",
   "metadata": {
    "slideshow": {
     "slide_type": "slide"
    }
   },
   "source": [
    "# `Практикум по программированию на языке Python`\n",
    "<br>\n",
    "\n",
    "## `Занятие 14: Ctypes`\n",
    "<br><br>\n",
    "\n",
    "### `Находнов Максим (nakhodnov17@gmail.com), Оганов Александр`\n",
    "\n",
    "[Запись 2022 года](https://www.youtube.com/watch?v=B5FWLZtKRhQ&list=PLVF5PzSHILHSstCI65QmxMRHhwX4KJ5E1&index=14&ab_channel=%D0%9A%D0%B0%D1%84%D0%B5%D0%B4%D1%80%D0%B0%D0%9C%D0%9C%D0%9F)\n",
    "\n",
    "#### `Москва, 2023`"
   ]
  },
  {
   "cell_type": "markdown",
   "metadata": {},
   "source": [
    "О чём можно узнать из этого ноутбука:\n",
    "\n",
    "* Способы профилирования производительности программы\n",
    "* Методы вызова `C/C++` кода из `Python`-программы"
   ]
  },
  {
   "cell_type": "markdown",
   "metadata": {
    "slideshow": {
     "slide_type": "slide"
    }
   },
   "source": [
    "### `Мотивация`\n",
    "\n",
    "* Python достаточно медленный язык (интерпретируемость, GIL)\n",
    "* Есть много готовых High Performance библиотек на C/C++"
   ]
  },
  {
   "cell_type": "markdown",
   "metadata": {},
   "source": [
    "### `Способы ускорить Python`\n",
    "\n",
    "* Придумать более быстрый алгоритм\n",
    "* Реализовать алгоритм более эффективно\n",
    "* Использовать паралелизацию\n",
    "* Использовать более производительные языки программирования"
   ]
  },
  {
   "cell_type": "markdown",
   "metadata": {},
   "source": [
    "### `Анализ производительнсти алгоритма`\n",
    "\n",
    "Прежде чем ускорять существующий код нужно определить, какие части дают наибольший вклад во время работы программы"
   ]
  },
  {
   "cell_type": "markdown",
   "metadata": {
    "ExecuteTime": {
     "end_time": "2022-12-08T02:16:12.782265Z",
     "start_time": "2022-12-08T02:16:12.774277Z"
    }
   },
   "source": [
    "Напишем тестовую программу, для которой будем замерять время работы.\n",
    "\n",
    "<font color='brown'>**Задача.** Написать функцию `replace_zeros_to_means(X)`, принимающую матрицу $X$. Функция должна вернуть копию матрицы $X$, в которой все нулевые значения в каждом столбце заменены на среднее арифметическое остальных элементов столбца. В случае столбца из одних нулей необходимо заменить все элементы столбца на $0$. Исходная матрица $X$ должна остаться неизменной!\n",
    "</font>"
   ]
  },
  {
   "cell_type": "markdown",
   "metadata": {},
   "source": [
    "### `Pure Python решение`"
   ]
  },
  {
   "cell_type": "code",
   "execution_count": 1,
   "metadata": {},
   "outputs": [],
   "source": [
    "%load_ext autoreload\n",
    "%autoreload 2"
   ]
  },
  {
   "cell_type": "code",
   "execution_count": 2,
   "metadata": {
    "ExecuteTime": {
     "end_time": "2022-12-08T08:04:30.292608Z",
     "start_time": "2022-12-08T08:04:30.280607Z"
    },
    "code_folding": []
   },
   "outputs": [],
   "source": [
    "def replace_zeros_to_means_python(X):\n",
    "    Y = []\n",
    "    \n",
    "    for idx in range(len(X)):\n",
    "        Y.append([])\n",
    "        for jdx in range(len(X[0])):\n",
    "            Y[-1].append(X[idx][jdx])\n",
    "            \n",
    "    counts = []\n",
    "    for jdx in range(len(Y[0])):\n",
    "        counts.append([0.0, 0])\n",
    "        \n",
    "    for idx in range(len(Y)):\n",
    "        for jdx in range(len(Y[0])):\n",
    "            counts[jdx][0] += Y[idx][jdx]\n",
    "            counts[jdx][1] += (Y[idx][jdx] != 0)\n",
    "            \n",
    "    means = []\n",
    "    for numerator, denumerator in counts:\n",
    "        means.append(numerator / denumerator if denumerator else 0.0)\n",
    "        \n",
    "    for idx in range(len(Y)):\n",
    "        for jdx in range(len(Y[0])):\n",
    "            if Y[idx][jdx] == 0:\n",
    "                Y[idx][jdx] = means[jdx]\n",
    "    \n",
    "    return Y"
   ]
  },
  {
   "cell_type": "markdown",
   "metadata": {
    "ExecuteTime": {
     "end_time": "2022-12-08T03:09:23.608122Z",
     "start_time": "2022-12-08T03:09:23.536350Z"
    }
   },
   "source": [
    "### `Numpy решение`"
   ]
  },
  {
   "cell_type": "code",
   "execution_count": 3,
   "metadata": {
    "ExecuteTime": {
     "end_time": "2022-12-08T08:04:31.204372Z",
     "start_time": "2022-12-08T08:04:31.144373Z"
    },
    "code_folding": []
   },
   "outputs": [],
   "source": [
    "import numpy as np\n",
    "\n",
    "def replace_zeros_to_means_numpy(X):\n",
    "    Y = np.copy(X).astype(np.float32)\n",
    "    \n",
    "    zero_mask = Y == 0\n",
    "    selected_columns = np.any(~zero_mask, axis=0)\n",
    "    means = np.zeros([1, Y.shape[1]], dtype=np.float32)\n",
    "    means[:, selected_columns] = np.mean(\n",
    "        Y[:, selected_columns], axis=0, where=~zero_mask[:, selected_columns], keepdims=True\n",
    "    )\n",
    "    Y[zero_mask] = np.repeat(means, Y.shape[0], axis=0)[zero_mask]\n",
    "\n",
    "    return Y"
   ]
  },
  {
   "cell_type": "markdown",
   "metadata": {},
   "source": [
    "### `Профайлеры`\n",
    "\n",
    "Для Python есть много профайлеров как для CPU, так и для GPU и памяти:\n",
    "* `profile` — медленный, не рекомендуется\n",
    "* `cProfile` — быстрый\n",
    "* `line_profiler` — удобен в Jupyter Notebook\n",
    "* `memory_profiler`\n",
    "* `scalene` — быстрый, современный"
   ]
  },
  {
   "cell_type": "code",
   "execution_count": 4,
   "metadata": {},
   "outputs": [],
   "source": [
    "# !pip install line-profiler"
   ]
  },
  {
   "cell_type": "code",
   "execution_count": 5,
   "metadata": {},
   "outputs": [],
   "source": [
    "%load_ext line_profiler"
   ]
  },
  {
   "cell_type": "code",
   "execution_count": 6,
   "metadata": {},
   "outputs": [],
   "source": [
    "%lprun??"
   ]
  },
  {
   "cell_type": "code",
   "execution_count": 7,
   "metadata": {
    "ExecuteTime": {
     "end_time": "2022-12-08T08:04:36.520024Z",
     "start_time": "2022-12-08T08:04:33.265023Z"
    }
   },
   "outputs": [
    {
     "name": "stdout",
     "output_type": "stream",
     "text": [
      "Timer unit: 1e-09 s\n",
      "\n",
      "Total time: 2.13083 s\n",
      "File: /tmp/ipykernel_19554/2268731769.py\n",
      "Function: replace_zeros_to_means_python at line 1\n",
      "\n",
      "Line #      Hits         Time  Per Hit   % Time  Line Contents\n",
      "==============================================================\n",
      "     1                                           def replace_zeros_to_means_python(X):\n",
      "     2         1        518.0    518.0      0.0      Y = []\n",
      "     3                                               \n",
      "     4      1001     193193.0    193.0      0.0      for idx in range(len(X)):\n",
      "     5      1000    3848815.0   3848.8      0.2          Y.append([])\n",
      "     6   1001000  177844411.0    177.7      8.3          for jdx in range(len(X[0])):\n",
      "     7   1000000  430783006.0    430.8     20.2              Y[-1].append(X[idx][jdx])\n",
      "     8                                                       \n",
      "     9         1        429.0    429.0      0.0      counts = []\n",
      "    10      1001     215728.0    215.5      0.0      for jdx in range(len(Y[0])):\n",
      "    11      1000   24852717.0  24852.7      1.2          counts.append([0.0, 0])\n",
      "    12                                                   \n",
      "    13      1001     206103.0    205.9      0.0      for idx in range(len(Y)):\n",
      "    14   1001000  173376296.0    173.2      8.1          for jdx in range(len(Y[0])):\n",
      "    15   1000000  395583187.0    395.6     18.6              counts[jdx][0] += Y[idx][jdx]\n",
      "    16   1000000  416216880.0    416.2     19.5              counts[jdx][1] += (Y[idx][jdx] != 0)\n",
      "    17                                                       \n",
      "    18         1        929.0    929.0      0.0      means = []\n",
      "    19      1001     193375.0    193.2      0.0      for numerator, denumerator in counts:\n",
      "    20      1000     380689.0    380.7      0.0          means.append(numerator / denumerator if denumerator else 0.0)\n",
      "    21                                                   \n",
      "    22      1001     198318.0    198.1      0.0      for idx in range(len(Y)):\n",
      "    23   1001000  189981866.0    189.8      8.9          for jdx in range(len(Y[0])):\n",
      "    24   1000000  236201846.0    236.2     11.1              if Y[idx][jdx] == 0:\n",
      "    25    332919   80755003.0    242.6      3.8                  Y[idx][jdx] = means[jdx]\n",
      "    26                                               \n",
      "    27         1        383.0    383.0      0.0      return Y\n",
      "\n"
     ]
    }
   ],
   "source": [
    "X = np.random.randint(0, 3, [1000, 1000])\n",
    "profile_data = %lprun -rf replace_zeros_to_means_python replace_zeros_to_means_python(X)\n",
    "profile_data.print_stats()"
   ]
  },
  {
   "cell_type": "code",
   "execution_count": 8,
   "metadata": {
    "ExecuteTime": {
     "end_time": "2022-12-08T08:04:36.552023Z",
     "start_time": "2022-12-08T08:04:36.521024Z"
    }
   },
   "outputs": [
    {
     "name": "stdout",
     "output_type": "stream",
     "text": [
      "Timer unit: 1e-09 s\n",
      "\n",
      "Total time: 0.0228936 s\n",
      "File: /tmp/ipykernel_19554/67797404.py\n",
      "Function: replace_zeros_to_means_numpy at line 3\n",
      "\n",
      "Line #      Hits         Time  Per Hit   % Time  Line Contents\n",
      "==============================================================\n",
      "     3                                           def replace_zeros_to_means_numpy(X):\n",
      "     4         1    2716770.0    3e+06     11.9      Y = np.copy(X).astype(np.float32)\n",
      "     5                                               \n",
      "     6         1     272603.0 272603.0      1.2      zero_mask = Y == 0\n",
      "     7         1     162451.0 162451.0      0.7      selected_columns = np.any(~zero_mask, axis=0)\n",
      "     8         1       5399.0   5399.0      0.0      means = np.zeros([1, Y.shape[1]], dtype=np.float32)\n",
      "     9         2    7645441.0    4e+06     33.4      means[:, selected_columns] = np.mean(\n",
      "    10         1    1843180.0    2e+06      8.1          Y[:, selected_columns], axis=0, where=~zero_mask[:, selected_columns], keepdims=True\n",
      "    11                                               )\n",
      "    12         1   10247413.0    1e+07     44.8      Y[zero_mask] = np.repeat(means, Y.shape[0], axis=0)[zero_mask]\n",
      "    13                                           \n",
      "    14         1        320.0    320.0      0.0      return Y\n",
      "\n"
     ]
    }
   ],
   "source": [
    "X = np.random.randint(0, 3, [1000, 1000])\n",
    "profile_data = %lprun -rf replace_zeros_to_means_numpy replace_zeros_to_means_numpy(X)\n",
    "profile_data.print_stats()"
   ]
  },
  {
   "cell_type": "markdown",
   "metadata": {
    "ExecuteTime": {
     "end_time": "2022-12-08T03:28:15.939914Z",
     "start_time": "2022-12-08T03:28:15.927915Z"
    }
   },
   "source": [
    "### `Профилировщик памяти`\n",
    "\n",
    "* Может работать в line-to-line режиме, но только для функций из модулей"
   ]
  },
  {
   "cell_type": "code",
   "execution_count": 9,
   "metadata": {},
   "outputs": [],
   "source": [
    "X = np.random.randint(0, 3, [500, 500])"
   ]
  },
  {
   "cell_type": "code",
   "execution_count": 10,
   "metadata": {},
   "outputs": [],
   "source": [
    "# !pip install memory-profiler"
   ]
  },
  {
   "cell_type": "code",
   "execution_count": 11,
   "metadata": {
    "ExecuteTime": {
     "end_time": "2022-12-08T08:04:36.632023Z",
     "start_time": "2022-12-08T08:04:36.553026Z"
    }
   },
   "outputs": [],
   "source": [
    "%load_ext memory_profiler"
   ]
  },
  {
   "cell_type": "code",
   "execution_count": 12,
   "metadata": {
    "ExecuteTime": {
     "end_time": "2022-12-08T08:04:37.591726Z",
     "start_time": "2022-12-08T08:04:36.633023Z"
    }
   },
   "outputs": [
    {
     "name": "stdout",
     "output_type": "stream",
     "text": [
      "peak memory: 106.76 MiB, increment: 8.04 MiB\n"
     ]
    }
   ],
   "source": [
    "%memit replace_zeros_to_means_python(X)"
   ]
  },
  {
   "cell_type": "code",
   "execution_count": 13,
   "metadata": {
    "ExecuteTime": {
     "end_time": "2022-12-08T08:04:38.145734Z",
     "start_time": "2022-12-08T08:04:37.592726Z"
    }
   },
   "outputs": [
    {
     "name": "stdout",
     "output_type": "stream",
     "text": [
      "peak memory: 99.64 MiB, increment: 0.00 MiB\n"
     ]
    }
   ],
   "source": [
    "%memit replace_zeros_to_means_numpy(X)"
   ]
  },
  {
   "cell_type": "code",
   "execution_count": 14,
   "metadata": {
    "ExecuteTime": {
     "end_time": "2022-12-08T08:04:38.161733Z",
     "start_time": "2022-12-08T08:04:38.146735Z"
    }
   },
   "outputs": [
    {
     "name": "stdout",
     "output_type": "stream",
     "text": [
      "Writing mprun_demo.py\n"
     ]
    }
   ],
   "source": [
    "%%file mprun_demo.py\n",
    "import numpy as np\n",
    "\n",
    "def replace_zeros_to_means_numpy(X):\n",
    "    Y = np.copy(X).astype(np.float32)\n",
    "    \n",
    "    zero_mask = Y == 0\n",
    "    selected_columns = np.any(~zero_mask, axis=0)\n",
    "    means = np.zeros([1, Y.shape[1]], dtype=np.float32)\n",
    "    means[:, selected_columns] = np.mean(\n",
    "        Y[:, selected_columns], axis=0, where=~zero_mask[:, selected_columns], keepdims=True\n",
    "    )\n",
    "    Y[zero_mask] = np.repeat(means, Y.shape[0], axis=0)[zero_mask]\n",
    "\n",
    "    return Y"
   ]
  },
  {
   "cell_type": "code",
   "execution_count": 15,
   "metadata": {
    "ExecuteTime": {
     "end_time": "2022-12-08T08:04:39.110427Z",
     "start_time": "2022-12-08T08:04:38.961359Z"
    }
   },
   "outputs": [
    {
     "name": "stdout",
     "output_type": "stream",
     "text": [
      "\n"
     ]
    }
   ],
   "source": [
    "from mprun_demo import replace_zeros_to_means_numpy\n",
    "%mprun -f replace_zeros_to_means_numpy replace_zeros_to_means_numpy(X)"
   ]
  },
  {
   "cell_type": "markdown",
   "metadata": {},
   "source": [
    "## `Ускорение кода`\n",
    "\n",
    "Есть несколько способов как ускорить программу.\n",
    "\n",
    "Всегда можно `скомпилировать` ваш скрипт на `C` и запустить его, например с помощью [cython](https://cython.org/), [mypyc](https://github.com/mypyc/mypyc)!\n",
    "\n",
    "Используя более мощные библиотеки ([jax](https://github.com/google/jax)) можно даже ускорить `numpy`, но об этом в следующем семестре\n",
    "\n",
    "Мы же выберем более трудный путь и попробуем воспользоваться знанием HP языков и перепишем её на `C`\n"
   ]
  },
  {
   "cell_type": "code",
   "execution_count": 16,
   "metadata": {},
   "outputs": [],
   "source": [
    "import time\n",
    "\n",
    "import matplotlib.pyplot as plt\n",
    "import matplotlib_inline\n",
    "\n",
    "matplotlib_inline.backend_inline.set_matplotlib_formats('svg')\n",
    "%matplotlib inline"
   ]
  },
  {
   "cell_type": "code",
   "execution_count": 17,
   "metadata": {},
   "outputs": [],
   "source": [
    "def gcd(x, y):\n",
    "    while (y):\n",
    "        x, y = y, x % y\n",
    "    return x\n",
    "\n",
    "def phi(n):\n",
    "    cnt = 0\n",
    "    for i in range(1, n):\n",
    "        if gcd(i, n) == 1:\n",
    "            cnt += 1\n",
    "    return cnt"
   ]
  },
  {
   "cell_type": "code",
   "execution_count": 18,
   "metadata": {},
   "outputs": [
    {
     "name": "stdout",
     "output_type": "stream",
     "text": [
      "Writing phi_demo.py\n"
     ]
    }
   ],
   "source": [
    "%%file phi_demo.py\n",
    "\n",
    "def gcd(x, y):\n",
    "    while (y):\n",
    "        x, y = y, x % y\n",
    "    return x\n",
    "\n",
    "def phi(n):\n",
    "    cnt = 0\n",
    "    for i in range(1, n):\n",
    "        if gcd(i, n) == 1:\n",
    "            cnt += 1\n",
    "    return cnt\n",
    "\n",
    "def gcd_type(x: int, y: int) -> int:\n",
    "    while (y):\n",
    "        x, y = y, x % y\n",
    "    return x\n",
    "\n",
    "def phi_type(n: int) -> int:\n",
    "    cnt = 0\n",
    "    for i in range(1, n):\n",
    "        if gcd(i, n) == 1:\n",
    "            cnt += 1\n",
    "    return cnt"
   ]
  },
  {
   "cell_type": "code",
   "execution_count": 19,
   "metadata": {},
   "outputs": [
    {
     "data": {
      "text/plain": [
       "1000"
      ]
     },
     "execution_count": 19,
     "metadata": {},
     "output_type": "execute_result"
    }
   ],
   "source": [
    "n_grid = range(1, 10**4, 10)\n",
    "len(n_grid)"
   ]
  },
  {
   "cell_type": "code",
   "execution_count": 20,
   "metadata": {},
   "outputs": [
    {
     "name": "stdout",
     "output_type": "stream",
     "text": [
      "Время 2.65\n"
     ]
    }
   ],
   "source": [
    "t_start = time.time()\n",
    "\n",
    "results = [phi(n) for n in n_grid]\n",
    "\n",
    "t_diff = time.time() - t_start\n",
    "\n",
    "print(f\"Время {t_diff:0.2f}\")"
   ]
  },
  {
   "cell_type": "code",
   "execution_count": 21,
   "metadata": {},
   "outputs": [
    {
     "data": {
      "text/plain": [
       "Text(0.5, 1.0, 'Значения функции Эйлера')"
      ]
     },
     "execution_count": 21,
     "metadata": {},
     "output_type": "execute_result"
    },
    {
     "data": {
      "image/svg+xml": [
       "<?xml version=\"1.0\" encoding=\"utf-8\" standalone=\"no\"?>\n",
       "<!DOCTYPE svg PUBLIC \"-//W3C//DTD SVG 1.1//EN\"\n",
       "  \"http://www.w3.org/Graphics/SVG/1.1/DTD/svg11.dtd\">\n",
       "<svg xmlns:xlink=\"http://www.w3.org/1999/xlink\" width=\"424.010625pt\" height=\"325.986375pt\" viewBox=\"0 0 424.010625 325.986375\" xmlns=\"http://www.w3.org/2000/svg\" version=\"1.1\">\n",
       " <metadata>\n",
       "  <rdf:RDF xmlns:dc=\"http://purl.org/dc/elements/1.1/\" xmlns:cc=\"http://creativecommons.org/ns#\" xmlns:rdf=\"http://www.w3.org/1999/02/22-rdf-syntax-ns#\">\n",
       "   <cc:Work>\n",
       "    <dc:type rdf:resource=\"http://purl.org/dc/dcmitype/StillImage\"/>\n",
       "    <dc:date>2023-12-07T16:27:27.973926</dc:date>\n",
       "    <dc:format>image/svg+xml</dc:format>\n",
       "    <dc:creator>\n",
       "     <cc:Agent>\n",
       "      <dc:title>Matplotlib v3.7.1, https://matplotlib.org/</dc:title>\n",
       "     </cc:Agent>\n",
       "    </dc:creator>\n",
       "   </cc:Work>\n",
       "  </rdf:RDF>\n",
       " </metadata>\n",
       " <defs>\n",
       "  <style type=\"text/css\">*{stroke-linejoin: round; stroke-linecap: butt}</style>\n",
       " </defs>\n",
       " <g id=\"figure_1\">\n",
       "  <g id=\"patch_1\">\n",
       "   <path d=\"M 0 325.986375 \n",
       "L 424.010625 325.986375 \n",
       "L 424.010625 0 \n",
       "L 0 0 \n",
       "z\n",
       "\" style=\"fill: #ffffff\"/>\n",
       "  </g>\n",
       "  <g id=\"axes_1\">\n",
       "   <g id=\"patch_2\">\n",
       "    <path d=\"M 59.690625 288.430125 \n",
       "L 416.810625 288.430125 \n",
       "L 416.810625 22.318125 \n",
       "L 59.690625 22.318125 \n",
       "z\n",
       "\" style=\"fill: #ffffff\"/>\n",
       "   </g>\n",
       "   <g id=\"PathCollection_1\">\n",
       "    <defs>\n",
       "     <path id=\"m7f426ef680\" d=\"M 0 1.118034 \n",
       "C 0.296506 1.118034 0.580908 1.000231 0.790569 0.790569 \n",
       "C 1.000231 0.580908 1.118034 0.296506 1.118034 0 \n",
       "C 1.118034 -0.296506 1.000231 -0.580908 0.790569 -0.790569 \n",
       "C 0.580908 -1.000231 0.296506 -1.118034 0 -1.118034 \n",
       "C -0.296506 -1.118034 -0.580908 -1.000231 -0.790569 -0.790569 \n",
       "C -1.000231 -0.580908 -1.118034 -0.296506 -1.118034 0 \n",
       "C -1.118034 0.296506 -1.000231 0.580908 -0.790569 0.790569 \n",
       "C -0.580908 1.000231 -0.296506 1.118034 0 1.118034 \n",
       "z\n",
       "\" style=\"stroke: #1f77b4\"/>\n",
       "    </defs>\n",
       "    <g clip-path=\"url(#p6b0187088b)\">\n",
       "     <use xlink:href=\"#m7f426ef680\" x=\"75.923352\" y=\"276.334125\" style=\"fill: #1f77b4; stroke: #1f77b4\"/>\n",
       "     <use xlink:href=\"#m7f426ef680\" x=\"76.248332\" y=\"276.090745\" style=\"fill: #1f77b4; stroke: #1f77b4\"/>\n",
       "     <use xlink:href=\"#m7f426ef680\" x=\"76.573311\" y=\"276.042069\" style=\"fill: #1f77b4; stroke: #1f77b4\"/>\n",
       "     <use xlink:href=\"#m7f426ef680\" x=\"76.898291\" y=\"275.603984\" style=\"fill: #1f77b4; stroke: #1f77b4\"/>\n",
       "     <use xlink:href=\"#m7f426ef680\" x=\"77.22327\" y=\"275.360604\" style=\"fill: #1f77b4; stroke: #1f77b4\"/>\n",
       "     <use xlink:href=\"#m7f426ef680\" x=\"77.54825\" y=\"275.555308\" style=\"fill: #1f77b4; stroke: #1f77b4\"/>\n",
       "     <use xlink:href=\"#m7f426ef680\" x=\"77.873229\" y=\"274.873843\" style=\"fill: #1f77b4; stroke: #1f77b4\"/>\n",
       "     <use xlink:href=\"#m7f426ef680\" x=\"78.198209\" y=\"274.630463\" style=\"fill: #1f77b4; stroke: #1f77b4\"/>\n",
       "     <use xlink:href=\"#m7f426ef680\" x=\"78.523188\" y=\"275.019871\" style=\"fill: #1f77b4; stroke: #1f77b4\"/>\n",
       "     <use xlink:href=\"#m7f426ef680\" x=\"78.848168\" y=\"274.581787\" style=\"fill: #1f77b4; stroke: #1f77b4\"/>\n",
       "     <use xlink:href=\"#m7f426ef680\" x=\"79.173148\" y=\"273.900322\" style=\"fill: #1f77b4; stroke: #1f77b4\"/>\n",
       "     <use xlink:href=\"#m7f426ef680\" x=\"79.498127\" y=\"274.581787\" style=\"fill: #1f77b4; stroke: #1f77b4\"/>\n",
       "     <use xlink:href=\"#m7f426ef680\" x=\"79.823107\" y=\"273.656942\" style=\"fill: #1f77b4; stroke: #1f77b4\"/>\n",
       "     <use xlink:href=\"#m7f426ef680\" x=\"80.148086\" y=\"273.170181\" style=\"fill: #1f77b4; stroke: #1f77b4\"/>\n",
       "     <use xlink:href=\"#m7f426ef680\" x=\"80.473066\" y=\"274.095026\" style=\"fill: #1f77b4; stroke: #1f77b4\"/>\n",
       "     <use xlink:href=\"#m7f426ef680\" x=\"80.798045\" y=\"272.683421\" style=\"fill: #1f77b4; stroke: #1f77b4\"/>\n",
       "     <use xlink:href=\"#m7f426ef680\" x=\"81.123025\" y=\"273.121505\" style=\"fill: #1f77b4; stroke: #1f77b4\"/>\n",
       "     <use xlink:href=\"#m7f426ef680\" x=\"81.448004\" y=\"273.705618\" style=\"fill: #1f77b4; stroke: #1f77b4\"/>\n",
       "     <use xlink:href=\"#m7f426ef680\" x=\"81.772984\" y=\"271.95328\" style=\"fill: #1f77b4; stroke: #1f77b4\"/>\n",
       "     <use xlink:href=\"#m7f426ef680\" x=\"82.097963\" y=\"271.7099\" style=\"fill: #1f77b4; stroke: #1f77b4\"/>\n",
       "     <use xlink:href=\"#m7f426ef680\" x=\"82.422943\" y=\"273.121505\" style=\"fill: #1f77b4; stroke: #1f77b4\"/>\n",
       "     <use xlink:href=\"#m7f426ef680\" x=\"82.747922\" y=\"271.223139\" style=\"fill: #1f77b4; stroke: #1f77b4\"/>\n",
       "     <use xlink:href=\"#m7f426ef680\" x=\"83.072902\" y=\"271.661224\" style=\"fill: #1f77b4; stroke: #1f77b4\"/>\n",
       "     <use xlink:href=\"#m7f426ef680\" x=\"83.397881\" y=\"273.413562\" style=\"fill: #1f77b4; stroke: #1f77b4\"/>\n",
       "     <use xlink:href=\"#m7f426ef680\" x=\"83.722861\" y=\"270.492998\" style=\"fill: #1f77b4; stroke: #1f77b4\"/>\n",
       "     <use xlink:href=\"#m7f426ef680\" x=\"84.04784\" y=\"270.249618\" style=\"fill: #1f77b4; stroke: #1f77b4\"/>\n",
       "     <use xlink:href=\"#m7f426ef680\" x=\"84.37282\" y=\"272.245336\" style=\"fill: #1f77b4; stroke: #1f77b4\"/>\n",
       "     <use xlink:href=\"#m7f426ef680\" x=\"84.697799\" y=\"269.762857\" style=\"fill: #1f77b4; stroke: #1f77b4\"/>\n",
       "     <use xlink:href=\"#m7f426ef680\" x=\"85.022779\" y=\"269.519477\" style=\"fill: #1f77b4; stroke: #1f77b4\"/>\n",
       "     <use xlink:href=\"#m7f426ef680\" x=\"85.347758\" y=\"271.661224\" style=\"fill: #1f77b4; stroke: #1f77b4\"/>\n",
       "     <use xlink:href=\"#m7f426ef680\" x=\"85.672738\" y=\"270.200942\" style=\"fill: #1f77b4; stroke: #1f77b4\"/>\n",
       "     <use xlink:href=\"#m7f426ef680\" x=\"85.997718\" y=\"268.789336\" style=\"fill: #1f77b4; stroke: #1f77b4\"/>\n",
       "     <use xlink:href=\"#m7f426ef680\" x=\"86.322697\" y=\"271.174463\" style=\"fill: #1f77b4; stroke: #1f77b4\"/>\n",
       "     <use xlink:href=\"#m7f426ef680\" x=\"86.647677\" y=\"268.302576\" style=\"fill: #1f77b4; stroke: #1f77b4\"/>\n",
       "     <use xlink:href=\"#m7f426ef680\" x=\"86.972656\" y=\"269.032717\" style=\"fill: #1f77b4; stroke: #1f77b4\"/>\n",
       "     <use xlink:href=\"#m7f426ef680\" x=\"87.297636\" y=\"271.077111\" style=\"fill: #1f77b4; stroke: #1f77b4\"/>\n",
       "     <use xlink:href=\"#m7f426ef680\" x=\"87.622615\" y=\"268.010519\" style=\"fill: #1f77b4; stroke: #1f77b4\"/>\n",
       "     <use xlink:href=\"#m7f426ef680\" x=\"87.947595\" y=\"268.74066\" style=\"fill: #1f77b4; stroke: #1f77b4\"/>\n",
       "     <use xlink:href=\"#m7f426ef680\" x=\"88.272574\" y=\"270.200942\" style=\"fill: #1f77b4; stroke: #1f77b4\"/>\n",
       "     <use xlink:href=\"#m7f426ef680\" x=\"88.597554\" y=\"267.767139\" style=\"fill: #1f77b4; stroke: #1f77b4\"/>\n",
       "     <use xlink:href=\"#m7f426ef680\" x=\"88.922533\" y=\"266.598914\" style=\"fill: #1f77b4; stroke: #1f77b4\"/>\n",
       "     <use xlink:href=\"#m7f426ef680\" x=\"89.247513\" y=\"269.714181\" style=\"fill: #1f77b4; stroke: #1f77b4\"/>\n",
       "     <use xlink:href=\"#m7f426ef680\" x=\"89.572492\" y=\"266.112153\" style=\"fill: #1f77b4; stroke: #1f77b4\"/>\n",
       "     <use xlink:href=\"#m7f426ef680\" x=\"89.897472\" y=\"265.868773\" style=\"fill: #1f77b4; stroke: #1f77b4\"/>\n",
       "     <use xlink:href=\"#m7f426ef680\" x=\"90.222451\" y=\"270.200942\" style=\"fill: #1f77b4; stroke: #1f77b4\"/>\n",
       "     <use xlink:href=\"#m7f426ef680\" x=\"90.547431\" y=\"266.598914\" style=\"fill: #1f77b4; stroke: #1f77b4\"/>\n",
       "     <use xlink:href=\"#m7f426ef680\" x=\"90.87241\" y=\"265.138632\" style=\"fill: #1f77b4; stroke: #1f77b4\"/>\n",
       "     <use xlink:href=\"#m7f426ef680\" x=\"91.19739\" y=\"268.74066\" style=\"fill: #1f77b4; stroke: #1f77b4\"/>\n",
       "     <use xlink:href=\"#m7f426ef680\" x=\"91.522369\" y=\"265.820097\" style=\"fill: #1f77b4; stroke: #1f77b4\"/>\n",
       "     <use xlink:href=\"#m7f426ef680\" x=\"91.847349\" y=\"264.408491\" style=\"fill: #1f77b4; stroke: #1f77b4\"/>\n",
       "     <use xlink:href=\"#m7f426ef680\" x=\"92.172329\" y=\"268.2539\" style=\"fill: #1f77b4; stroke: #1f77b4\"/>\n",
       "     <use xlink:href=\"#m7f426ef680\" x=\"92.497308\" y=\"265.820097\" style=\"fill: #1f77b4; stroke: #1f77b4\"/>\n",
       "     <use xlink:href=\"#m7f426ef680\" x=\"92.822288\" y=\"263.67835\" style=\"fill: #1f77b4; stroke: #1f77b4\"/>\n",
       "     <use xlink:href=\"#m7f426ef680\" x=\"93.147267\" y=\"267.864491\" style=\"fill: #1f77b4; stroke: #1f77b4\"/>\n",
       "     <use xlink:href=\"#m7f426ef680\" x=\"93.472247\" y=\"263.19159\" style=\"fill: #1f77b4; stroke: #1f77b4\"/>\n",
       "     <use xlink:href=\"#m7f426ef680\" x=\"93.797226\" y=\"264.067759\" style=\"fill: #1f77b4; stroke: #1f77b4\"/>\n",
       "     <use xlink:href=\"#m7f426ef680\" x=\"94.122206\" y=\"268.545956\" style=\"fill: #1f77b4; stroke: #1f77b4\"/>\n",
       "     <use xlink:href=\"#m7f426ef680\" x=\"94.447185\" y=\"262.461449\" style=\"fill: #1f77b4; stroke: #1f77b4\"/>\n",
       "     <use xlink:href=\"#m7f426ef680\" x=\"94.772165\" y=\"264.359815\" style=\"fill: #1f77b4; stroke: #1f77b4\"/>\n",
       "     <use xlink:href=\"#m7f426ef680\" x=\"95.097144\" y=\"266.793618\" style=\"fill: #1f77b4; stroke: #1f77b4\"/>\n",
       "     <use xlink:href=\"#m7f426ef680\" x=\"95.422124\" y=\"261.731308\" style=\"fill: #1f77b4; stroke: #1f77b4\"/>\n",
       "     <use xlink:href=\"#m7f426ef680\" x=\"95.747103\" y=\"262.899533\" style=\"fill: #1f77b4; stroke: #1f77b4\"/>\n",
       "     <use xlink:href=\"#m7f426ef680\" x=\"96.072083\" y=\"266.696266\" style=\"fill: #1f77b4; stroke: #1f77b4\"/>\n",
       "     <use xlink:href=\"#m7f426ef680\" x=\"96.397062\" y=\"261.001167\" style=\"fill: #1f77b4; stroke: #1f77b4\"/>\n",
       "     <use xlink:href=\"#m7f426ef680\" x=\"96.722042\" y=\"260.757787\" style=\"fill: #1f77b4; stroke: #1f77b4\"/>\n",
       "     <use xlink:href=\"#m7f426ef680\" x=\"97.047021\" y=\"267.572435\" style=\"fill: #1f77b4; stroke: #1f77b4\"/>\n",
       "     <use xlink:href=\"#m7f426ef680\" x=\"97.372001\" y=\"260.271026\" style=\"fill: #1f77b4; stroke: #1f77b4\"/>\n",
       "     <use xlink:href=\"#m7f426ef680\" x=\"97.69698\" y=\"261.731308\" style=\"fill: #1f77b4; stroke: #1f77b4\"/>\n",
       "     <use xlink:href=\"#m7f426ef680\" x=\"98.02196\" y=\"265.333336\" style=\"fill: #1f77b4; stroke: #1f77b4\"/>\n",
       "     <use xlink:href=\"#m7f426ef680\" x=\"98.346939\" y=\"259.540886\" style=\"fill: #1f77b4; stroke: #1f77b4\"/>\n",
       "     <use xlink:href=\"#m7f426ef680\" x=\"98.671919\" y=\"259.297505\" style=\"fill: #1f77b4; stroke: #1f77b4\"/>\n",
       "     <use xlink:href=\"#m7f426ef680\" x=\"98.996899\" y=\"264.943928\" style=\"fill: #1f77b4; stroke: #1f77b4\"/>\n",
       "     <use xlink:href=\"#m7f426ef680\" x=\"99.321878\" y=\"261.439252\" style=\"fill: #1f77b4; stroke: #1f77b4\"/>\n",
       "     <use xlink:href=\"#m7f426ef680\" x=\"99.646858\" y=\"259.97897\" style=\"fill: #1f77b4; stroke: #1f77b4\"/>\n",
       "     <use xlink:href=\"#m7f426ef680\" x=\"99.971837\" y=\"265.820097\" style=\"fill: #1f77b4; stroke: #1f77b4\"/>\n",
       "     <use xlink:href=\"#m7f426ef680\" x=\"100.296817\" y=\"258.080604\" style=\"fill: #1f77b4; stroke: #1f77b4\"/>\n",
       "     <use xlink:href=\"#m7f426ef680\" x=\"100.621796\" y=\"257.837224\" style=\"fill: #1f77b4; stroke: #1f77b4\"/>\n",
       "     <use xlink:href=\"#m7f426ef680\" x=\"100.946776\" y=\"263.873055\" style=\"fill: #1f77b4; stroke: #1f77b4\"/>\n",
       "     <use xlink:href=\"#m7f426ef680\" x=\"101.271755\" y=\"259.297505\" style=\"fill: #1f77b4; stroke: #1f77b4\"/>\n",
       "     <use xlink:href=\"#m7f426ef680\" x=\"101.596735\" y=\"259.97897\" style=\"fill: #1f77b4; stroke: #1f77b4\"/>\n",
       "     <use xlink:href=\"#m7f426ef680\" x=\"101.921714\" y=\"263.483646\" style=\"fill: #1f77b4; stroke: #1f77b4\"/>\n",
       "     <use xlink:href=\"#m7f426ef680\" x=\"102.246694\" y=\"256.620322\" style=\"fill: #1f77b4; stroke: #1f77b4\"/>\n",
       "     <use xlink:href=\"#m7f426ef680\" x=\"102.571673\" y=\"256.376942\" style=\"fill: #1f77b4; stroke: #1f77b4\"/>\n",
       "     <use xlink:href=\"#m7f426ef680\" x=\"102.896653\" y=\"262.899533\" style=\"fill: #1f77b4; stroke: #1f77b4\"/>\n",
       "     <use xlink:href=\"#m7f426ef680\" x=\"103.221632\" y=\"256.571646\" style=\"fill: #1f77b4; stroke: #1f77b4\"/>\n",
       "     <use xlink:href=\"#m7f426ef680\" x=\"103.546612\" y=\"257.058407\" style=\"fill: #1f77b4; stroke: #1f77b4\"/>\n",
       "     <use xlink:href=\"#m7f426ef680\" x=\"103.871591\" y=\"264.651871\" style=\"fill: #1f77b4; stroke: #1f77b4\"/>\n",
       "     <use xlink:href=\"#m7f426ef680\" x=\"104.196571\" y=\"257.058407\" style=\"fill: #1f77b4; stroke: #1f77b4\"/>\n",
       "     <use xlink:href=\"#m7f426ef680\" x=\"104.52155\" y=\"254.91666\" style=\"fill: #1f77b4; stroke: #1f77b4\"/>\n",
       "     <use xlink:href=\"#m7f426ef680\" x=\"104.84653\" y=\"263.19159\" style=\"fill: #1f77b4; stroke: #1f77b4\"/>\n",
       "     <use xlink:href=\"#m7f426ef680\" x=\"105.17151\" y=\"256.084886\" style=\"fill: #1f77b4; stroke: #1f77b4\"/>\n",
       "     <use xlink:href=\"#m7f426ef680\" x=\"105.496489\" y=\"254.186519\" style=\"fill: #1f77b4; stroke: #1f77b4\"/>\n",
       "     <use xlink:href=\"#m7f426ef680\" x=\"105.821469\" y=\"261.439252\" style=\"fill: #1f77b4; stroke: #1f77b4\"/>\n",
       "     <use xlink:href=\"#m7f426ef680\" x=\"106.146448\" y=\"257.934576\" style=\"fill: #1f77b4; stroke: #1f77b4\"/>\n",
       "     <use xlink:href=\"#m7f426ef680\" x=\"106.471428\" y=\"253.456379\" style=\"fill: #1f77b4; stroke: #1f77b4\"/>\n",
       "     <use xlink:href=\"#m7f426ef680\" x=\"106.796407\" y=\"260.952491\" style=\"fill: #1f77b4; stroke: #1f77b4\"/>\n",
       "     <use xlink:href=\"#m7f426ef680\" x=\"107.121387\" y=\"253.699759\" style=\"fill: #1f77b4; stroke: #1f77b4\"/>\n",
       "     <use xlink:href=\"#m7f426ef680\" x=\"107.446366\" y=\"252.726238\" style=\"fill: #1f77b4; stroke: #1f77b4\"/>\n",
       "     <use xlink:href=\"#m7f426ef680\" x=\"107.771346\" y=\"260.563083\" style=\"fill: #1f77b4; stroke: #1f77b4\"/>\n",
       "     <use xlink:href=\"#m7f426ef680\" x=\"108.096325\" y=\"252.239477\" style=\"fill: #1f77b4; stroke: #1f77b4\"/>\n",
       "     <use xlink:href=\"#m7f426ef680\" x=\"108.421305\" y=\"258.810745\" style=\"fill: #1f77b4; stroke: #1f77b4\"/>\n",
       "     <use xlink:href=\"#m7f426ef680\" x=\"108.746284\" y=\"259.97897\" style=\"fill: #1f77b4; stroke: #1f77b4\"/>\n",
       "     <use xlink:href=\"#m7f426ef680\" x=\"109.071264\" y=\"251.509336\" style=\"fill: #1f77b4; stroke: #1f77b4\"/>\n",
       "     <use xlink:href=\"#m7f426ef680\" x=\"109.396243\" y=\"251.265956\" style=\"fill: #1f77b4; stroke: #1f77b4\"/>\n",
       "     <use xlink:href=\"#m7f426ef680\" x=\"109.721223\" y=\"259.49221\" style=\"fill: #1f77b4; stroke: #1f77b4\"/>\n",
       "     <use xlink:href=\"#m7f426ef680\" x=\"110.046202\" y=\"250.779195\" style=\"fill: #1f77b4; stroke: #1f77b4\"/>\n",
       "     <use xlink:href=\"#m7f426ef680\" x=\"110.371182\" y=\"250.535815\" style=\"fill: #1f77b4; stroke: #1f77b4\"/>\n",
       "     <use xlink:href=\"#m7f426ef680\" x=\"110.696161\" y=\"262.315421\" style=\"fill: #1f77b4; stroke: #1f77b4\"/>\n",
       "     <use xlink:href=\"#m7f426ef680\" x=\"111.021141\" y=\"251.70404\" style=\"fill: #1f77b4; stroke: #1f77b4\"/>\n",
       "     <use xlink:href=\"#m7f426ef680\" x=\"111.34612\" y=\"249.805674\" style=\"fill: #1f77b4; stroke: #1f77b4\"/>\n",
       "     <use xlink:href=\"#m7f426ef680\" x=\"111.6711\" y=\"258.518688\" style=\"fill: #1f77b4; stroke: #1f77b4\"/>\n",
       "     <use xlink:href=\"#m7f426ef680\" x=\"111.99608\" y=\"251.996097\" style=\"fill: #1f77b4; stroke: #1f77b4\"/>\n",
       "     <use xlink:href=\"#m7f426ef680\" x=\"112.321059\" y=\"250.925224\" style=\"fill: #1f77b4; stroke: #1f77b4\"/>\n",
       "     <use xlink:href=\"#m7f426ef680\" x=\"112.646039\" y=\"259.97897\" style=\"fill: #1f77b4; stroke: #1f77b4\"/>\n",
       "     <use xlink:href=\"#m7f426ef680\" x=\"112.971018\" y=\"252.677562\" style=\"fill: #1f77b4; stroke: #1f77b4\"/>\n",
       "     <use xlink:href=\"#m7f426ef680\" x=\"113.295998\" y=\"248.345393\" style=\"fill: #1f77b4; stroke: #1f77b4\"/>\n",
       "     <use xlink:href=\"#m7f426ef680\" x=\"113.620977\" y=\"257.934576\" style=\"fill: #1f77b4; stroke: #1f77b4\"/>\n",
       "     <use xlink:href=\"#m7f426ef680\" x=\"113.945957\" y=\"247.858632\" style=\"fill: #1f77b4; stroke: #1f77b4\"/>\n",
       "     <use xlink:href=\"#m7f426ef680\" x=\"114.270936\" y=\"247.615252\" style=\"fill: #1f77b4; stroke: #1f77b4\"/>\n",
       "     <use xlink:href=\"#m7f426ef680\" x=\"114.595916\" y=\"257.058407\" style=\"fill: #1f77b4; stroke: #1f77b4\"/>\n",
       "     <use xlink:href=\"#m7f426ef680\" x=\"114.920895\" y=\"247.128491\" style=\"fill: #1f77b4; stroke: #1f77b4\"/>\n",
       "     <use xlink:href=\"#m7f426ef680\" x=\"115.245875\" y=\"251.21728\" style=\"fill: #1f77b4; stroke: #1f77b4\"/>\n",
       "     <use xlink:href=\"#m7f426ef680\" x=\"115.570854\" y=\"258.810745\" style=\"fill: #1f77b4; stroke: #1f77b4\"/>\n",
       "     <use xlink:href=\"#m7f426ef680\" x=\"115.895834\" y=\"246.39835\" style=\"fill: #1f77b4; stroke: #1f77b4\"/>\n",
       "     <use xlink:href=\"#m7f426ef680\" x=\"116.220813\" y=\"248.296717\" style=\"fill: #1f77b4; stroke: #1f77b4\"/>\n",
       "     <use xlink:href=\"#m7f426ef680\" x=\"116.545793\" y=\"256.182238\" style=\"fill: #1f77b4; stroke: #1f77b4\"/>\n",
       "     <use xlink:href=\"#m7f426ef680\" x=\"116.870772\" y=\"248.296717\" style=\"fill: #1f77b4; stroke: #1f77b4\"/>\n",
       "     <use xlink:href=\"#m7f426ef680\" x=\"117.195752\" y=\"247.128491\" style=\"fill: #1f77b4; stroke: #1f77b4\"/>\n",
       "     <use xlink:href=\"#m7f426ef680\" x=\"117.520731\" y=\"258.810745\" style=\"fill: #1f77b4; stroke: #1f77b4\"/>\n",
       "     <use xlink:href=\"#m7f426ef680\" x=\"117.845711\" y=\"244.938069\" style=\"fill: #1f77b4; stroke: #1f77b4\"/>\n",
       "     <use xlink:href=\"#m7f426ef680\" x=\"118.170691\" y=\"244.694688\" style=\"fill: #1f77b4; stroke: #1f77b4\"/>\n",
       "     <use xlink:href=\"#m7f426ef680\" x=\"118.49567\" y=\"257.058407\" style=\"fill: #1f77b4; stroke: #1f77b4\"/>\n",
       "     <use xlink:href=\"#m7f426ef680\" x=\"118.82065\" y=\"244.207928\" style=\"fill: #1f77b4; stroke: #1f77b4\"/>\n",
       "     <use xlink:href=\"#m7f426ef680\" x=\"119.145629\" y=\"246.885111\" style=\"fill: #1f77b4; stroke: #1f77b4\"/>\n",
       "     <use xlink:href=\"#m7f426ef680\" x=\"119.470609\" y=\"254.721956\" style=\"fill: #1f77b4; stroke: #1f77b4\"/>\n",
       "     <use xlink:href=\"#m7f426ef680\" x=\"119.795588\" y=\"248.296717\" style=\"fill: #1f77b4; stroke: #1f77b4\"/>\n",
       "     <use xlink:href=\"#m7f426ef680\" x=\"120.120568\" y=\"243.234407\" style=\"fill: #1f77b4; stroke: #1f77b4\"/>\n",
       "     <use xlink:href=\"#m7f426ef680\" x=\"120.445547\" y=\"254.137843\" style=\"fill: #1f77b4; stroke: #1f77b4\"/>\n",
       "     <use xlink:href=\"#m7f426ef680\" x=\"120.770527\" y=\"242.747646\" style=\"fill: #1f77b4; stroke: #1f77b4\"/>\n",
       "     <use xlink:href=\"#m7f426ef680\" x=\"121.095506\" y=\"245.376153\" style=\"fill: #1f77b4; stroke: #1f77b4\"/>\n",
       "     <use xlink:href=\"#m7f426ef680\" x=\"121.420486\" y=\"253.651083\" style=\"fill: #1f77b4; stroke: #1f77b4\"/>\n",
       "     <use xlink:href=\"#m7f426ef680\" x=\"121.745465\" y=\"244.402632\" style=\"fill: #1f77b4; stroke: #1f77b4\"/>\n",
       "     <use xlink:href=\"#m7f426ef680\" x=\"122.070445\" y=\"247.712604\" style=\"fill: #1f77b4; stroke: #1f77b4\"/>\n",
       "     <use xlink:href=\"#m7f426ef680\" x=\"122.395424\" y=\"253.553731\" style=\"fill: #1f77b4; stroke: #1f77b4\"/>\n",
       "     <use xlink:href=\"#m7f426ef680\" x=\"122.720404\" y=\"244.694688\" style=\"fill: #1f77b4; stroke: #1f77b4\"/>\n",
       "     <use xlink:href=\"#m7f426ef680\" x=\"123.045383\" y=\"241.043984\" style=\"fill: #1f77b4; stroke: #1f77b4\"/>\n",
       "     <use xlink:href=\"#m7f426ef680\" x=\"123.370363\" y=\"252.677562\" style=\"fill: #1f77b4; stroke: #1f77b4\"/>\n",
       "     <use xlink:href=\"#m7f426ef680\" x=\"123.695342\" y=\"240.557224\" style=\"fill: #1f77b4; stroke: #1f77b4\"/>\n",
       "     <use xlink:href=\"#m7f426ef680\" x=\"124.020322\" y=\"240.313843\" style=\"fill: #1f77b4; stroke: #1f77b4\"/>\n",
       "     <use xlink:href=\"#m7f426ef680\" x=\"124.345301\" y=\"255.890181\" style=\"fill: #1f77b4; stroke: #1f77b4\"/>\n",
       "     <use xlink:href=\"#m7f426ef680\" x=\"124.670281\" y=\"242.163533\" style=\"fill: #1f77b4; stroke: #1f77b4\"/>\n",
       "     <use xlink:href=\"#m7f426ef680\" x=\"124.995261\" y=\"239.583702\" style=\"fill: #1f77b4; stroke: #1f77b4\"/>\n",
       "     <use xlink:href=\"#m7f426ef680\" x=\"125.32024\" y=\"253.553731\" style=\"fill: #1f77b4; stroke: #1f77b4\"/>\n",
       "     <use xlink:href=\"#m7f426ef680\" x=\"125.64522\" y=\"239.096942\" style=\"fill: #1f77b4; stroke: #1f77b4\"/>\n",
       "     <use xlink:href=\"#m7f426ef680\" x=\"125.970199\" y=\"240.995308\" style=\"fill: #1f77b4; stroke: #1f77b4\"/>\n",
       "     <use xlink:href=\"#m7f426ef680\" x=\"126.295179\" y=\"253.943139\" style=\"fill: #1f77b4; stroke: #1f77b4\"/>\n",
       "     <use xlink:href=\"#m7f426ef680\" x=\"126.620158\" y=\"243.915871\" style=\"fill: #1f77b4; stroke: #1f77b4\"/>\n",
       "     <use xlink:href=\"#m7f426ef680\" x=\"126.945138\" y=\"238.123421\" style=\"fill: #1f77b4; stroke: #1f77b4\"/>\n",
       "     <use xlink:href=\"#m7f426ef680\" x=\"127.270117\" y=\"252.969618\" style=\"fill: #1f77b4; stroke: #1f77b4\"/>\n",
       "     <use xlink:href=\"#m7f426ef680\" x=\"127.595097\" y=\"239.535026\" style=\"fill: #1f77b4; stroke: #1f77b4\"/>\n",
       "     <use xlink:href=\"#m7f426ef680\" x=\"127.920076\" y=\"237.39328\" style=\"fill: #1f77b4; stroke: #1f77b4\"/>\n",
       "     <use xlink:href=\"#m7f426ef680\" x=\"128.245056\" y=\"250.341111\" style=\"fill: #1f77b4; stroke: #1f77b4\"/>\n",
       "     <use xlink:href=\"#m7f426ef680\" x=\"128.570035\" y=\"236.906519\" style=\"fill: #1f77b4; stroke: #1f77b4\"/>\n",
       "     <use xlink:href=\"#m7f426ef680\" x=\"128.895015\" y=\"242.45559\" style=\"fill: #1f77b4; stroke: #1f77b4\"/>\n",
       "     <use xlink:href=\"#m7f426ef680\" x=\"129.219994\" y=\"249.756998\" style=\"fill: #1f77b4; stroke: #1f77b4\"/>\n",
       "     <use xlink:href=\"#m7f426ef680\" x=\"129.544974\" y=\"239.535026\" style=\"fill: #1f77b4; stroke: #1f77b4\"/>\n",
       "     <use xlink:href=\"#m7f426ef680\" x=\"129.869953\" y=\"239.827083\" style=\"fill: #1f77b4; stroke: #1f77b4\"/>\n",
       "     <use xlink:href=\"#m7f426ef680\" x=\"130.194933\" y=\"249.270238\" style=\"fill: #1f77b4; stroke: #1f77b4\"/>\n",
       "     <use xlink:href=\"#m7f426ef680\" x=\"130.519912\" y=\"236.419759\" style=\"fill: #1f77b4; stroke: #1f77b4\"/>\n",
       "     <use xlink:href=\"#m7f426ef680\" x=\"130.844892\" y=\"237.782688\" style=\"fill: #1f77b4; stroke: #1f77b4\"/>\n",
       "     <use xlink:href=\"#m7f426ef680\" x=\"131.169872\" y=\"252.677562\" style=\"fill: #1f77b4; stroke: #1f77b4\"/>\n",
       "     <use xlink:href=\"#m7f426ef680\" x=\"131.494851\" y=\"236.809167\" style=\"fill: #1f77b4; stroke: #1f77b4\"/>\n",
       "     <use xlink:href=\"#m7f426ef680\" x=\"131.819831\" y=\"234.472717\" style=\"fill: #1f77b4; stroke: #1f77b4\"/>\n",
       "     <use xlink:href=\"#m7f426ef680\" x=\"132.14481\" y=\"248.296717\" style=\"fill: #1f77b4; stroke: #1f77b4\"/>\n",
       "     <use xlink:href=\"#m7f426ef680\" x=\"132.46979\" y=\"233.985956\" style=\"fill: #1f77b4; stroke: #1f77b4\"/>\n",
       "     <use xlink:href=\"#m7f426ef680\" x=\"132.794769\" y=\"236.614463\" style=\"fill: #1f77b4; stroke: #1f77b4\"/>\n",
       "     <use xlink:href=\"#m7f426ef680\" x=\"133.119749\" y=\"247.809956\" style=\"fill: #1f77b4; stroke: #1f77b4\"/>\n",
       "     <use xlink:href=\"#m7f426ef680\" x=\"133.444728\" y=\"244.207928\" style=\"fill: #1f77b4; stroke: #1f77b4\"/>\n",
       "     <use xlink:href=\"#m7f426ef680\" x=\"133.769708\" y=\"236.614463\" style=\"fill: #1f77b4; stroke: #1f77b4\"/>\n",
       "     <use xlink:href=\"#m7f426ef680\" x=\"134.094687\" y=\"247.420548\" style=\"fill: #1f77b4; stroke: #1f77b4\"/>\n",
       "     <use xlink:href=\"#m7f426ef680\" x=\"134.419667\" y=\"232.525674\" style=\"fill: #1f77b4; stroke: #1f77b4\"/>\n",
       "     <use xlink:href=\"#m7f426ef680\" x=\"134.744646\" y=\"232.282294\" style=\"fill: #1f77b4; stroke: #1f77b4\"/>\n",
       "     <use xlink:href=\"#m7f426ef680\" x=\"135.069626\" y=\"246.836435\" style=\"fill: #1f77b4; stroke: #1f77b4\"/>\n",
       "     <use xlink:href=\"#m7f426ef680\" x=\"135.394605\" y=\"231.795533\" style=\"fill: #1f77b4; stroke: #1f77b4\"/>\n",
       "     <use xlink:href=\"#m7f426ef680\" x=\"135.719585\" y=\"238.074745\" style=\"fill: #1f77b4; stroke: #1f77b4\"/>\n",
       "     <use xlink:href=\"#m7f426ef680\" x=\"136.044564\" y=\"246.349674\" style=\"fill: #1f77b4; stroke: #1f77b4\"/>\n",
       "     <use xlink:href=\"#m7f426ef680\" x=\"136.369544\" y=\"231.065393\" style=\"fill: #1f77b4; stroke: #1f77b4\"/>\n",
       "     <use xlink:href=\"#m7f426ef680\" x=\"136.694523\" y=\"230.822012\" style=\"fill: #1f77b4; stroke: #1f77b4\"/>\n",
       "     <use xlink:href=\"#m7f426ef680\" x=\"137.019503\" y=\"250.049055\" style=\"fill: #1f77b4; stroke: #1f77b4\"/>\n",
       "     <use xlink:href=\"#m7f426ef680\" x=\"137.344482\" y=\"232.525674\" style=\"fill: #1f77b4; stroke: #1f77b4\"/>\n",
       "     <use xlink:href=\"#m7f426ef680\" x=\"137.669462\" y=\"230.091871\" style=\"fill: #1f77b4; stroke: #1f77b4\"/>\n",
       "     <use xlink:href=\"#m7f426ef680\" x=\"137.994442\" y=\"251.801393\" style=\"fill: #1f77b4; stroke: #1f77b4\"/>\n",
       "     <use xlink:href=\"#m7f426ef680\" x=\"138.319421\" y=\"232.720379\" style=\"fill: #1f77b4; stroke: #1f77b4\"/>\n",
       "     <use xlink:href=\"#m7f426ef680\" x=\"138.644401\" y=\"229.361731\" style=\"fill: #1f77b4; stroke: #1f77b4\"/>\n",
       "     <use xlink:href=\"#m7f426ef680\" x=\"138.96938\" y=\"244.889393\" style=\"fill: #1f77b4; stroke: #1f77b4\"/>\n",
       "     <use xlink:href=\"#m7f426ef680\" x=\"139.29436\" y=\"228.87497\" style=\"fill: #1f77b4; stroke: #1f77b4\"/>\n",
       "     <use xlink:href=\"#m7f426ef680\" x=\"139.619339\" y=\"230.773336\" style=\"fill: #1f77b4; stroke: #1f77b4\"/>\n",
       "     <use xlink:href=\"#m7f426ef680\" x=\"139.944319\" y=\"244.79204\" style=\"fill: #1f77b4; stroke: #1f77b4\"/>\n",
       "     <use xlink:href=\"#m7f426ef680\" x=\"140.269298\" y=\"235.154181\" style=\"fill: #1f77b4; stroke: #1f77b4\"/>\n",
       "     <use xlink:href=\"#m7f426ef680\" x=\"140.594278\" y=\"232.525674\" style=\"fill: #1f77b4; stroke: #1f77b4\"/>\n",
       "     <use xlink:href=\"#m7f426ef680\" x=\"140.919257\" y=\"246.349674\" style=\"fill: #1f77b4; stroke: #1f77b4\"/>\n",
       "     <use xlink:href=\"#m7f426ef680\" x=\"141.244237\" y=\"227.414688\" style=\"fill: #1f77b4; stroke: #1f77b4\"/>\n",
       "     <use xlink:href=\"#m7f426ef680\" x=\"141.569216\" y=\"229.313055\" style=\"fill: #1f77b4; stroke: #1f77b4\"/>\n",
       "     <use xlink:href=\"#m7f426ef680\" x=\"141.894196\" y=\"243.429111\" style=\"fill: #1f77b4; stroke: #1f77b4\"/>\n",
       "     <use xlink:href=\"#m7f426ef680\" x=\"142.219175\" y=\"230.773336\" style=\"fill: #1f77b4; stroke: #1f77b4\"/>\n",
       "     <use xlink:href=\"#m7f426ef680\" x=\"142.544155\" y=\"233.6939\" style=\"fill: #1f77b4; stroke: #1f77b4\"/>\n",
       "     <use xlink:href=\"#m7f426ef680\" x=\"142.869134\" y=\"243.039702\" style=\"fill: #1f77b4; stroke: #1f77b4\"/>\n",
       "     <use xlink:href=\"#m7f426ef680\" x=\"143.194114\" y=\"229.020998\" style=\"fill: #1f77b4; stroke: #1f77b4\"/>\n",
       "     <use xlink:href=\"#m7f426ef680\" x=\"143.519093\" y=\"225.711026\" style=\"fill: #1f77b4; stroke: #1f77b4\"/>\n",
       "     <use xlink:href=\"#m7f426ef680\" x=\"143.844073\" y=\"245.181449\" style=\"fill: #1f77b4; stroke: #1f77b4\"/>\n",
       "     <use xlink:href=\"#m7f426ef680\" x=\"144.169053\" y=\"230.091871\" style=\"fill: #1f77b4; stroke: #1f77b4\"/>\n",
       "     <use xlink:href=\"#m7f426ef680\" x=\"144.494032\" y=\"224.980886\" style=\"fill: #1f77b4; stroke: #1f77b4\"/>\n",
       "     <use xlink:href=\"#m7f426ef680\" x=\"144.819012\" y=\"247.128491\" style=\"fill: #1f77b4; stroke: #1f77b4\"/>\n",
       "     <use xlink:href=\"#m7f426ef680\" x=\"145.143991\" y=\"224.494125\" style=\"fill: #1f77b4; stroke: #1f77b4\"/>\n",
       "     <use xlink:href=\"#m7f426ef680\" x=\"145.468971\" y=\"224.250745\" style=\"fill: #1f77b4; stroke: #1f77b4\"/>\n",
       "     <use xlink:href=\"#m7f426ef680\" x=\"145.79395\" y=\"241.579421\" style=\"fill: #1f77b4; stroke: #1f77b4\"/>\n",
       "     <use xlink:href=\"#m7f426ef680\" x=\"146.11893\" y=\"223.763984\" style=\"fill: #1f77b4; stroke: #1f77b4\"/>\n",
       "     <use xlink:href=\"#m7f426ef680\" x=\"146.443909\" y=\"227.852773\" style=\"fill: #1f77b4; stroke: #1f77b4\"/>\n",
       "     <use xlink:href=\"#m7f426ef680\" x=\"146.768889\" y=\"240.995308\" style=\"fill: #1f77b4; stroke: #1f77b4\"/>\n",
       "     <use xlink:href=\"#m7f426ef680\" x=\"147.093868\" y=\"230.773336\" style=\"fill: #1f77b4; stroke: #1f77b4\"/>\n",
       "     <use xlink:href=\"#m7f426ef680\" x=\"147.418848\" y=\"225.224266\" style=\"fill: #1f77b4; stroke: #1f77b4\"/>\n",
       "     <use xlink:href=\"#m7f426ef680\" x=\"147.743827\" y=\"244.207928\" style=\"fill: #1f77b4; stroke: #1f77b4\"/>\n",
       "     <use xlink:href=\"#m7f426ef680\" x=\"148.068807\" y=\"222.303702\" style=\"fill: #1f77b4; stroke: #1f77b4\"/>\n",
       "     <use xlink:href=\"#m7f426ef680\" x=\"148.393786\" y=\"224.93221\" style=\"fill: #1f77b4; stroke: #1f77b4\"/>\n",
       "     <use xlink:href=\"#m7f426ef680\" x=\"148.718766\" y=\"240.411195\" style=\"fill: #1f77b4; stroke: #1f77b4\"/>\n",
       "     <use xlink:href=\"#m7f426ef680\" x=\"149.043745\" y=\"221.573562\" style=\"fill: #1f77b4; stroke: #1f77b4\"/>\n",
       "     <use xlink:href=\"#m7f426ef680\" x=\"149.368725\" y=\"234.278012\" style=\"fill: #1f77b4; stroke: #1f77b4\"/>\n",
       "     <use xlink:href=\"#m7f426ef680\" x=\"149.693704\" y=\"239.535026\" style=\"fill: #1f77b4; stroke: #1f77b4\"/>\n",
       "     <use xlink:href=\"#m7f426ef680\" x=\"150.018684\" y=\"220.843421\" style=\"fill: #1f77b4; stroke: #1f77b4\"/>\n",
       "     <use xlink:href=\"#m7f426ef680\" x=\"150.343663\" y=\"223.179871\" style=\"fill: #1f77b4; stroke: #1f77b4\"/>\n",
       "     <use xlink:href=\"#m7f426ef680\" x=\"150.668643\" y=\"242.45559\" style=\"fill: #1f77b4; stroke: #1f77b4\"/>\n",
       "     <use xlink:href=\"#m7f426ef680\" x=\"150.993623\" y=\"220.11328\" style=\"fill: #1f77b4; stroke: #1f77b4\"/>\n",
       "     <use xlink:href=\"#m7f426ef680\" x=\"151.318602\" y=\"225.224266\" style=\"fill: #1f77b4; stroke: #1f77b4\"/>\n",
       "     <use xlink:href=\"#m7f426ef680\" x=\"151.643582\" y=\"244.79204\" style=\"fill: #1f77b4; stroke: #1f77b4\"/>\n",
       "     <use xlink:href=\"#m7f426ef680\" x=\"151.968561\" y=\"219.383139\" style=\"fill: #1f77b4; stroke: #1f77b4\"/>\n",
       "     <use xlink:href=\"#m7f426ef680\" x=\"152.293541\" y=\"219.139759\" style=\"fill: #1f77b4; stroke: #1f77b4\"/>\n",
       "     <use xlink:href=\"#m7f426ef680\" x=\"152.61852\" y=\"238.074745\" style=\"fill: #1f77b4; stroke: #1f77b4\"/>\n",
       "     <use xlink:href=\"#m7f426ef680\" x=\"152.9435\" y=\"218.652998\" style=\"fill: #1f77b4; stroke: #1f77b4\"/>\n",
       "     <use xlink:href=\"#m7f426ef680\" x=\"153.268479\" y=\"218.409618\" style=\"fill: #1f77b4; stroke: #1f77b4\"/>\n",
       "     <use xlink:href=\"#m7f426ef680\" x=\"153.593459\" y=\"237.587984\" style=\"fill: #1f77b4; stroke: #1f77b4\"/>\n",
       "     <use xlink:href=\"#m7f426ef680\" x=\"153.918438\" y=\"226.246463\" style=\"fill: #1f77b4; stroke: #1f77b4\"/>\n",
       "     <use xlink:href=\"#m7f426ef680\" x=\"154.243418\" y=\"217.679477\" style=\"fill: #1f77b4; stroke: #1f77b4\"/>\n",
       "     <use xlink:href=\"#m7f426ef680\" x=\"154.568397\" y=\"237.198576\" style=\"fill: #1f77b4; stroke: #1f77b4\"/>\n",
       "     <use xlink:href=\"#m7f426ef680\" x=\"154.893377\" y=\"229.605111\" style=\"fill: #1f77b4; stroke: #1f77b4\"/>\n",
       "     <use xlink:href=\"#m7f426ef680\" x=\"155.218356\" y=\"216.949336\" style=\"fill: #1f77b4; stroke: #1f77b4\"/>\n",
       "     <use xlink:href=\"#m7f426ef680\" x=\"155.543336\" y=\"239.535026\" style=\"fill: #1f77b4; stroke: #1f77b4\"/>\n",
       "     <use xlink:href=\"#m7f426ef680\" x=\"155.868315\" y=\"219.577843\" style=\"fill: #1f77b4; stroke: #1f77b4\"/>\n",
       "     <use xlink:href=\"#m7f426ef680\" x=\"156.193295\" y=\"224.93221\" style=\"fill: #1f77b4; stroke: #1f77b4\"/>\n",
       "     <use xlink:href=\"#m7f426ef680\" x=\"156.518274\" y=\"236.127702\" style=\"fill: #1f77b4; stroke: #1f77b4\"/>\n",
       "     <use xlink:href=\"#m7f426ef680\" x=\"156.843254\" y=\"218.117562\" style=\"fill: #1f77b4; stroke: #1f77b4\"/>\n",
       "     <use xlink:href=\"#m7f426ef680\" x=\"157.168234\" y=\"217.922857\" style=\"fill: #1f77b4; stroke: #1f77b4\"/>\n",
       "     <use xlink:href=\"#m7f426ef680\" x=\"157.493213\" y=\"236.906519\" style=\"fill: #1f77b4; stroke: #1f77b4\"/>\n",
       "     <use xlink:href=\"#m7f426ef680\" x=\"157.818193\" y=\"215.002294\" style=\"fill: #1f77b4; stroke: #1f77b4\"/>\n",
       "     <use xlink:href=\"#m7f426ef680\" x=\"158.143172\" y=\"214.758914\" style=\"fill: #1f77b4; stroke: #1f77b4\"/>\n",
       "     <use xlink:href=\"#m7f426ef680\" x=\"158.468152\" y=\"244.207928\" style=\"fill: #1f77b4; stroke: #1f77b4\"/>\n",
       "     <use xlink:href=\"#m7f426ef680\" x=\"158.793131\" y=\"214.272153\" style=\"fill: #1f77b4; stroke: #1f77b4\"/>\n",
       "     <use xlink:href=\"#m7f426ef680\" x=\"159.118111\" y=\"219.091083\" style=\"fill: #1f77b4; stroke: #1f77b4\"/>\n",
       "     <use xlink:href=\"#m7f426ef680\" x=\"159.44309\" y=\"234.667421\" style=\"fill: #1f77b4; stroke: #1f77b4\"/>\n",
       "     <use xlink:href=\"#m7f426ef680\" x=\"159.76807\" y=\"216.365224\" style=\"fill: #1f77b4; stroke: #1f77b4\"/>\n",
       "     <use xlink:href=\"#m7f426ef680\" x=\"160.093049\" y=\"213.298632\" style=\"fill: #1f77b4; stroke: #1f77b4\"/>\n",
       "     <use xlink:href=\"#m7f426ef680\" x=\"160.418029\" y=\"236.614463\" style=\"fill: #1f77b4; stroke: #1f77b4\"/>\n",
       "     <use xlink:href=\"#m7f426ef680\" x=\"160.743008\" y=\"222.011646\" style=\"fill: #1f77b4; stroke: #1f77b4\"/>\n",
       "     <use xlink:href=\"#m7f426ef680\" x=\"161.067988\" y=\"212.568491\" style=\"fill: #1f77b4; stroke: #1f77b4\"/>\n",
       "     <use xlink:href=\"#m7f426ef680\" x=\"161.392967\" y=\"233.6939\" style=\"fill: #1f77b4; stroke: #1f77b4\"/>\n",
       "     <use xlink:href=\"#m7f426ef680\" x=\"161.717947\" y=\"215.878463\" style=\"fill: #1f77b4; stroke: #1f77b4\"/>\n",
       "     <use xlink:href=\"#m7f426ef680\" x=\"162.042926\" y=\"217.922857\" style=\"fill: #1f77b4; stroke: #1f77b4\"/>\n",
       "     <use xlink:href=\"#m7f426ef680\" x=\"162.367906\" y=\"233.207139\" style=\"fill: #1f77b4; stroke: #1f77b4\"/>\n",
       "     <use xlink:href=\"#m7f426ef680\" x=\"162.692885\" y=\"211.35159\" style=\"fill: #1f77b4; stroke: #1f77b4\"/>\n",
       "     <use xlink:href=\"#m7f426ef680\" x=\"163.017865\" y=\"220.551364\" style=\"fill: #1f77b4; stroke: #1f77b4\"/>\n",
       "     <use xlink:href=\"#m7f426ef680\" x=\"163.342844\" y=\"237.782688\" style=\"fill: #1f77b4; stroke: #1f77b4\"/>\n",
       "     <use xlink:href=\"#m7f426ef680\" x=\"163.667824\" y=\"213.249956\" style=\"fill: #1f77b4; stroke: #1f77b4\"/>\n",
       "     <use xlink:href=\"#m7f426ef680\" x=\"163.992804\" y=\"210.378069\" style=\"fill: #1f77b4; stroke: #1f77b4\"/>\n",
       "     <use xlink:href=\"#m7f426ef680\" x=\"164.317783\" y=\"232.233618\" style=\"fill: #1f77b4; stroke: #1f77b4\"/>\n",
       "     <use xlink:href=\"#m7f426ef680\" x=\"164.642763\" y=\"209.891308\" style=\"fill: #1f77b4; stroke: #1f77b4\"/>\n",
       "     <use xlink:href=\"#m7f426ef680\" x=\"164.967742\" y=\"209.647928\" style=\"fill: #1f77b4; stroke: #1f77b4\"/>\n",
       "     <use xlink:href=\"#m7f426ef680\" x=\"165.292722\" y=\"238.366801\" style=\"fill: #1f77b4; stroke: #1f77b4\"/>\n",
       "     <use xlink:href=\"#m7f426ef680\" x=\"165.617701\" y=\"215.489055\" style=\"fill: #1f77b4; stroke: #1f77b4\"/>\n",
       "     <use xlink:href=\"#m7f426ef680\" x=\"165.942681\" y=\"213.249956\" style=\"fill: #1f77b4; stroke: #1f77b4\"/>\n",
       "     <use xlink:href=\"#m7f426ef680\" x=\"166.26766\" y=\"231.649505\" style=\"fill: #1f77b4; stroke: #1f77b4\"/>\n",
       "     <use xlink:href=\"#m7f426ef680\" x=\"166.59264\" y=\"208.431026\" style=\"fill: #1f77b4; stroke: #1f77b4\"/>\n",
       "     <use xlink:href=\"#m7f426ef680\" x=\"166.917619\" y=\"208.187646\" style=\"fill: #1f77b4; stroke: #1f77b4\"/>\n",
       "     <use xlink:href=\"#m7f426ef680\" x=\"167.242599\" y=\"230.773336\" style=\"fill: #1f77b4; stroke: #1f77b4\"/>\n",
       "     <use xlink:href=\"#m7f426ef680\" x=\"167.567578\" y=\"223.763984\" style=\"fill: #1f77b4; stroke: #1f77b4\"/>\n",
       "     <use xlink:href=\"#m7f426ef680\" x=\"167.892558\" y=\"211.497618\" style=\"fill: #1f77b4; stroke: #1f77b4\"/>\n",
       "     <use xlink:href=\"#m7f426ef680\" x=\"168.217537\" y=\"230.286576\" style=\"fill: #1f77b4; stroke: #1f77b4\"/>\n",
       "     <use xlink:href=\"#m7f426ef680\" x=\"168.542517\" y=\"206.970745\" style=\"fill: #1f77b4; stroke: #1f77b4\"/>\n",
       "     <use xlink:href=\"#m7f426ef680\" x=\"168.867496\" y=\"206.727364\" style=\"fill: #1f77b4; stroke: #1f77b4\"/>\n",
       "     <use xlink:href=\"#m7f426ef680\" x=\"169.192476\" y=\"235.446238\" style=\"fill: #1f77b4; stroke: #1f77b4\"/>\n",
       "     <use xlink:href=\"#m7f426ef680\" x=\"169.517455\" y=\"208.869111\" style=\"fill: #1f77b4; stroke: #1f77b4\"/>\n",
       "     <use xlink:href=\"#m7f426ef680\" x=\"169.842435\" y=\"217.046688\" style=\"fill: #1f77b4; stroke: #1f77b4\"/>\n",
       "     <use xlink:href=\"#m7f426ef680\" x=\"170.167415\" y=\"229.313055\" style=\"fill: #1f77b4; stroke: #1f77b4\"/>\n",
       "     <use xlink:href=\"#m7f426ef680\" x=\"170.492394\" y=\"208.187646\" style=\"fill: #1f77b4; stroke: #1f77b4\"/>\n",
       "     <use xlink:href=\"#m7f426ef680\" x=\"170.817374\" y=\"208.869111\" style=\"fill: #1f77b4; stroke: #1f77b4\"/>\n",
       "     <use xlink:href=\"#m7f426ef680\" x=\"171.142353\" y=\"228.826294\" style=\"fill: #1f77b4; stroke: #1f77b4\"/>\n",
       "     <use xlink:href=\"#m7f426ef680\" x=\"171.467333\" y=\"209.355871\" style=\"fill: #1f77b4; stroke: #1f77b4\"/>\n",
       "     <use xlink:href=\"#m7f426ef680\" x=\"171.792312\" y=\"210.329393\" style=\"fill: #1f77b4; stroke: #1f77b4\"/>\n",
       "     <use xlink:href=\"#m7f426ef680\" x=\"172.117292\" y=\"236.03035\" style=\"fill: #1f77b4; stroke: #1f77b4\"/>\n",
       "     <use xlink:href=\"#m7f426ef680\" x=\"172.442271\" y=\"204.050181\" style=\"fill: #1f77b4; stroke: #1f77b4\"/>\n",
       "     <use xlink:href=\"#m7f426ef680\" x=\"172.767251\" y=\"210.621449\" style=\"fill: #1f77b4; stroke: #1f77b4\"/>\n",
       "     <use xlink:href=\"#m7f426ef680\" x=\"173.09223\" y=\"227.852773\" style=\"fill: #1f77b4; stroke: #1f77b4\"/>\n",
       "     <use xlink:href=\"#m7f426ef680\" x=\"173.41721\" y=\"203.32004\" style=\"fill: #1f77b4; stroke: #1f77b4\"/>\n",
       "     <use xlink:href=\"#m7f426ef680\" x=\"173.742189\" y=\"203.07666\" style=\"fill: #1f77b4; stroke: #1f77b4\"/>\n",
       "     <use xlink:href=\"#m7f426ef680\" x=\"174.067169\" y=\"230.773336\" style=\"fill: #1f77b4; stroke: #1f77b4\"/>\n",
       "     <use xlink:href=\"#m7f426ef680\" x=\"174.392148\" y=\"213.249956\" style=\"fill: #1f77b4; stroke: #1f77b4\"/>\n",
       "     <use xlink:href=\"#m7f426ef680\" x=\"174.717128\" y=\"202.346519\" style=\"fill: #1f77b4; stroke: #1f77b4\"/>\n",
       "     <use xlink:href=\"#m7f426ef680\" x=\"175.042107\" y=\"227.26866\" style=\"fill: #1f77b4; stroke: #1f77b4\"/>\n",
       "     <use xlink:href=\"#m7f426ef680\" x=\"175.367087\" y=\"201.859759\" style=\"fill: #1f77b4; stroke: #1f77b4\"/>\n",
       "     <use xlink:href=\"#m7f426ef680\" x=\"175.692066\" y=\"204.488266\" style=\"fill: #1f77b4; stroke: #1f77b4\"/>\n",
       "     <use xlink:href=\"#m7f426ef680\" x=\"176.017046\" y=\"230.773336\" style=\"fill: #1f77b4; stroke: #1f77b4\"/>\n",
       "     <use xlink:href=\"#m7f426ef680\" x=\"176.342025\" y=\"208.187646\" style=\"fill: #1f77b4; stroke: #1f77b4\"/>\n",
       "     <use xlink:href=\"#m7f426ef680\" x=\"176.667005\" y=\"211.789674\" style=\"fill: #1f77b4; stroke: #1f77b4\"/>\n",
       "     <use xlink:href=\"#m7f426ef680\" x=\"176.991985\" y=\"229.605111\" style=\"fill: #1f77b4; stroke: #1f77b4\"/>\n",
       "     <use xlink:href=\"#m7f426ef680\" x=\"177.316964\" y=\"200.399477\" style=\"fill: #1f77b4; stroke: #1f77b4\"/>\n",
       "     <use xlink:href=\"#m7f426ef680\" x=\"177.641944\" y=\"203.32004\" style=\"fill: #1f77b4; stroke: #1f77b4\"/>\n",
       "     <use xlink:href=\"#m7f426ef680\" x=\"177.966923\" y=\"225.516322\" style=\"fill: #1f77b4; stroke: #1f77b4\"/>\n",
       "     <use xlink:href=\"#m7f426ef680\" x=\"178.291903\" y=\"203.514745\" style=\"fill: #1f77b4; stroke: #1f77b4\"/>\n",
       "     <use xlink:href=\"#m7f426ef680\" x=\"178.616882\" y=\"202.735928\" style=\"fill: #1f77b4; stroke: #1f77b4\"/>\n",
       "     <use xlink:href=\"#m7f426ef680\" x=\"178.941862\" y=\"232.525674\" style=\"fill: #1f77b4; stroke: #1f77b4\"/>\n",
       "     <use xlink:href=\"#m7f426ef680\" x=\"179.266841\" y=\"198.939195\" style=\"fill: #1f77b4; stroke: #1f77b4\"/>\n",
       "     <use xlink:href=\"#m7f426ef680\" x=\"179.591821\" y=\"198.695815\" style=\"fill: #1f77b4; stroke: #1f77b4\"/>\n",
       "     <use xlink:href=\"#m7f426ef680\" x=\"179.9168\" y=\"229.605111\" style=\"fill: #1f77b4; stroke: #1f77b4\"/>\n",
       "     <use xlink:href=\"#m7f426ef680\" x=\"180.24178\" y=\"207.992942\" style=\"fill: #1f77b4; stroke: #1f77b4\"/>\n",
       "     <use xlink:href=\"#m7f426ef680\" x=\"180.566759\" y=\"197.965674\" style=\"fill: #1f77b4; stroke: #1f77b4\"/>\n",
       "     <use xlink:href=\"#m7f426ef680\" x=\"180.891739\" y=\"224.05604\" style=\"fill: #1f77b4; stroke: #1f77b4\"/>\n",
       "     <use xlink:href=\"#m7f426ef680\" x=\"181.216718\" y=\"208.869111\" style=\"fill: #1f77b4; stroke: #1f77b4\"/>\n",
       "     <use xlink:href=\"#m7f426ef680\" x=\"181.541698\" y=\"197.235533\" style=\"fill: #1f77b4; stroke: #1f77b4\"/>\n",
       "     <use xlink:href=\"#m7f426ef680\" x=\"181.866677\" y=\"223.471928\" style=\"fill: #1f77b4; stroke: #1f77b4\"/>\n",
       "     <use xlink:href=\"#m7f426ef680\" x=\"182.191657\" y=\"196.748773\" style=\"fill: #1f77b4; stroke: #1f77b4\"/>\n",
       "     <use xlink:href=\"#m7f426ef680\" x=\"182.516636\" y=\"201.567702\" style=\"fill: #1f77b4; stroke: #1f77b4\"/>\n",
       "     <use xlink:href=\"#m7f426ef680\" x=\"182.841616\" y=\"222.985167\" style=\"fill: #1f77b4; stroke: #1f77b4\"/>\n",
       "     <use xlink:href=\"#m7f426ef680\" x=\"183.166596\" y=\"196.018632\" style=\"fill: #1f77b4; stroke: #1f77b4\"/>\n",
       "     <use xlink:href=\"#m7f426ef680\" x=\"183.491575\" y=\"215.002294\" style=\"fill: #1f77b4; stroke: #1f77b4\"/>\n",
       "     <use xlink:href=\"#m7f426ef680\" x=\"183.816555\" y=\"223.763984\" style=\"fill: #1f77b4; stroke: #1f77b4\"/>\n",
       "     <use xlink:href=\"#m7f426ef680\" x=\"184.141534\" y=\"195.288491\" style=\"fill: #1f77b4; stroke: #1f77b4\"/>\n",
       "     <use xlink:href=\"#m7f426ef680\" x=\"184.466514\" y=\"201.567702\" style=\"fill: #1f77b4; stroke: #1f77b4\"/>\n",
       "     <use xlink:href=\"#m7f426ef680\" x=\"184.791493\" y=\"222.011646\" style=\"fill: #1f77b4; stroke: #1f77b4\"/>\n",
       "     <use xlink:href=\"#m7f426ef680\" x=\"185.116473\" y=\"194.55835\" style=\"fill: #1f77b4; stroke: #1f77b4\"/>\n",
       "     <use xlink:href=\"#m7f426ef680\" x=\"185.441452\" y=\"194.31497\" style=\"fill: #1f77b4; stroke: #1f77b4\"/>\n",
       "     <use xlink:href=\"#m7f426ef680\" x=\"185.766432\" y=\"231.357449\" style=\"fill: #1f77b4; stroke: #1f77b4\"/>\n",
       "     <use xlink:href=\"#m7f426ef680\" x=\"186.091411\" y=\"193.82821\" style=\"fill: #1f77b4; stroke: #1f77b4\"/>\n",
       "     <use xlink:href=\"#m7f426ef680\" x=\"186.416391\" y=\"198.355083\" style=\"fill: #1f77b4; stroke: #1f77b4\"/>\n",
       "     <use xlink:href=\"#m7f426ef680\" x=\"186.74137\" y=\"221.135477\" style=\"fill: #1f77b4; stroke: #1f77b4\"/>\n",
       "     <use xlink:href=\"#m7f426ef680\" x=\"187.06635\" y=\"200.886238\" style=\"fill: #1f77b4; stroke: #1f77b4\"/>\n",
       "     <use xlink:href=\"#m7f426ef680\" x=\"187.391329\" y=\"195.726576\" style=\"fill: #1f77b4; stroke: #1f77b4\"/>\n",
       "     <use xlink:href=\"#m7f426ef680\" x=\"187.716309\" y=\"223.763984\" style=\"fill: #1f77b4; stroke: #1f77b4\"/>\n",
       "     <use xlink:href=\"#m7f426ef680\" x=\"188.041288\" y=\"210.913505\" style=\"fill: #1f77b4; stroke: #1f77b4\"/>\n",
       "     <use xlink:href=\"#m7f426ef680\" x=\"188.366268\" y=\"192.124548\" style=\"fill: #1f77b4; stroke: #1f77b4\"/>\n",
       "     <use xlink:href=\"#m7f426ef680\" x=\"188.691247\" y=\"224.93221\" style=\"fill: #1f77b4; stroke: #1f77b4\"/>\n",
       "     <use xlink:href=\"#m7f426ef680\" x=\"189.016227\" y=\"193.049393\" style=\"fill: #1f77b4; stroke: #1f77b4\"/>\n",
       "     <use xlink:href=\"#m7f426ef680\" x=\"189.341206\" y=\"191.394407\" style=\"fill: #1f77b4; stroke: #1f77b4\"/>\n",
       "     <use xlink:href=\"#m7f426ef680\" x=\"189.666186\" y=\"219.675195\" style=\"fill: #1f77b4; stroke: #1f77b4\"/>\n",
       "     <use xlink:href=\"#m7f426ef680\" x=\"189.991166\" y=\"190.907646\" style=\"fill: #1f77b4; stroke: #1f77b4\"/>\n",
       "     <use xlink:href=\"#m7f426ef680\" x=\"190.316145\" y=\"203.027984\" style=\"fill: #1f77b4; stroke: #1f77b4\"/>\n",
       "     <use xlink:href=\"#m7f426ef680\" x=\"190.641125\" y=\"224.737505\" style=\"fill: #1f77b4; stroke: #1f77b4\"/>\n",
       "     <use xlink:href=\"#m7f426ef680\" x=\"190.966104\" y=\"190.177505\" style=\"fill: #1f77b4; stroke: #1f77b4\"/>\n",
       "     <use xlink:href=\"#m7f426ef680\" x=\"191.291084\" y=\"192.806012\" style=\"fill: #1f77b4; stroke: #1f77b4\"/>\n",
       "     <use xlink:href=\"#m7f426ef680\" x=\"191.616063\" y=\"218.604322\" style=\"fill: #1f77b4; stroke: #1f77b4\"/>\n",
       "     <use xlink:href=\"#m7f426ef680\" x=\"191.941043\" y=\"189.447364\" style=\"fill: #1f77b4; stroke: #1f77b4\"/>\n",
       "     <use xlink:href=\"#m7f426ef680\" x=\"192.266022\" y=\"189.203984\" style=\"fill: #1f77b4; stroke: #1f77b4\"/>\n",
       "     <use xlink:href=\"#m7f426ef680\" x=\"192.591002\" y=\"229.020998\" style=\"fill: #1f77b4; stroke: #1f77b4\"/>\n",
       "     <use xlink:href=\"#m7f426ef680\" x=\"192.915981\" y=\"195.726576\" style=\"fill: #1f77b4; stroke: #1f77b4\"/>\n",
       "     <use xlink:href=\"#m7f426ef680\" x=\"193.240961\" y=\"192.806012\" style=\"fill: #1f77b4; stroke: #1f77b4\"/>\n",
       "     <use xlink:href=\"#m7f426ef680\" x=\"193.56594\" y=\"221.816942\" style=\"fill: #1f77b4; stroke: #1f77b4\"/>\n",
       "     <use xlink:href=\"#m7f426ef680\" x=\"193.89092\" y=\"187.987083\" style=\"fill: #1f77b4; stroke: #1f77b4\"/>\n",
       "     <use xlink:href=\"#m7f426ef680\" x=\"194.215899\" y=\"196.018632\" style=\"fill: #1f77b4; stroke: #1f77b4\"/>\n",
       "     <use xlink:href=\"#m7f426ef680\" x=\"194.540879\" y=\"217.14404\" style=\"fill: #1f77b4; stroke: #1f77b4\"/>\n",
       "     <use xlink:href=\"#m7f426ef680\" x=\"194.865858\" y=\"200.107421\" style=\"fill: #1f77b4; stroke: #1f77b4\"/>\n",
       "     <use xlink:href=\"#m7f426ef680\" x=\"195.190838\" y=\"187.013562\" style=\"fill: #1f77b4; stroke: #1f77b4\"/>\n",
       "     <use xlink:href=\"#m7f426ef680\" x=\"195.515817\" y=\"216.754632\" style=\"fill: #1f77b4; stroke: #1f77b4\"/>\n",
       "     <use xlink:href=\"#m7f426ef680\" x=\"195.840797\" y=\"186.526801\" style=\"fill: #1f77b4; stroke: #1f77b4\"/>\n",
       "     <use xlink:href=\"#m7f426ef680\" x=\"196.165777\" y=\"186.283421\" style=\"fill: #1f77b4; stroke: #1f77b4\"/>\n",
       "     <use xlink:href=\"#m7f426ef680\" x=\"196.490756\" y=\"216.170519\" style=\"fill: #1f77b4; stroke: #1f77b4\"/>\n",
       "     <use xlink:href=\"#m7f426ef680\" x=\"196.815736\" y=\"187.256942\" style=\"fill: #1f77b4; stroke: #1f77b4\"/>\n",
       "     <use xlink:href=\"#m7f426ef680\" x=\"197.140715\" y=\"206.240604\" style=\"fill: #1f77b4; stroke: #1f77b4\"/>\n",
       "     <use xlink:href=\"#m7f426ef680\" x=\"197.465695\" y=\"219.091083\" style=\"fill: #1f77b4; stroke: #1f77b4\"/>\n",
       "     <use xlink:href=\"#m7f426ef680\" x=\"197.790674\" y=\"196.018632\" style=\"fill: #1f77b4; stroke: #1f77b4\"/>\n",
       "     <use xlink:href=\"#m7f426ef680\" x=\"198.115654\" y=\"184.823139\" style=\"fill: #1f77b4; stroke: #1f77b4\"/>\n",
       "     <use xlink:href=\"#m7f426ef680\" x=\"198.440633\" y=\"215.29435\" style=\"fill: #1f77b4; stroke: #1f77b4\"/>\n",
       "     <use xlink:href=\"#m7f426ef680\" x=\"198.765613\" y=\"189.593393\" style=\"fill: #1f77b4; stroke: #1f77b4\"/>\n",
       "     <use xlink:href=\"#m7f426ef680\" x=\"199.090592\" y=\"189.885449\" style=\"fill: #1f77b4; stroke: #1f77b4\"/>\n",
       "     <use xlink:href=\"#m7f426ef680\" x=\"199.415572\" y=\"223.763984\" style=\"fill: #1f77b4; stroke: #1f77b4\"/>\n",
       "     <use xlink:href=\"#m7f426ef680\" x=\"199.740551\" y=\"186.964886\" style=\"fill: #1f77b4; stroke: #1f77b4\"/>\n",
       "     <use xlink:href=\"#m7f426ef680\" x=\"200.065531\" y=\"183.362857\" style=\"fill: #1f77b4; stroke: #1f77b4\"/>\n",
       "     <use xlink:href=\"#m7f426ef680\" x=\"200.39051\" y=\"214.223477\" style=\"fill: #1f77b4; stroke: #1f77b4\"/>\n",
       "     <use xlink:href=\"#m7f426ef680\" x=\"200.71549\" y=\"187.451646\" style=\"fill: #1f77b4; stroke: #1f77b4\"/>\n",
       "     <use xlink:href=\"#m7f426ef680\" x=\"201.040469\" y=\"182.632717\" style=\"fill: #1f77b4; stroke: #1f77b4\"/>\n",
       "     <use xlink:href=\"#m7f426ef680\" x=\"201.365449\" y=\"223.763984\" style=\"fill: #1f77b4; stroke: #1f77b4\"/>\n",
       "     <use xlink:href=\"#m7f426ef680\" x=\"201.690428\" y=\"196.602745\" style=\"fill: #1f77b4; stroke: #1f77b4\"/>\n",
       "     <use xlink:href=\"#m7f426ef680\" x=\"202.015408\" y=\"181.902576\" style=\"fill: #1f77b4; stroke: #1f77b4\"/>\n",
       "     <use xlink:href=\"#m7f426ef680\" x=\"202.340387\" y=\"213.249956\" style=\"fill: #1f77b4; stroke: #1f77b4\"/>\n",
       "     <use xlink:href=\"#m7f426ef680\" x=\"202.665367\" y=\"184.531083\" style=\"fill: #1f77b4; stroke: #1f77b4\"/>\n",
       "     <use xlink:href=\"#m7f426ef680\" x=\"202.990347\" y=\"181.172435\" style=\"fill: #1f77b4; stroke: #1f77b4\"/>\n",
       "     <use xlink:href=\"#m7f426ef680\" x=\"203.315326\" y=\"212.763195\" style=\"fill: #1f77b4; stroke: #1f77b4\"/>\n",
       "     <use xlink:href=\"#m7f426ef680\" x=\"203.640306\" y=\"180.685674\" style=\"fill: #1f77b4; stroke: #1f77b4\"/>\n",
       "     <use xlink:href=\"#m7f426ef680\" x=\"203.965285\" y=\"194.266294\" style=\"fill: #1f77b4; stroke: #1f77b4\"/>\n",
       "     <use xlink:href=\"#m7f426ef680\" x=\"204.290265\" y=\"212.373787\" style=\"fill: #1f77b4; stroke: #1f77b4\"/>\n",
       "     <use xlink:href=\"#m7f426ef680\" x=\"204.615244\" y=\"185.991364\" style=\"fill: #1f77b4; stroke: #1f77b4\"/>\n",
       "     <use xlink:href=\"#m7f426ef680\" x=\"204.940224\" y=\"193.098069\" style=\"fill: #1f77b4; stroke: #1f77b4\"/>\n",
       "     <use xlink:href=\"#m7f426ef680\" x=\"205.265203\" y=\"211.789674\" style=\"fill: #1f77b4; stroke: #1f77b4\"/>\n",
       "     <use xlink:href=\"#m7f426ef680\" x=\"205.590183\" y=\"186.964886\" style=\"fill: #1f77b4; stroke: #1f77b4\"/>\n",
       "     <use xlink:href=\"#m7f426ef680\" x=\"205.915162\" y=\"178.982012\" style=\"fill: #1f77b4; stroke: #1f77b4\"/>\n",
       "     <use xlink:href=\"#m7f426ef680\" x=\"206.240142\" y=\"220.843421\" style=\"fill: #1f77b4; stroke: #1f77b4\"/>\n",
       "     <use xlink:href=\"#m7f426ef680\" x=\"206.565121\" y=\"178.495252\" style=\"fill: #1f77b4; stroke: #1f77b4\"/>\n",
       "     <use xlink:href=\"#m7f426ef680\" x=\"206.890101\" y=\"182.291984\" style=\"fill: #1f77b4; stroke: #1f77b4\"/>\n",
       "     <use xlink:href=\"#m7f426ef680\" x=\"207.21508\" y=\"210.913505\" style=\"fill: #1f77b4; stroke: #1f77b4\"/>\n",
       "     <use xlink:href=\"#m7f426ef680\" x=\"207.54006\" y=\"177.765111\" style=\"fill: #1f77b4; stroke: #1f77b4\"/>\n",
       "     <use xlink:href=\"#m7f426ef680\" x=\"207.865039\" y=\"181.415815\" style=\"fill: #1f77b4; stroke: #1f77b4\"/>\n",
       "     <use xlink:href=\"#m7f426ef680\" x=\"208.190019\" y=\"214.223477\" style=\"fill: #1f77b4; stroke: #1f77b4\"/>\n",
       "     <use xlink:href=\"#m7f426ef680\" x=\"208.514998\" y=\"200.399477\" style=\"fill: #1f77b4; stroke: #1f77b4\"/>\n",
       "     <use xlink:href=\"#m7f426ef680\" x=\"208.839978\" y=\"176.79159\" style=\"fill: #1f77b4; stroke: #1f77b4\"/>\n",
       "     <use xlink:href=\"#m7f426ef680\" x=\"209.164958\" y=\"209.842632\" style=\"fill: #1f77b4; stroke: #1f77b4\"/>\n",
       "     <use xlink:href=\"#m7f426ef680\" x=\"209.489937\" y=\"176.304829\" style=\"fill: #1f77b4; stroke: #1f77b4\"/>\n",
       "     <use xlink:href=\"#m7f426ef680\" x=\"209.814917\" y=\"184.044322\" style=\"fill: #1f77b4; stroke: #1f77b4\"/>\n",
       "     <use xlink:href=\"#m7f426ef680\" x=\"210.139896\" y=\"213.249956\" style=\"fill: #1f77b4; stroke: #1f77b4\"/>\n",
       "     <use xlink:href=\"#m7f426ef680\" x=\"210.464876\" y=\"178.982012\" style=\"fill: #1f77b4; stroke: #1f77b4\"/>\n",
       "     <use xlink:href=\"#m7f426ef680\" x=\"210.789855\" y=\"189.885449\" style=\"fill: #1f77b4; stroke: #1f77b4\"/>\n",
       "     <use xlink:href=\"#m7f426ef680\" x=\"211.114835\" y=\"213.249956\" style=\"fill: #1f77b4; stroke: #1f77b4\"/>\n",
       "     <use xlink:href=\"#m7f426ef680\" x=\"211.439814\" y=\"178.203195\" style=\"fill: #1f77b4; stroke: #1f77b4\"/>\n",
       "     <use xlink:href=\"#m7f426ef680\" x=\"211.764794\" y=\"178.203195\" style=\"fill: #1f77b4; stroke: #1f77b4\"/>\n",
       "     <use xlink:href=\"#m7f426ef680\" x=\"212.089773\" y=\"215.002294\" style=\"fill: #1f77b4; stroke: #1f77b4\"/>\n",
       "     <use xlink:href=\"#m7f426ef680\" x=\"212.414753\" y=\"174.114407\" style=\"fill: #1f77b4; stroke: #1f77b4\"/>\n",
       "     <use xlink:href=\"#m7f426ef680\" x=\"212.739732\" y=\"173.871026\" style=\"fill: #1f77b4; stroke: #1f77b4\"/>\n",
       "     <use xlink:href=\"#m7f426ef680\" x=\"213.064712\" y=\"218.50697\" style=\"fill: #1f77b4; stroke: #1f77b4\"/>\n",
       "     <use xlink:href=\"#m7f426ef680\" x=\"213.389691\" y=\"173.384266\" style=\"fill: #1f77b4; stroke: #1f77b4\"/>\n",
       "     <use xlink:href=\"#m7f426ef680\" x=\"213.714671\" y=\"173.140886\" style=\"fill: #1f77b4; stroke: #1f77b4\"/>\n",
       "     <use xlink:href=\"#m7f426ef680\" x=\"214.03965\" y=\"213.249956\" style=\"fill: #1f77b4; stroke: #1f77b4\"/>\n",
       "     <use xlink:href=\"#m7f426ef680\" x=\"214.36463\" y=\"172.654125\" style=\"fill: #1f77b4; stroke: #1f77b4\"/>\n",
       "     <use xlink:href=\"#m7f426ef680\" x=\"214.689609\" y=\"172.410745\" style=\"fill: #1f77b4; stroke: #1f77b4\"/>\n",
       "     <use xlink:href=\"#m7f426ef680\" x=\"215.014589\" y=\"206.922069\" style=\"fill: #1f77b4; stroke: #1f77b4\"/>\n",
       "     <use xlink:href=\"#m7f426ef680\" x=\"215.339568\" y=\"186.964886\" style=\"fill: #1f77b4; stroke: #1f77b4\"/>\n",
       "     <use xlink:href=\"#m7f426ef680\" x=\"215.664548\" y=\"190.664266\" style=\"fill: #1f77b4; stroke: #1f77b4\"/>\n",
       "     <use xlink:href=\"#m7f426ef680\" x=\"215.989528\" y=\"206.53266\" style=\"fill: #1f77b4; stroke: #1f77b4\"/>\n",
       "     <use xlink:href=\"#m7f426ef680\" x=\"216.314507\" y=\"175.477336\" style=\"fill: #1f77b4; stroke: #1f77b4\"/>\n",
       "     <use xlink:href=\"#m7f426ef680\" x=\"216.639487\" y=\"174.114407\" style=\"fill: #1f77b4; stroke: #1f77b4\"/>\n",
       "     <use xlink:href=\"#m7f426ef680\" x=\"216.964466\" y=\"205.948548\" style=\"fill: #1f77b4; stroke: #1f77b4\"/>\n",
       "     <use xlink:href=\"#m7f426ef680\" x=\"217.289446\" y=\"176.450857\" style=\"fill: #1f77b4; stroke: #1f77b4\"/>\n",
       "     <use xlink:href=\"#m7f426ef680\" x=\"217.614425\" y=\"186.380773\" style=\"fill: #1f77b4; stroke: #1f77b4\"/>\n",
       "     <use xlink:href=\"#m7f426ef680\" x=\"217.939405\" y=\"209.161167\" style=\"fill: #1f77b4; stroke: #1f77b4\"/>\n",
       "     <use xlink:href=\"#m7f426ef680\" x=\"218.264384\" y=\"178.203195\" style=\"fill: #1f77b4; stroke: #1f77b4\"/>\n",
       "     <use xlink:href=\"#m7f426ef680\" x=\"218.589364\" y=\"169.490181\" style=\"fill: #1f77b4; stroke: #1f77b4\"/>\n",
       "     <use xlink:href=\"#m7f426ef680\" x=\"218.914343\" y=\"205.364435\" style=\"fill: #1f77b4; stroke: #1f77b4\"/>\n",
       "     <use xlink:href=\"#m7f426ef680\" x=\"219.239323\" y=\"178.982012\" style=\"fill: #1f77b4; stroke: #1f77b4\"/>\n",
       "     <use xlink:href=\"#m7f426ef680\" x=\"219.564302\" y=\"168.76004\" style=\"fill: #1f77b4; stroke: #1f77b4\"/>\n",
       "     <use xlink:href=\"#m7f426ef680\" x=\"219.889282\" y=\"215.002294\" style=\"fill: #1f77b4; stroke: #1f77b4\"/>\n",
       "     <use xlink:href=\"#m7f426ef680\" x=\"220.214261\" y=\"168.27328\" style=\"fill: #1f77b4; stroke: #1f77b4\"/>\n",
       "     <use xlink:href=\"#m7f426ef680\" x=\"220.539241\" y=\"168.0299\" style=\"fill: #1f77b4; stroke: #1f77b4\"/>\n",
       "     <use xlink:href=\"#m7f426ef680\" x=\"220.86422\" y=\"204.001505\" style=\"fill: #1f77b4; stroke: #1f77b4\"/>\n",
       "     <use xlink:href=\"#m7f426ef680\" x=\"221.1892\" y=\"174.309111\" style=\"fill: #1f77b4; stroke: #1f77b4\"/>\n",
       "     <use xlink:href=\"#m7f426ef680\" x=\"221.514179\" y=\"167.299759\" style=\"fill: #1f77b4; stroke: #1f77b4\"/>\n",
       "     <use xlink:href=\"#m7f426ef680\" x=\"221.839159\" y=\"203.612097\" style=\"fill: #1f77b4; stroke: #1f77b4\"/>\n",
       "     <use xlink:href=\"#m7f426ef680\" x=\"222.164139\" y=\"182.58404\" style=\"fill: #1f77b4; stroke: #1f77b4\"/>\n",
       "     <use xlink:href=\"#m7f426ef680\" x=\"222.489118\" y=\"175.282632\" style=\"fill: #1f77b4; stroke: #1f77b4\"/>\n",
       "     <use xlink:href=\"#m7f426ef680\" x=\"222.814098\" y=\"210.134688\" style=\"fill: #1f77b4; stroke: #1f77b4\"/>\n",
       "     <use xlink:href=\"#m7f426ef680\" x=\"223.139077\" y=\"171.388548\" style=\"fill: #1f77b4; stroke: #1f77b4\"/>\n",
       "     <use xlink:href=\"#m7f426ef680\" x=\"223.464057\" y=\"172.070012\" style=\"fill: #1f77b4; stroke: #1f77b4\"/>\n",
       "     <use xlink:href=\"#m7f426ef680\" x=\"223.789036\" y=\"206.240604\" style=\"fill: #1f77b4; stroke: #1f77b4\"/>\n",
       "     <use xlink:href=\"#m7f426ef680\" x=\"224.114016\" y=\"165.352717\" style=\"fill: #1f77b4; stroke: #1f77b4\"/>\n",
       "     <use xlink:href=\"#m7f426ef680\" x=\"224.438995\" y=\"181.123759\" style=\"fill: #1f77b4; stroke: #1f77b4\"/>\n",
       "     <use xlink:href=\"#m7f426ef680\" x=\"224.763975\" y=\"202.151815\" style=\"fill: #1f77b4; stroke: #1f77b4\"/>\n",
       "     <use xlink:href=\"#m7f426ef680\" x=\"225.088954\" y=\"164.622576\" style=\"fill: #1f77b4; stroke: #1f77b4\"/>\n",
       "     <use xlink:href=\"#m7f426ef680\" x=\"225.413934\" y=\"167.981224\" style=\"fill: #1f77b4; stroke: #1f77b4\"/>\n",
       "     <use xlink:href=\"#m7f426ef680\" x=\"225.738913\" y=\"205.461787\" style=\"fill: #1f77b4; stroke: #1f77b4\"/>\n",
       "     <use xlink:href=\"#m7f426ef680\" x=\"226.063893\" y=\"163.892435\" style=\"fill: #1f77b4; stroke: #1f77b4\"/>\n",
       "     <use xlink:href=\"#m7f426ef680\" x=\"226.388872\" y=\"174.114407\" style=\"fill: #1f77b4; stroke: #1f77b4\"/>\n",
       "     <use xlink:href=\"#m7f426ef680\" x=\"226.713852\" y=\"220.259308\" style=\"fill: #1f77b4; stroke: #1f77b4\"/>\n",
       "     <use xlink:href=\"#m7f426ef680\" x=\"227.038831\" y=\"163.162294\" style=\"fill: #1f77b4; stroke: #1f77b4\"/>\n",
       "     <use xlink:href=\"#m7f426ef680\" x=\"227.363811\" y=\"166.228886\" style=\"fill: #1f77b4; stroke: #1f77b4\"/>\n",
       "     <use xlink:href=\"#m7f426ef680\" x=\"227.68879\" y=\"200.98359\" style=\"fill: #1f77b4; stroke: #1f77b4\"/>\n",
       "     <use xlink:href=\"#m7f426ef680\" x=\"228.01377\" y=\"166.812998\" style=\"fill: #1f77b4; stroke: #1f77b4\"/>\n",
       "     <use xlink:href=\"#m7f426ef680\" x=\"228.338749\" y=\"162.188773\" style=\"fill: #1f77b4; stroke: #1f77b4\"/>\n",
       "     <use xlink:href=\"#m7f426ef680\" x=\"228.663729\" y=\"200.107421\" style=\"fill: #1f77b4; stroke: #1f77b4\"/>\n",
       "     <use xlink:href=\"#m7f426ef680\" x=\"228.988709\" y=\"178.203195\" style=\"fill: #1f77b4; stroke: #1f77b4\"/>\n",
       "     <use xlink:href=\"#m7f426ef680\" x=\"229.313688\" y=\"161.458632\" style=\"fill: #1f77b4; stroke: #1f77b4\"/>\n",
       "     <use xlink:href=\"#m7f426ef680\" x=\"229.638668\" y=\"204.488266\" style=\"fill: #1f77b4; stroke: #1f77b4\"/>\n",
       "     <use xlink:href=\"#m7f426ef680\" x=\"229.963647\" y=\"171.680604\" style=\"fill: #1f77b4; stroke: #1f77b4\"/>\n",
       "     <use xlink:href=\"#m7f426ef680\" x=\"230.288627\" y=\"160.728491\" style=\"fill: #1f77b4; stroke: #1f77b4\"/>\n",
       "     <use xlink:href=\"#m7f426ef680\" x=\"230.613606\" y=\"202.443871\" style=\"fill: #1f77b4; stroke: #1f77b4\"/>\n",
       "     <use xlink:href=\"#m7f426ef680\" x=\"230.938586\" y=\"169.441505\" style=\"fill: #1f77b4; stroke: #1f77b4\"/>\n",
       "     <use xlink:href=\"#m7f426ef680\" x=\"231.263565\" y=\"176.742914\" style=\"fill: #1f77b4; stroke: #1f77b4\"/>\n",
       "     <use xlink:href=\"#m7f426ef680\" x=\"231.588545\" y=\"198.647139\" style=\"fill: #1f77b4; stroke: #1f77b4\"/>\n",
       "     <use xlink:href=\"#m7f426ef680\" x=\"231.913524\" y=\"159.51159\" style=\"fill: #1f77b4; stroke: #1f77b4\"/>\n",
       "     <use xlink:href=\"#m7f426ef680\" x=\"232.238504\" y=\"166.520942\" style=\"fill: #1f77b4; stroke: #1f77b4\"/>\n",
       "     <use xlink:href=\"#m7f426ef680\" x=\"232.563483\" y=\"198.160379\" style=\"fill: #1f77b4; stroke: #1f77b4\"/>\n",
       "     <use xlink:href=\"#m7f426ef680\" x=\"232.888463\" y=\"158.781449\" style=\"fill: #1f77b4; stroke: #1f77b4\"/>\n",
       "     <use xlink:href=\"#m7f426ef680\" x=\"233.213442\" y=\"162.140097\" style=\"fill: #1f77b4; stroke: #1f77b4\"/>\n",
       "     <use xlink:href=\"#m7f426ef680\" x=\"233.538422\" y=\"215.002294\" style=\"fill: #1f77b4; stroke: #1f77b4\"/>\n",
       "     <use xlink:href=\"#m7f426ef680\" x=\"233.863401\" y=\"158.051308\" style=\"fill: #1f77b4; stroke: #1f77b4\"/>\n",
       "     <use xlink:href=\"#m7f426ef680\" x=\"234.188381\" y=\"157.807928\" style=\"fill: #1f77b4; stroke: #1f77b4\"/>\n",
       "     <use xlink:href=\"#m7f426ef680\" x=\"234.51336\" y=\"197.186857\" style=\"fill: #1f77b4; stroke: #1f77b4\"/>\n",
       "     <use xlink:href=\"#m7f426ef680\" x=\"234.83834\" y=\"160.679815\" style=\"fill: #1f77b4; stroke: #1f77b4\"/>\n",
       "     <use xlink:href=\"#m7f426ef680\" x=\"235.16332\" y=\"170.025618\" style=\"fill: #1f77b4; stroke: #1f77b4\"/>\n",
       "     <use xlink:href=\"#m7f426ef680\" x=\"235.488299\" y=\"196.700097\" style=\"fill: #1f77b4; stroke: #1f77b4\"/>\n",
       "     <use xlink:href=\"#m7f426ef680\" x=\"235.813279\" y=\"181.707871\" style=\"fill: #1f77b4; stroke: #1f77b4\"/>\n",
       "     <use xlink:href=\"#m7f426ef680\" x=\"236.138258\" y=\"156.347646\" style=\"fill: #1f77b4; stroke: #1f77b4\"/>\n",
       "     <use xlink:href=\"#m7f426ef680\" x=\"236.463238\" y=\"197.478914\" style=\"fill: #1f77b4; stroke: #1f77b4\"/>\n",
       "     <use xlink:href=\"#m7f426ef680\" x=\"236.788217\" y=\"155.860886\" style=\"fill: #1f77b4; stroke: #1f77b4\"/>\n",
       "     <use xlink:href=\"#m7f426ef680\" x=\"237.113197\" y=\"169.246801\" style=\"fill: #1f77b4; stroke: #1f77b4\"/>\n",
       "     <use xlink:href=\"#m7f426ef680\" x=\"237.438176\" y=\"195.726576\" style=\"fill: #1f77b4; stroke: #1f77b4\"/>\n",
       "     <use xlink:href=\"#m7f426ef680\" x=\"237.763156\" y=\"162.626857\" style=\"fill: #1f77b4; stroke: #1f77b4\"/>\n",
       "     <use xlink:href=\"#m7f426ef680\" x=\"238.088135\" y=\"179.955533\" style=\"fill: #1f77b4; stroke: #1f77b4\"/>\n",
       "     <use xlink:href=\"#m7f426ef680\" x=\"238.413115\" y=\"195.239815\" style=\"fill: #1f77b4; stroke: #1f77b4\"/>\n",
       "     <use xlink:href=\"#m7f426ef680\" x=\"238.738094\" y=\"154.400604\" style=\"fill: #1f77b4; stroke: #1f77b4\"/>\n",
       "     <use xlink:href=\"#m7f426ef680\" x=\"239.063074\" y=\"154.157224\" style=\"fill: #1f77b4; stroke: #1f77b4\"/>\n",
       "     <use xlink:href=\"#m7f426ef680\" x=\"239.388053\" y=\"202.735928\" style=\"fill: #1f77b4; stroke: #1f77b4\"/>\n",
       "     <use xlink:href=\"#m7f426ef680\" x=\"239.713033\" y=\"155.374125\" style=\"fill: #1f77b4; stroke: #1f77b4\"/>\n",
       "     <use xlink:href=\"#m7f426ef680\" x=\"240.038012\" y=\"153.427083\" style=\"fill: #1f77b4; stroke: #1f77b4\"/>\n",
       "     <use xlink:href=\"#m7f426ef680\" x=\"240.362992\" y=\"206.240604\" style=\"fill: #1f77b4; stroke: #1f77b4\"/>\n",
       "     <use xlink:href=\"#m7f426ef680\" x=\"240.687971\" y=\"164.379195\" style=\"fill: #1f77b4; stroke: #1f77b4\"/>\n",
       "     <use xlink:href=\"#m7f426ef680\" x=\"241.012951\" y=\"152.696942\" style=\"fill: #1f77b4; stroke: #1f77b4\"/>\n",
       "     <use xlink:href=\"#m7f426ef680\" x=\"241.33793\" y=\"193.779533\" style=\"fill: #1f77b4; stroke: #1f77b4\"/>\n",
       "     <use xlink:href=\"#m7f426ef680\" x=\"241.66291\" y=\"152.210181\" style=\"fill: #1f77b4; stroke: #1f77b4\"/>\n",
       "     <use xlink:href=\"#m7f426ef680\" x=\"241.98789\" y=\"158.927477\" style=\"fill: #1f77b4; stroke: #1f77b4\"/>\n",
       "     <use xlink:href=\"#m7f426ef680\" x=\"242.312869\" y=\"193.390125\" style=\"fill: #1f77b4; stroke: #1f77b4\"/>\n",
       "     <use xlink:href=\"#m7f426ef680\" x=\"242.637849\" y=\"169.441505\" style=\"fill: #1f77b4; stroke: #1f77b4\"/>\n",
       "     <use xlink:href=\"#m7f426ef680\" x=\"242.962828\" y=\"154.838688\" style=\"fill: #1f77b4; stroke: #1f77b4\"/>\n",
       "     <use xlink:href=\"#m7f426ef680\" x=\"243.287808\" y=\"198.452435\" style=\"fill: #1f77b4; stroke: #1f77b4\"/>\n",
       "     <use xlink:href=\"#m7f426ef680\" x=\"243.612787\" y=\"160.679815\" style=\"fill: #1f77b4; stroke: #1f77b4\"/>\n",
       "     <use xlink:href=\"#m7f426ef680\" x=\"243.937767\" y=\"150.506519\" style=\"fill: #1f77b4; stroke: #1f77b4\"/>\n",
       "     <use xlink:href=\"#m7f426ef680\" x=\"244.262746\" y=\"200.399477\" style=\"fill: #1f77b4; stroke: #1f77b4\"/>\n",
       "     <use xlink:href=\"#m7f426ef680\" x=\"244.587726\" y=\"155.033393\" style=\"fill: #1f77b4; stroke: #1f77b4\"/>\n",
       "     <use xlink:href=\"#m7f426ef680\" x=\"244.912705\" y=\"167.981224\" style=\"fill: #1f77b4; stroke: #1f77b4\"/>\n",
       "     <use xlink:href=\"#m7f426ef680\" x=\"245.237685\" y=\"192.2219\" style=\"fill: #1f77b4; stroke: #1f77b4\"/>\n",
       "     <use xlink:href=\"#m7f426ef680\" x=\"245.562664\" y=\"155.325449\" style=\"fill: #1f77b4; stroke: #1f77b4\"/>\n",
       "     <use xlink:href=\"#m7f426ef680\" x=\"245.887644\" y=\"149.046238\" style=\"fill: #1f77b4; stroke: #1f77b4\"/>\n",
       "     <use xlink:href=\"#m7f426ef680\" x=\"246.212623\" y=\"191.345731\" style=\"fill: #1f77b4; stroke: #1f77b4\"/>\n",
       "     <use xlink:href=\"#m7f426ef680\" x=\"246.537603\" y=\"152.112829\" style=\"fill: #1f77b4; stroke: #1f77b4\"/>\n",
       "     <use xlink:href=\"#m7f426ef680\" x=\"246.862582\" y=\"148.316097\" style=\"fill: #1f77b4; stroke: #1f77b4\"/>\n",
       "     <use xlink:href=\"#m7f426ef680\" x=\"247.187562\" y=\"203.32004\" style=\"fill: #1f77b4; stroke: #1f77b4\"/>\n",
       "     <use xlink:href=\"#m7f426ef680\" x=\"247.512541\" y=\"147.829336\" style=\"fill: #1f77b4; stroke: #1f77b4\"/>\n",
       "     <use xlink:href=\"#m7f426ef680\" x=\"247.837521\" y=\"171.193843\" style=\"fill: #1f77b4; stroke: #1f77b4\"/>\n",
       "     <use xlink:href=\"#m7f426ef680\" x=\"248.162501\" y=\"197.478914\" style=\"fill: #1f77b4; stroke: #1f77b4\"/>\n",
       "     <use xlink:href=\"#m7f426ef680\" x=\"248.48748\" y=\"150.944604\" style=\"fill: #1f77b4; stroke: #1f77b4\"/>\n",
       "     <use xlink:href=\"#m7f426ef680\" x=\"248.81246\" y=\"154.838688\" style=\"fill: #1f77b4; stroke: #1f77b4\"/>\n",
       "     <use xlink:href=\"#m7f426ef680\" x=\"249.137439\" y=\"189.885449\" style=\"fill: #1f77b4; stroke: #1f77b4\"/>\n",
       "     <use xlink:href=\"#m7f426ef680\" x=\"249.462419\" y=\"165.936829\" style=\"fill: #1f77b4; stroke: #1f77b4\"/>\n",
       "     <use xlink:href=\"#m7f426ef680\" x=\"249.787398\" y=\"146.125674\" style=\"fill: #1f77b4; stroke: #1f77b4\"/>\n",
       "     <use xlink:href=\"#m7f426ef680\" x=\"250.112378\" y=\"189.398688\" style=\"fill: #1f77b4; stroke: #1f77b4\"/>\n",
       "     <use xlink:href=\"#m7f426ef680\" x=\"250.437357\" y=\"149.776379\" style=\"fill: #1f77b4; stroke: #1f77b4\"/>\n",
       "     <use xlink:href=\"#m7f426ef680\" x=\"250.762337\" y=\"145.395533\" style=\"fill: #1f77b4; stroke: #1f77b4\"/>\n",
       "     <use xlink:href=\"#m7f426ef680\" x=\"251.087316\" y=\"189.00928\" style=\"fill: #1f77b4; stroke: #1f77b4\"/>\n",
       "     <use xlink:href=\"#m7f426ef680\" x=\"251.412296\" y=\"157.077787\" style=\"fill: #1f77b4; stroke: #1f77b4\"/>\n",
       "     <use xlink:href=\"#m7f426ef680\" x=\"251.737275\" y=\"163.600379\" style=\"fill: #1f77b4; stroke: #1f77b4\"/>\n",
       "     <use xlink:href=\"#m7f426ef680\" x=\"252.062255\" y=\"195.726576\" style=\"fill: #1f77b4; stroke: #1f77b4\"/>\n",
       "     <use xlink:href=\"#m7f426ef680\" x=\"252.387234\" y=\"144.178632\" style=\"fill: #1f77b4; stroke: #1f77b4\"/>\n",
       "     <use xlink:href=\"#m7f426ef680\" x=\"252.712214\" y=\"143.935252\" style=\"fill: #1f77b4; stroke: #1f77b4\"/>\n",
       "     <use xlink:href=\"#m7f426ef680\" x=\"253.037193\" y=\"192.806012\" style=\"fill: #1f77b4; stroke: #1f77b4\"/>\n",
       "     <use xlink:href=\"#m7f426ef680\" x=\"253.362173\" y=\"147.53728\" style=\"fill: #1f77b4; stroke: #1f77b4\"/>\n",
       "     <use xlink:href=\"#m7f426ef680\" x=\"253.687152\" y=\"143.205111\" style=\"fill: #1f77b4; stroke: #1f77b4\"/>\n",
       "     <use xlink:href=\"#m7f426ef680\" x=\"254.012132\" y=\"202.735928\" style=\"fill: #1f77b4; stroke: #1f77b4\"/>\n",
       "     <use xlink:href=\"#m7f426ef680\" x=\"254.337111\" y=\"157.175139\" style=\"fill: #1f77b4; stroke: #1f77b4\"/>\n",
       "     <use xlink:href=\"#m7f426ef680\" x=\"254.662091\" y=\"142.47497\" style=\"fill: #1f77b4; stroke: #1f77b4\"/>\n",
       "     <use xlink:href=\"#m7f426ef680\" x=\"254.987071\" y=\"195.531871\" style=\"fill: #1f77b4; stroke: #1f77b4\"/>\n",
       "     <use xlink:href=\"#m7f426ef680\" x=\"255.31205\" y=\"141.98821\" style=\"fill: #1f77b4; stroke: #1f77b4\"/>\n",
       "     <use xlink:href=\"#m7f426ef680\" x=\"255.63703\" y=\"141.744829\" style=\"fill: #1f77b4; stroke: #1f77b4\"/>\n",
       "     <use xlink:href=\"#m7f426ef680\" x=\"255.962009\" y=\"186.478125\" style=\"fill: #1f77b4; stroke: #1f77b4\"/>\n",
       "     <use xlink:href=\"#m7f426ef680\" x=\"256.286989\" y=\"171.193843\" style=\"fill: #1f77b4; stroke: #1f77b4\"/>\n",
       "     <use xlink:href=\"#m7f426ef680\" x=\"256.611968\" y=\"144.616717\" style=\"fill: #1f77b4; stroke: #1f77b4\"/>\n",
       "     <use xlink:href=\"#m7f426ef680\" x=\"256.936948\" y=\"186.088717\" style=\"fill: #1f77b4; stroke: #1f77b4\"/>\n",
       "     <use xlink:href=\"#m7f426ef680\" x=\"257.261927\" y=\"140.527928\" style=\"fill: #1f77b4; stroke: #1f77b4\"/>\n",
       "     <use xlink:href=\"#m7f426ef680\" x=\"257.586907\" y=\"140.284548\" style=\"fill: #1f77b4; stroke: #1f77b4\"/>\n",
       "     <use xlink:href=\"#m7f426ef680\" x=\"257.911886\" y=\"185.504604\" style=\"fill: #1f77b4; stroke: #1f77b4\"/>\n",
       "     <use xlink:href=\"#m7f426ef680\" x=\"258.236866\" y=\"144.908773\" style=\"fill: #1f77b4; stroke: #1f77b4\"/>\n",
       "     <use xlink:href=\"#m7f426ef680\" x=\"258.561845\" y=\"171.193843\" style=\"fill: #1f77b4; stroke: #1f77b4\"/>\n",
       "     <use xlink:href=\"#m7f426ef680\" x=\"258.886825\" y=\"185.017843\" style=\"fill: #1f77b4; stroke: #1f77b4\"/>\n",
       "     <use xlink:href=\"#m7f426ef680\" x=\"259.211804\" y=\"139.067646\" style=\"fill: #1f77b4; stroke: #1f77b4\"/>\n",
       "     <use xlink:href=\"#m7f426ef680\" x=\"259.536784\" y=\"138.824266\" style=\"fill: #1f77b4; stroke: #1f77b4\"/>\n",
       "     <use xlink:href=\"#m7f426ef680\" x=\"259.861763\" y=\"192.2219\" style=\"fill: #1f77b4; stroke: #1f77b4\"/>\n",
       "     <use xlink:href=\"#m7f426ef680\" x=\"260.186743\" y=\"142.182914\" style=\"fill: #1f77b4; stroke: #1f77b4\"/>\n",
       "     <use xlink:href=\"#m7f426ef680\" x=\"260.511722\" y=\"160.679815\" style=\"fill: #1f77b4; stroke: #1f77b4\"/>\n",
       "     <use xlink:href=\"#m7f426ef680\" x=\"260.836702\" y=\"197.478914\" style=\"fill: #1f77b4; stroke: #1f77b4\"/>\n",
       "     <use xlink:href=\"#m7f426ef680\" x=\"261.161682\" y=\"137.607364\" style=\"fill: #1f77b4; stroke: #1f77b4\"/>\n",
       "     <use xlink:href=\"#m7f426ef680\" x=\"261.486661\" y=\"137.363984\" style=\"fill: #1f77b4; stroke: #1f77b4\"/>\n",
       "     <use xlink:href=\"#m7f426ef680\" x=\"261.811641\" y=\"183.557562\" style=\"fill: #1f77b4; stroke: #1f77b4\"/>\n",
       "     <use xlink:href=\"#m7f426ef680\" x=\"262.13662\" y=\"149.776379\" style=\"fill: #1f77b4; stroke: #1f77b4\"/>\n",
       "     <use xlink:href=\"#m7f426ef680\" x=\"262.4616\" y=\"136.633843\" style=\"fill: #1f77b4; stroke: #1f77b4\"/>\n",
       "     <use xlink:href=\"#m7f426ef680\" x=\"262.786579\" y=\"184.336379\" style=\"fill: #1f77b4; stroke: #1f77b4\"/>\n",
       "     <use xlink:href=\"#m7f426ef680\" x=\"263.111559\" y=\"156.29897\" style=\"fill: #1f77b4; stroke: #1f77b4\"/>\n",
       "     <use xlink:href=\"#m7f426ef680\" x=\"263.436538\" y=\"141.404097\" style=\"fill: #1f77b4; stroke: #1f77b4\"/>\n",
       "     <use xlink:href=\"#m7f426ef680\" x=\"263.761518\" y=\"186.770181\" style=\"fill: #1f77b4; stroke: #1f77b4\"/>\n",
       "     <use xlink:href=\"#m7f426ef680\" x=\"264.086497\" y=\"135.416942\" style=\"fill: #1f77b4; stroke: #1f77b4\"/>\n",
       "     <use xlink:href=\"#m7f426ef680\" x=\"264.411477\" y=\"135.173562\" style=\"fill: #1f77b4; stroke: #1f77b4\"/>\n",
       "     <use xlink:href=\"#m7f426ef680\" x=\"264.736456\" y=\"189.885449\" style=\"fill: #1f77b4; stroke: #1f77b4\"/>\n",
       "     <use xlink:href=\"#m7f426ef680\" x=\"265.061436\" y=\"134.686801\" style=\"fill: #1f77b4; stroke: #1f77b4\"/>\n",
       "     <use xlink:href=\"#m7f426ef680\" x=\"265.386415\" y=\"161.84804\" style=\"fill: #1f77b4; stroke: #1f77b4\"/>\n",
       "     <use xlink:href=\"#m7f426ef680\" x=\"265.711395\" y=\"191.637787\" style=\"fill: #1f77b4; stroke: #1f77b4\"/>\n",
       "     <use xlink:href=\"#m7f426ef680\" x=\"266.036374\" y=\"133.95666\" style=\"fill: #1f77b4; stroke: #1f77b4\"/>\n",
       "     <use xlink:href=\"#m7f426ef680\" x=\"266.361354\" y=\"133.71328\" style=\"fill: #1f77b4; stroke: #1f77b4\"/>\n",
       "     <use xlink:href=\"#m7f426ef680\" x=\"266.686333\" y=\"186.964886\" style=\"fill: #1f77b4; stroke: #1f77b4\"/>\n",
       "     <use xlink:href=\"#m7f426ef680\" x=\"267.011313\" y=\"133.226519\" style=\"fill: #1f77b4; stroke: #1f77b4\"/>\n",
       "     <use xlink:href=\"#m7f426ef680\" x=\"267.336292\" y=\"137.315308\" style=\"fill: #1f77b4; stroke: #1f77b4\"/>\n",
       "     <use xlink:href=\"#m7f426ef680\" x=\"267.661272\" y=\"194.55835\" style=\"fill: #1f77b4; stroke: #1f77b4\"/>\n",
       "     <use xlink:href=\"#m7f426ef680\" x=\"267.986252\" y=\"139.26235\" style=\"fill: #1f77b4; stroke: #1f77b4\"/>\n",
       "     <use xlink:href=\"#m7f426ef680\" x=\"268.311231\" y=\"137.607364\" style=\"fill: #1f77b4; stroke: #1f77b4\"/>\n",
       "     <use xlink:href=\"#m7f426ef680\" x=\"268.636211\" y=\"180.24759\" style=\"fill: #1f77b4; stroke: #1f77b4\"/>\n",
       "     <use xlink:href=\"#m7f426ef680\" x=\"268.96119\" y=\"143.156435\" style=\"fill: #1f77b4; stroke: #1f77b4\"/>\n",
       "     <use xlink:href=\"#m7f426ef680\" x=\"269.28617\" y=\"144.908773\" style=\"fill: #1f77b4; stroke: #1f77b4\"/>\n",
       "     <use xlink:href=\"#m7f426ef680\" x=\"269.611149\" y=\"179.663477\" style=\"fill: #1f77b4; stroke: #1f77b4\"/>\n",
       "     <use xlink:href=\"#m7f426ef680\" x=\"269.936129\" y=\"151.918125\" style=\"fill: #1f77b4; stroke: #1f77b4\"/>\n",
       "     <use xlink:href=\"#m7f426ef680\" x=\"270.261108\" y=\"130.792717\" style=\"fill: #1f77b4; stroke: #1f77b4\"/>\n",
       "     <use xlink:href=\"#m7f426ef680\" x=\"270.586088\" y=\"179.176717\" style=\"fill: #1f77b4; stroke: #1f77b4\"/>\n",
       "     <use xlink:href=\"#m7f426ef680\" x=\"270.911067\" y=\"139.26235\" style=\"fill: #1f77b4; stroke: #1f77b4\"/>\n",
       "     <use xlink:href=\"#m7f426ef680\" x=\"271.236047\" y=\"130.062576\" style=\"fill: #1f77b4; stroke: #1f77b4\"/>\n",
       "     <use xlink:href=\"#m7f426ef680\" x=\"271.561026\" y=\"179.079364\" style=\"fill: #1f77b4; stroke: #1f77b4\"/>\n",
       "     <use xlink:href=\"#m7f426ef680\" x=\"271.886006\" y=\"134.394745\" style=\"fill: #1f77b4; stroke: #1f77b4\"/>\n",
       "     <use xlink:href=\"#m7f426ef680\" x=\"272.210985\" y=\"150.457843\" style=\"fill: #1f77b4; stroke: #1f77b4\"/>\n",
       "     <use xlink:href=\"#m7f426ef680\" x=\"272.535965\" y=\"178.203195\" style=\"fill: #1f77b4; stroke: #1f77b4\"/>\n",
       "     <use xlink:href=\"#m7f426ef680\" x=\"272.860944\" y=\"153.670463\" style=\"fill: #1f77b4; stroke: #1f77b4\"/>\n",
       "     <use xlink:href=\"#m7f426ef680\" x=\"273.185924\" y=\"140.235871\" style=\"fill: #1f77b4; stroke: #1f77b4\"/>\n",
       "     <use xlink:href=\"#m7f426ef680\" x=\"273.510903\" y=\"177.716435\" style=\"fill: #1f77b4; stroke: #1f77b4\"/>\n",
       "     <use xlink:href=\"#m7f426ef680\" x=\"273.835883\" y=\"128.115533\" style=\"fill: #1f77b4; stroke: #1f77b4\"/>\n",
       "     <use xlink:href=\"#m7f426ef680\" x=\"274.160863\" y=\"127.872153\" style=\"fill: #1f77b4; stroke: #1f77b4\"/>\n",
       "     <use xlink:href=\"#m7f426ef680\" x=\"274.485842\" y=\"192.2219\" style=\"fill: #1f77b4; stroke: #1f77b4\"/>\n",
       "     <use xlink:href=\"#m7f426ef680\" x=\"274.810822\" y=\"127.385393\" style=\"fill: #1f77b4; stroke: #1f77b4\"/>\n",
       "     <use xlink:href=\"#m7f426ef680\" x=\"275.135801\" y=\"127.142012\" style=\"fill: #1f77b4; stroke: #1f77b4\"/>\n",
       "     <use xlink:href=\"#m7f426ef680\" x=\"275.460781\" y=\"182.09728\" style=\"fill: #1f77b4; stroke: #1f77b4\"/>\n",
       "     <use xlink:href=\"#m7f426ef680\" x=\"275.78576\" y=\"126.655252\" style=\"fill: #1f77b4; stroke: #1f77b4\"/>\n",
       "     <use xlink:href=\"#m7f426ef680\" x=\"276.11074\" y=\"130.305956\" style=\"fill: #1f77b4; stroke: #1f77b4\"/>\n",
       "     <use xlink:href=\"#m7f426ef680\" x=\"276.435719\" y=\"190.664266\" style=\"fill: #1f77b4; stroke: #1f77b4\"/>\n",
       "     <use xlink:href=\"#m7f426ef680\" x=\"276.760699\" y=\"147.53728\" style=\"fill: #1f77b4; stroke: #1f77b4\"/>\n",
       "     <use xlink:href=\"#m7f426ef680\" x=\"277.085678\" y=\"130.305956\" style=\"fill: #1f77b4; stroke: #1f77b4\"/>\n",
       "     <use xlink:href=\"#m7f426ef680\" x=\"277.410658\" y=\"185.212548\" style=\"fill: #1f77b4; stroke: #1f77b4\"/>\n",
       "     <use xlink:href=\"#m7f426ef680\" x=\"277.735637\" y=\"125.19497\" style=\"fill: #1f77b4; stroke: #1f77b4\"/>\n",
       "     <use xlink:href=\"#m7f426ef680\" x=\"278.060617\" y=\"124.95159\" style=\"fill: #1f77b4; stroke: #1f77b4\"/>\n",
       "     <use xlink:href=\"#m7f426ef680\" x=\"278.385596\" y=\"179.955533\" style=\"fill: #1f77b4; stroke: #1f77b4\"/>\n",
       "     <use xlink:href=\"#m7f426ef680\" x=\"278.710576\" y=\"126.363195\" style=\"fill: #1f77b4; stroke: #1f77b4\"/>\n",
       "     <use xlink:href=\"#m7f426ef680\" x=\"279.035555\" y=\"155.422801\" style=\"fill: #1f77b4; stroke: #1f77b4\"/>\n",
       "     <use xlink:href=\"#m7f426ef680\" x=\"279.360535\" y=\"174.795871\" style=\"fill: #1f77b4; stroke: #1f77b4\"/>\n",
       "     <use xlink:href=\"#m7f426ef680\" x=\"279.685514\" y=\"123.734688\" style=\"fill: #1f77b4; stroke: #1f77b4\"/>\n",
       "     <use xlink:href=\"#m7f426ef680\" x=\"280.010494\" y=\"137.607364\" style=\"fill: #1f77b4; stroke: #1f77b4\"/>\n",
       "     <use xlink:href=\"#m7f426ef680\" x=\"280.335473\" y=\"174.698519\" style=\"fill: #1f77b4; stroke: #1f77b4\"/>\n",
       "     <use xlink:href=\"#m7f426ef680\" x=\"280.660453\" y=\"123.004548\" style=\"fill: #1f77b4; stroke: #1f77b4\"/>\n",
       "     <use xlink:href=\"#m7f426ef680\" x=\"280.985433\" y=\"122.761167\" style=\"fill: #1f77b4; stroke: #1f77b4\"/>\n",
       "     <use xlink:href=\"#m7f426ef680\" x=\"281.310412\" y=\"190.469562\" style=\"fill: #1f77b4; stroke: #1f77b4\"/>\n",
       "     <use xlink:href=\"#m7f426ef680\" x=\"281.635392\" y=\"134.394745\" style=\"fill: #1f77b4; stroke: #1f77b4\"/>\n",
       "     <use xlink:href=\"#m7f426ef680\" x=\"281.960371\" y=\"131.474181\" style=\"fill: #1f77b4; stroke: #1f77b4\"/>\n",
       "     <use xlink:href=\"#m7f426ef680\" x=\"282.285351\" y=\"178.203195\" style=\"fill: #1f77b4; stroke: #1f77b4\"/>\n",
       "     <use xlink:href=\"#m7f426ef680\" x=\"282.61033\" y=\"121.544266\" style=\"fill: #1f77b4; stroke: #1f77b4\"/>\n",
       "     <use xlink:href=\"#m7f426ef680\" x=\"282.93531\" y=\"128.553618\" style=\"fill: #1f77b4; stroke: #1f77b4\"/>\n",
       "     <use xlink:href=\"#m7f426ef680\" x=\"283.260289\" y=\"172.946181\" style=\"fill: #1f77b4; stroke: #1f77b4\"/>\n",
       "     <use xlink:href=\"#m7f426ef680\" x=\"283.585269\" y=\"156.591026\" style=\"fill: #1f77b4; stroke: #1f77b4\"/>\n",
       "     <use xlink:href=\"#m7f426ef680\" x=\"283.910248\" y=\"125.633055\" style=\"fill: #1f77b4; stroke: #1f77b4\"/>\n",
       "     <use xlink:href=\"#m7f426ef680\" x=\"284.235228\" y=\"172.362069\" style=\"fill: #1f77b4; stroke: #1f77b4\"/>\n",
       "     <use xlink:href=\"#m7f426ef680\" x=\"284.560207\" y=\"120.083984\" style=\"fill: #1f77b4; stroke: #1f77b4\"/>\n",
       "     <use xlink:href=\"#m7f426ef680\" x=\"284.885187\" y=\"123.880717\" style=\"fill: #1f77b4; stroke: #1f77b4\"/>\n",
       "     <use xlink:href=\"#m7f426ef680\" x=\"285.210166\" y=\"178.203195\" style=\"fill: #1f77b4; stroke: #1f77b4\"/>\n",
       "     <use xlink:href=\"#m7f426ef680\" x=\"285.535146\" y=\"119.353843\" style=\"fill: #1f77b4; stroke: #1f77b4\"/>\n",
       "     <use xlink:href=\"#m7f426ef680\" x=\"285.860125\" y=\"153.670463\" style=\"fill: #1f77b4; stroke: #1f77b4\"/>\n",
       "     <use xlink:href=\"#m7f426ef680\" x=\"286.185105\" y=\"171.4859\" style=\"fill: #1f77b4; stroke: #1f77b4\"/>\n",
       "     <use xlink:href=\"#m7f426ef680\" x=\"286.510084\" y=\"118.623702\" style=\"fill: #1f77b4; stroke: #1f77b4\"/>\n",
       "     <use xlink:href=\"#m7f426ef680\" x=\"286.835064\" y=\"118.380322\" style=\"fill: #1f77b4; stroke: #1f77b4\"/>\n",
       "     <use xlink:href=\"#m7f426ef680\" x=\"287.160044\" y=\"180.929055\" style=\"fill: #1f77b4; stroke: #1f77b4\"/>\n",
       "     <use xlink:href=\"#m7f426ef680\" x=\"287.485023\" y=\"127.580097\" style=\"fill: #1f77b4; stroke: #1f77b4\"/>\n",
       "     <use xlink:href=\"#m7f426ef680\" x=\"287.810003\" y=\"117.650181\" style=\"fill: #1f77b4; stroke: #1f77b4\"/>\n",
       "     <use xlink:href=\"#m7f426ef680\" x=\"288.134982\" y=\"185.79666\" style=\"fill: #1f77b4; stroke: #1f77b4\"/>\n",
       "     <use xlink:href=\"#m7f426ef680\" x=\"288.459962\" y=\"123.004548\" style=\"fill: #1f77b4; stroke: #1f77b4\"/>\n",
       "     <use xlink:href=\"#m7f426ef680\" x=\"288.784941\" y=\"116.92004\" style=\"fill: #1f77b4; stroke: #1f77b4\"/>\n",
       "     <use xlink:href=\"#m7f426ef680\" x=\"289.109921\" y=\"169.87959\" style=\"fill: #1f77b4; stroke: #1f77b4\"/>\n",
       "     <use xlink:href=\"#m7f426ef680\" x=\"289.4349\" y=\"116.43328\" style=\"fill: #1f77b4; stroke: #1f77b4\"/>\n",
       "     <use xlink:href=\"#m7f426ef680\" x=\"289.75988\" y=\"116.1899\" style=\"fill: #1f77b4; stroke: #1f77b4\"/>\n",
       "     <use xlink:href=\"#m7f426ef680\" x=\"290.084859\" y=\"177.619083\" style=\"fill: #1f77b4; stroke: #1f77b4\"/>\n",
       "     <use xlink:href=\"#m7f426ef680\" x=\"290.409839\" y=\"147.829336\" style=\"fill: #1f77b4; stroke: #1f77b4\"/>\n",
       "     <use xlink:href=\"#m7f426ef680\" x=\"290.734818\" y=\"130.305956\" style=\"fill: #1f77b4; stroke: #1f77b4\"/>\n",
       "     <use xlink:href=\"#m7f426ef680\" x=\"291.059798\" y=\"168.954745\" style=\"fill: #1f77b4; stroke: #1f77b4\"/>\n",
       "     <use xlink:href=\"#m7f426ef680\" x=\"291.384777\" y=\"123.880717\" style=\"fill: #1f77b4; stroke: #1f77b4\"/>\n",
       "     <use xlink:href=\"#m7f426ef680\" x=\"291.709757\" y=\"120.960153\" style=\"fill: #1f77b4; stroke: #1f77b4\"/>\n",
       "     <use xlink:href=\"#m7f426ef680\" x=\"292.034736\" y=\"168.565336\" style=\"fill: #1f77b4; stroke: #1f77b4\"/>\n",
       "     <use xlink:href=\"#m7f426ef680\" x=\"292.359716\" y=\"114.242857\" style=\"fill: #1f77b4; stroke: #1f77b4\"/>\n",
       "     <use xlink:href=\"#m7f426ef680\" x=\"292.684695\" y=\"137.315308\" style=\"fill: #1f77b4; stroke: #1f77b4\"/>\n",
       "     <use xlink:href=\"#m7f426ef680\" x=\"293.009675\" y=\"175.087928\" style=\"fill: #1f77b4; stroke: #1f77b4\"/>\n",
       "     <use xlink:href=\"#m7f426ef680\" x=\"293.334654\" y=\"113.512717\" style=\"fill: #1f77b4; stroke: #1f77b4\"/>\n",
       "     <use xlink:href=\"#m7f426ef680\" x=\"293.659634\" y=\"113.269336\" style=\"fill: #1f77b4; stroke: #1f77b4\"/>\n",
       "     <use xlink:href=\"#m7f426ef680\" x=\"293.984614\" y=\"167.494463\" style=\"fill: #1f77b4; stroke: #1f77b4\"/>\n",
       "     <use xlink:href=\"#m7f426ef680\" x=\"294.309593\" y=\"141.98821\" style=\"fill: #1f77b4; stroke: #1f77b4\"/>\n",
       "     <use xlink:href=\"#m7f426ef680\" x=\"294.634573\" y=\"116.871364\" style=\"fill: #1f77b4; stroke: #1f77b4\"/>\n",
       "     <use xlink:href=\"#m7f426ef680\" x=\"294.959552\" y=\"183.46021\" style=\"fill: #1f77b4; stroke: #1f77b4\"/>\n",
       "     <use xlink:href=\"#m7f426ef680\" x=\"295.284532\" y=\"116.871364\" style=\"fill: #1f77b4; stroke: #1f77b4\"/>\n",
       "     <use xlink:href=\"#m7f426ef680\" x=\"295.609511\" y=\"111.809055\" style=\"fill: #1f77b4; stroke: #1f77b4\"/>\n",
       "     <use xlink:href=\"#m7f426ef680\" x=\"295.934491\" y=\"171.193843\" style=\"fill: #1f77b4; stroke: #1f77b4\"/>\n",
       "     <use xlink:href=\"#m7f426ef680\" x=\"296.25947\" y=\"111.322294\" style=\"fill: #1f77b4; stroke: #1f77b4\"/>\n",
       "     <use xlink:href=\"#m7f426ef680\" x=\"296.58445\" y=\"111.078914\" style=\"fill: #1f77b4; stroke: #1f77b4\"/>\n",
       "     <use xlink:href=\"#m7f426ef680\" x=\"296.909429\" y=\"166.034181\" style=\"fill: #1f77b4; stroke: #1f77b4\"/>\n",
       "     <use xlink:href=\"#m7f426ef680\" x=\"297.234409\" y=\"135.270914\" style=\"fill: #1f77b4; stroke: #1f77b4\"/>\n",
       "     <use xlink:href=\"#m7f426ef680\" x=\"297.559388\" y=\"119.499871\" style=\"fill: #1f77b4; stroke: #1f77b4\"/>\n",
       "     <use xlink:href=\"#m7f426ef680\" x=\"297.884368\" y=\"179.955533\" style=\"fill: #1f77b4; stroke: #1f77b4\"/>\n",
       "     <use xlink:href=\"#m7f426ef680\" x=\"298.209347\" y=\"109.862012\" style=\"fill: #1f77b4; stroke: #1f77b4\"/>\n",
       "     <use xlink:href=\"#m7f426ef680\" x=\"298.534327\" y=\"136.147083\" style=\"fill: #1f77b4; stroke: #1f77b4\"/>\n",
       "     <use xlink:href=\"#m7f426ef680\" x=\"298.859306\" y=\"165.06066\" style=\"fill: #1f77b4; stroke: #1f77b4\"/>\n",
       "     <use xlink:href=\"#m7f426ef680\" x=\"299.184286\" y=\"109.131871\" style=\"fill: #1f77b4; stroke: #1f77b4\"/>\n",
       "     <use xlink:href=\"#m7f426ef680\" x=\"299.509265\" y=\"132.934463\" style=\"fill: #1f77b4; stroke: #1f77b4\"/>\n",
       "     <use xlink:href=\"#m7f426ef680\" x=\"299.834245\" y=\"164.5739\" style=\"fill: #1f77b4; stroke: #1f77b4\"/>\n",
       "     <use xlink:href=\"#m7f426ef680\" x=\"300.159225\" y=\"112.490519\" style=\"fill: #1f77b4; stroke: #1f77b4\"/>\n",
       "     <use xlink:href=\"#m7f426ef680\" x=\"300.484204\" y=\"108.15835\" style=\"fill: #1f77b4; stroke: #1f77b4\"/>\n",
       "     <use xlink:href=\"#m7f426ef680\" x=\"300.809184\" y=\"164.184491\" style=\"fill: #1f77b4; stroke: #1f77b4\"/>\n",
       "     <use xlink:href=\"#m7f426ef680\" x=\"301.134163\" y=\"114.145505\" style=\"fill: #1f77b4; stroke: #1f77b4\"/>\n",
       "     <use xlink:href=\"#m7f426ef680\" x=\"301.459143\" y=\"123.004548\" style=\"fill: #1f77b4; stroke: #1f77b4\"/>\n",
       "     <use xlink:href=\"#m7f426ef680\" x=\"301.784122\" y=\"179.955533\" style=\"fill: #1f77b4; stroke: #1f77b4\"/>\n",
       "     <use xlink:href=\"#m7f426ef680\" x=\"302.109102\" y=\"106.941449\" style=\"fill: #1f77b4; stroke: #1f77b4\"/>\n",
       "     <use xlink:href=\"#m7f426ef680\" x=\"302.434081\" y=\"106.698069\" style=\"fill: #1f77b4; stroke: #1f77b4\"/>\n",
       "     <use xlink:href=\"#m7f426ef680\" x=\"302.759061\" y=\"172.362069\" style=\"fill: #1f77b4; stroke: #1f77b4\"/>\n",
       "     <use xlink:href=\"#m7f426ef680\" x=\"303.08404\" y=\"106.211308\" style=\"fill: #1f77b4; stroke: #1f77b4\"/>\n",
       "     <use xlink:href=\"#m7f426ef680\" x=\"303.40902\" y=\"105.967928\" style=\"fill: #1f77b4; stroke: #1f77b4\"/>\n",
       "     <use xlink:href=\"#m7f426ef680\" x=\"303.733999\" y=\"171.193843\" style=\"fill: #1f77b4; stroke: #1f77b4\"/>\n",
       "     <use xlink:href=\"#m7f426ef680\" x=\"304.058979\" y=\"140.819984\" style=\"fill: #1f77b4; stroke: #1f77b4\"/>\n",
       "     <use xlink:href=\"#m7f426ef680\" x=\"304.383958\" y=\"109.2779\" style=\"fill: #1f77b4; stroke: #1f77b4\"/>\n",
       "     <use xlink:href=\"#m7f426ef680\" x=\"304.708938\" y=\"162.140097\" style=\"fill: #1f77b4; stroke: #1f77b4\"/>\n",
       "     <use xlink:href=\"#m7f426ef680\" x=\"305.033917\" y=\"120.570745\" style=\"fill: #1f77b4; stroke: #1f77b4\"/>\n",
       "     <use xlink:href=\"#m7f426ef680\" x=\"305.358897\" y=\"112.490519\" style=\"fill: #1f77b4; stroke: #1f77b4\"/>\n",
       "     <use xlink:href=\"#m7f426ef680\" x=\"305.683876\" y=\"161.653336\" style=\"fill: #1f77b4; stroke: #1f77b4\"/>\n",
       "     <use xlink:href=\"#m7f426ef680\" x=\"306.008856\" y=\"108.109674\" style=\"fill: #1f77b4; stroke: #1f77b4\"/>\n",
       "     <use xlink:href=\"#m7f426ef680\" x=\"306.333835\" y=\"128.553618\" style=\"fill: #1f77b4; stroke: #1f77b4\"/>\n",
       "     <use xlink:href=\"#m7f426ef680\" x=\"306.658815\" y=\"161.555984\" style=\"fill: #1f77b4; stroke: #1f77b4\"/>\n",
       "     <use xlink:href=\"#m7f426ef680\" x=\"306.983795\" y=\"116.871364\" style=\"fill: #1f77b4; stroke: #1f77b4\"/>\n",
       "     <use xlink:href=\"#m7f426ef680\" x=\"307.308774\" y=\"103.047364\" style=\"fill: #1f77b4; stroke: #1f77b4\"/>\n",
       "     <use xlink:href=\"#m7f426ef680\" x=\"307.633754\" y=\"160.679815\" style=\"fill: #1f77b4; stroke: #1f77b4\"/>\n",
       "     <use xlink:href=\"#m7f426ef680\" x=\"307.958733\" y=\"108.109674\" style=\"fill: #1f77b4; stroke: #1f77b4\"/>\n",
       "     <use xlink:href=\"#m7f426ef680\" x=\"308.283713\" y=\"102.317224\" style=\"fill: #1f77b4; stroke: #1f77b4\"/>\n",
       "     <use xlink:href=\"#m7f426ef680\" x=\"308.608692\" y=\"188.717224\" style=\"fill: #1f77b4; stroke: #1f77b4\"/>\n",
       "     <use xlink:href=\"#m7f426ef680\" x=\"308.933672\" y=\"105.967928\" style=\"fill: #1f77b4; stroke: #1f77b4\"/>\n",
       "     <use xlink:href=\"#m7f426ef680\" x=\"309.258651\" y=\"106.649393\" style=\"fill: #1f77b4; stroke: #1f77b4\"/>\n",
       "     <use xlink:href=\"#m7f426ef680\" x=\"309.583631\" y=\"168.857393\" style=\"fill: #1f77b4; stroke: #1f77b4\"/>\n",
       "     <use xlink:href=\"#m7f426ef680\" x=\"309.90861\" y=\"110.738181\" style=\"fill: #1f77b4; stroke: #1f77b4\"/>\n",
       "     <use xlink:href=\"#m7f426ef680\" x=\"310.23359\" y=\"100.856942\" style=\"fill: #1f77b4; stroke: #1f77b4\"/>\n",
       "     <use xlink:href=\"#m7f426ef680\" x=\"310.558569\" y=\"164.5739\" style=\"fill: #1f77b4; stroke: #1f77b4\"/>\n",
       "     <use xlink:href=\"#m7f426ef680\" x=\"310.883549\" y=\"125.633055\" style=\"fill: #1f77b4; stroke: #1f77b4\"/>\n",
       "     <use xlink:href=\"#m7f426ef680\" x=\"311.208528\" y=\"113.950801\" style=\"fill: #1f77b4; stroke: #1f77b4\"/>\n",
       "     <use xlink:href=\"#m7f426ef680\" x=\"311.533508\" y=\"158.732773\" style=\"fill: #1f77b4; stroke: #1f77b4\"/>\n",
       "     <use xlink:href=\"#m7f426ef680\" x=\"311.858487\" y=\"104.21559\" style=\"fill: #1f77b4; stroke: #1f77b4\"/>\n",
       "     <use xlink:href=\"#m7f426ef680\" x=\"312.183467\" y=\"115.703139\" style=\"fill: #1f77b4; stroke: #1f77b4\"/>\n",
       "     <use xlink:href=\"#m7f426ef680\" x=\"312.508446\" y=\"158.343364\" style=\"fill: #1f77b4; stroke: #1f77b4\"/>\n",
       "     <use xlink:href=\"#m7f426ef680\" x=\"312.833426\" y=\"107.136153\" style=\"fill: #1f77b4; stroke: #1f77b4\"/>\n",
       "     <use xlink:href=\"#m7f426ef680\" x=\"313.158406\" y=\"125.048942\" style=\"fill: #1f77b4; stroke: #1f77b4\"/>\n",
       "     <use xlink:href=\"#m7f426ef680\" x=\"313.483385\" y=\"157.759252\" style=\"fill: #1f77b4; stroke: #1f77b4\"/>\n",
       "     <use xlink:href=\"#m7f426ef680\" x=\"313.808365\" y=\"98.179759\" style=\"fill: #1f77b4; stroke: #1f77b4\"/>\n",
       "     <use xlink:href=\"#m7f426ef680\" x=\"314.133344\" y=\"97.936379\" style=\"fill: #1f77b4; stroke: #1f77b4\"/>\n",
       "     <use xlink:href=\"#m7f426ef680\" x=\"314.458324\" y=\"157.272491\" style=\"fill: #1f77b4; stroke: #1f77b4\"/>\n",
       "     <use xlink:href=\"#m7f426ef680\" x=\"314.783303\" y=\"97.449618\" style=\"fill: #1f77b4; stroke: #1f77b4\"/>\n",
       "     <use xlink:href=\"#m7f426ef680\" x=\"315.108283\" y=\"108.109674\" style=\"fill: #1f77b4; stroke: #1f77b4\"/>\n",
       "     <use xlink:href=\"#m7f426ef680\" x=\"315.433262\" y=\"181.707871\" style=\"fill: #1f77b4; stroke: #1f77b4\"/>\n",
       "     <use xlink:href=\"#m7f426ef680\" x=\"315.758242\" y=\"115.703139\" style=\"fill: #1f77b4; stroke: #1f77b4\"/>\n",
       "     <use xlink:href=\"#m7f426ef680\" x=\"316.083221\" y=\"106.357336\" style=\"fill: #1f77b4; stroke: #1f77b4\"/>\n",
       "     <use xlink:href=\"#m7f426ef680\" x=\"316.408201\" y=\"156.29897\" style=\"fill: #1f77b4; stroke: #1f77b4\"/>\n",
       "     <use xlink:href=\"#m7f426ef680\" x=\"316.73318\" y=\"95.989336\" style=\"fill: #1f77b4; stroke: #1f77b4\"/>\n",
       "     <use xlink:href=\"#m7f426ef680\" x=\"317.05816\" y=\"101.100322\" style=\"fill: #1f77b4; stroke: #1f77b4\"/>\n",
       "     <use xlink:href=\"#m7f426ef680\" x=\"317.383139\" y=\"155.81221\" style=\"fill: #1f77b4; stroke: #1f77b4\"/>\n",
       "     <use xlink:href=\"#m7f426ef680\" x=\"317.708119\" y=\"121.25221\" style=\"fill: #1f77b4; stroke: #1f77b4\"/>\n",
       "     <use xlink:href=\"#m7f426ef680\" x=\"318.033098\" y=\"95.015815\" style=\"fill: #1f77b4; stroke: #1f77b4\"/>\n",
       "     <use xlink:href=\"#m7f426ef680\" x=\"318.358078\" y=\"155.422801\" style=\"fill: #1f77b4; stroke: #1f77b4\"/>\n",
       "     <use xlink:href=\"#m7f426ef680\" x=\"318.683057\" y=\"101.100322\" style=\"fill: #1f77b4; stroke: #1f77b4\"/>\n",
       "     <use xlink:href=\"#m7f426ef680\" x=\"319.008037\" y=\"94.285674\" style=\"fill: #1f77b4; stroke: #1f77b4\"/>\n",
       "     <use xlink:href=\"#m7f426ef680\" x=\"319.333016\" y=\"166.326238\" style=\"fill: #1f77b4; stroke: #1f77b4\"/>\n",
       "     <use xlink:href=\"#m7f426ef680\" x=\"319.657996\" y=\"108.109674\" style=\"fill: #1f77b4; stroke: #1f77b4\"/>\n",
       "     <use xlink:href=\"#m7f426ef680\" x=\"319.982976\" y=\"129.137731\" style=\"fill: #1f77b4; stroke: #1f77b4\"/>\n",
       "     <use xlink:href=\"#m7f426ef680\" x=\"320.307955\" y=\"160.679815\" style=\"fill: #1f77b4; stroke: #1f77b4\"/>\n",
       "     <use xlink:href=\"#m7f426ef680\" x=\"320.632935\" y=\"104.21559\" style=\"fill: #1f77b4; stroke: #1f77b4\"/>\n",
       "     <use xlink:href=\"#m7f426ef680\" x=\"320.957914\" y=\"92.825393\" style=\"fill: #1f77b4; stroke: #1f77b4\"/>\n",
       "     <use xlink:href=\"#m7f426ef680\" x=\"321.282894\" y=\"153.962519\" style=\"fill: #1f77b4; stroke: #1f77b4\"/>\n",
       "     <use xlink:href=\"#m7f426ef680\" x=\"321.607873\" y=\"92.338632\" style=\"fill: #1f77b4; stroke: #1f77b4\"/>\n",
       "     <use xlink:href=\"#m7f426ef680\" x=\"321.932853\" y=\"96.427421\" style=\"fill: #1f77b4; stroke: #1f77b4\"/>\n",
       "     <use xlink:href=\"#m7f426ef680\" x=\"322.257832\" y=\"176.450857\" style=\"fill: #1f77b4; stroke: #1f77b4\"/>\n",
       "     <use xlink:href=\"#m7f426ef680\" x=\"322.582812\" y=\"91.608491\" style=\"fill: #1f77b4; stroke: #1f77b4\"/>\n",
       "     <use xlink:href=\"#m7f426ef680\" x=\"322.907791\" y=\"108.401731\" style=\"fill: #1f77b4; stroke: #1f77b4\"/>\n",
       "     <use xlink:href=\"#m7f426ef680\" x=\"323.232771\" y=\"157.759252\" style=\"fill: #1f77b4; stroke: #1f77b4\"/>\n",
       "     <use xlink:href=\"#m7f426ef680\" x=\"323.55775\" y=\"90.87835\" style=\"fill: #1f77b4; stroke: #1f77b4\"/>\n",
       "     <use xlink:href=\"#m7f426ef680\" x=\"323.88273\" y=\"105.189111\" style=\"fill: #1f77b4; stroke: #1f77b4\"/>\n",
       "     <use xlink:href=\"#m7f426ef680\" x=\"324.207709\" y=\"152.794294\" style=\"fill: #1f77b4; stroke: #1f77b4\"/>\n",
       "     <use xlink:href=\"#m7f426ef680\" x=\"324.532689\" y=\"116.871364\" style=\"fill: #1f77b4; stroke: #1f77b4\"/>\n",
       "     <use xlink:href=\"#m7f426ef680\" x=\"324.857668\" y=\"94.967139\" style=\"fill: #1f77b4; stroke: #1f77b4\"/>\n",
       "     <use xlink:href=\"#m7f426ef680\" x=\"325.182648\" y=\"151.918125\" style=\"fill: #1f77b4; stroke: #1f77b4\"/>\n",
       "     <use xlink:href=\"#m7f426ef680\" x=\"325.507627\" y=\"89.418069\" style=\"fill: #1f77b4; stroke: #1f77b4\"/>\n",
       "     <use xlink:href=\"#m7f426ef680\" x=\"325.832607\" y=\"89.174688\" style=\"fill: #1f77b4; stroke: #1f77b4\"/>\n",
       "     <use xlink:href=\"#m7f426ef680\" x=\"326.157587\" y=\"159.51159\" style=\"fill: #1f77b4; stroke: #1f77b4\"/>\n",
       "     <use xlink:href=\"#m7f426ef680\" x=\"326.482566\" y=\"105.967928\" style=\"fill: #1f77b4; stroke: #1f77b4\"/>\n",
       "     <use xlink:href=\"#m7f426ef680\" x=\"326.807546\" y=\"115.411083\" style=\"fill: #1f77b4; stroke: #1f77b4\"/>\n",
       "     <use xlink:href=\"#m7f426ef680\" x=\"327.132525\" y=\"151.041956\" style=\"fill: #1f77b4; stroke: #1f77b4\"/>\n",
       "     <use xlink:href=\"#m7f426ef680\" x=\"327.457505\" y=\"87.957787\" style=\"fill: #1f77b4; stroke: #1f77b4\"/>\n",
       "     <use xlink:href=\"#m7f426ef680\" x=\"327.782484\" y=\"96.427421\" style=\"fill: #1f77b4; stroke: #1f77b4\"/>\n",
       "     <use xlink:href=\"#m7f426ef680\" x=\"328.107464\" y=\"160.679815\" style=\"fill: #1f77b4; stroke: #1f77b4\"/>\n",
       "     <use xlink:href=\"#m7f426ef680\" x=\"328.432443\" y=\"97.595646\" style=\"fill: #1f77b4; stroke: #1f77b4\"/>\n",
       "     <use xlink:href=\"#m7f426ef680\" x=\"328.757423\" y=\"93.798914\" style=\"fill: #1f77b4; stroke: #1f77b4\"/>\n",
       "     <use xlink:href=\"#m7f426ef680\" x=\"329.082402\" y=\"170.025618\" style=\"fill: #1f77b4; stroke: #1f77b4\"/>\n",
       "     <use xlink:href=\"#m7f426ef680\" x=\"329.407382\" y=\"93.701562\" style=\"fill: #1f77b4; stroke: #1f77b4\"/>\n",
       "     <use xlink:href=\"#m7f426ef680\" x=\"329.732361\" y=\"90.586294\" style=\"fill: #1f77b4; stroke: #1f77b4\"/>\n",
       "     <use xlink:href=\"#m7f426ef680\" x=\"330.057341\" y=\"162.432153\" style=\"fill: #1f77b4; stroke: #1f77b4\"/>\n",
       "     <use xlink:href=\"#m7f426ef680\" x=\"330.38232\" y=\"91.365111\" style=\"fill: #1f77b4; stroke: #1f77b4\"/>\n",
       "     <use xlink:href=\"#m7f426ef680\" x=\"330.7073\" y=\"85.523984\" style=\"fill: #1f77b4; stroke: #1f77b4\"/>\n",
       "     <use xlink:href=\"#m7f426ef680\" x=\"331.032279\" y=\"148.997562\" style=\"fill: #1f77b4; stroke: #1f77b4\"/>\n",
       "     <use xlink:href=\"#m7f426ef680\" x=\"331.357259\" y=\"112.490519\" style=\"fill: #1f77b4; stroke: #1f77b4\"/>\n",
       "     <use xlink:href=\"#m7f426ef680\" x=\"331.682238\" y=\"96.427421\" style=\"fill: #1f77b4; stroke: #1f77b4\"/>\n",
       "     <use xlink:href=\"#m7f426ef680\" x=\"332.007218\" y=\"153.670463\" style=\"fill: #1f77b4; stroke: #1f77b4\"/>\n",
       "     <use xlink:href=\"#m7f426ef680\" x=\"332.332197\" y=\"99.347984\" style=\"fill: #1f77b4; stroke: #1f77b4\"/>\n",
       "     <use xlink:href=\"#m7f426ef680\" x=\"332.657177\" y=\"84.063702\" style=\"fill: #1f77b4; stroke: #1f77b4\"/>\n",
       "     <use xlink:href=\"#m7f426ef680\" x=\"332.982157\" y=\"148.413449\" style=\"fill: #1f77b4; stroke: #1f77b4\"/>\n",
       "     <use xlink:href=\"#m7f426ef680\" x=\"333.307136\" y=\"85.718688\" style=\"fill: #1f77b4; stroke: #1f77b4\"/>\n",
       "     <use xlink:href=\"#m7f426ef680\" x=\"333.632116\" y=\"127.385393\" style=\"fill: #1f77b4; stroke: #1f77b4\"/>\n",
       "     <use xlink:href=\"#m7f426ef680\" x=\"333.957095\" y=\"147.53728\" style=\"fill: #1f77b4; stroke: #1f77b4\"/>\n",
       "     <use xlink:href=\"#m7f426ef680\" x=\"334.282075\" y=\"82.846801\" style=\"fill: #1f77b4; stroke: #1f77b4\"/>\n",
       "     <use xlink:href=\"#m7f426ef680\" x=\"334.607054\" y=\"93.214801\" style=\"fill: #1f77b4; stroke: #1f77b4\"/>\n",
       "     <use xlink:href=\"#m7f426ef680\" x=\"334.932034\" y=\"147.050519\" style=\"fill: #1f77b4; stroke: #1f77b4\"/>\n",
       "     <use xlink:href=\"#m7f426ef680\" x=\"335.257013\" y=\"91.073055\" style=\"fill: #1f77b4; stroke: #1f77b4\"/>\n",
       "     <use xlink:href=\"#m7f426ef680\" x=\"335.581993\" y=\"86.497505\" style=\"fill: #1f77b4; stroke: #1f77b4\"/>\n",
       "     <use xlink:href=\"#m7f426ef680\" x=\"335.906972\" y=\"165.936829\" style=\"fill: #1f77b4; stroke: #1f77b4\"/>\n",
       "     <use xlink:href=\"#m7f426ef680\" x=\"336.231952\" y=\"81.386519\" style=\"fill: #1f77b4; stroke: #1f77b4\"/>\n",
       "     <use xlink:href=\"#m7f426ef680\" x=\"336.556931\" y=\"96.427421\" style=\"fill: #1f77b4; stroke: #1f77b4\"/>\n",
       "     <use xlink:href=\"#m7f426ef680\" x=\"336.881911\" y=\"146.076998\" style=\"fill: #1f77b4; stroke: #1f77b4\"/>\n",
       "     <use xlink:href=\"#m7f426ef680\" x=\"337.20689\" y=\"112.782576\" style=\"fill: #1f77b4; stroke: #1f77b4\"/>\n",
       "     <use xlink:href=\"#m7f426ef680\" x=\"337.53187\" y=\"84.745167\" style=\"fill: #1f77b4; stroke: #1f77b4\"/>\n",
       "     <use xlink:href=\"#m7f426ef680\" x=\"337.856849\" y=\"145.590238\" style=\"fill: #1f77b4; stroke: #1f77b4\"/>\n",
       "     <use xlink:href=\"#m7f426ef680\" x=\"338.181829\" y=\"108.109674\" style=\"fill: #1f77b4; stroke: #1f77b4\"/>\n",
       "     <use xlink:href=\"#m7f426ef680\" x=\"338.506808\" y=\"79.682857\" style=\"fill: #1f77b4; stroke: #1f77b4\"/>\n",
       "     <use xlink:href=\"#m7f426ef680\" x=\"338.831788\" y=\"153.670463\" style=\"fill: #1f77b4; stroke: #1f77b4\"/>\n",
       "     <use xlink:href=\"#m7f426ef680\" x=\"339.156768\" y=\"79.196097\" style=\"fill: #1f77b4; stroke: #1f77b4\"/>\n",
       "     <use xlink:href=\"#m7f426ef680\" x=\"339.481747\" y=\"78.952717\" style=\"fill: #1f77b4; stroke: #1f77b4\"/>\n",
       "     <use xlink:href=\"#m7f426ef680\" x=\"339.806727\" y=\"144.616717\" style=\"fill: #1f77b4; stroke: #1f77b4\"/>\n",
       "     <use xlink:href=\"#m7f426ef680\" x=\"340.131706\" y=\"83.771646\" style=\"fill: #1f77b4; stroke: #1f77b4\"/>\n",
       "     <use xlink:href=\"#m7f426ef680\" x=\"340.456686\" y=\"106.649393\" style=\"fill: #1f77b4; stroke: #1f77b4\"/>\n",
       "     <use xlink:href=\"#m7f426ef680\" x=\"340.781665\" y=\"171.193843\" style=\"fill: #1f77b4; stroke: #1f77b4\"/>\n",
       "     <use xlink:href=\"#m7f426ef680\" x=\"341.106645\" y=\"77.735815\" style=\"fill: #1f77b4; stroke: #1f77b4\"/>\n",
       "     <use xlink:href=\"#m7f426ef680\" x=\"341.431624\" y=\"77.492435\" style=\"fill: #1f77b4; stroke: #1f77b4\"/>\n",
       "     <use xlink:href=\"#m7f426ef680\" x=\"341.756604\" y=\"144.908773\" style=\"fill: #1f77b4; stroke: #1f77b4\"/>\n",
       "     <use xlink:href=\"#m7f426ef680\" x=\"342.081583\" y=\"77.005674\" style=\"fill: #1f77b4; stroke: #1f77b4\"/>\n",
       "     <use xlink:href=\"#m7f426ef680\" x=\"342.406563\" y=\"81.532548\" style=\"fill: #1f77b4; stroke: #1f77b4\"/>\n",
       "     <use xlink:href=\"#m7f426ef680\" x=\"342.731542\" y=\"173.530294\" style=\"fill: #1f77b4; stroke: #1f77b4\"/>\n",
       "     <use xlink:href=\"#m7f426ef680\" x=\"343.056522\" y=\"76.275533\" style=\"fill: #1f77b4; stroke: #1f77b4\"/>\n",
       "     <use xlink:href=\"#m7f426ef680\" x=\"343.381501\" y=\"76.032153\" style=\"fill: #1f77b4; stroke: #1f77b4\"/>\n",
       "     <use xlink:href=\"#m7f426ef680\" x=\"343.706481\" y=\"147.829336\" style=\"fill: #1f77b4; stroke: #1f77b4\"/>\n",
       "     <use xlink:href=\"#m7f426ef680\" x=\"344.03146\" y=\"81.824604\" style=\"fill: #1f77b4; stroke: #1f77b4\"/>\n",
       "     <use xlink:href=\"#m7f426ef680\" x=\"344.35644\" y=\"93.798914\" style=\"fill: #1f77b4; stroke: #1f77b4\"/>\n",
       "     <use xlink:href=\"#m7f426ef680\" x=\"344.681419\" y=\"142.280266\" style=\"fill: #1f77b4; stroke: #1f77b4\"/>\n",
       "     <use xlink:href=\"#m7f426ef680\" x=\"345.006399\" y=\"116.871364\" style=\"fill: #1f77b4; stroke: #1f77b4\"/>\n",
       "     <use xlink:href=\"#m7f426ef680\" x=\"345.331378\" y=\"74.571871\" style=\"fill: #1f77b4; stroke: #1f77b4\"/>\n",
       "     <use xlink:href=\"#m7f426ef680\" x=\"345.656358\" y=\"141.696153\" style=\"fill: #1f77b4; stroke: #1f77b4\"/>\n",
       "     <use xlink:href=\"#m7f426ef680\" x=\"345.981338\" y=\"74.085111\" style=\"fill: #1f77b4; stroke: #1f77b4\"/>\n",
       "     <use xlink:href=\"#m7f426ef680\" x=\"346.306317\" y=\"78.90404\" style=\"fill: #1f77b4; stroke: #1f77b4\"/>\n",
       "     <use xlink:href=\"#m7f426ef680\" x=\"346.631297\" y=\"141.209393\" style=\"fill: #1f77b4; stroke: #1f77b4\"/>\n",
       "     <use xlink:href=\"#m7f426ef680\" x=\"346.956276\" y=\"84.453111\" style=\"fill: #1f77b4; stroke: #1f77b4\"/>\n",
       "     <use xlink:href=\"#m7f426ef680\" x=\"347.281256\" y=\"102.268548\" style=\"fill: #1f77b4; stroke: #1f77b4\"/>\n",
       "     <use xlink:href=\"#m7f426ef680\" x=\"347.606235\" y=\"140.819984\" style=\"fill: #1f77b4; stroke: #1f77b4\"/>\n",
       "     <use xlink:href=\"#m7f426ef680\" x=\"347.931215\" y=\"91.365111\" style=\"fill: #1f77b4; stroke: #1f77b4\"/>\n",
       "     <use xlink:href=\"#m7f426ef680\" x=\"348.256194\" y=\"90.975702\" style=\"fill: #1f77b4; stroke: #1f77b4\"/>\n",
       "     <use xlink:href=\"#m7f426ef680\" x=\"348.581174\" y=\"140.235871\" style=\"fill: #1f77b4; stroke: #1f77b4\"/>\n",
       "     <use xlink:href=\"#m7f426ef680\" x=\"348.906153\" y=\"79.196097\" style=\"fill: #1f77b4; stroke: #1f77b4\"/>\n",
       "     <use xlink:href=\"#m7f426ef680\" x=\"349.231133\" y=\"87.665731\" style=\"fill: #1f77b4; stroke: #1f77b4\"/>\n",
       "     <use xlink:href=\"#m7f426ef680\" x=\"349.556112\" y=\"159.51159\" style=\"fill: #1f77b4; stroke: #1f77b4\"/>\n",
       "     <use xlink:href=\"#m7f426ef680\" x=\"349.881092\" y=\"71.164548\" style=\"fill: #1f77b4; stroke: #1f77b4\"/>\n",
       "     <use xlink:href=\"#m7f426ef680\" x=\"350.206071\" y=\"80.364322\" style=\"fill: #1f77b4; stroke: #1f77b4\"/>\n",
       "     <use xlink:href=\"#m7f426ef680\" x=\"350.531051\" y=\"139.651759\" style=\"fill: #1f77b4; stroke: #1f77b4\"/>\n",
       "     <use xlink:href=\"#m7f426ef680\" x=\"350.85603\" y=\"70.434407\" style=\"fill: #1f77b4; stroke: #1f77b4\"/>\n",
       "     <use xlink:href=\"#m7f426ef680\" x=\"351.18101\" y=\"75.983477\" style=\"fill: #1f77b4; stroke: #1f77b4\"/>\n",
       "     <use xlink:href=\"#m7f426ef680\" x=\"351.505989\" y=\"151.723421\" style=\"fill: #1f77b4; stroke: #1f77b4\"/>\n",
       "     <use xlink:href=\"#m7f426ef680\" x=\"351.830969\" y=\"99.347984\" style=\"fill: #1f77b4; stroke: #1f77b4\"/>\n",
       "     <use xlink:href=\"#m7f426ef680\" x=\"352.155949\" y=\"69.460886\" style=\"fill: #1f77b4; stroke: #1f77b4\"/>\n",
       "     <use xlink:href=\"#m7f426ef680\" x=\"352.480928\" y=\"138.288829\" style=\"fill: #1f77b4; stroke: #1f77b4\"/>\n",
       "     <use xlink:href=\"#m7f426ef680\" x=\"352.805908\" y=\"68.974125\" style=\"fill: #1f77b4; stroke: #1f77b4\"/>\n",
       "     <use xlink:href=\"#m7f426ef680\" x=\"353.130887\" y=\"80.072266\" style=\"fill: #1f77b4; stroke: #1f77b4\"/>\n",
       "     <use xlink:href=\"#m7f426ef680\" x=\"353.455867\" y=\"150.165787\" style=\"fill: #1f77b4; stroke: #1f77b4\"/>\n",
       "     <use xlink:href=\"#m7f426ef680\" x=\"353.780846\" y=\"80.851083\" style=\"fill: #1f77b4; stroke: #1f77b4\"/>\n",
       "     <use xlink:href=\"#m7f426ef680\" x=\"354.105826\" y=\"97.887702\" style=\"fill: #1f77b4; stroke: #1f77b4\"/>\n",
       "     <use xlink:href=\"#m7f426ef680\" x=\"354.430805\" y=\"137.315308\" style=\"fill: #1f77b4; stroke: #1f77b4\"/>\n",
       "     <use xlink:href=\"#m7f426ef680\" x=\"354.755785\" y=\"67.513843\" style=\"fill: #1f77b4; stroke: #1f77b4\"/>\n",
       "     <use xlink:href=\"#m7f426ef680\" x=\"355.080764\" y=\"88.931308\" style=\"fill: #1f77b4; stroke: #1f77b4\"/>\n",
       "     <use xlink:href=\"#m7f426ef680\" x=\"355.405744\" y=\"141.98821\" style=\"fill: #1f77b4; stroke: #1f77b4\"/>\n",
       "     <use xlink:href=\"#m7f426ef680\" x=\"355.730723\" y=\"71.310576\" style=\"fill: #1f77b4; stroke: #1f77b4\"/>\n",
       "     <use xlink:href=\"#m7f426ef680\" x=\"356.055703\" y=\"73.062914\" style=\"fill: #1f77b4; stroke: #1f77b4\"/>\n",
       "     <use xlink:href=\"#m7f426ef680\" x=\"356.380682\" y=\"157.175139\" style=\"fill: #1f77b4; stroke: #1f77b4\"/>\n",
       "     <use xlink:href=\"#m7f426ef680\" x=\"356.705662\" y=\"66.053562\" style=\"fill: #1f77b4; stroke: #1f77b4\"/>\n",
       "     <use xlink:href=\"#m7f426ef680\" x=\"357.030641\" y=\"71.894688\" style=\"fill: #1f77b4; stroke: #1f77b4\"/>\n",
       "     <use xlink:href=\"#m7f426ef680\" x=\"357.355621\" y=\"135.855026\" style=\"fill: #1f77b4; stroke: #1f77b4\"/>\n",
       "     <use xlink:href=\"#m7f426ef680\" x=\"357.6806\" y=\"96.427421\" style=\"fill: #1f77b4; stroke: #1f77b4\"/>\n",
       "     <use xlink:href=\"#m7f426ef680\" x=\"358.00558\" y=\"65.08004\" style=\"fill: #1f77b4; stroke: #1f77b4\"/>\n",
       "     <use xlink:href=\"#m7f426ef680\" x=\"358.330559\" y=\"135.368266\" style=\"fill: #1f77b4; stroke: #1f77b4\"/>\n",
       "     <use xlink:href=\"#m7f426ef680\" x=\"358.655539\" y=\"112.782576\" style=\"fill: #1f77b4; stroke: #1f77b4\"/>\n",
       "     <use xlink:href=\"#m7f426ef680\" x=\"358.980519\" y=\"71.894688\" style=\"fill: #1f77b4; stroke: #1f77b4\"/>\n",
       "     <use xlink:href=\"#m7f426ef680\" x=\"359.305498\" y=\"150.165787\" style=\"fill: #1f77b4; stroke: #1f77b4\"/>\n",
       "     <use xlink:href=\"#m7f426ef680\" x=\"359.630478\" y=\"63.863139\" style=\"fill: #1f77b4; stroke: #1f77b4\"/>\n",
       "     <use xlink:href=\"#m7f426ef680\" x=\"359.955457\" y=\"63.619759\" style=\"fill: #1f77b4; stroke: #1f77b4\"/>\n",
       "     <use xlink:href=\"#m7f426ef680\" x=\"360.280437\" y=\"134.394745\" style=\"fill: #1f77b4; stroke: #1f77b4\"/>\n",
       "     <use xlink:href=\"#m7f426ef680\" x=\"360.605416\" y=\"63.132998\" style=\"fill: #1f77b4; stroke: #1f77b4\"/>\n",
       "     <use xlink:href=\"#m7f426ef680\" x=\"360.930396\" y=\"94.383026\" style=\"fill: #1f77b4; stroke: #1f77b4\"/>\n",
       "     <use xlink:href=\"#m7f426ef680\" x=\"361.255375\" y=\"133.907984\" style=\"fill: #1f77b4; stroke: #1f77b4\"/>\n",
       "     <use xlink:href=\"#m7f426ef680\" x=\"361.580355\" y=\"67.416491\" style=\"fill: #1f77b4; stroke: #1f77b4\"/>\n",
       "     <use xlink:href=\"#m7f426ef680\" x=\"361.905334\" y=\"78.90404\" style=\"fill: #1f77b4; stroke: #1f77b4\"/>\n",
       "     <use xlink:href=\"#m7f426ef680\" x=\"362.230314\" y=\"147.829336\" style=\"fill: #1f77b4; stroke: #1f77b4\"/>\n",
       "     <use xlink:href=\"#m7f426ef680\" x=\"362.555293\" y=\"61.672717\" style=\"fill: #1f77b4; stroke: #1f77b4\"/>\n",
       "     <use xlink:href=\"#m7f426ef680\" x=\"362.880273\" y=\"61.429336\" style=\"fill: #1f77b4; stroke: #1f77b4\"/>\n",
       "     <use xlink:href=\"#m7f426ef680\" x=\"363.205252\" y=\"153.670463\" style=\"fill: #1f77b4; stroke: #1f77b4\"/>\n",
       "     <use xlink:href=\"#m7f426ef680\" x=\"363.530232\" y=\"66.248266\" style=\"fill: #1f77b4; stroke: #1f77b4\"/>\n",
       "     <use xlink:href=\"#m7f426ef680\" x=\"363.855211\" y=\"60.699195\" style=\"fill: #1f77b4; stroke: #1f77b4\"/>\n",
       "     <use xlink:href=\"#m7f426ef680\" x=\"364.180191\" y=\"132.447702\" style=\"fill: #1f77b4; stroke: #1f77b4\"/>\n",
       "     <use xlink:href=\"#m7f426ef680\" x=\"364.50517\" y=\"64.787984\" style=\"fill: #1f77b4; stroke: #1f77b4\"/>\n",
       "     <use xlink:href=\"#m7f426ef680\" x=\"364.83015\" y=\"73.062914\" style=\"fill: #1f77b4; stroke: #1f77b4\"/>\n",
       "     <use xlink:href=\"#m7f426ef680\" x=\"365.15513\" y=\"141.404097\" style=\"fill: #1f77b4; stroke: #1f77b4\"/>\n",
       "     <use xlink:href=\"#m7f426ef680\" x=\"365.480109\" y=\"102.85266\" style=\"fill: #1f77b4; stroke: #1f77b4\"/>\n",
       "     <use xlink:href=\"#m7f426ef680\" x=\"365.805089\" y=\"79.196097\" style=\"fill: #1f77b4; stroke: #1f77b4\"/>\n",
       "     <use xlink:href=\"#m7f426ef680\" x=\"366.130068\" y=\"143.156435\" style=\"fill: #1f77b4; stroke: #1f77b4\"/>\n",
       "     <use xlink:href=\"#m7f426ef680\" x=\"366.455048\" y=\"58.752153\" style=\"fill: #1f77b4; stroke: #1f77b4\"/>\n",
       "     <use xlink:href=\"#m7f426ef680\" x=\"366.780027\" y=\"58.508773\" style=\"fill: #1f77b4; stroke: #1f77b4\"/>\n",
       "     <use xlink:href=\"#m7f426ef680\" x=\"367.105007\" y=\"137.315308\" style=\"fill: #1f77b4; stroke: #1f77b4\"/>\n",
       "     <use xlink:href=\"#m7f426ef680\" x=\"367.429986\" y=\"58.022012\" style=\"fill: #1f77b4; stroke: #1f77b4\"/>\n",
       "     <use xlink:href=\"#m7f426ef680\" x=\"367.754966\" y=\"89.126012\" style=\"fill: #1f77b4; stroke: #1f77b4\"/>\n",
       "     <use xlink:href=\"#m7f426ef680\" x=\"368.079945\" y=\"134.394745\" style=\"fill: #1f77b4; stroke: #1f77b4\"/>\n",
       "     <use xlink:href=\"#m7f426ef680\" x=\"368.404925\" y=\"57.291871\" style=\"fill: #1f77b4; stroke: #1f77b4\"/>\n",
       "     <use xlink:href=\"#m7f426ef680\" x=\"368.729904\" y=\"57.048491\" style=\"fill: #1f77b4; stroke: #1f77b4\"/>\n",
       "     <use xlink:href=\"#m7f426ef680\" x=\"369.054884\" y=\"136.147083\" style=\"fill: #1f77b4; stroke: #1f77b4\"/>\n",
       "     <use xlink:href=\"#m7f426ef680\" x=\"369.379863\" y=\"76.762294\" style=\"fill: #1f77b4; stroke: #1f77b4\"/>\n",
       "     <use xlink:href=\"#m7f426ef680\" x=\"369.704843\" y=\"56.31835\" style=\"fill: #1f77b4; stroke: #1f77b4\"/>\n",
       "     <use xlink:href=\"#m7f426ef680\" x=\"370.029822\" y=\"150.7499\" style=\"fill: #1f77b4; stroke: #1f77b4\"/>\n",
       "     <use xlink:href=\"#m7f426ef680\" x=\"370.354802\" y=\"89.418069\" style=\"fill: #1f77b4; stroke: #1f77b4\"/>\n",
       "     <use xlink:href=\"#m7f426ef680\" x=\"370.679781\" y=\"61.38066\" style=\"fill: #1f77b4; stroke: #1f77b4\"/>\n",
       "     <use xlink:href=\"#m7f426ef680\" x=\"371.004761\" y=\"129.137731\" style=\"fill: #1f77b4; stroke: #1f77b4\"/>\n",
       "     <use xlink:href=\"#m7f426ef680\" x=\"371.32974\" y=\"55.101449\" style=\"fill: #1f77b4; stroke: #1f77b4\"/>\n",
       "     <use xlink:href=\"#m7f426ef680\" x=\"371.65472\" y=\"66.929731\" style=\"fill: #1f77b4; stroke: #1f77b4\"/>\n",
       "     <use xlink:href=\"#m7f426ef680\" x=\"371.9797\" y=\"128.553618\" style=\"fill: #1f77b4; stroke: #1f77b4\"/>\n",
       "     <use xlink:href=\"#m7f426ef680\" x=\"372.304679\" y=\"86.205449\" style=\"fill: #1f77b4; stroke: #1f77b4\"/>\n",
       "     <use xlink:href=\"#m7f426ef680\" x=\"372.629659\" y=\"64.301224\" style=\"fill: #1f77b4; stroke: #1f77b4\"/>\n",
       "     <use xlink:href=\"#m7f426ef680\" x=\"372.954638\" y=\"141.98821\" style=\"fill: #1f77b4; stroke: #1f77b4\"/>\n",
       "     <use xlink:href=\"#m7f426ef680\" x=\"373.279618\" y=\"53.641167\" style=\"fill: #1f77b4; stroke: #1f77b4\"/>\n",
       "     <use xlink:href=\"#m7f426ef680\" x=\"373.604597\" y=\"53.397787\" style=\"fill: #1f77b4; stroke: #1f77b4\"/>\n",
       "     <use xlink:href=\"#m7f426ef680\" x=\"373.929577\" y=\"127.677449\" style=\"fill: #1f77b4; stroke: #1f77b4\"/>\n",
       "     <use xlink:href=\"#m7f426ef680\" x=\"374.254556\" y=\"52.911026\" style=\"fill: #1f77b4; stroke: #1f77b4\"/>\n",
       "     <use xlink:href=\"#m7f426ef680\" x=\"374.579536\" y=\"101.100322\" style=\"fill: #1f77b4; stroke: #1f77b4\"/>\n",
       "     <use xlink:href=\"#m7f426ef680\" x=\"374.904515\" y=\"127.093336\" style=\"fill: #1f77b4; stroke: #1f77b4\"/>\n",
       "     <use xlink:href=\"#m7f426ef680\" x=\"375.229495\" y=\"57.291871\" style=\"fill: #1f77b4; stroke: #1f77b4\"/>\n",
       "     <use xlink:href=\"#m7f426ef680\" x=\"375.554474\" y=\"51.937505\" style=\"fill: #1f77b4; stroke: #1f77b4\"/>\n",
       "     <use xlink:href=\"#m7f426ef680\" x=\"375.879454\" y=\"136.147083\" style=\"fill: #1f77b4; stroke: #1f77b4\"/>\n",
       "     <use xlink:href=\"#m7f426ef680\" x=\"376.204433\" y=\"51.450745\" style=\"fill: #1f77b4; stroke: #1f77b4\"/>\n",
       "     <use xlink:href=\"#m7f426ef680\" x=\"376.529413\" y=\"78.709336\" style=\"fill: #1f77b4; stroke: #1f77b4\"/>\n",
       "     <use xlink:href=\"#m7f426ef680\" x=\"376.854392\" y=\"147.53728\" style=\"fill: #1f77b4; stroke: #1f77b4\"/>\n",
       "     <use xlink:href=\"#m7f426ef680\" x=\"377.179372\" y=\"55.539533\" style=\"fill: #1f77b4; stroke: #1f77b4\"/>\n",
       "     <use xlink:href=\"#m7f426ef680\" x=\"377.504351\" y=\"50.477224\" style=\"fill: #1f77b4; stroke: #1f77b4\"/>\n",
       "     <use xlink:href=\"#m7f426ef680\" x=\"377.829331\" y=\"134.394745\" style=\"fill: #1f77b4; stroke: #1f77b4\"/>\n",
       "     <use xlink:href=\"#m7f426ef680\" x=\"378.154311\" y=\"54.858069\" style=\"fill: #1f77b4; stroke: #1f77b4\"/>\n",
       "     <use xlink:href=\"#m7f426ef680\" x=\"378.47929\" y=\"49.747083\" style=\"fill: #1f77b4; stroke: #1f77b4\"/>\n",
       "     <use xlink:href=\"#m7f426ef680\" x=\"378.80427\" y=\"137.315308\" style=\"fill: #1f77b4; stroke: #1f77b4\"/>\n",
       "     <use xlink:href=\"#m7f426ef680\" x=\"379.129249\" y=\"92.338632\" style=\"fill: #1f77b4; stroke: #1f77b4\"/>\n",
       "     <use xlink:href=\"#m7f426ef680\" x=\"379.454229\" y=\"49.016942\" style=\"fill: #1f77b4; stroke: #1f77b4\"/>\n",
       "     <use xlink:href=\"#m7f426ef680\" x=\"379.779208\" y=\"124.756886\" style=\"fill: #1f77b4; stroke: #1f77b4\"/>\n",
       "     <use xlink:href=\"#m7f426ef680\" x=\"380.104188\" y=\"83.576942\" style=\"fill: #1f77b4; stroke: #1f77b4\"/>\n",
       "     <use xlink:href=\"#m7f426ef680\" x=\"380.429167\" y=\"48.286801\" style=\"fill: #1f77b4; stroke: #1f77b4\"/>\n",
       "     <use xlink:href=\"#m7f426ef680\" x=\"380.754147\" y=\"129.527139\" style=\"fill: #1f77b4; stroke: #1f77b4\"/>\n",
       "     <use xlink:href=\"#m7f426ef680\" x=\"381.079126\" y=\"47.80004\" style=\"fill: #1f77b4; stroke: #1f77b4\"/>\n",
       "     <use xlink:href=\"#m7f426ef680\" x=\"381.404106\" y=\"94.09097\" style=\"fill: #1f77b4; stroke: #1f77b4\"/>\n",
       "     <use xlink:href=\"#m7f426ef680\" x=\"381.729085\" y=\"123.686012\" style=\"fill: #1f77b4; stroke: #1f77b4\"/>\n",
       "     <use xlink:href=\"#m7f426ef680\" x=\"382.054065\" y=\"47.0699\" style=\"fill: #1f77b4; stroke: #1f77b4\"/>\n",
       "     <use xlink:href=\"#m7f426ef680\" x=\"382.379044\" y=\"46.826519\" style=\"fill: #1f77b4; stroke: #1f77b4\"/>\n",
       "     <use xlink:href=\"#m7f426ef680\" x=\"382.704024\" y=\"123.296604\" style=\"fill: #1f77b4; stroke: #1f77b4\"/>\n",
       "     <use xlink:href=\"#m7f426ef680\" x=\"383.029003\" y=\"64.301224\" style=\"fill: #1f77b4; stroke: #1f77b4\"/>\n",
       "     <use xlink:href=\"#m7f426ef680\" x=\"383.353983\" y=\"46.096379\" style=\"fill: #1f77b4; stroke: #1f77b4\"/>\n",
       "     <use xlink:href=\"#m7f426ef680\" x=\"383.678962\" y=\"159.51159\" style=\"fill: #1f77b4; stroke: #1f77b4\"/>\n",
       "     <use xlink:href=\"#m7f426ef680\" x=\"384.003942\" y=\"58.16804\" style=\"fill: #1f77b4; stroke: #1f77b4\"/>\n",
       "     <use xlink:href=\"#m7f426ef680\" x=\"384.328921\" y=\"45.366238\" style=\"fill: #1f77b4; stroke: #1f77b4\"/>\n",
       "     <use xlink:href=\"#m7f426ef680\" x=\"384.653901\" y=\"122.225731\" style=\"fill: #1f77b4; stroke: #1f77b4\"/>\n",
       "     <use xlink:href=\"#m7f426ef680\" x=\"384.978881\" y=\"44.879477\" style=\"fill: #1f77b4; stroke: #1f77b4\"/>\n",
       "     <use xlink:href=\"#m7f426ef680\" x=\"385.30386\" y=\"44.636097\" style=\"fill: #1f77b4; stroke: #1f77b4\"/>\n",
       "     <use xlink:href=\"#m7f426ef680\" x=\"385.62884\" y=\"122.128379\" style=\"fill: #1f77b4; stroke: #1f77b4\"/>\n",
       "     <use xlink:href=\"#m7f426ef680\" x=\"385.953819\" y=\"88.249843\" style=\"fill: #1f77b4; stroke: #1f77b4\"/>\n",
       "     <use xlink:href=\"#m7f426ef680\" x=\"386.278799\" y=\"43.905956\" style=\"fill: #1f77b4; stroke: #1f77b4\"/>\n",
       "     <use xlink:href=\"#m7f426ef680\" x=\"386.603778\" y=\"121.25221\" style=\"fill: #1f77b4; stroke: #1f77b4\"/>\n",
       "     <use xlink:href=\"#m7f426ef680\" x=\"386.928758\" y=\"57.486576\" style=\"fill: #1f77b4; stroke: #1f77b4\"/>\n",
       "     <use xlink:href=\"#m7f426ef680\" x=\"387.253737\" y=\"83.576942\" style=\"fill: #1f77b4; stroke: #1f77b4\"/>\n",
       "     <use xlink:href=\"#m7f426ef680\" x=\"387.578717\" y=\"128.553618\" style=\"fill: #1f77b4; stroke: #1f77b4\"/>\n",
       "     <use xlink:href=\"#m7f426ef680\" x=\"387.903696\" y=\"42.689055\" style=\"fill: #1f77b4; stroke: #1f77b4\"/>\n",
       "     <use xlink:href=\"#m7f426ef680\" x=\"388.228676\" y=\"75.983477\" style=\"fill: #1f77b4; stroke: #1f77b4\"/>\n",
       "     <use xlink:href=\"#m7f426ef680\" x=\"388.553655\" y=\"120.37604\" style=\"fill: #1f77b4; stroke: #1f77b4\"/>\n",
       "     <use xlink:href=\"#m7f426ef680\" x=\"388.878635\" y=\"41.958914\" style=\"fill: #1f77b4; stroke: #1f77b4\"/>\n",
       "     <use xlink:href=\"#m7f426ef680\" x=\"389.203614\" y=\"49.990463\" style=\"fill: #1f77b4; stroke: #1f77b4\"/>\n",
       "     <use xlink:href=\"#m7f426ef680\" x=\"389.528594\" y=\"119.791928\" style=\"fill: #1f77b4; stroke: #1f77b4\"/>\n",
       "     <use xlink:href=\"#m7f426ef680\" x=\"389.853573\" y=\"41.228773\" style=\"fill: #1f77b4; stroke: #1f77b4\"/>\n",
       "     <use xlink:href=\"#m7f426ef680\" x=\"390.178553\" y=\"53.787195\" style=\"fill: #1f77b4; stroke: #1f77b4\"/>\n",
       "     <use xlink:href=\"#m7f426ef680\" x=\"390.503532\" y=\"141.98821\" style=\"fill: #1f77b4; stroke: #1f77b4\"/>\n",
       "     <use xlink:href=\"#m7f426ef680\" x=\"390.828512\" y=\"62.159477\" style=\"fill: #1f77b4; stroke: #1f77b4\"/>\n",
       "     <use xlink:href=\"#m7f426ef680\" x=\"391.153492\" y=\"45.025505\" style=\"fill: #1f77b4; stroke: #1f77b4\"/>\n",
       "     <use xlink:href=\"#m7f426ef680\" x=\"391.478471\" y=\"132.642407\" style=\"fill: #1f77b4; stroke: #1f77b4\"/>\n",
       "     <use xlink:href=\"#m7f426ef680\" x=\"391.803451\" y=\"39.768491\" style=\"fill: #1f77b4; stroke: #1f77b4\"/>\n",
       "     <use xlink:href=\"#m7f426ef680\" x=\"392.12843\" y=\"46.777843\" style=\"fill: #1f77b4; stroke: #1f77b4\"/>\n",
       "     <use xlink:href=\"#m7f426ef680\" x=\"392.45341\" y=\"128.358914\" style=\"fill: #1f77b4; stroke: #1f77b4\"/>\n",
       "     <use xlink:href=\"#m7f426ef680\" x=\"392.778389\" y=\"73.939083\" style=\"fill: #1f77b4; stroke: #1f77b4\"/>\n",
       "     <use xlink:href=\"#m7f426ef680\" x=\"393.103369\" y=\"45.317562\" style=\"fill: #1f77b4; stroke: #1f77b4\"/>\n",
       "     <use xlink:href=\"#m7f426ef680\" x=\"393.428348\" y=\"117.844886\" style=\"fill: #1f77b4; stroke: #1f77b4\"/>\n",
       "     <use xlink:href=\"#m7f426ef680\" x=\"393.753328\" y=\"38.30821\" style=\"fill: #1f77b4; stroke: #1f77b4\"/>\n",
       "     <use xlink:href=\"#m7f426ef680\" x=\"394.078307\" y=\"38.064829\" style=\"fill: #1f77b4; stroke: #1f77b4\"/>\n",
       "     <use xlink:href=\"#m7f426ef680\" x=\"394.403287\" y=\"131.766238\" style=\"fill: #1f77b4; stroke: #1f77b4\"/>\n",
       "     <use xlink:href=\"#m7f426ef680\" x=\"394.728266\" y=\"37.578069\" style=\"fill: #1f77b4; stroke: #1f77b4\"/>\n",
       "     <use xlink:href=\"#m7f426ef680\" x=\"395.053246\" y=\"83.576942\" style=\"fill: #1f77b4; stroke: #1f77b4\"/>\n",
       "     <use xlink:href=\"#m7f426ef680\" x=\"395.378225\" y=\"123.686012\" style=\"fill: #1f77b4; stroke: #1f77b4\"/>\n",
       "     <use xlink:href=\"#m7f426ef680\" x=\"395.703205\" y=\"55.539533\" style=\"fill: #1f77b4; stroke: #1f77b4\"/>\n",
       "     <use xlink:href=\"#m7f426ef680\" x=\"396.028184\" y=\"36.604548\" style=\"fill: #1f77b4; stroke: #1f77b4\"/>\n",
       "     <use xlink:href=\"#m7f426ef680\" x=\"396.353164\" y=\"125.633055\" style=\"fill: #1f77b4; stroke: #1f77b4\"/>\n",
       "     <use xlink:href=\"#m7f426ef680\" x=\"396.678143\" y=\"36.117787\" style=\"fill: #1f77b4; stroke: #1f77b4\"/>\n",
       "     <use xlink:href=\"#m7f426ef680\" x=\"397.003123\" y=\"42.689055\" style=\"fill: #1f77b4; stroke: #1f77b4\"/>\n",
       "     <use xlink:href=\"#m7f426ef680\" x=\"397.328102\" y=\"139.651759\" style=\"fill: #1f77b4; stroke: #1f77b4\"/>\n",
       "     <use xlink:href=\"#m7f426ef680\" x=\"397.653082\" y=\"35.387646\" style=\"fill: #1f77b4; stroke: #1f77b4\"/>\n",
       "     <use xlink:href=\"#m7f426ef680\" x=\"397.978062\" y=\"73.841731\" style=\"fill: #1f77b4; stroke: #1f77b4\"/>\n",
       "     <use xlink:href=\"#m7f426ef680\" x=\"398.303041\" y=\"115.411083\" style=\"fill: #1f77b4; stroke: #1f77b4\"/>\n",
       "     <use xlink:href=\"#m7f426ef680\" x=\"398.628021\" y=\"34.657505\" style=\"fill: #1f77b4; stroke: #1f77b4\"/>\n",
       "     <use xlink:href=\"#m7f426ef680\" x=\"398.953\" y=\"34.414125\" style=\"fill: #1f77b4; stroke: #1f77b4\"/>\n",
       "     <use xlink:href=\"#m7f426ef680\" x=\"399.27798\" y=\"121.544266\" style=\"fill: #1f77b4; stroke: #1f77b4\"/>\n",
       "     <use xlink:href=\"#m7f426ef680\" x=\"399.602959\" y=\"68.682069\" style=\"fill: #1f77b4; stroke: #1f77b4\"/>\n",
       "     <use xlink:href=\"#m7f426ef680\" x=\"399.927939\" y=\"56.123646\" style=\"fill: #1f77b4; stroke: #1f77b4\"/>\n",
       "     <use xlink:href=\"#m7f426ef680\" x=\"400.252918\" y=\"114.534914\" style=\"fill: #1f77b4; stroke: #1f77b4\"/>\n",
       "     <use xlink:href=\"#m7f426ef680\" x=\"400.577898\" y=\"38.016153\" style=\"fill: #1f77b4; stroke: #1f77b4\"/>\n",
       "    </g>\n",
       "   </g>\n",
       "   <g id=\"matplotlib.axis_1\">\n",
       "    <g id=\"xtick_1\">\n",
       "     <g id=\"line2d_1\">\n",
       "      <path d=\"M 75.890854 288.430125 \n",
       "L 75.890854 22.318125 \n",
       "\" clip-path=\"url(#p6b0187088b)\" style=\"fill: none; stroke: #b0b0b0; stroke-width: 0.8; stroke-linecap: square\"/>\n",
       "     </g>\n",
       "     <g id=\"line2d_2\">\n",
       "      <defs>\n",
       "       <path id=\"m104ec7c251\" d=\"M 0 0 \n",
       "L 0 3.5 \n",
       "\" style=\"stroke: #000000; stroke-width: 0.8\"/>\n",
       "      </defs>\n",
       "      <g>\n",
       "       <use xlink:href=\"#m104ec7c251\" x=\"75.890854\" y=\"288.430125\" style=\"stroke: #000000; stroke-width: 0.8\"/>\n",
       "      </g>\n",
       "     </g>\n",
       "     <g id=\"text_1\">\n",
       "      <!-- 0 -->\n",
       "      <g transform=\"translate(72.709604 303.028562) scale(0.1 -0.1)\">\n",
       "       <defs>\n",
       "        <path id=\"DejaVuSans-30\" d=\"M 2034 4250 \n",
       "Q 1547 4250 1301 3770 \n",
       "Q 1056 3291 1056 2328 \n",
       "Q 1056 1369 1301 889 \n",
       "Q 1547 409 2034 409 \n",
       "Q 2525 409 2770 889 \n",
       "Q 3016 1369 3016 2328 \n",
       "Q 3016 3291 2770 3770 \n",
       "Q 2525 4250 2034 4250 \n",
       "z\n",
       "M 2034 4750 \n",
       "Q 2819 4750 3233 4129 \n",
       "Q 3647 3509 3647 2328 \n",
       "Q 3647 1150 3233 529 \n",
       "Q 2819 -91 2034 -91 \n",
       "Q 1250 -91 836 529 \n",
       "Q 422 1150 422 2328 \n",
       "Q 422 3509 836 4129 \n",
       "Q 1250 4750 2034 4750 \n",
       "z\n",
       "\" transform=\"scale(0.015625)\"/>\n",
       "       </defs>\n",
       "       <use xlink:href=\"#DejaVuSans-30\"/>\n",
       "      </g>\n",
       "     </g>\n",
       "    </g>\n",
       "    <g id=\"xtick_2\">\n",
       "     <g id=\"line2d_3\">\n",
       "      <path d=\"M 140.886759 288.430125 \n",
       "L 140.886759 22.318125 \n",
       "\" clip-path=\"url(#p6b0187088b)\" style=\"fill: none; stroke: #b0b0b0; stroke-width: 0.8; stroke-linecap: square\"/>\n",
       "     </g>\n",
       "     <g id=\"line2d_4\">\n",
       "      <g>\n",
       "       <use xlink:href=\"#m104ec7c251\" x=\"140.886759\" y=\"288.430125\" style=\"stroke: #000000; stroke-width: 0.8\"/>\n",
       "      </g>\n",
       "     </g>\n",
       "     <g id=\"text_2\">\n",
       "      <!-- 2000 -->\n",
       "      <g transform=\"translate(128.161759 303.028562) scale(0.1 -0.1)\">\n",
       "       <defs>\n",
       "        <path id=\"DejaVuSans-32\" d=\"M 1228 531 \n",
       "L 3431 531 \n",
       "L 3431 0 \n",
       "L 469 0 \n",
       "L 469 531 \n",
       "Q 828 903 1448 1529 \n",
       "Q 2069 2156 2228 2338 \n",
       "Q 2531 2678 2651 2914 \n",
       "Q 2772 3150 2772 3378 \n",
       "Q 2772 3750 2511 3984 \n",
       "Q 2250 4219 1831 4219 \n",
       "Q 1534 4219 1204 4116 \n",
       "Q 875 4013 500 3803 \n",
       "L 500 4441 \n",
       "Q 881 4594 1212 4672 \n",
       "Q 1544 4750 1819 4750 \n",
       "Q 2544 4750 2975 4387 \n",
       "Q 3406 4025 3406 3419 \n",
       "Q 3406 3131 3298 2873 \n",
       "Q 3191 2616 2906 2266 \n",
       "Q 2828 2175 2409 1742 \n",
       "Q 1991 1309 1228 531 \n",
       "z\n",
       "\" transform=\"scale(0.015625)\"/>\n",
       "       </defs>\n",
       "       <use xlink:href=\"#DejaVuSans-32\"/>\n",
       "       <use xlink:href=\"#DejaVuSans-30\" x=\"63.623047\"/>\n",
       "       <use xlink:href=\"#DejaVuSans-30\" x=\"127.246094\"/>\n",
       "       <use xlink:href=\"#DejaVuSans-30\" x=\"190.869141\"/>\n",
       "      </g>\n",
       "     </g>\n",
       "    </g>\n",
       "    <g id=\"xtick_3\">\n",
       "     <g id=\"line2d_5\">\n",
       "      <path d=\"M 205.882664 288.430125 \n",
       "L 205.882664 22.318125 \n",
       "\" clip-path=\"url(#p6b0187088b)\" style=\"fill: none; stroke: #b0b0b0; stroke-width: 0.8; stroke-linecap: square\"/>\n",
       "     </g>\n",
       "     <g id=\"line2d_6\">\n",
       "      <g>\n",
       "       <use xlink:href=\"#m104ec7c251\" x=\"205.882664\" y=\"288.430125\" style=\"stroke: #000000; stroke-width: 0.8\"/>\n",
       "      </g>\n",
       "     </g>\n",
       "     <g id=\"text_3\">\n",
       "      <!-- 4000 -->\n",
       "      <g transform=\"translate(193.157664 303.028562) scale(0.1 -0.1)\">\n",
       "       <defs>\n",
       "        <path id=\"DejaVuSans-34\" d=\"M 2419 4116 \n",
       "L 825 1625 \n",
       "L 2419 1625 \n",
       "L 2419 4116 \n",
       "z\n",
       "M 2253 4666 \n",
       "L 3047 4666 \n",
       "L 3047 1625 \n",
       "L 3713 1625 \n",
       "L 3713 1100 \n",
       "L 3047 1100 \n",
       "L 3047 0 \n",
       "L 2419 0 \n",
       "L 2419 1100 \n",
       "L 313 1100 \n",
       "L 313 1709 \n",
       "L 2253 4666 \n",
       "z\n",
       "\" transform=\"scale(0.015625)\"/>\n",
       "       </defs>\n",
       "       <use xlink:href=\"#DejaVuSans-34\"/>\n",
       "       <use xlink:href=\"#DejaVuSans-30\" x=\"63.623047\"/>\n",
       "       <use xlink:href=\"#DejaVuSans-30\" x=\"127.246094\"/>\n",
       "       <use xlink:href=\"#DejaVuSans-30\" x=\"190.869141\"/>\n",
       "      </g>\n",
       "     </g>\n",
       "    </g>\n",
       "    <g id=\"xtick_4\">\n",
       "     <g id=\"line2d_7\">\n",
       "      <path d=\"M 270.878569 288.430125 \n",
       "L 270.878569 22.318125 \n",
       "\" clip-path=\"url(#p6b0187088b)\" style=\"fill: none; stroke: #b0b0b0; stroke-width: 0.8; stroke-linecap: square\"/>\n",
       "     </g>\n",
       "     <g id=\"line2d_8\">\n",
       "      <g>\n",
       "       <use xlink:href=\"#m104ec7c251\" x=\"270.878569\" y=\"288.430125\" style=\"stroke: #000000; stroke-width: 0.8\"/>\n",
       "      </g>\n",
       "     </g>\n",
       "     <g id=\"text_4\">\n",
       "      <!-- 6000 -->\n",
       "      <g transform=\"translate(258.153569 303.028562) scale(0.1 -0.1)\">\n",
       "       <defs>\n",
       "        <path id=\"DejaVuSans-36\" d=\"M 2113 2584 \n",
       "Q 1688 2584 1439 2293 \n",
       "Q 1191 2003 1191 1497 \n",
       "Q 1191 994 1439 701 \n",
       "Q 1688 409 2113 409 \n",
       "Q 2538 409 2786 701 \n",
       "Q 3034 994 3034 1497 \n",
       "Q 3034 2003 2786 2293 \n",
       "Q 2538 2584 2113 2584 \n",
       "z\n",
       "M 3366 4563 \n",
       "L 3366 3988 \n",
       "Q 3128 4100 2886 4159 \n",
       "Q 2644 4219 2406 4219 \n",
       "Q 1781 4219 1451 3797 \n",
       "Q 1122 3375 1075 2522 \n",
       "Q 1259 2794 1537 2939 \n",
       "Q 1816 3084 2150 3084 \n",
       "Q 2853 3084 3261 2657 \n",
       "Q 3669 2231 3669 1497 \n",
       "Q 3669 778 3244 343 \n",
       "Q 2819 -91 2113 -91 \n",
       "Q 1303 -91 875 529 \n",
       "Q 447 1150 447 2328 \n",
       "Q 447 3434 972 4092 \n",
       "Q 1497 4750 2381 4750 \n",
       "Q 2619 4750 2861 4703 \n",
       "Q 3103 4656 3366 4563 \n",
       "z\n",
       "\" transform=\"scale(0.015625)\"/>\n",
       "       </defs>\n",
       "       <use xlink:href=\"#DejaVuSans-36\"/>\n",
       "       <use xlink:href=\"#DejaVuSans-30\" x=\"63.623047\"/>\n",
       "       <use xlink:href=\"#DejaVuSans-30\" x=\"127.246094\"/>\n",
       "       <use xlink:href=\"#DejaVuSans-30\" x=\"190.869141\"/>\n",
       "      </g>\n",
       "     </g>\n",
       "    </g>\n",
       "    <g id=\"xtick_5\">\n",
       "     <g id=\"line2d_9\">\n",
       "      <path d=\"M 335.874474 288.430125 \n",
       "L 335.874474 22.318125 \n",
       "\" clip-path=\"url(#p6b0187088b)\" style=\"fill: none; stroke: #b0b0b0; stroke-width: 0.8; stroke-linecap: square\"/>\n",
       "     </g>\n",
       "     <g id=\"line2d_10\">\n",
       "      <g>\n",
       "       <use xlink:href=\"#m104ec7c251\" x=\"335.874474\" y=\"288.430125\" style=\"stroke: #000000; stroke-width: 0.8\"/>\n",
       "      </g>\n",
       "     </g>\n",
       "     <g id=\"text_5\">\n",
       "      <!-- 8000 -->\n",
       "      <g transform=\"translate(323.149474 303.028562) scale(0.1 -0.1)\">\n",
       "       <defs>\n",
       "        <path id=\"DejaVuSans-38\" d=\"M 2034 2216 \n",
       "Q 1584 2216 1326 1975 \n",
       "Q 1069 1734 1069 1313 \n",
       "Q 1069 891 1326 650 \n",
       "Q 1584 409 2034 409 \n",
       "Q 2484 409 2743 651 \n",
       "Q 3003 894 3003 1313 \n",
       "Q 3003 1734 2745 1975 \n",
       "Q 2488 2216 2034 2216 \n",
       "z\n",
       "M 1403 2484 \n",
       "Q 997 2584 770 2862 \n",
       "Q 544 3141 544 3541 \n",
       "Q 544 4100 942 4425 \n",
       "Q 1341 4750 2034 4750 \n",
       "Q 2731 4750 3128 4425 \n",
       "Q 3525 4100 3525 3541 \n",
       "Q 3525 3141 3298 2862 \n",
       "Q 3072 2584 2669 2484 \n",
       "Q 3125 2378 3379 2068 \n",
       "Q 3634 1759 3634 1313 \n",
       "Q 3634 634 3220 271 \n",
       "Q 2806 -91 2034 -91 \n",
       "Q 1263 -91 848 271 \n",
       "Q 434 634 434 1313 \n",
       "Q 434 1759 690 2068 \n",
       "Q 947 2378 1403 2484 \n",
       "z\n",
       "M 1172 3481 \n",
       "Q 1172 3119 1398 2916 \n",
       "Q 1625 2713 2034 2713 \n",
       "Q 2441 2713 2670 2916 \n",
       "Q 2900 3119 2900 3481 \n",
       "Q 2900 3844 2670 4047 \n",
       "Q 2441 4250 2034 4250 \n",
       "Q 1625 4250 1398 4047 \n",
       "Q 1172 3844 1172 3481 \n",
       "z\n",
       "\" transform=\"scale(0.015625)\"/>\n",
       "       </defs>\n",
       "       <use xlink:href=\"#DejaVuSans-38\"/>\n",
       "       <use xlink:href=\"#DejaVuSans-30\" x=\"63.623047\"/>\n",
       "       <use xlink:href=\"#DejaVuSans-30\" x=\"127.246094\"/>\n",
       "       <use xlink:href=\"#DejaVuSans-30\" x=\"190.869141\"/>\n",
       "      </g>\n",
       "     </g>\n",
       "    </g>\n",
       "    <g id=\"xtick_6\">\n",
       "     <g id=\"line2d_11\">\n",
       "      <path d=\"M 400.870379 288.430125 \n",
       "L 400.870379 22.318125 \n",
       "\" clip-path=\"url(#p6b0187088b)\" style=\"fill: none; stroke: #b0b0b0; stroke-width: 0.8; stroke-linecap: square\"/>\n",
       "     </g>\n",
       "     <g id=\"line2d_12\">\n",
       "      <g>\n",
       "       <use xlink:href=\"#m104ec7c251\" x=\"400.870379\" y=\"288.430125\" style=\"stroke: #000000; stroke-width: 0.8\"/>\n",
       "      </g>\n",
       "     </g>\n",
       "     <g id=\"text_6\">\n",
       "      <!-- 10000 -->\n",
       "      <g transform=\"translate(384.964129 303.028562) scale(0.1 -0.1)\">\n",
       "       <defs>\n",
       "        <path id=\"DejaVuSans-31\" d=\"M 794 531 \n",
       "L 1825 531 \n",
       "L 1825 4091 \n",
       "L 703 3866 \n",
       "L 703 4441 \n",
       "L 1819 4666 \n",
       "L 2450 4666 \n",
       "L 2450 531 \n",
       "L 3481 531 \n",
       "L 3481 0 \n",
       "L 794 0 \n",
       "L 794 531 \n",
       "z\n",
       "\" transform=\"scale(0.015625)\"/>\n",
       "       </defs>\n",
       "       <use xlink:href=\"#DejaVuSans-31\"/>\n",
       "       <use xlink:href=\"#DejaVuSans-30\" x=\"63.623047\"/>\n",
       "       <use xlink:href=\"#DejaVuSans-30\" x=\"127.246094\"/>\n",
       "       <use xlink:href=\"#DejaVuSans-30\" x=\"190.869141\"/>\n",
       "       <use xlink:href=\"#DejaVuSans-30\" x=\"254.492188\"/>\n",
       "      </g>\n",
       "     </g>\n",
       "    </g>\n",
       "    <g id=\"text_7\">\n",
       "     <!-- $n$ -->\n",
       "     <g transform=\"translate(235.050625 316.706687) scale(0.1 -0.1)\">\n",
       "      <defs>\n",
       "       <path id=\"DejaVuSans-Oblique-6e\" d=\"M 3566 2113 \n",
       "L 3156 0 \n",
       "L 2578 0 \n",
       "L 2988 2091 \n",
       "Q 3016 2238 3031 2350 \n",
       "Q 3047 2463 3047 2528 \n",
       "Q 3047 2791 2881 2937 \n",
       "Q 2716 3084 2419 3084 \n",
       "Q 1956 3084 1622 2776 \n",
       "Q 1288 2469 1184 1941 \n",
       "L 800 0 \n",
       "L 225 0 \n",
       "L 903 3500 \n",
       "L 1478 3500 \n",
       "L 1363 2950 \n",
       "Q 1603 3253 1940 3418 \n",
       "Q 2278 3584 2650 3584 \n",
       "Q 3113 3584 3367 3334 \n",
       "Q 3622 3084 3622 2631 \n",
       "Q 3622 2519 3608 2391 \n",
       "Q 3594 2263 3566 2113 \n",
       "z\n",
       "\" transform=\"scale(0.015625)\"/>\n",
       "      </defs>\n",
       "      <use xlink:href=\"#DejaVuSans-Oblique-6e\"/>\n",
       "     </g>\n",
       "    </g>\n",
       "   </g>\n",
       "   <g id=\"matplotlib.axis_2\">\n",
       "    <g id=\"ytick_1\">\n",
       "     <g id=\"line2d_13\">\n",
       "      <path d=\"M 59.690625 276.334125 \n",
       "L 416.810625 276.334125 \n",
       "\" clip-path=\"url(#p6b0187088b)\" style=\"fill: none; stroke: #b0b0b0; stroke-width: 0.8; stroke-linecap: square\"/>\n",
       "     </g>\n",
       "     <g id=\"line2d_14\">\n",
       "      <defs>\n",
       "       <path id=\"m041b33cb16\" d=\"M 0 0 \n",
       "L -3.5 0 \n",
       "\" style=\"stroke: #000000; stroke-width: 0.8\"/>\n",
       "      </defs>\n",
       "      <g>\n",
       "       <use xlink:href=\"#m041b33cb16\" x=\"59.690625\" y=\"276.334125\" style=\"stroke: #000000; stroke-width: 0.8\"/>\n",
       "      </g>\n",
       "     </g>\n",
       "     <g id=\"text_8\">\n",
       "      <!-- 0 -->\n",
       "      <g transform=\"translate(46.328125 280.133344) scale(0.1 -0.1)\">\n",
       "       <use xlink:href=\"#DejaVuSans-30\"/>\n",
       "      </g>\n",
       "     </g>\n",
       "    </g>\n",
       "    <g id=\"ytick_2\">\n",
       "     <g id=\"line2d_15\">\n",
       "      <path d=\"M 59.690625 227.658069 \n",
       "L 416.810625 227.658069 \n",
       "\" clip-path=\"url(#p6b0187088b)\" style=\"fill: none; stroke: #b0b0b0; stroke-width: 0.8; stroke-linecap: square\"/>\n",
       "     </g>\n",
       "     <g id=\"line2d_16\">\n",
       "      <g>\n",
       "       <use xlink:href=\"#m041b33cb16\" x=\"59.690625\" y=\"227.658069\" style=\"stroke: #000000; stroke-width: 0.8\"/>\n",
       "      </g>\n",
       "     </g>\n",
       "     <g id=\"text_9\">\n",
       "      <!-- 2000 -->\n",
       "      <g transform=\"translate(27.240625 231.457287) scale(0.1 -0.1)\">\n",
       "       <use xlink:href=\"#DejaVuSans-32\"/>\n",
       "       <use xlink:href=\"#DejaVuSans-30\" x=\"63.623047\"/>\n",
       "       <use xlink:href=\"#DejaVuSans-30\" x=\"127.246094\"/>\n",
       "       <use xlink:href=\"#DejaVuSans-30\" x=\"190.869141\"/>\n",
       "      </g>\n",
       "     </g>\n",
       "    </g>\n",
       "    <g id=\"ytick_3\">\n",
       "     <g id=\"line2d_17\">\n",
       "      <path d=\"M 59.690625 178.982012 \n",
       "L 416.810625 178.982012 \n",
       "\" clip-path=\"url(#p6b0187088b)\" style=\"fill: none; stroke: #b0b0b0; stroke-width: 0.8; stroke-linecap: square\"/>\n",
       "     </g>\n",
       "     <g id=\"line2d_18\">\n",
       "      <g>\n",
       "       <use xlink:href=\"#m041b33cb16\" x=\"59.690625\" y=\"178.982012\" style=\"stroke: #000000; stroke-width: 0.8\"/>\n",
       "      </g>\n",
       "     </g>\n",
       "     <g id=\"text_10\">\n",
       "      <!-- 4000 -->\n",
       "      <g transform=\"translate(27.240625 182.781231) scale(0.1 -0.1)\">\n",
       "       <use xlink:href=\"#DejaVuSans-34\"/>\n",
       "       <use xlink:href=\"#DejaVuSans-30\" x=\"63.623047\"/>\n",
       "       <use xlink:href=\"#DejaVuSans-30\" x=\"127.246094\"/>\n",
       "       <use xlink:href=\"#DejaVuSans-30\" x=\"190.869141\"/>\n",
       "      </g>\n",
       "     </g>\n",
       "    </g>\n",
       "    <g id=\"ytick_4\">\n",
       "     <g id=\"line2d_19\">\n",
       "      <path d=\"M 59.690625 130.305956 \n",
       "L 416.810625 130.305956 \n",
       "\" clip-path=\"url(#p6b0187088b)\" style=\"fill: none; stroke: #b0b0b0; stroke-width: 0.8; stroke-linecap: square\"/>\n",
       "     </g>\n",
       "     <g id=\"line2d_20\">\n",
       "      <g>\n",
       "       <use xlink:href=\"#m041b33cb16\" x=\"59.690625\" y=\"130.305956\" style=\"stroke: #000000; stroke-width: 0.8\"/>\n",
       "      </g>\n",
       "     </g>\n",
       "     <g id=\"text_11\">\n",
       "      <!-- 6000 -->\n",
       "      <g transform=\"translate(27.240625 134.105175) scale(0.1 -0.1)\">\n",
       "       <use xlink:href=\"#DejaVuSans-36\"/>\n",
       "       <use xlink:href=\"#DejaVuSans-30\" x=\"63.623047\"/>\n",
       "       <use xlink:href=\"#DejaVuSans-30\" x=\"127.246094\"/>\n",
       "       <use xlink:href=\"#DejaVuSans-30\" x=\"190.869141\"/>\n",
       "      </g>\n",
       "     </g>\n",
       "    </g>\n",
       "    <g id=\"ytick_5\">\n",
       "     <g id=\"line2d_21\">\n",
       "      <path d=\"M 59.690625 81.6299 \n",
       "L 416.810625 81.6299 \n",
       "\" clip-path=\"url(#p6b0187088b)\" style=\"fill: none; stroke: #b0b0b0; stroke-width: 0.8; stroke-linecap: square\"/>\n",
       "     </g>\n",
       "     <g id=\"line2d_22\">\n",
       "      <g>\n",
       "       <use xlink:href=\"#m041b33cb16\" x=\"59.690625\" y=\"81.6299\" style=\"stroke: #000000; stroke-width: 0.8\"/>\n",
       "      </g>\n",
       "     </g>\n",
       "     <g id=\"text_12\">\n",
       "      <!-- 8000 -->\n",
       "      <g transform=\"translate(27.240625 85.429118) scale(0.1 -0.1)\">\n",
       "       <use xlink:href=\"#DejaVuSans-38\"/>\n",
       "       <use xlink:href=\"#DejaVuSans-30\" x=\"63.623047\"/>\n",
       "       <use xlink:href=\"#DejaVuSans-30\" x=\"127.246094\"/>\n",
       "       <use xlink:href=\"#DejaVuSans-30\" x=\"190.869141\"/>\n",
       "      </g>\n",
       "     </g>\n",
       "    </g>\n",
       "    <g id=\"ytick_6\">\n",
       "     <g id=\"line2d_23\">\n",
       "      <path d=\"M 59.690625 32.953843 \n",
       "L 416.810625 32.953843 \n",
       "\" clip-path=\"url(#p6b0187088b)\" style=\"fill: none; stroke: #b0b0b0; stroke-width: 0.8; stroke-linecap: square\"/>\n",
       "     </g>\n",
       "     <g id=\"line2d_24\">\n",
       "      <g>\n",
       "       <use xlink:href=\"#m041b33cb16\" x=\"59.690625\" y=\"32.953843\" style=\"stroke: #000000; stroke-width: 0.8\"/>\n",
       "      </g>\n",
       "     </g>\n",
       "     <g id=\"text_13\">\n",
       "      <!-- 10000 -->\n",
       "      <g transform=\"translate(20.878125 36.753062) scale(0.1 -0.1)\">\n",
       "       <use xlink:href=\"#DejaVuSans-31\"/>\n",
       "       <use xlink:href=\"#DejaVuSans-30\" x=\"63.623047\"/>\n",
       "       <use xlink:href=\"#DejaVuSans-30\" x=\"127.246094\"/>\n",
       "       <use xlink:href=\"#DejaVuSans-30\" x=\"190.869141\"/>\n",
       "       <use xlink:href=\"#DejaVuSans-30\" x=\"254.492188\"/>\n",
       "      </g>\n",
       "     </g>\n",
       "    </g>\n",
       "    <g id=\"text_14\">\n",
       "     <!-- $\\phi(n) -->\n",
       "     <g transform=\"translate(14.798438 175.042094) rotate(-90) scale(0.1 -0.1)\">\n",
       "      <defs>\n",
       "       <path id=\"DejaVuSans-24\" d=\"M 2163 -941 \n",
       "L 1850 -941 \n",
       "L 1847 0 \n",
       "Q 1519 6 1191 76 \n",
       "Q 863 147 531 288 \n",
       "L 531 850 \n",
       "Q 850 650 1176 548 \n",
       "Q 1503 447 1850 444 \n",
       "L 1850 1869 \n",
       "Q 1159 1981 845 2250 \n",
       "Q 531 2519 531 2988 \n",
       "Q 531 3497 872 3790 \n",
       "Q 1213 4084 1850 4128 \n",
       "L 1850 4863 \n",
       "L 2163 4863 \n",
       "L 2163 4138 \n",
       "Q 2453 4125 2725 4076 \n",
       "Q 2997 4028 3256 3944 \n",
       "L 3256 3397 \n",
       "Q 2997 3528 2723 3600 \n",
       "Q 2450 3672 2163 3684 \n",
       "L 2163 2350 \n",
       "Q 2872 2241 3206 1959 \n",
       "Q 3541 1678 3541 1191 \n",
       "Q 3541 663 3186 358 \n",
       "Q 2831 53 2163 6 \n",
       "L 2163 -941 \n",
       "z\n",
       "M 1850 2406 \n",
       "L 1850 3688 \n",
       "Q 1488 3647 1297 3481 \n",
       "Q 1106 3316 1106 3041 \n",
       "Q 1106 2772 1282 2622 \n",
       "Q 1459 2472 1850 2406 \n",
       "z\n",
       "M 2163 1806 \n",
       "L 2163 453 \n",
       "Q 2559 506 2761 678 \n",
       "Q 2963 850 2963 1131 \n",
       "Q 2963 1406 2770 1568 \n",
       "Q 2578 1731 2163 1806 \n",
       "z\n",
       "\" transform=\"scale(0.015625)\"/>\n",
       "       <path id=\"DejaVuSans-5c\" d=\"M 531 4666 \n",
       "L 2156 -594 \n",
       "L 1625 -594 \n",
       "L 0 4666 \n",
       "L 531 4666 \n",
       "z\n",
       "\" transform=\"scale(0.015625)\"/>\n",
       "       <path id=\"DejaVuSans-70\" d=\"M 1159 525 \n",
       "L 1159 -1331 \n",
       "L 581 -1331 \n",
       "L 581 3500 \n",
       "L 1159 3500 \n",
       "L 1159 2969 \n",
       "Q 1341 3281 1617 3432 \n",
       "Q 1894 3584 2278 3584 \n",
       "Q 2916 3584 3314 3078 \n",
       "Q 3713 2572 3713 1747 \n",
       "Q 3713 922 3314 415 \n",
       "Q 2916 -91 2278 -91 \n",
       "Q 1894 -91 1617 61 \n",
       "Q 1341 213 1159 525 \n",
       "z\n",
       "M 3116 1747 \n",
       "Q 3116 2381 2855 2742 \n",
       "Q 2594 3103 2138 3103 \n",
       "Q 1681 3103 1420 2742 \n",
       "Q 1159 2381 1159 1747 \n",
       "Q 1159 1113 1420 752 \n",
       "Q 1681 391 2138 391 \n",
       "Q 2594 391 2855 752 \n",
       "Q 3116 1113 3116 1747 \n",
       "z\n",
       "\" transform=\"scale(0.015625)\"/>\n",
       "       <path id=\"DejaVuSans-68\" d=\"M 3513 2113 \n",
       "L 3513 0 \n",
       "L 2938 0 \n",
       "L 2938 2094 \n",
       "Q 2938 2591 2744 2837 \n",
       "Q 2550 3084 2163 3084 \n",
       "Q 1697 3084 1428 2787 \n",
       "Q 1159 2491 1159 1978 \n",
       "L 1159 0 \n",
       "L 581 0 \n",
       "L 581 4863 \n",
       "L 1159 4863 \n",
       "L 1159 2956 \n",
       "Q 1366 3272 1645 3428 \n",
       "Q 1925 3584 2291 3584 \n",
       "Q 2894 3584 3203 3211 \n",
       "Q 3513 2838 3513 2113 \n",
       "z\n",
       "\" transform=\"scale(0.015625)\"/>\n",
       "       <path id=\"DejaVuSans-69\" d=\"M 603 3500 \n",
       "L 1178 3500 \n",
       "L 1178 0 \n",
       "L 603 0 \n",
       "L 603 3500 \n",
       "z\n",
       "M 603 4863 \n",
       "L 1178 4863 \n",
       "L 1178 4134 \n",
       "L 603 4134 \n",
       "L 603 4863 \n",
       "z\n",
       "\" transform=\"scale(0.015625)\"/>\n",
       "       <path id=\"DejaVuSans-28\" d=\"M 1984 4856 \n",
       "Q 1566 4138 1362 3434 \n",
       "Q 1159 2731 1159 2009 \n",
       "Q 1159 1288 1364 580 \n",
       "Q 1569 -128 1984 -844 \n",
       "L 1484 -844 \n",
       "Q 1016 -109 783 600 \n",
       "Q 550 1309 550 2009 \n",
       "Q 550 2706 781 3412 \n",
       "Q 1013 4119 1484 4856 \n",
       "L 1984 4856 \n",
       "z\n",
       "\" transform=\"scale(0.015625)\"/>\n",
       "       <path id=\"DejaVuSans-6e\" d=\"M 3513 2113 \n",
       "L 3513 0 \n",
       "L 2938 0 \n",
       "L 2938 2094 \n",
       "Q 2938 2591 2744 2837 \n",
       "Q 2550 3084 2163 3084 \n",
       "Q 1697 3084 1428 2787 \n",
       "Q 1159 2491 1159 1978 \n",
       "L 1159 0 \n",
       "L 581 0 \n",
       "L 581 3500 \n",
       "L 1159 3500 \n",
       "L 1159 2956 \n",
       "Q 1366 3272 1645 3428 \n",
       "Q 1925 3584 2291 3584 \n",
       "Q 2894 3584 3203 3211 \n",
       "Q 3513 2838 3513 2113 \n",
       "z\n",
       "\" transform=\"scale(0.015625)\"/>\n",
       "       <path id=\"DejaVuSans-29\" d=\"M 513 4856 \n",
       "L 1013 4856 \n",
       "Q 1481 4119 1714 3412 \n",
       "Q 1947 2706 1947 2009 \n",
       "Q 1947 1309 1714 600 \n",
       "Q 1481 -109 1013 -844 \n",
       "L 513 -844 \n",
       "Q 928 -128 1133 580 \n",
       "Q 1338 1288 1338 2009 \n",
       "Q 1338 2731 1133 3434 \n",
       "Q 928 4138 513 4856 \n",
       "z\n",
       "\" transform=\"scale(0.015625)\"/>\n",
       "      </defs>\n",
       "      <use xlink:href=\"#DejaVuSans-24\"/>\n",
       "      <use xlink:href=\"#DejaVuSans-5c\" x=\"63.623047\"/>\n",
       "      <use xlink:href=\"#DejaVuSans-70\" x=\"97.314453\"/>\n",
       "      <use xlink:href=\"#DejaVuSans-68\" x=\"160.791016\"/>\n",
       "      <use xlink:href=\"#DejaVuSans-69\" x=\"224.169922\"/>\n",
       "      <use xlink:href=\"#DejaVuSans-28\" x=\"251.953125\"/>\n",
       "      <use xlink:href=\"#DejaVuSans-6e\" x=\"290.966797\"/>\n",
       "      <use xlink:href=\"#DejaVuSans-29\" x=\"354.345703\"/>\n",
       "     </g>\n",
       "    </g>\n",
       "   </g>\n",
       "   <g id=\"patch_3\">\n",
       "    <path d=\"M 59.690625 288.430125 \n",
       "L 59.690625 22.318125 \n",
       "\" style=\"fill: none; stroke: #000000; stroke-width: 0.8; stroke-linejoin: miter; stroke-linecap: square\"/>\n",
       "   </g>\n",
       "   <g id=\"patch_4\">\n",
       "    <path d=\"M 416.810625 288.430125 \n",
       "L 416.810625 22.318125 \n",
       "\" style=\"fill: none; stroke: #000000; stroke-width: 0.8; stroke-linejoin: miter; stroke-linecap: square\"/>\n",
       "   </g>\n",
       "   <g id=\"patch_5\">\n",
       "    <path d=\"M 59.690625 288.430125 \n",
       "L 416.810625 288.430125 \n",
       "\" style=\"fill: none; stroke: #000000; stroke-width: 0.8; stroke-linejoin: miter; stroke-linecap: square\"/>\n",
       "   </g>\n",
       "   <g id=\"patch_6\">\n",
       "    <path d=\"M 59.690625 22.318125 \n",
       "L 416.810625 22.318125 \n",
       "\" style=\"fill: none; stroke: #000000; stroke-width: 0.8; stroke-linejoin: miter; stroke-linecap: square\"/>\n",
       "   </g>\n",
       "   <g id=\"text_15\">\n",
       "    <!-- Значения функции Эйлера -->\n",
       "    <g transform=\"translate(153.111563 16.318125) scale(0.12 -0.12)\">\n",
       "     <defs>\n",
       "      <path id=\"DejaVuSans-417\" d=\"M 1828 4750 \n",
       "Q 2597 4750 3084 4423 \n",
       "Q 3572 4097 3572 3541 \n",
       "Q 3572 3153 3350 2886 \n",
       "Q 3128 2619 2719 2516 \n",
       "Q 3172 2419 3426 2112 \n",
       "Q 3681 1806 3681 1356 \n",
       "Q 3681 638 3126 273 \n",
       "Q 2572 -91 1828 -91 \n",
       "Q 1447 -91 1003 12 \n",
       "Q 559 116 422 203 \n",
       "L 422 853 \n",
       "Q 900 575 1164 508 \n",
       "Q 1428 441 1816 441 \n",
       "Q 2403 441 2728 666 \n",
       "Q 3053 891 3053 1356 \n",
       "Q 3053 1769 2764 2001 \n",
       "Q 2475 2234 1866 2234 \n",
       "L 1228 2234 \n",
       "L 1228 2753 \n",
       "L 1891 2753 \n",
       "Q 2450 2753 2697 2939 \n",
       "Q 2944 3125 2944 3475 \n",
       "Q 2944 3834 2689 4026 \n",
       "Q 2434 4219 1816 4219 \n",
       "Q 1397 4219 1253 4181 \n",
       "Q 1109 4144 469 3903 \n",
       "L 469 4519 \n",
       "Q 822 4644 1190 4697 \n",
       "Q 1559 4750 1828 4750 \n",
       "z\n",
       "\" transform=\"scale(0.015625)\"/>\n",
       "      <path id=\"DejaVuSans-43d\" d=\"M 581 3500 \n",
       "L 1159 3500 \n",
       "L 1159 2072 \n",
       "L 3025 2072 \n",
       "L 3025 3500 \n",
       "L 3603 3500 \n",
       "L 3603 0 \n",
       "L 3025 0 \n",
       "L 3025 1613 \n",
       "L 1159 1613 \n",
       "L 1159 0 \n",
       "L 581 0 \n",
       "L 581 3500 \n",
       "z\n",
       "\" transform=\"scale(0.015625)\"/>\n",
       "      <path id=\"DejaVuSans-430\" d=\"M 2194 1759 \n",
       "Q 1497 1759 1228 1600 \n",
       "Q 959 1441 959 1056 \n",
       "Q 959 750 1161 570 \n",
       "Q 1363 391 1709 391 \n",
       "Q 2188 391 2477 730 \n",
       "Q 2766 1069 2766 1631 \n",
       "L 2766 1759 \n",
       "L 2194 1759 \n",
       "z\n",
       "M 3341 1997 \n",
       "L 3341 0 \n",
       "L 2766 0 \n",
       "L 2766 531 \n",
       "Q 2569 213 2275 61 \n",
       "Q 1981 -91 1556 -91 \n",
       "Q 1019 -91 701 211 \n",
       "Q 384 513 384 1019 \n",
       "Q 384 1609 779 1909 \n",
       "Q 1175 2209 1959 2209 \n",
       "L 2766 2209 \n",
       "L 2766 2266 \n",
       "Q 2766 2663 2505 2880 \n",
       "Q 2244 3097 1772 3097 \n",
       "Q 1472 3097 1187 3025 \n",
       "Q 903 2953 641 2809 \n",
       "L 641 3341 \n",
       "Q 956 3463 1253 3523 \n",
       "Q 1550 3584 1831 3584 \n",
       "Q 2591 3584 2966 3190 \n",
       "Q 3341 2797 3341 1997 \n",
       "z\n",
       "\" transform=\"scale(0.015625)\"/>\n",
       "      <path id=\"DejaVuSans-447\" d=\"M 2625 0 \n",
       "L 2625 1472 \n",
       "L 1553 1472 \n",
       "Q 1075 1472 756 1769 \n",
       "Q 469 2038 469 2613 \n",
       "L 469 3500 \n",
       "L 1044 3500 \n",
       "L 1044 2666 \n",
       "Q 1044 2300 1206 2116 \n",
       "Q 1372 1931 1697 1931 \n",
       "L 2625 1931 \n",
       "L 2625 3500 \n",
       "L 3200 3500 \n",
       "L 3200 0 \n",
       "L 2625 0 \n",
       "z\n",
       "\" transform=\"scale(0.015625)\"/>\n",
       "      <path id=\"DejaVuSans-435\" d=\"M 3597 1894 \n",
       "L 3597 1613 \n",
       "L 953 1613 \n",
       "Q 991 1019 1311 708 \n",
       "Q 1631 397 2203 397 \n",
       "Q 2534 397 2845 478 \n",
       "Q 3156 559 3463 722 \n",
       "L 3463 178 \n",
       "Q 3153 47 2828 -22 \n",
       "Q 2503 -91 2169 -91 \n",
       "Q 1331 -91 842 396 \n",
       "Q 353 884 353 1716 \n",
       "Q 353 2575 817 3079 \n",
       "Q 1281 3584 2069 3584 \n",
       "Q 2775 3584 3186 3129 \n",
       "Q 3597 2675 3597 1894 \n",
       "z\n",
       "M 3022 2063 \n",
       "Q 3016 2534 2758 2815 \n",
       "Q 2500 3097 2075 3097 \n",
       "Q 1594 3097 1305 2825 \n",
       "Q 1016 2553 972 2059 \n",
       "L 3022 2063 \n",
       "z\n",
       "\" transform=\"scale(0.015625)\"/>\n",
       "      <path id=\"DejaVuSans-438\" d=\"M 3578 3500 \n",
       "L 3578 0 \n",
       "L 3006 0 \n",
       "L 3006 2809 \n",
       "L 1319 0 \n",
       "L 581 0 \n",
       "L 581 3500 \n",
       "L 1153 3500 \n",
       "L 1153 697 \n",
       "L 2838 3500 \n",
       "L 3578 3500 \n",
       "z\n",
       "\" transform=\"scale(0.015625)\"/>\n",
       "      <path id=\"DejaVuSans-44f\" d=\"M 1181 2491 \n",
       "Q 1181 2231 1381 2084 \n",
       "Q 1581 1938 1953 1938 \n",
       "L 2728 1938 \n",
       "L 2728 3041 \n",
       "L 1953 3041 \n",
       "Q 1581 3041 1381 2897 \n",
       "Q 1181 2753 1181 2491 \n",
       "z\n",
       "M 363 0 \n",
       "L 1431 1534 \n",
       "Q 1069 1616 828 1830 \n",
       "Q 588 2044 588 2491 \n",
       "Q 588 2997 923 3248 \n",
       "Q 1259 3500 1938 3500 \n",
       "L 3306 3500 \n",
       "L 3306 0 \n",
       "L 2728 0 \n",
       "L 2728 1478 \n",
       "L 2013 1478 \n",
       "L 981 0 \n",
       "L 363 0 \n",
       "z\n",
       "\" transform=\"scale(0.015625)\"/>\n",
       "      <path id=\"DejaVuSans-20\" transform=\"scale(0.015625)\"/>\n",
       "      <path id=\"DejaVuSans-444\" d=\"M 947 1747 \n",
       "Q 947 1013 1173 702 \n",
       "Q 1400 391 1784 391 \n",
       "Q 2091 391 2447 916 \n",
       "L 2447 2578 \n",
       "Q 2091 3103 1784 3103 \n",
       "Q 1400 3103 1173 2792 \n",
       "Q 947 2481 947 1747 \n",
       "z\n",
       "M 2447 -1331 \n",
       "L 2447 447 \n",
       "Q 2269 153 2064 31 \n",
       "Q 1859 -91 1600 -91 \n",
       "Q 1078 -91 714 392 \n",
       "Q 350 875 350 1734 \n",
       "Q 350 2594 714 3089 \n",
       "Q 1078 3584 1600 3584 \n",
       "Q 1859 3584 2064 3465 \n",
       "Q 2269 3347 2447 3053 \n",
       "L 2447 4666 \n",
       "L 3025 4666 \n",
       "L 3025 3053 \n",
       "Q 3203 3347 3408 3465 \n",
       "Q 3613 3584 3872 3584 \n",
       "Q 4394 3584 4758 3089 \n",
       "Q 5122 2594 5122 1734 \n",
       "Q 5122 875 4758 392 \n",
       "Q 4394 -91 3872 -91 \n",
       "Q 3613 -91 3408 31 \n",
       "Q 3203 153 3025 447 \n",
       "L 3025 -1331 \n",
       "L 2447 -1331 \n",
       "z\n",
       "M 4525 1747 \n",
       "Q 4525 2481 4298 2792 \n",
       "Q 4072 3103 3688 3103 \n",
       "Q 3381 3103 3025 2578 \n",
       "L 3025 916 \n",
       "Q 3381 391 3688 391 \n",
       "Q 4072 391 4298 702 \n",
       "Q 4525 1013 4525 1747 \n",
       "z\n",
       "\" transform=\"scale(0.015625)\"/>\n",
       "      <path id=\"DejaVuSans-443\" d=\"M 2059 -325 \n",
       "Q 1816 -950 1584 -1140 \n",
       "Q 1353 -1331 966 -1331 \n",
       "L 506 -1331 \n",
       "L 506 -850 \n",
       "L 844 -850 \n",
       "Q 1081 -850 1212 -737 \n",
       "Q 1344 -625 1503 -206 \n",
       "L 1606 56 \n",
       "L 191 3500 \n",
       "L 800 3500 \n",
       "L 1894 763 \n",
       "L 2988 3500 \n",
       "L 3597 3500 \n",
       "L 2059 -325 \n",
       "z\n",
       "\" transform=\"scale(0.015625)\"/>\n",
       "      <path id=\"DejaVuSans-43a\" d=\"M 581 3500 \n",
       "L 1153 3500 \n",
       "L 1153 1856 \n",
       "L 2775 3500 \n",
       "L 3481 3500 \n",
       "L 2144 2147 \n",
       "L 3653 0 \n",
       "L 3009 0 \n",
       "L 1769 1766 \n",
       "L 1153 1141 \n",
       "L 1153 0 \n",
       "L 581 0 \n",
       "L 581 3500 \n",
       "z\n",
       "\" transform=\"scale(0.015625)\"/>\n",
       "      <path id=\"DejaVuSans-446\" d=\"M 3603 0 \n",
       "L 581 0 \n",
       "L 581 3500 \n",
       "L 1159 3500 \n",
       "L 1159 459 \n",
       "L 3025 459 \n",
       "L 3025 3500 \n",
       "L 3603 3500 \n",
       "L 3603 459 \n",
       "L 4063 459 \n",
       "L 4063 -884 \n",
       "L 3603 -884 \n",
       "L 3603 0 \n",
       "z\n",
       "\" transform=\"scale(0.015625)\"/>\n",
       "      <path id=\"DejaVuSans-42d\" d=\"M 347 1019 \n",
       "Q 1006 428 1806 428 \n",
       "Q 2631 428 3003 872 \n",
       "Q 3375 1316 3444 2063 \n",
       "L 950 2063 \n",
       "L 950 2594 \n",
       "L 3444 2594 \n",
       "Q 3375 3341 3003 3786 \n",
       "Q 2631 4231 1806 4231 \n",
       "Q 1006 4231 347 3641 \n",
       "L 347 4306 \n",
       "Q 997 4750 1844 4750 \n",
       "Q 2891 4750 3500 4101 \n",
       "Q 4109 3453 4109 2331 \n",
       "Q 4109 1206 3500 557 \n",
       "Q 2891 -91 1844 -91 \n",
       "Q 1009 -91 347 359 \n",
       "L 347 1019 \n",
       "z\n",
       "\" transform=\"scale(0.015625)\"/>\n",
       "      <path id=\"DejaVuSans-439\" d=\"M 3578 3500 \n",
       "L 3578 0 \n",
       "L 3006 0 \n",
       "L 3006 2809 \n",
       "L 1319 0 \n",
       "L 581 0 \n",
       "L 581 3500 \n",
       "L 1153 3500 \n",
       "L 1153 697 \n",
       "L 2838 3500 \n",
       "L 3578 3500 \n",
       "z\n",
       "M 1102 4833 \n",
       "L 1471 4833 \n",
       "Q 1505 4599 1656 4481 \n",
       "Q 1808 4364 2080 4364 \n",
       "Q 2349 4364 2499 4480 \n",
       "Q 2649 4596 2689 4833 \n",
       "L 3058 4833 \n",
       "Q 3027 4386 2780 4161 \n",
       "Q 2533 3936 2080 3936 \n",
       "Q 1627 3936 1380 4161 \n",
       "Q 1133 4386 1102 4833 \n",
       "z\n",
       "\" transform=\"scale(0.015625)\"/>\n",
       "      <path id=\"DejaVuSans-43b\" d=\"M 238 0 \n",
       "L 238 478 \n",
       "Q 806 566 981 959 \n",
       "Q 1194 1513 1194 2928 \n",
       "L 1194 3500 \n",
       "L 3559 3500 \n",
       "L 3559 0 \n",
       "L 2984 0 \n",
       "L 2984 3041 \n",
       "L 1769 3041 \n",
       "L 1769 2694 \n",
       "Q 1769 1344 1494 738 \n",
       "Q 1200 91 238 0 \n",
       "z\n",
       "\" transform=\"scale(0.015625)\"/>\n",
       "      <path id=\"DejaVuSans-440\" d=\"M 1159 525 \n",
       "L 1159 -1331 \n",
       "L 581 -1331 \n",
       "L 581 3500 \n",
       "L 1159 3500 \n",
       "L 1159 2969 \n",
       "Q 1341 3281 1617 3432 \n",
       "Q 1894 3584 2278 3584 \n",
       "Q 2916 3584 3314 3078 \n",
       "Q 3713 2572 3713 1747 \n",
       "Q 3713 922 3314 415 \n",
       "Q 2916 -91 2278 -91 \n",
       "Q 1894 -91 1617 61 \n",
       "Q 1341 213 1159 525 \n",
       "z\n",
       "M 3116 1747 \n",
       "Q 3116 2381 2855 2742 \n",
       "Q 2594 3103 2138 3103 \n",
       "Q 1681 3103 1420 2742 \n",
       "Q 1159 2381 1159 1747 \n",
       "Q 1159 1113 1420 752 \n",
       "Q 1681 391 2138 391 \n",
       "Q 2594 391 2855 752 \n",
       "Q 3116 1113 3116 1747 \n",
       "z\n",
       "\" transform=\"scale(0.015625)\"/>\n",
       "     </defs>\n",
       "     <use xlink:href=\"#DejaVuSans-417\"/>\n",
       "     <use xlink:href=\"#DejaVuSans-43d\" x=\"64.111328\"/>\n",
       "     <use xlink:href=\"#DejaVuSans-430\" x=\"129.492188\"/>\n",
       "     <use xlink:href=\"#DejaVuSans-447\" x=\"190.771484\"/>\n",
       "     <use xlink:href=\"#DejaVuSans-435\" x=\"249.853516\"/>\n",
       "     <use xlink:href=\"#DejaVuSans-43d\" x=\"311.376953\"/>\n",
       "     <use xlink:href=\"#DejaVuSans-438\" x=\"376.757812\"/>\n",
       "     <use xlink:href=\"#DejaVuSans-44f\" x=\"441.748047\"/>\n",
       "     <use xlink:href=\"#DejaVuSans-20\" x=\"501.904297\"/>\n",
       "     <use xlink:href=\"#DejaVuSans-444\" x=\"533.691406\"/>\n",
       "     <use xlink:href=\"#DejaVuSans-443\" x=\"619.189453\"/>\n",
       "     <use xlink:href=\"#DejaVuSans-43d\" x=\"678.369141\"/>\n",
       "     <use xlink:href=\"#DejaVuSans-43a\" x=\"743.75\"/>\n",
       "     <use xlink:href=\"#DejaVuSans-446\" x=\"804.150391\"/>\n",
       "     <use xlink:href=\"#DejaVuSans-438\" x=\"872.216797\"/>\n",
       "     <use xlink:href=\"#DejaVuSans-438\" x=\"937.207031\"/>\n",
       "     <use xlink:href=\"#DejaVuSans-20\" x=\"1002.197266\"/>\n",
       "     <use xlink:href=\"#DejaVuSans-42d\" x=\"1033.984375\"/>\n",
       "     <use xlink:href=\"#DejaVuSans-439\" x=\"1103.808594\"/>\n",
       "     <use xlink:href=\"#DejaVuSans-43b\" x=\"1168.798828\"/>\n",
       "     <use xlink:href=\"#DejaVuSans-435\" x=\"1232.714844\"/>\n",
       "     <use xlink:href=\"#DejaVuSans-440\" x=\"1294.238281\"/>\n",
       "     <use xlink:href=\"#DejaVuSans-430\" x=\"1357.714844\"/>\n",
       "    </g>\n",
       "   </g>\n",
       "  </g>\n",
       " </g>\n",
       " <defs>\n",
       "  <clipPath id=\"p6b0187088b\">\n",
       "   <rect x=\"59.690625\" y=\"22.318125\" width=\"357.12\" height=\"266.112\"/>\n",
       "  </clipPath>\n",
       " </defs>\n",
       "</svg>\n"
      ],
      "text/plain": [
       "<Figure size 640x480 with 1 Axes>"
      ]
     },
     "metadata": {},
     "output_type": "display_data"
    }
   ],
   "source": [
    "plt.scatter(n_grid, results, s=5)\n",
    "plt.grid()\n",
    "plt.xlabel(r\"$n$\")\n",
    "plt.ylabel(r\"$\\phi(n)\")\n",
    "plt.title(\"Значения функции Эйлера\")"
   ]
  },
  {
   "cell_type": "markdown",
   "metadata": {},
   "source": [
    "### `mypyc`"
   ]
  },
  {
   "cell_type": "code",
   "execution_count": 22,
   "metadata": {},
   "outputs": [],
   "source": [
    "# !pip install -U 'mypy[mypyc]'"
   ]
  },
  {
   "cell_type": "code",
   "execution_count": 23,
   "metadata": {},
   "outputs": [
    {
     "name": "stdout",
     "output_type": "stream",
     "text": [
      "running build_ext\n",
      "building 'phi_demo' extension\n",
      "creating build/temp.linux-x86_64-cpython-39\n",
      "creating build/temp.linux-x86_64-cpython-39/build\n",
      "gcc -pthread -B /home/alexandr/miniconda3/envs/ml/compiler_compat -Wno-unused-result -Wsign-compare -DNDEBUG -O2 -Wall -fPIC -O2 -isystem /home/alexandr/miniconda3/envs/ml/include -I/home/alexandr/miniconda3/envs/ml/include -fPIC -O2 -isystem /home/alexandr/miniconda3/envs/ml/include -fPIC -I/home/alexandr/miniconda3/envs/ml/lib/python3.9/site-packages/mypyc/lib-rt -I/home/alexandr/miniconda3/envs/ml/include/python3.9 -c build/__native.c -o build/temp.linux-x86_64-cpython-39/build/__native.o -O3 -g1 -Werror -Wno-unused-function -Wno-unused-label -Wno-unreachable-code -Wno-unused-variable -Wno-unused-command-line-argument -Wno-unknown-warning-option -Wno-unused-but-set-variable -Wno-ignored-optimization-argument -Wno-cpp\n",
      "creating build/lib.linux-x86_64-cpython-39\n",
      "gcc -pthread -B /home/alexandr/miniconda3/envs/ml/compiler_compat -shared -Wl,-rpath,/home/alexandr/miniconda3/envs/ml/lib -Wl,-rpath-link,/home/alexandr/miniconda3/envs/ml/lib -L/home/alexandr/miniconda3/envs/ml/lib -L/home/alexandr/miniconda3/envs/ml/lib -Wl,-rpath,/home/alexandr/miniconda3/envs/ml/lib -Wl,-rpath-link,/home/alexandr/miniconda3/envs/ml/lib -L/home/alexandr/miniconda3/envs/ml/lib build/temp.linux-x86_64-cpython-39/build/__native.o -o build/lib.linux-x86_64-cpython-39/phi_demo.cpython-39-x86_64-linux-gnu.so\n",
      "copying build/lib.linux-x86_64-cpython-39/phi_demo.cpython-39-x86_64-linux-gnu.so -> \n"
     ]
    }
   ],
   "source": [
    "!mypyc phi_demo.py"
   ]
  },
  {
   "cell_type": "code",
   "execution_count": 24,
   "metadata": {},
   "outputs": [],
   "source": [
    "import phi_demo"
   ]
  },
  {
   "cell_type": "code",
   "execution_count": 25,
   "metadata": {},
   "outputs": [],
   "source": [
    "n = 5 * 10 ** 6\n",
    "f_list = [phi, phi_demo.phi, phi_demo.phi_type]\n",
    "pref_list = [\"Изначальная версия\", \"MyPyc\", \"MyPyc typing\"]"
   ]
  },
  {
   "cell_type": "code",
   "execution_count": 26,
   "metadata": {},
   "outputs": [
    {
     "name": "stdout",
     "output_type": "stream",
     "text": [
      "В режиме f(a)\n",
      "Изначальная версия: вывод 2000000, время: 3.26\n",
      "MyPyc: вывод 2000000, время: 1.66\n",
      "MyPyc typing: вывод 2000000, время: 1.79\n"
     ]
    }
   ],
   "source": [
    "print(\"В режиме f(a)\")\n",
    "\n",
    "for f, pref in zip(f_list, pref_list):\n",
    "    t_start = time.time()\n",
    "\n",
    "    result = f(n)\n",
    "\n",
    "    t_diff = time.time() - t_start\n",
    "\n",
    "    print(f\"{pref}: вывод {result}, время: {t_diff:0.2f}\")"
   ]
  },
  {
   "cell_type": "code",
   "execution_count": 27,
   "metadata": {},
   "outputs": [
    {
     "name": "stdout",
     "output_type": "stream",
     "text": [
      "В режиме [f(a) for a in arr]\n",
      "Изначальная версия: время 2.21\n",
      "MyPyc: время 1.12\n",
      "MyPyc typing: время 0.97\n"
     ]
    }
   ],
   "source": [
    "print(\"В режиме [f(a) for a in arr]\")\n",
    "\n",
    "for f, pref in zip(f_list, pref_list):\n",
    "    t_start = time.time()\n",
    "\n",
    "    result = [f(n) for n in n_grid]\n",
    "\n",
    "    t_diff = time.time() - t_start\n",
    "\n",
    "    print(f\"{pref}: время {t_diff:0.2f}\")"
   ]
  },
  {
   "cell_type": "markdown",
   "metadata": {},
   "source": [
    "### `numba`\n",
    "\n",
    "Существуют ли более продвинутые методы? Да!\n",
    "\n",
    "[numba](https://numba.pydata.org/) - именно такой метод, но...\n",
    "\n",
    "Ниже мы рассмотрим простой пример использования, однако возможностей намного больше и этому можно посветить ни одну пару, а у нас столько нет :(\n",
    "\n",
    "Важно помнить, что `numba` умеет:\n",
    "1. автоматически распаралелить циклы\n",
    "2. векторизовывать функции\n",
    "3. объединять циклы\n",
    "4. находить инварианты цикла\n",
    "5. ускорять вычисления с плавающей точкой\n",
    "...\n",
    "\n",
    "[Почти полный список](https://numba.pydata.org/numba-doc/latest/user/performance-tips.html)\n",
    "\n",
    "Существуют [отдельные возможности](https://numba.pydata.org/numba-doc/latest/user/parallel.html#diagnostics) для отладки того, что вам придумала `numba`\n",
    "\n",
    "#### ВАЖНО!\n",
    "\n",
    "`numba` может превратить корректный код в некорректный, если вы не до конца понимаете что происходит и как это работает!\n",
    "\n",
    "Необходимо использовать аккуратно, так как многопоточный код творит чудеса :)"
   ]
  },
  {
   "cell_type": "code",
   "execution_count": 28,
   "metadata": {},
   "outputs": [],
   "source": [
    "# !pip install numba"
   ]
  },
  {
   "cell_type": "code",
   "execution_count": 29,
   "metadata": {},
   "outputs": [],
   "source": [
    "import numba\n",
    "from numba import jit, vectorize"
   ]
  },
  {
   "cell_type": "code",
   "execution_count": 30,
   "metadata": {},
   "outputs": [],
   "source": [
    "@jit(nopython=True)\n",
    "def numba_gcd(x, y):\n",
    "    while (y):\n",
    "        x, y = y, x % y\n",
    "    return x\n",
    "\n",
    "@vectorize('int64(int64)', nopython=True, target='parallel')\n",
    "def numba_phi(n):\n",
    "    cnt = 0\n",
    "    for i in range(1, n):\n",
    "        if numba_gcd(i, n) == 1:\n",
    "            cnt += 1\n",
    "    return cnt"
   ]
  },
  {
   "cell_type": "code",
   "execution_count": 31,
   "metadata": {},
   "outputs": [
    {
     "name": "stdout",
     "output_type": "stream",
     "text": [
      "Изначальная версия: вывод 2000000, время: 3.27\n",
      "Numba: вывод 2000000, время: 0.64\n"
     ]
    }
   ],
   "source": [
    "n = 5 * 10 ** 6\n",
    "\n",
    "t_start = time.time()\n",
    "\n",
    "result = phi(n)\n",
    "\n",
    "t_diff = time.time() - t_start\n",
    "\n",
    "print(f\"Изначальная версия: вывод {result}, время: {t_diff:0.2f}\")\n",
    "\n",
    "t_start = time.time()\n",
    "\n",
    "result = numba_phi(n)\n",
    "\n",
    "t_diff = time.time() - t_start\n",
    "\n",
    "print(f\"Numba: вывод {result}, время: {t_diff:0.2f}\")"
   ]
  },
  {
   "cell_type": "code",
   "execution_count": 32,
   "metadata": {},
   "outputs": [
    {
     "name": "stdout",
     "output_type": "stream",
     "text": [
      "Время 2.16\n",
      "Время 0.42\n"
     ]
    }
   ],
   "source": [
    "t_start = time.time()\n",
    "\n",
    "results = [phi(n) for n in n_grid]\n",
    "\n",
    "t_diff = time.time() - t_start\n",
    "\n",
    "print(f\"Время {t_diff:0.2f}\")\n",
    "\n",
    "\n",
    "t_start = time.time()\n",
    "\n",
    "results_mypyc = [numba_phi(n) for n in n_grid]\n",
    "\n",
    "t_diff = time.time() - t_start\n",
    "\n",
    "print(f\"Время {t_diff:0.2f}\")"
   ]
  },
  {
   "cell_type": "markdown",
   "metadata": {},
   "source": [
    "### `Ctypes`\n",
    "\n",
    "`Ctypes` — стандартная библиотека языка `Python`, позволяющая вызывать функции из разделяемых библиотек (Shared Libraries, обычно `.so`-файлы) и DLL (`.dll`-файлы)."
   ]
  },
  {
   "cell_type": "code",
   "execution_count": 33,
   "metadata": {
    "ExecuteTime": {
     "end_time": "2022-12-08T08:04:40.088485Z",
     "start_time": "2022-12-08T08:04:40.072485Z"
    }
   },
   "outputs": [],
   "source": [
    "import ctypes"
   ]
  },
  {
   "cell_type": "markdown",
   "metadata": {},
   "source": [
    "### `Разделяемые библиотеки С/C++`\n",
    "\n",
    "* `Ctypes` — может работать только с `С` библиотеками\n",
    "* Для использования `C++` нужно использовать `extern \"C\"`, чтобы получить библиотеку с С-ABI"
   ]
  },
  {
   "cell_type": "code",
   "execution_count": 34,
   "metadata": {},
   "outputs": [
    {
     "data": {
      "text/plain": [
       "'so'"
      ]
     },
     "execution_count": 34,
     "metadata": {},
     "output_type": "execute_result"
    }
   ],
   "source": [
    "import platform\n",
    "\n",
    "shared_lib_suffix = 'dll' if platform.system() == 'Windows' else 'so'\n",
    "shared_lib_suffix"
   ]
  },
  {
   "cell_type": "code",
   "execution_count": 35,
   "metadata": {
    "ExecuteTime": {
     "end_time": "2022-12-08T08:04:41.781378Z",
     "start_time": "2022-12-08T08:04:41.560381Z"
    }
   },
   "outputs": [],
   "source": [
    "! gcc -shared -o ./ctypes_examples/bin/libctypes_c.$shared_lib_suffix -fPIC ./ctypes_examples/purec.c"
   ]
  },
  {
   "cell_type": "markdown",
   "metadata": {
    "ExecuteTime": {
     "end_time": "2022-12-08T03:36:21.472633Z",
     "start_time": "2022-12-08T03:36:21.462633Z"
    }
   },
   "source": [
    "### `Ctypes. Загрузка библиотеки` "
   ]
  },
  {
   "cell_type": "code",
   "execution_count": 36,
   "metadata": {
    "ExecuteTime": {
     "end_time": "2022-12-08T08:04:41.968319Z",
     "start_time": "2022-12-08T08:04:41.961321Z"
    }
   },
   "outputs": [],
   "source": [
    "library = ctypes.CDLL(f'./ctypes_examples/bin/libctypes_c.{shared_lib_suffix}')"
   ]
  },
  {
   "cell_type": "markdown",
   "metadata": {},
   "source": [
    "### `Ctypes. Работа с функциями`"
   ]
  },
  {
   "cell_type": "markdown",
   "metadata": {},
   "source": [
    "Перед использованием функций нужно корректно проанотировать типы аргументов и тип возвращаемого значения.\n",
    "\n",
    "Также, при использовании ввода-вывода внутри внешнего кода нужно помнить о буферизации.\n",
    "\n",
    "<!-- None, integers, bytes objects and (unicode) strings are the only native Python objects that can directly be used as parameters in these function calls. None is passed as a C NULL pointer, bytes objects and strings are passed as pointer to the memory block that contains their data (char* or wchar_t*). Python integers are passed as the platforms default C int type, their value is masked to fit into the C type.\n",
    "\n",
    "All Python types except INTEGERS, STRINGS, and BYTES objects have to be wrapped in their corresponding ctypes type, so that they can be converted to the required C data type -->"
   ]
  },
  {
   "cell_type": "markdown",
   "metadata": {},
   "source": [
    "[Список типов](https://docs.python.org/3/library/ctypes.html#fundamental-data-types)"
   ]
  },
  {
   "cell_type": "code",
   "execution_count": 37,
   "metadata": {
    "ExecuteTime": {
     "end_time": "2022-12-08T08:04:42.599376Z",
     "start_time": "2022-12-08T08:04:42.584376Z"
    }
   },
   "outputs": [],
   "source": [
    "import sys"
   ]
  },
  {
   "cell_type": "markdown",
   "metadata": {
    "ExecuteTime": {
     "end_time": "2022-12-08T04:04:16.937353Z",
     "start_time": "2022-12-08T04:04:16.926364Z"
    }
   },
   "source": [
    "### `Ctypes. Пример с int`"
   ]
  },
  {
   "cell_type": "markdown",
   "metadata": {},
   "source": [
    "```C\n",
    "int func_ret_int(int val) {\n",
    "    printf(\"get func_ret_int: %d\\n\", val);\n",
    "    return val;\n",
    "}\n",
    "```\n",
    "\n",
    "Возникнут ли проблемы с выводом для такого кода? Почему?"
   ]
  },
  {
   "cell_type": "code",
   "execution_count": 38,
   "metadata": {
    "ExecuteTime": {
     "end_time": "2022-12-08T08:04:43.165384Z",
     "start_time": "2022-12-08T08:04:43.152384Z"
    }
   },
   "outputs": [],
   "source": [
    "# Указываем, что функция возвращает int\n",
    "library.func_ret_int.restype = ctypes.c_int\n",
    "# Указываем, что функция принимает аргумент int\n",
    "library.func_ret_int.argtypes = [ctypes.c_int]"
   ]
  },
  {
   "cell_type": "code",
   "execution_count": 39,
   "metadata": {
    "ExecuteTime": {
     "end_time": "2022-12-08T08:04:43.366965Z",
     "start_time": "2022-12-08T08:04:43.353965Z"
    }
   },
   "outputs": [
    {
     "name": "stdout",
     "output_type": "stream",
     "text": [
      "ret func_ret_int: get func_ret_int: 101\n",
      " 101\n"
     ]
    }
   ],
   "source": [
    "print('ret func_ret_int: ', library.func_ret_int(101))"
   ]
  },
  {
   "cell_type": "markdown",
   "metadata": {
    "ExecuteTime": {
     "end_time": "2022-12-08T04:04:29.857415Z",
     "start_time": "2022-12-08T04:04:29.854414Z"
    }
   },
   "source": [
    "### `Ctypes. Пример с double`"
   ]
  },
  {
   "cell_type": "markdown",
   "metadata": {},
   "source": [
    "```C\n",
    "double func_ret_double(double val) {\n",
    "    printf(\"get func_ret_double: %f\\n\", val);\n",
    "    return val;\n",
    "}\n",
    "```"
   ]
  },
  {
   "cell_type": "code",
   "execution_count": 40,
   "metadata": {
    "ExecuteTime": {
     "end_time": "2022-12-08T08:04:43.911867Z",
     "start_time": "2022-12-08T08:04:43.896869Z"
    }
   },
   "outputs": [],
   "source": [
    "# Указываем, что функция возвращает double\n",
    "library.func_ret_double.restype = ctypes.c_double\n",
    "# Указываем, что функция принимает аргумент double\n",
    "library.func_ret_double.argtypes = [ctypes.c_double]"
   ]
  },
  {
   "cell_type": "code",
   "execution_count": 41,
   "metadata": {
    "ExecuteTime": {
     "end_time": "2022-12-08T08:04:44.069867Z",
     "start_time": "2022-12-08T08:04:44.056869Z"
    }
   },
   "outputs": [
    {
     "name": "stdout",
     "output_type": "stream",
     "text": [
      "ret func_ret_double: get func_ret_double: 12.123457\n",
      " 12.123456789\n"
     ]
    }
   ],
   "source": [
    "print('ret func_ret_double: ', library.func_ret_double(12.123456789))"
   ]
  },
  {
   "cell_type": "markdown",
   "metadata": {},
   "source": [
    "### `Ctypes. Пример с char *`"
   ]
  },
  {
   "cell_type": "markdown",
   "metadata": {
    "ExecuteTime": {
     "end_time": "2022-12-08T04:03:19.933654Z",
     "start_time": "2022-12-08T04:03:19.918654Z"
    }
   },
   "source": [
    "```C\n",
    "char * func_ret_str(char * val) {\n",
    "    printf(\"get func_ret_str: %s\\n\", val);\n",
    "    return val;\n",
    "}\n",
    "```"
   ]
  },
  {
   "cell_type": "code",
   "execution_count": 42,
   "metadata": {
    "ExecuteTime": {
     "end_time": "2022-12-08T08:04:44.831518Z",
     "start_time": "2022-12-08T08:04:44.824518Z"
    }
   },
   "outputs": [],
   "source": [
    "# Указываем, что функция возвращает char *\n",
    "# ctypes.c_char_p -- указатель нуль-терминированных строк\n",
    "library.func_ret_str.restype = ctypes.c_char_p\n",
    "# Указываем, что функция принимает аргумент char *\n",
    "# ctypes.POINTER -- произвольный указатель\n",
    "library.func_ret_str.argtypes = [ctypes.POINTER(ctypes.c_char)]"
   ]
  },
  {
   "cell_type": "code",
   "execution_count": 43,
   "metadata": {
    "ExecuteTime": {
     "end_time": "2022-12-08T08:04:44.991522Z",
     "start_time": "2022-12-08T08:04:44.984523Z"
    }
   },
   "outputs": [
    {
     "name": "stdout",
     "output_type": "stream",
     "text": [
      "ret func_ret_str: get func_ret_str: Hello!\n",
      " Hello!\n"
     ]
    }
   ],
   "source": [
    "# Необходимо строку привести к массиву байтов, затем полученный массив байтов приводим к строке.\n",
    "print('ret func_ret_str: ', library.func_ret_str('Hello!'.encode('utf-8')).decode('utf-8'))"
   ]
  },
  {
   "cell_type": "markdown",
   "metadata": {},
   "source": [
    "### `Ctypes. Пример с несколькими агрументами`"
   ]
  },
  {
   "cell_type": "markdown",
   "metadata": {},
   "source": [
    "```C\n",
    "char func_many_args(int val1, double val2, char val3, short val4) {\n",
    "    printf(\"get func_many_args: int - %d, double - %f, char - %c, short - %d\\n\", val1, val2, val3, val4);\n",
    "    return val3;\n",
    "}\n",
    "```"
   ]
  },
  {
   "cell_type": "code",
   "execution_count": 44,
   "metadata": {
    "ExecuteTime": {
     "end_time": "2022-12-08T08:04:45.570360Z",
     "start_time": "2022-12-08T08:04:45.552373Z"
    }
   },
   "outputs": [],
   "source": [
    "# Указываем, что функция возвращает char\n",
    "library.func_many_args.restype = ctypes.c_char\n",
    "# Указываем, что функция принимает аргументы int, double, char, short\n",
    "library.func_many_args.argtypes = [ctypes.c_int, ctypes.c_double, ctypes.c_char, ctypes.c_short]"
   ]
  },
  {
   "cell_type": "code",
   "execution_count": 45,
   "metadata": {
    "ExecuteTime": {
     "end_time": "2022-12-08T08:04:45.744345Z",
     "start_time": "2022-12-08T08:04:45.729345Z"
    }
   },
   "outputs": [
    {
     "name": "stdout",
     "output_type": "stream",
     "text": [
      "ret func_many_args: get func_many_args: int - 15, double - 18.161700, char - X, short - 32000\n",
      " X\n"
     ]
    }
   ],
   "source": [
    "# Необходимо строку привести к массиву байтов, затем полученный массив байтов приводим к строке.\n",
    "print('ret func_many_args: ', library.func_many_args(15, 18.1617, 'X'.encode('utf-8'), 32000).decode('utf-8'));"
   ]
  },
  {
   "cell_type": "markdown",
   "metadata": {},
   "source": [
    "### `Ctypes. Работа с глобальными переменными`"
   ]
  },
  {
   "cell_type": "markdown",
   "metadata": {},
   "source": [
    "Допустим в библиотеке определены следующие переменные:\n",
    "\n",
    "```C\n",
    "int a = 5;\n",
    "double b = 5.12345;\n",
    "char c = 'X';\n",
    "```"
   ]
  },
  {
   "cell_type": "markdown",
   "metadata": {},
   "source": [
    "Определим вспомогательную функцию, которая их выводит:\n",
    "```C\n",
    "void func_print_globals(){\n",
    "    printf(\"global variables: a - %d, b - %f, c - %c\\n\", a, b, c);\n",
    "}\n",
    "```"
   ]
  },
  {
   "cell_type": "markdown",
   "metadata": {},
   "source": [
    "### `Ctypes. Получение значения переменных`"
   ]
  },
  {
   "cell_type": "code",
   "execution_count": 46,
   "metadata": {
    "ExecuteTime": {
     "end_time": "2022-12-08T08:04:46.671869Z",
     "start_time": "2022-12-08T08:04:46.656869Z"
    }
   },
   "outputs": [
    {
     "name": "stdout",
     "output_type": "stream",
     "text": [
      "ret a:  5\n"
     ]
    }
   ],
   "source": [
    "# Указываем, что переменная типа int\n",
    "a = ctypes.c_int.in_dll(library, 'a')\n",
    "print('ret a: ', a.value)"
   ]
  },
  {
   "cell_type": "code",
   "execution_count": 47,
   "metadata": {
    "ExecuteTime": {
     "end_time": "2022-12-08T08:04:46.859869Z",
     "start_time": "2022-12-08T08:04:46.856870Z"
    }
   },
   "outputs": [
    {
     "name": "stdout",
     "output_type": "stream",
     "text": [
      "ret b:  5.12345\n"
     ]
    }
   ],
   "source": [
    "# Указываем, что переменная типа double\n",
    "b = ctypes.c_double.in_dll(library, 'b')\n",
    "print('ret b: ', b.value)"
   ]
  },
  {
   "cell_type": "code",
   "execution_count": 48,
   "metadata": {
    "ExecuteTime": {
     "end_time": "2022-12-08T08:04:47.064340Z",
     "start_time": "2022-12-08T08:04:47.057339Z"
    }
   },
   "outputs": [
    {
     "name": "stdout",
     "output_type": "stream",
     "text": [
      "ret c:  X\n"
     ]
    }
   ],
   "source": [
    "# Указываем, что переменная типа char\n",
    "c = ctypes.c_char.in_dll(library, 'c')\n",
    "print('ret c: ', c.value.decode('utf-8'))"
   ]
  },
  {
   "cell_type": "markdown",
   "metadata": {
    "ExecuteTime": {
     "end_time": "2022-12-08T04:13:45.528837Z",
     "start_time": "2022-12-08T04:13:45.523837Z"
    }
   },
   "source": [
    "### `Ctypes. Изменение значения переменных`"
   ]
  },
  {
   "cell_type": "code",
   "execution_count": 49,
   "metadata": {
    "ExecuteTime": {
     "end_time": "2022-12-08T08:04:47.476064Z",
     "start_time": "2022-12-08T08:04:47.465065Z"
    }
   },
   "outputs": [
    {
     "name": "stdout",
     "output_type": "stream",
     "text": [
      "ret a:  22\n"
     ]
    }
   ],
   "source": [
    "# Изменяем значение переменной.\n",
    "a.value = 22\n",
    "a = ctypes.c_int.in_dll(library, 'a')\n",
    "print('ret a: ', a.value)"
   ]
  },
  {
   "cell_type": "code",
   "execution_count": 50,
   "metadata": {
    "ExecuteTime": {
     "end_time": "2022-12-08T08:04:47.682300Z",
     "start_time": "2022-12-08T08:04:47.664300Z"
    }
   },
   "outputs": [
    {
     "name": "stdout",
     "output_type": "stream",
     "text": [
      "global variables: a - 317, b - 0.317000, c - B\n"
     ]
    },
    {
     "data": {
      "text/plain": [
       "0"
      ]
     },
     "execution_count": 50,
     "metadata": {},
     "output_type": "execute_result"
    }
   ],
   "source": [
    "a.value = 317\n",
    "b.value = 0.317\n",
    "c.value = 'B'.encode('utf-8')\n",
    "library.func_print_globals()"
   ]
  },
  {
   "cell_type": "markdown",
   "metadata": {},
   "source": [
    "По умолчанию возвращаемый тип у функций `long`. Установим тип `void`:"
   ]
  },
  {
   "cell_type": "code",
   "execution_count": 51,
   "metadata": {
    "ExecuteTime": {
     "end_time": "2022-12-08T08:04:48.075295Z",
     "start_time": "2022-12-08T08:04:48.064295Z"
    }
   },
   "outputs": [
    {
     "name": "stdout",
     "output_type": "stream",
     "text": [
      "global variables: a - 317, b - 0.317000, c - B\n"
     ]
    }
   ],
   "source": [
    "library.func_print_globals.restype = None\n",
    "library.func_print_globals()"
   ]
  },
  {
   "cell_type": "markdown",
   "metadata": {},
   "source": [
    "### `Ctypes. Работа со структурами`"
   ]
  },
  {
   "cell_type": "markdown",
   "metadata": {},
   "source": [
    "Для работы со структурами нужно скопировать интерфейс из библиотеки:\n",
    "```C\n",
    "struct test_st_t {\n",
    "    int val1;\n",
    "    double val2;\n",
    "    char val3;\n",
    "    int * array;\n",
    "};\n",
    "```"
   ]
  },
  {
   "cell_type": "code",
   "execution_count": 52,
   "metadata": {
    "ExecuteTime": {
     "end_time": "2022-12-08T08:04:48.686426Z",
     "start_time": "2022-12-08T08:04:48.672356Z"
    }
   },
   "outputs": [],
   "source": [
    "class TestST(ctypes.Structure):\n",
    "    _fields_ = [('val1', ctypes.c_int),\n",
    "                ('val2', ctypes.c_double),\n",
    "                ('val3', ctypes.c_char)]\n",
    "\n",
    "    def __str__(self):\n",
    "        return f'val1 - {self.val1}, val2 - {self.val2}, val3 - {self.val3.decode(\"utf8\")}'"
   ]
  },
  {
   "cell_type": "markdown",
   "metadata": {
    "ExecuteTime": {
     "end_time": "2022-12-08T04:21:53.295373Z",
     "start_time": "2022-12-08T04:21:53.289373Z"
    }
   },
   "source": [
    "Теперь такой тип можно использовать как валидный ctypes тип"
   ]
  },
  {
   "cell_type": "markdown",
   "metadata": {},
   "source": [
    "### `Ctypes. Работа со структурами. Передача по значению`"
   ]
  },
  {
   "cell_type": "markdown",
   "metadata": {
    "ExecuteTime": {
     "end_time": "2022-12-08T04:22:43.086757Z",
     "start_time": "2022-12-08T04:22:43.081770Z"
    }
   },
   "source": [
    "```C\n",
    "double func_struct(test_st_t test_st){\n",
    "    printf(\"get by value test_st: val1 - %d, val2 - %f, val3 - %c\\n\", test_st.val1, test_st.val2, test_st.val3);\n",
    "\n",
    "    return test_st.val1 + test_st.val2;\n",
    "}\n",
    "```"
   ]
  },
  {
   "cell_type": "code",
   "execution_count": 53,
   "metadata": {
    "ExecuteTime": {
     "end_time": "2022-12-08T08:04:49.457488Z",
     "start_time": "2022-12-08T08:04:49.440487Z"
    }
   },
   "outputs": [],
   "source": [
    "# Указываем, что функция возвращает double\n",
    "library.func_struct.restype = ctypes.c_double\n",
    "# Указываем, что функция принимает аргумент TestST\n",
    "library.func_struct.argtypes = [TestST]"
   ]
  },
  {
   "cell_type": "code",
   "execution_count": 54,
   "metadata": {
    "ExecuteTime": {
     "end_time": "2022-12-08T08:04:49.631506Z",
     "start_time": "2022-12-08T08:04:49.617507Z"
    }
   },
   "outputs": [
    {
     "name": "stdout",
     "output_type": "stream",
     "text": [
      "ret func_struct: get by value test_st: val1 - 19, val2 - 3.500000, val3 - Z\n",
      " 22.5\n"
     ]
    }
   ],
   "source": [
    "# Создаем структуру\n",
    "test_st = TestST(19, 3.5, 'Z'.encode('utf-8'))\n",
    "print(f'ret func_struct: ', library.func_struct(test_st))"
   ]
  },
  {
   "cell_type": "markdown",
   "metadata": {
    "ExecuteTime": {
     "end_time": "2022-12-08T04:24:05.887561Z",
     "start_time": "2022-12-08T04:24:05.872574Z"
    }
   },
   "source": [
    "### `Ctypes. Работа со структурами. Передача по указателю`"
   ]
  },
  {
   "cell_type": "markdown",
   "metadata": {},
   "source": [
    "Для передачи по указателю можно использовать специальную обёртку `ctypes.POINTER` для создания указателя на данный тип.\n",
    "\n",
    "При этом, \n",
    "\n",
    "Разыменование указателя выполянется с помощью аттрибута `.contents`."
   ]
  },
  {
   "cell_type": "markdown",
   "metadata": {
    "ExecuteTime": {
     "end_time": "2022-12-08T04:24:17.786245Z",
     "start_time": "2022-12-08T04:24:17.777249Z"
    }
   },
   "source": [
    "```C\n",
    "test_st_t * func_ret_struct(test_st_t *test_st) {\n",
    "    if (test_st) {\n",
    "        printf(\n",
    "            \"get by pointer test_st: val1 - %d, val2 - %f, val3 - %c\\n\", \n",
    "            test_st->val1, test_st->val2, test_st->val3\n",
    "        );\n",
    "    } else {\n",
    "        printf(\"get by pointer test_st: null pointer\\n\");\n",
    "    }\n",
    "\n",
    "    return test_st;\n",
    "}\n",
    "```"
   ]
  },
  {
   "cell_type": "code",
   "execution_count": 55,
   "metadata": {
    "ExecuteTime": {
     "end_time": "2022-12-08T08:04:50.498358Z",
     "start_time": "2022-12-08T08:04:50.481357Z"
    }
   },
   "outputs": [],
   "source": [
    "# Указываем, что функция возвращает TestST *\n",
    "library.func_ret_struct.restype = ctypes.POINTER(TestST)\n",
    "# Указываем, что функция принимает аргумент TestST *\n",
    "library.func_ret_struct.argtypes = [ctypes.POINTER(TestST)]"
   ]
  },
  {
   "cell_type": "code",
   "execution_count": 56,
   "metadata": {
    "ExecuteTime": {
     "end_time": "2022-12-08T08:04:50.700357Z",
     "start_time": "2022-12-08T08:04:50.689355Z"
    }
   },
   "outputs": [
    {
     "name": "stdout",
     "output_type": "stream",
     "text": [
      "ret func_ret_struct: null pointer\n",
      "get by pointer test_st: null pointer\n"
     ]
    }
   ],
   "source": [
    "if ret := library.func_ret_struct(None):\n",
    "    print(f'ret func_ret_struct: {ret.contents}')\n",
    "else:\n",
    "    print('ret func_ret_struct: null pointer')"
   ]
  },
  {
   "cell_type": "code",
   "execution_count": 57,
   "metadata": {
    "ExecuteTime": {
     "end_time": "2022-12-08T08:04:50.872131Z",
     "start_time": "2022-12-08T08:04:50.865131Z"
    }
   },
   "outputs": [
    {
     "name": "stdout",
     "output_type": "stream",
     "text": [
      "ret func_ret_struct: val1 - 19, val2 - 3.5, val3 - Zget by pointer test_st: val1 - 19, val2 - 3.500000, val3 - Z\n",
      "\n"
     ]
    }
   ],
   "source": [
    "if ret := library.func_ret_struct(test_st):\n",
    "    print(f'ret func_ret_struct: {ret.contents}')\n",
    "else:\n",
    "    print('ret func_ret_struct: null pointer')"
   ]
  },
  {
   "cell_type": "markdown",
   "metadata": {},
   "source": [
    "### `Ctypes. Указатели`"
   ]
  },
  {
   "cell_type": "markdown",
   "metadata": {},
   "source": [
    "Для того, чтобы получить адрес сущестувующего объекта можно использьзовать следующие методы:\n",
    "* `pointer` — создаёт объект типа `ctypes.POINTER`, ссылающийся на переданный аргумент \n",
    "* `byref` — используется для передачи объектов по ссылке. Значительно более легковесный метод\n",
    "* В некоторых случаях преобразование типов выполниться автоматически"
   ]
  },
  {
   "cell_type": "markdown",
   "metadata": {},
   "source": [
    "```C\n",
    "double * func_add_out(const double * left, const double * right, double * result){\n",
    "    *result = *left + *right;\n",
    "    return result;\n",
    "}\n",
    "```"
   ]
  },
  {
   "cell_type": "code",
   "execution_count": 58,
   "metadata": {
    "ExecuteTime": {
     "end_time": "2022-12-08T08:04:51.685742Z",
     "start_time": "2022-12-08T08:04:51.672742Z"
    }
   },
   "outputs": [],
   "source": [
    "# Указываем, что функция возвращает double *\n",
    "library.func_add_out.restype = ctypes.POINTER(ctypes.c_double)\n",
    "# Указываем, что функция принимает аргумент double *, double *, double *\n",
    "library.func_add_out.argtypes = [\n",
    "    ctypes.POINTER(ctypes.c_double), ctypes.POINTER(ctypes.c_double), ctypes.POINTER(ctypes.c_double)\n",
    "]"
   ]
  },
  {
   "cell_type": "code",
   "execution_count": 59,
   "metadata": {
    "ExecuteTime": {
     "end_time": "2022-12-08T08:04:51.876742Z",
     "start_time": "2022-12-08T08:04:51.873742Z"
    }
   },
   "outputs": [
    {
     "name": "stdout",
     "output_type": "stream",
     "text": [
      "c_double(300.0) c_double(17.0) c_double(0.0)\n",
      "c_double(300.0) c_double(17.0) c_double(317.0) c_double(317.0)\n"
     ]
    }
   ],
   "source": [
    "left, right, result = ctypes.c_double(300.0), ctypes.c_double(17.0), ctypes.c_double()\n",
    "print(left, right, result)\n",
    "res = library.func_add_out(left, right, result)\n",
    "print(left, right, result, res.contents)"
   ]
  },
  {
   "cell_type": "code",
   "execution_count": 60,
   "metadata": {
    "ExecuteTime": {
     "end_time": "2022-12-08T08:04:52.080823Z",
     "start_time": "2022-12-08T08:04:52.072826Z"
    }
   },
   "outputs": [
    {
     "name": "stdout",
     "output_type": "stream",
     "text": [
      "c_double(300.0) c_double(17.0) c_double(100500.0) c_double(100500.0)\n"
     ]
    }
   ],
   "source": [
    "res.contents.value = 100500.0\n",
    "print(left, right, result, res.contents)"
   ]
  },
  {
   "cell_type": "markdown",
   "metadata": {},
   "source": [
    "### `Ctypes. Работа с массивами`"
   ]
  },
  {
   "cell_type": "markdown",
   "metadata": {},
   "source": [
    "Рассмотрим функцию для сложения двух векторов:\n",
    "\n",
    "```C\n",
    "void func_add_arrays_out(const double * left, const double * right, double * result, unsigned long long n){\n",
    "    for(unsigned long long i = 0; i < n; ++i) {\n",
    "        result[i] = left[i] + right[i];\n",
    "    }\n",
    "}\n",
    "```"
   ]
  },
  {
   "cell_type": "code",
   "execution_count": 61,
   "metadata": {
    "ExecuteTime": {
     "end_time": "2022-12-08T08:04:52.724383Z",
     "start_time": "2022-12-08T08:04:52.721385Z"
    }
   },
   "outputs": [],
   "source": [
    "library.func_add_arrays_out.restype = ctypes.POINTER(ctypes.c_double)\n",
    "library.func_add_arrays_out.argtypes = [\n",
    "    ctypes.POINTER(ctypes.c_double), ctypes.POINTER(ctypes.c_double),\n",
    "    ctypes.POINTER(ctypes.c_double), ctypes.c_ulonglong\n",
    "]"
   ]
  },
  {
   "cell_type": "markdown",
   "metadata": {},
   "source": [
    "Однако, как передавать данные в такую функцию? \n",
    "\n",
    "Есть несколько способов создать массив без использования обёрток над `new/malloc`."
   ]
  },
  {
   "cell_type": "markdown",
   "metadata": {
    "ExecuteTime": {
     "end_time": "2022-12-08T04:51:57.362619Z",
     "start_time": "2022-12-08T04:51:57.345620Z"
    }
   },
   "source": [
    "### `Ctypes. Internal Arrays`"
   ]
  },
  {
   "cell_type": "markdown",
   "metadata": {},
   "source": [
    "Ctypes позволяет создавать массивы фиксированной длины из уже существующих типов:"
   ]
  },
  {
   "cell_type": "code",
   "execution_count": 62,
   "metadata": {
    "ExecuteTime": {
     "end_time": "2022-12-08T08:04:53.576320Z",
     "start_time": "2022-12-08T08:04:53.568332Z"
    }
   },
   "outputs": [
    {
     "data": {
      "text/plain": [
       "__main__.c_double_Array_10"
      ]
     },
     "execution_count": 62,
     "metadata": {},
     "output_type": "execute_result"
    }
   ],
   "source": [
    "# Эквивалентно int array[10]. Т.е. эта конструкция -- новый класс\n",
    "double_array_10 = ctypes.c_double * 10\n",
    "double_array_10"
   ]
  },
  {
   "cell_type": "markdown",
   "metadata": {
    "ExecuteTime": {
     "end_time": "2022-12-08T04:53:09.746796Z",
     "start_time": "2022-12-08T04:53:09.736809Z"
    }
   },
   "source": [
    "### `Ctypes. Internal Arrays. Создание. Способ 1`"
   ]
  },
  {
   "cell_type": "code",
   "execution_count": 63,
   "metadata": {
    "ExecuteTime": {
     "end_time": "2022-12-08T08:04:54.047427Z",
     "start_time": "2022-12-08T08:04:54.032428Z"
    }
   },
   "outputs": [],
   "source": [
    "# 1 Способ: создание internal массива из списка (медленно)\n",
    "left_array = double_array_10(*[i for i in range(10)])\n",
    "right_array = double_array_10(*[2.0 * i for i in range(10)])\n",
    "result_array = double_array_10()"
   ]
  },
  {
   "cell_type": "code",
   "execution_count": 64,
   "metadata": {
    "ExecuteTime": {
     "end_time": "2022-12-08T08:04:54.251639Z",
     "start_time": "2022-12-08T08:04:54.248640Z"
    }
   },
   "outputs": [
    {
     "name": "stdout",
     "output_type": "stream",
     "text": [
      "[0.0, 3.0, 6.0, 9.0, 12.0, 15.0, 18.0, 21.0, 24.0, 27.0]\n"
     ]
    }
   ],
   "source": [
    "library.func_add_arrays_out(left_array, right_array, result_array, 10)\n",
    "print(result_array[:])"
   ]
  },
  {
   "cell_type": "markdown",
   "metadata": {},
   "source": [
    "### `Ctypes. Internal Arrays. Создание. Способ 2`"
   ]
  },
  {
   "cell_type": "code",
   "execution_count": 65,
   "metadata": {
    "ExecuteTime": {
     "end_time": "2022-12-08T08:04:54.665638Z",
     "start_time": "2022-12-08T08:04:54.659638Z"
    }
   },
   "outputs": [],
   "source": [
    "from array import array"
   ]
  },
  {
   "cell_type": "code",
   "execution_count": 66,
   "metadata": {
    "ExecuteTime": {
     "end_time": "2022-12-08T08:04:54.870314Z",
     "start_time": "2022-12-08T08:04:54.857326Z"
    }
   },
   "outputs": [],
   "source": [
    "# 2 Способ: создание internal массива из underlying memory в array (быстро)\n",
    "left_array = double_array_10.from_buffer(array('d', (i for i in range(10))))\n",
    "right_array = double_array_10.from_buffer(array('d', (2.0 * i for i in range(10))))\n",
    "result_array = double_array_10.from_buffer(array('d', (0.0 for i in range(10))))"
   ]
  },
  {
   "cell_type": "code",
   "execution_count": 67,
   "metadata": {
    "ExecuteTime": {
     "end_time": "2022-12-08T08:04:55.060361Z",
     "start_time": "2022-12-08T08:04:55.057361Z"
    }
   },
   "outputs": [
    {
     "name": "stdout",
     "output_type": "stream",
     "text": [
      "[0.0, 3.0, 6.0, 9.0, 12.0, 15.0, 18.0, 21.0, 24.0, 27.0]\n"
     ]
    }
   ],
   "source": [
    "library.func_add_arrays_out(left_array, right_array, result_array, 10)\n",
    "print(result_array[:])"
   ]
  },
  {
   "cell_type": "markdown",
   "metadata": {},
   "source": [
    "### `Ctypes. Pointers. Создание. Способ 3`"
   ]
  },
  {
   "cell_type": "code",
   "execution_count": 68,
   "metadata": {
    "ExecuteTime": {
     "end_time": "2022-12-08T08:04:55.536379Z",
     "start_time": "2022-12-08T08:04:55.525380Z"
    }
   },
   "outputs": [],
   "source": [
    "# 3 Способ: создание internal массива из прямой конвертацией указателя в C указатель (ещё быстрее)\n",
    "left_array = array('d', (i for i in range(10)))\n",
    "right_array = array('d', (2.0 * i for i in range(10)))\n",
    "result_array = array('d', (0.0 for i in range(10)))"
   ]
  },
  {
   "cell_type": "code",
   "execution_count": 69,
   "metadata": {
    "ExecuteTime": {
     "end_time": "2022-12-08T08:04:55.727705Z",
     "start_time": "2022-12-08T08:04:55.720704Z"
    }
   },
   "outputs": [
    {
     "name": "stdout",
     "output_type": "stream",
     "text": [
      "array('d', [0.0, 3.0, 6.0, 9.0, 12.0, 15.0, 18.0, 21.0, 24.0, 27.0])\n"
     ]
    }
   ],
   "source": [
    "library.func_add_arrays_out(\n",
    "    ctypes.cast(left_array.buffer_info()[0], ctypes.POINTER(ctypes.c_double)),\n",
    "    ctypes.cast(right_array.buffer_info()[0], ctypes.POINTER(ctypes.c_double)),\n",
    "    ctypes.cast(result_array.buffer_info()[0], ctypes.POINTER(ctypes.c_double)),\n",
    "    10\n",
    ")\n",
    "print(result_array)"
   ]
  },
  {
   "cell_type": "markdown",
   "metadata": {},
   "source": [
    "### `Ctypes. Pointers. Создание. Способ 4`"
   ]
  },
  {
   "cell_type": "code",
   "execution_count": 70,
   "metadata": {
    "ExecuteTime": {
     "end_time": "2022-12-08T08:04:56.197308Z",
     "start_time": "2022-12-08T08:04:56.185308Z"
    }
   },
   "outputs": [],
   "source": [
    "left_array = np.array([2.0 * i for i in range(10)], dtype=np.double)\n",
    "right_array = np.array([i for i in range(10)], dtype=np.double)\n",
    "result_array = np.array([0.0 for i in range(10)], dtype=np.double)"
   ]
  },
  {
   "cell_type": "code",
   "execution_count": 71,
   "metadata": {
    "ExecuteTime": {
     "end_time": "2022-12-08T08:04:56.729784Z",
     "start_time": "2022-12-08T08:04:56.712785Z"
    }
   },
   "outputs": [
    {
     "name": "stdout",
     "output_type": "stream",
     "text": [
      "[ 0.  3.  6.  9. 12. 15. 18. 21. 24. 27.]\n"
     ]
    }
   ],
   "source": [
    "library.func_add_arrays_out(\n",
    "    left_array.ctypes.data_as(ctypes.POINTER(ctypes.c_double)),\n",
    "    right_array.ctypes.data_as(ctypes.POINTER(ctypes.c_double)),\n",
    "    result_array.ctypes.data_as(ctypes.POINTER(ctypes.c_double)),\n",
    "    10\n",
    ")\n",
    "print(result_array[:])"
   ]
  },
  {
   "cell_type": "markdown",
   "metadata": {
    "ExecuteTime": {
     "end_time": "2022-12-08T04:58:26.765370Z",
     "start_time": "2022-12-08T04:58:26.760371Z"
    }
   },
   "source": [
    "### `Ctypes. Сравнение скорости`"
   ]
  },
  {
   "cell_type": "markdown",
   "metadata": {},
   "source": [
    "Сравним скорость трёх реализаций сложения массивов:\n",
    "1. `numpy` реализация\n",
    "2. `Pure Python` реализация\n",
    "3. `C` расширения"
   ]
  },
  {
   "cell_type": "code",
   "execution_count": 72,
   "metadata": {
    "ExecuteTime": {
     "end_time": "2022-12-08T08:04:58.092691Z",
     "start_time": "2022-12-08T08:04:58.080693Z"
    }
   },
   "outputs": [],
   "source": [
    "n = 1_000_000"
   ]
  },
  {
   "cell_type": "code",
   "execution_count": 73,
   "metadata": {
    "ExecuteTime": {
     "end_time": "2022-12-08T08:05:12.465382Z",
     "start_time": "2022-12-08T08:04:59.528354Z"
    }
   },
   "outputs": [],
   "source": [
    "# Numpy\n",
    "start_numpy_create = time.time()\n",
    "\n",
    "left_numpy = np.array([1.0 * i for i in range(n)], dtype=np.double)\n",
    "right_numpy = np.array([2.0 * i for i in range(n)], dtype=np.double)\n",
    "result_numpy = np.empty([n], dtype=np.double)\n",
    "\n",
    "total_time_numpy_create = time.time() - start_numpy_create\n",
    "\n",
    "start_numpy = time.time()\n",
    "result_numpy = left_numpy + right_numpy\n",
    "total_time_numpy = time.time() - start_numpy"
   ]
  },
  {
   "cell_type": "code",
   "execution_count": 74,
   "metadata": {
    "ExecuteTime": {
     "end_time": "2022-12-08T08:05:24.543382Z",
     "start_time": "2022-12-08T08:05:12.466384Z"
    }
   },
   "outputs": [],
   "source": [
    "# Python lists\n",
    "start_lists_create = time.time()\n",
    "\n",
    "left_lists = [1.0 * i for i in range(n)]\n",
    "right_lists = [2.0 * i for i in range(n)]\n",
    "\n",
    "total_time_lists_create = time.time() - start_lists_create\n",
    "\n",
    "start_lists = time.time()\n",
    "result_lists = [i + j for (i, j) in zip(left_lists, right_lists)]\n",
    "total_time_lists = time.time() - start_lists"
   ]
  },
  {
   "cell_type": "code",
   "execution_count": 75,
   "metadata": {
    "ExecuteTime": {
     "end_time": "2022-12-08T08:05:48.064383Z",
     "start_time": "2022-12-08T08:05:24.544384Z"
    }
   },
   "outputs": [],
   "source": [
    "# C function + lists\n",
    "start_c_lists_create = time.time()\n",
    "\n",
    "double_array_n = ctypes.c_double * n\n",
    "\n",
    "left_c_lists = double_array_n(*[i for i in range(n)])\n",
    "right_c_lists = double_array_n(*[2.0 * i for i in range(n)])\n",
    "result_c_lists = double_array_n()\n",
    "\n",
    "total_c_lists_create = time.time() - start_c_lists_create\n",
    "\n",
    "start_c_lists = time.time()\n",
    "library.func_add_arrays_out(left_c_lists, right_c_lists, result_c_lists, n)\n",
    "total_c_lists = time.time() - start_c_lists"
   ]
  },
  {
   "cell_type": "code",
   "execution_count": 76,
   "metadata": {
    "ExecuteTime": {
     "end_time": "2022-12-08T08:06:01.419383Z",
     "start_time": "2022-12-08T08:05:48.065383Z"
    }
   },
   "outputs": [],
   "source": [
    "# C function + numpy\n",
    "start_c_numpy_create = time.time()\n",
    "\n",
    "left_numpy = np.array([1.0 * i for i in range(n)], dtype=np.double)\n",
    "right_numpy = np.array([2.0 * i for i in range(n)], dtype=np.double)\n",
    "result_numpy = np.empty([n], dtype=np.double)\n",
    "\n",
    "total_c_numpy_create = time.time() - start_c_numpy_create\n",
    "\n",
    "start_c_numpy = time.time()\n",
    "library.func_add_arrays_out(\n",
    "    left_numpy.ctypes.data_as(ctypes.POINTER(ctypes.c_double)),\n",
    "    right_numpy.ctypes.data_as(ctypes.POINTER(ctypes.c_double)),\n",
    "    result_numpy.ctypes.data_as(ctypes.POINTER(ctypes.c_double)), \n",
    "    n\n",
    ")\n",
    "total_c_numpy = time.time() - start_c_numpy"
   ]
  },
  {
   "cell_type": "code",
   "execution_count": 77,
   "metadata": {
    "ExecuteTime": {
     "end_time": "2022-12-08T08:06:03.259382Z",
     "start_time": "2022-12-08T08:06:01.420382Z"
    }
   },
   "outputs": [],
   "source": [
    "import pandas as pd"
   ]
  },
  {
   "cell_type": "code",
   "execution_count": 78,
   "metadata": {
    "ExecuteTime": {
     "end_time": "2022-12-08T08:06:03.274382Z",
     "start_time": "2022-12-08T08:06:03.260382Z"
    },
    "deletable": false,
    "editable": false,
    "run_control": {
     "frozen": true
    }
   },
   "outputs": [
    {
     "data": {
      "text/html": [
       "<div>\n",
       "<style scoped>\n",
       "    .dataframe tbody tr th:only-of-type {\n",
       "        vertical-align: middle;\n",
       "    }\n",
       "\n",
       "    .dataframe tbody tr th {\n",
       "        vertical-align: top;\n",
       "    }\n",
       "\n",
       "    .dataframe thead th {\n",
       "        text-align: right;\n",
       "    }\n",
       "</style>\n",
       "<table border=\"1\" class=\"dataframe\">\n",
       "  <thead>\n",
       "    <tr style=\"text-align: right;\">\n",
       "      <th></th>\n",
       "      <th>Время создания</th>\n",
       "      <th>Время выполнения</th>\n",
       "    </tr>\n",
       "  </thead>\n",
       "  <tbody>\n",
       "    <tr>\n",
       "      <th>lists + C</th>\n",
       "      <td>0.328211</td>\n",
       "      <td>0.000894</td>\n",
       "    </tr>\n",
       "    <tr>\n",
       "      <th>numpy + C</th>\n",
       "      <td>0.193734</td>\n",
       "      <td>0.001355</td>\n",
       "    </tr>\n",
       "    <tr>\n",
       "      <th>numpy</th>\n",
       "      <td>0.194337</td>\n",
       "      <td>0.001764</td>\n",
       "    </tr>\n",
       "    <tr>\n",
       "      <th>lists</th>\n",
       "      <td>0.122342</td>\n",
       "      <td>0.059461</td>\n",
       "    </tr>\n",
       "  </tbody>\n",
       "</table>\n",
       "</div>"
      ],
      "text/plain": [
       "           Время создания  Время выполнения\n",
       "lists + C        0.328211          0.000894\n",
       "numpy + C        0.193734          0.001355\n",
       "numpy            0.194337          0.001764\n",
       "lists            0.122342          0.059461"
      ]
     },
     "execution_count": 78,
     "metadata": {},
     "output_type": "execute_result"
    }
   ],
   "source": [
    "pd.DataFrame(data=[\n",
    "    (total_c_lists_create, total_c_lists),\n",
    "    (total_c_numpy_create, total_c_numpy),\n",
    "    (total_time_numpy_create, total_time_numpy),\n",
    "    (total_time_lists_create, total_time_lists),\n",
    "], columns=['Время создания', 'Время выполнения'], index=['lists + C', 'numpy + C', 'numpy', 'lists', ])"
   ]
  },
  {
   "cell_type": "markdown",
   "metadata": {},
   "source": [
    "### `Задача. Ctypes решение`"
   ]
  },
  {
   "cell_type": "markdown",
   "metadata": {},
   "source": [
    "```C\n",
    "double * replace_zeros_to_means(double *X, unsigned long long n, unsigned long long m){\n",
    "    double *Y = malloc(sizeof(double) * n * m);\n",
    "\n",
    "    for(int i = 0; i < n; ++i){\n",
    "        for(int j = 0; j < m; ++j){\n",
    "            Y[i * m + j] = X[i * m + j];\n",
    "        }\n",
    "    }\n",
    "\n",
    "    double *counts_n = malloc(sizeof(double) * m);\n",
    "    int *counts_d = malloc(sizeof(int) * m);\n",
    "    double *means = malloc(sizeof(double) * m);\n",
    "\n",
    "    for(int j = 0; j < m; ++j){\n",
    "        counts_n[j] = 0.0;\n",
    "        counts_d[j] = 0;\n",
    "    }\n",
    "\n",
    "    for(int i = 0; i < n; ++i){\n",
    "        for(int j = 0; j < m; ++j){\n",
    "            counts_n[j] += Y[i * m + j];\n",
    "            counts_d[j] += (Y[i * m + j] != 0);\n",
    "        }\n",
    "    }\n",
    "\n",
    "    for(int j = 0; j < m; ++j){\n",
    "        if (counts_d[j]) {\n",
    "            means[j] = counts_n[j] / counts_d[j];\n",
    "        } else {\n",
    "            means[j] = 0.0;\n",
    "        }\n",
    "    }\n",
    "\n",
    "    for(int i = 0; i < n; ++i){\n",
    "        for(int j = 0; j < m; ++j){\n",
    "            if(Y[i * m + j] == 0){\n",
    "                Y[i * m + j] = means[j];\n",
    "            }\n",
    "        }\n",
    "    }\n",
    "\n",
    "    free(counts_n);\n",
    "    free(counts_d);\n",
    "    free(means);\n",
    "\n",
    "    return Y;\n",
    "}\n",
    "\n",
    "void free_double(double *ptr){\n",
    "    if(ptr){\n",
    "        free(ptr);\n",
    "    }\n",
    "}\n",
    "```"
   ]
  },
  {
   "cell_type": "code",
   "execution_count": 79,
   "metadata": {
    "ExecuteTime": {
     "end_time": "2022-12-08T08:07:09.144638Z",
     "start_time": "2022-12-08T08:07:09.128651Z"
    }
   },
   "outputs": [],
   "source": [
    "library.replace_zeros_to_means.restype = ctypes.POINTER(ctypes.c_double)\n",
    "library.replace_zeros_to_means.argtypes = [\n",
    "    ctypes.POINTER(ctypes.c_double), \n",
    "    ctypes.c_ulonglong, ctypes.c_ulonglong\n",
    "]\n",
    "\n",
    "library.free_double.restype = None\n",
    "library.free_double.argtypes = [ctypes.POINTER(ctypes.c_double)]"
   ]
  },
  {
   "cell_type": "code",
   "execution_count": 80,
   "metadata": {
    "ExecuteTime": {
     "end_time": "2022-12-08T08:08:30.422703Z",
     "start_time": "2022-12-08T08:07:10.656631Z"
    }
   },
   "outputs": [],
   "source": [
    "times_c, times_numpy, times_python = [], [], []\n",
    "ns = [40, 80, 100, 200, 400, 800, 1000, 2000, 4000]\n",
    "\n",
    "for n in ns:\n",
    "    m = n\n",
    "    X = np.random.randint(0, 3, [n, m]).astype(np.float64)\n",
    "    \n",
    "    start_c = time.time()\n",
    "    Y = library.replace_zeros_to_means(\n",
    "        X.ctypes.data_as(ctypes.POINTER(ctypes.c_double)),\n",
    "        n, m\n",
    "    )\n",
    "    total_c = time.time() - start_c    \n",
    "    library.free_double(Y)\n",
    "    \n",
    "    start_numpy = time.time()\n",
    "    replace_zeros_to_means_numpy(X)\n",
    "    total_numpy = time.time() - start_numpy  \n",
    "    \n",
    "    start_python = time.time()\n",
    "    replace_zeros_to_means_python(X)\n",
    "    total_python = time.time() - start_python \n",
    "    \n",
    "    times_c.append(total_c)\n",
    "    times_numpy.append(total_numpy)\n",
    "    times_python.append(total_python)"
   ]
  },
  {
   "cell_type": "code",
   "execution_count": 81,
   "metadata": {
    "ExecuteTime": {
     "end_time": "2022-12-08T08:08:32.194702Z",
     "start_time": "2022-12-08T08:08:30.899702Z"
    },
    "deletable": false,
    "editable": false,
    "run_control": {
     "frozen": true
    }
   },
   "outputs": [
    {
     "data": {
      "image/svg+xml": [
       "<?xml version=\"1.0\" encoding=\"utf-8\" standalone=\"no\"?>\n",
       "<!DOCTYPE svg PUBLIC \"-//W3C//DTD SVG 1.1//EN\"\n",
       "  \"http://www.w3.org/Graphics/SVG/1.1/DTD/svg11.dtd\">\n",
       "<svg xmlns:xlink=\"http://www.w3.org/1999/xlink\" width=\"711.781071pt\" height=\"275.722375pt\" viewBox=\"0 0 711.781071 275.722375\" xmlns=\"http://www.w3.org/2000/svg\" version=\"1.1\">\n",
       " <metadata>\n",
       "  <rdf:RDF xmlns:dc=\"http://purl.org/dc/elements/1.1/\" xmlns:cc=\"http://creativecommons.org/ns#\" xmlns:rdf=\"http://www.w3.org/1999/02/22-rdf-syntax-ns#\">\n",
       "   <cc:Work>\n",
       "    <dc:type rdf:resource=\"http://purl.org/dc/dcmitype/StillImage\"/>\n",
       "    <dc:date>2023-12-07T16:28:06.642392</dc:date>\n",
       "    <dc:format>image/svg+xml</dc:format>\n",
       "    <dc:creator>\n",
       "     <cc:Agent>\n",
       "      <dc:title>Matplotlib v3.7.1, https://matplotlib.org/</dc:title>\n",
       "     </cc:Agent>\n",
       "    </dc:creator>\n",
       "   </cc:Work>\n",
       "  </rdf:RDF>\n",
       " </metadata>\n",
       " <defs>\n",
       "  <style type=\"text/css\">*{stroke-linejoin: round; stroke-linecap: butt}</style>\n",
       " </defs>\n",
       " <g id=\"figure_1\">\n",
       "  <g id=\"patch_1\">\n",
       "   <path d=\"M 0 275.722375 \n",
       "L 711.781071 275.722375 \n",
       "L 711.781071 0 \n",
       "L 0 0 \n",
       "z\n",
       "\" style=\"fill: #ffffff\"/>\n",
       "  </g>\n",
       "  <g id=\"axes_1\">\n",
       "   <g id=\"patch_2\">\n",
       "    <path d=\"M 51.378125 238.166125 \n",
       "L 704.581071 238.166125 \n",
       "L 704.581071 22.318125 \n",
       "L 51.378125 22.318125 \n",
       "z\n",
       "\" style=\"fill: #ffffff\"/>\n",
       "   </g>\n",
       "   <g id=\"matplotlib.axis_1\">\n",
       "    <g id=\"xtick_1\">\n",
       "     <g id=\"line2d_1\">\n",
       "      <path d=\"M 199.221707 238.166125 \n",
       "L 199.221707 22.318125 \n",
       "\" clip-path=\"url(#p761c893242)\" style=\"fill: none; stroke: #b0b0b0; stroke-width: 0.8; stroke-linecap: square\"/>\n",
       "     </g>\n",
       "     <g id=\"line2d_2\">\n",
       "      <defs>\n",
       "       <path id=\"m8e9c5e2974\" d=\"M 0 0 \n",
       "L 0 3.5 \n",
       "\" style=\"stroke: #000000; stroke-width: 0.8\"/>\n",
       "      </defs>\n",
       "      <g>\n",
       "       <use xlink:href=\"#m8e9c5e2974\" x=\"199.221707\" y=\"238.166125\" style=\"stroke: #000000; stroke-width: 0.8\"/>\n",
       "      </g>\n",
       "     </g>\n",
       "     <g id=\"text_1\">\n",
       "      <!-- $\\mathdefault{10^{2}}$ -->\n",
       "      <g transform=\"translate(190.421707 252.764563) scale(0.1 -0.1)\">\n",
       "       <defs>\n",
       "        <path id=\"DejaVuSans-31\" d=\"M 794 531 \n",
       "L 1825 531 \n",
       "L 1825 4091 \n",
       "L 703 3866 \n",
       "L 703 4441 \n",
       "L 1819 4666 \n",
       "L 2450 4666 \n",
       "L 2450 531 \n",
       "L 3481 531 \n",
       "L 3481 0 \n",
       "L 794 0 \n",
       "L 794 531 \n",
       "z\n",
       "\" transform=\"scale(0.015625)\"/>\n",
       "        <path id=\"DejaVuSans-30\" d=\"M 2034 4250 \n",
       "Q 1547 4250 1301 3770 \n",
       "Q 1056 3291 1056 2328 \n",
       "Q 1056 1369 1301 889 \n",
       "Q 1547 409 2034 409 \n",
       "Q 2525 409 2770 889 \n",
       "Q 3016 1369 3016 2328 \n",
       "Q 3016 3291 2770 3770 \n",
       "Q 2525 4250 2034 4250 \n",
       "z\n",
       "M 2034 4750 \n",
       "Q 2819 4750 3233 4129 \n",
       "Q 3647 3509 3647 2328 \n",
       "Q 3647 1150 3233 529 \n",
       "Q 2819 -91 2034 -91 \n",
       "Q 1250 -91 836 529 \n",
       "Q 422 1150 422 2328 \n",
       "Q 422 3509 836 4129 \n",
       "Q 1250 4750 2034 4750 \n",
       "z\n",
       "\" transform=\"scale(0.015625)\"/>\n",
       "        <path id=\"DejaVuSans-32\" d=\"M 1228 531 \n",
       "L 3431 531 \n",
       "L 3431 0 \n",
       "L 469 0 \n",
       "L 469 531 \n",
       "Q 828 903 1448 1529 \n",
       "Q 2069 2156 2228 2338 \n",
       "Q 2531 2678 2651 2914 \n",
       "Q 2772 3150 2772 3378 \n",
       "Q 2772 3750 2511 3984 \n",
       "Q 2250 4219 1831 4219 \n",
       "Q 1534 4219 1204 4116 \n",
       "Q 875 4013 500 3803 \n",
       "L 500 4441 \n",
       "Q 881 4594 1212 4672 \n",
       "Q 1544 4750 1819 4750 \n",
       "Q 2544 4750 2975 4387 \n",
       "Q 3406 4025 3406 3419 \n",
       "Q 3406 3131 3298 2873 \n",
       "Q 3191 2616 2906 2266 \n",
       "Q 2828 2175 2409 1742 \n",
       "Q 1991 1309 1228 531 \n",
       "z\n",
       "\" transform=\"scale(0.015625)\"/>\n",
       "       </defs>\n",
       "       <use xlink:href=\"#DejaVuSans-31\" transform=\"translate(0 0.765625)\"/>\n",
       "       <use xlink:href=\"#DejaVuSans-30\" transform=\"translate(63.623047 0.765625)\"/>\n",
       "       <use xlink:href=\"#DejaVuSans-32\" transform=\"translate(128.203125 39.046875) scale(0.7)\"/>\n",
       "      </g>\n",
       "     </g>\n",
       "    </g>\n",
       "    <g id=\"xtick_2\">\n",
       "     <g id=\"line2d_3\">\n",
       "      <path d=\"M 496.132137 238.166125 \n",
       "L 496.132137 22.318125 \n",
       "\" clip-path=\"url(#p761c893242)\" style=\"fill: none; stroke: #b0b0b0; stroke-width: 0.8; stroke-linecap: square\"/>\n",
       "     </g>\n",
       "     <g id=\"line2d_4\">\n",
       "      <g>\n",
       "       <use xlink:href=\"#m8e9c5e2974\" x=\"496.132137\" y=\"238.166125\" style=\"stroke: #000000; stroke-width: 0.8\"/>\n",
       "      </g>\n",
       "     </g>\n",
       "     <g id=\"text_2\">\n",
       "      <!-- $\\mathdefault{10^{3}}$ -->\n",
       "      <g transform=\"translate(487.332137 252.764563) scale(0.1 -0.1)\">\n",
       "       <defs>\n",
       "        <path id=\"DejaVuSans-33\" d=\"M 2597 2516 \n",
       "Q 3050 2419 3304 2112 \n",
       "Q 3559 1806 3559 1356 \n",
       "Q 3559 666 3084 287 \n",
       "Q 2609 -91 1734 -91 \n",
       "Q 1441 -91 1130 -33 \n",
       "Q 819 25 488 141 \n",
       "L 488 750 \n",
       "Q 750 597 1062 519 \n",
       "Q 1375 441 1716 441 \n",
       "Q 2309 441 2620 675 \n",
       "Q 2931 909 2931 1356 \n",
       "Q 2931 1769 2642 2001 \n",
       "Q 2353 2234 1838 2234 \n",
       "L 1294 2234 \n",
       "L 1294 2753 \n",
       "L 1863 2753 \n",
       "Q 2328 2753 2575 2939 \n",
       "Q 2822 3125 2822 3475 \n",
       "Q 2822 3834 2567 4026 \n",
       "Q 2313 4219 1838 4219 \n",
       "Q 1578 4219 1281 4162 \n",
       "Q 984 4106 628 3988 \n",
       "L 628 4550 \n",
       "Q 988 4650 1302 4700 \n",
       "Q 1616 4750 1894 4750 \n",
       "Q 2613 4750 3031 4423 \n",
       "Q 3450 4097 3450 3541 \n",
       "Q 3450 3153 3228 2886 \n",
       "Q 3006 2619 2597 2516 \n",
       "z\n",
       "\" transform=\"scale(0.015625)\"/>\n",
       "       </defs>\n",
       "       <use xlink:href=\"#DejaVuSans-31\" transform=\"translate(0 0.765625)\"/>\n",
       "       <use xlink:href=\"#DejaVuSans-30\" transform=\"translate(63.623047 0.765625)\"/>\n",
       "       <use xlink:href=\"#DejaVuSans-33\" transform=\"translate(128.203125 39.046875) scale(0.7)\"/>\n",
       "      </g>\n",
       "     </g>\n",
       "    </g>\n",
       "    <g id=\"xtick_3\">\n",
       "     <g id=\"line2d_5\">\n",
       "      <defs>\n",
       "       <path id=\"mf8c9e73775\" d=\"M 0 0 \n",
       "L 0 2 \n",
       "\" style=\"stroke: #000000; stroke-width: 0.6\"/>\n",
       "      </defs>\n",
       "      <g>\n",
       "       <use xlink:href=\"#mf8c9e73775\" x=\"81.069168\" y=\"238.166125\" style=\"stroke: #000000; stroke-width: 0.6\"/>\n",
       "      </g>\n",
       "     </g>\n",
       "    </g>\n",
       "    <g id=\"xtick_4\">\n",
       "     <g id=\"line2d_6\">\n",
       "      <g>\n",
       "       <use xlink:href=\"#mf8c9e73775\" x=\"109.842762\" y=\"238.166125\" style=\"stroke: #000000; stroke-width: 0.6\"/>\n",
       "      </g>\n",
       "     </g>\n",
       "    </g>\n",
       "    <g id=\"xtick_5\">\n",
       "     <g id=\"line2d_7\">\n",
       "      <g>\n",
       "       <use xlink:href=\"#mf8c9e73775\" x=\"133.352499\" y=\"238.166125\" style=\"stroke: #000000; stroke-width: 0.6\"/>\n",
       "      </g>\n",
       "     </g>\n",
       "    </g>\n",
       "    <g id=\"xtick_6\">\n",
       "     <g id=\"line2d_8\">\n",
       "      <g>\n",
       "       <use xlink:href=\"#mf8c9e73775\" x=\"153.2297\" y=\"238.166125\" style=\"stroke: #000000; stroke-width: 0.6\"/>\n",
       "      </g>\n",
       "     </g>\n",
       "    </g>\n",
       "    <g id=\"xtick_7\">\n",
       "     <g id=\"line2d_9\">\n",
       "      <g>\n",
       "       <use xlink:href=\"#mf8c9e73775\" x=\"170.448113\" y=\"238.166125\" style=\"stroke: #000000; stroke-width: 0.6\"/>\n",
       "      </g>\n",
       "     </g>\n",
       "    </g>\n",
       "    <g id=\"xtick_8\">\n",
       "     <g id=\"line2d_10\">\n",
       "      <g>\n",
       "       <use xlink:href=\"#mf8c9e73775\" x=\"185.635831\" y=\"238.166125\" style=\"stroke: #000000; stroke-width: 0.6\"/>\n",
       "      </g>\n",
       "     </g>\n",
       "    </g>\n",
       "    <g id=\"xtick_9\">\n",
       "     <g id=\"line2d_11\">\n",
       "      <g>\n",
       "       <use xlink:href=\"#mf8c9e73775\" x=\"288.600653\" y=\"238.166125\" style=\"stroke: #000000; stroke-width: 0.6\"/>\n",
       "      </g>\n",
       "     </g>\n",
       "    </g>\n",
       "    <g id=\"xtick_10\">\n",
       "     <g id=\"line2d_12\">\n",
       "      <g>\n",
       "       <use xlink:href=\"#mf8c9e73775\" x=\"340.883984\" y=\"238.166125\" style=\"stroke: #000000; stroke-width: 0.6\"/>\n",
       "      </g>\n",
       "     </g>\n",
       "    </g>\n",
       "    <g id=\"xtick_11\">\n",
       "     <g id=\"line2d_13\">\n",
       "      <g>\n",
       "       <use xlink:href=\"#mf8c9e73775\" x=\"377.979598\" y=\"238.166125\" style=\"stroke: #000000; stroke-width: 0.6\"/>\n",
       "      </g>\n",
       "     </g>\n",
       "    </g>\n",
       "    <g id=\"xtick_12\">\n",
       "     <g id=\"line2d_14\">\n",
       "      <g>\n",
       "       <use xlink:href=\"#mf8c9e73775\" x=\"406.753192\" y=\"238.166125\" style=\"stroke: #000000; stroke-width: 0.6\"/>\n",
       "      </g>\n",
       "     </g>\n",
       "    </g>\n",
       "    <g id=\"xtick_13\">\n",
       "     <g id=\"line2d_15\">\n",
       "      <g>\n",
       "       <use xlink:href=\"#mf8c9e73775\" x=\"430.262929\" y=\"238.166125\" style=\"stroke: #000000; stroke-width: 0.6\"/>\n",
       "      </g>\n",
       "     </g>\n",
       "    </g>\n",
       "    <g id=\"xtick_14\">\n",
       "     <g id=\"line2d_16\">\n",
       "      <g>\n",
       "       <use xlink:href=\"#mf8c9e73775\" x=\"450.14013\" y=\"238.166125\" style=\"stroke: #000000; stroke-width: 0.6\"/>\n",
       "      </g>\n",
       "     </g>\n",
       "    </g>\n",
       "    <g id=\"xtick_15\">\n",
       "     <g id=\"line2d_17\">\n",
       "      <g>\n",
       "       <use xlink:href=\"#mf8c9e73775\" x=\"467.358544\" y=\"238.166125\" style=\"stroke: #000000; stroke-width: 0.6\"/>\n",
       "      </g>\n",
       "     </g>\n",
       "    </g>\n",
       "    <g id=\"xtick_16\">\n",
       "     <g id=\"line2d_18\">\n",
       "      <g>\n",
       "       <use xlink:href=\"#mf8c9e73775\" x=\"482.546261\" y=\"238.166125\" style=\"stroke: #000000; stroke-width: 0.6\"/>\n",
       "      </g>\n",
       "     </g>\n",
       "    </g>\n",
       "    <g id=\"xtick_17\">\n",
       "     <g id=\"line2d_19\">\n",
       "      <g>\n",
       "       <use xlink:href=\"#mf8c9e73775\" x=\"585.511083\" y=\"238.166125\" style=\"stroke: #000000; stroke-width: 0.6\"/>\n",
       "      </g>\n",
       "     </g>\n",
       "    </g>\n",
       "    <g id=\"xtick_18\">\n",
       "     <g id=\"line2d_20\">\n",
       "      <g>\n",
       "       <use xlink:href=\"#mf8c9e73775\" x=\"637.794414\" y=\"238.166125\" style=\"stroke: #000000; stroke-width: 0.6\"/>\n",
       "      </g>\n",
       "     </g>\n",
       "    </g>\n",
       "    <g id=\"xtick_19\">\n",
       "     <g id=\"line2d_21\">\n",
       "      <g>\n",
       "       <use xlink:href=\"#mf8c9e73775\" x=\"674.890028\" y=\"238.166125\" style=\"stroke: #000000; stroke-width: 0.6\"/>\n",
       "      </g>\n",
       "     </g>\n",
       "    </g>\n",
       "    <g id=\"xtick_20\">\n",
       "     <g id=\"line2d_22\">\n",
       "      <g>\n",
       "       <use xlink:href=\"#mf8c9e73775\" x=\"703.663622\" y=\"238.166125\" style=\"stroke: #000000; stroke-width: 0.6\"/>\n",
       "      </g>\n",
       "     </g>\n",
       "    </g>\n",
       "    <g id=\"text_3\">\n",
       "     <!-- $n$ -->\n",
       "     <g transform=\"translate(374.779598 266.442687) scale(0.1 -0.1)\">\n",
       "      <defs>\n",
       "       <path id=\"DejaVuSans-Oblique-6e\" d=\"M 3566 2113 \n",
       "L 3156 0 \n",
       "L 2578 0 \n",
       "L 2988 2091 \n",
       "Q 3016 2238 3031 2350 \n",
       "Q 3047 2463 3047 2528 \n",
       "Q 3047 2791 2881 2937 \n",
       "Q 2716 3084 2419 3084 \n",
       "Q 1956 3084 1622 2776 \n",
       "Q 1288 2469 1184 1941 \n",
       "L 800 0 \n",
       "L 225 0 \n",
       "L 903 3500 \n",
       "L 1478 3500 \n",
       "L 1363 2950 \n",
       "Q 1603 3253 1940 3418 \n",
       "Q 2278 3584 2650 3584 \n",
       "Q 3113 3584 3367 3334 \n",
       "Q 3622 3084 3622 2631 \n",
       "Q 3622 2519 3608 2391 \n",
       "Q 3594 2263 3566 2113 \n",
       "z\n",
       "\" transform=\"scale(0.015625)\"/>\n",
       "      </defs>\n",
       "      <use xlink:href=\"#DejaVuSans-Oblique-6e\"/>\n",
       "     </g>\n",
       "    </g>\n",
       "   </g>\n",
       "   <g id=\"matplotlib.axis_2\">\n",
       "    <g id=\"ytick_1\">\n",
       "     <g id=\"line2d_23\">\n",
       "      <path d=\"M 51.378125 206.1283 \n",
       "L 704.581071 206.1283 \n",
       "\" clip-path=\"url(#p761c893242)\" style=\"fill: none; stroke: #b0b0b0; stroke-width: 0.8; stroke-linecap: square\"/>\n",
       "     </g>\n",
       "     <g id=\"line2d_24\">\n",
       "      <defs>\n",
       "       <path id=\"m49d07e1efc\" d=\"M 0 0 \n",
       "L -3.5 0 \n",
       "\" style=\"stroke: #000000; stroke-width: 0.8\"/>\n",
       "      </defs>\n",
       "      <g>\n",
       "       <use xlink:href=\"#m49d07e1efc\" x=\"51.378125\" y=\"206.1283\" style=\"stroke: #000000; stroke-width: 0.8\"/>\n",
       "      </g>\n",
       "     </g>\n",
       "     <g id=\"text_4\">\n",
       "      <!-- $\\mathdefault{10^{-4}}$ -->\n",
       "      <g transform=\"translate(20.878125 209.927519) scale(0.1 -0.1)\">\n",
       "       <defs>\n",
       "        <path id=\"DejaVuSans-2212\" d=\"M 678 2272 \n",
       "L 4684 2272 \n",
       "L 4684 1741 \n",
       "L 678 1741 \n",
       "L 678 2272 \n",
       "z\n",
       "\" transform=\"scale(0.015625)\"/>\n",
       "        <path id=\"DejaVuSans-34\" d=\"M 2419 4116 \n",
       "L 825 1625 \n",
       "L 2419 1625 \n",
       "L 2419 4116 \n",
       "z\n",
       "M 2253 4666 \n",
       "L 3047 4666 \n",
       "L 3047 1625 \n",
       "L 3713 1625 \n",
       "L 3713 1100 \n",
       "L 3047 1100 \n",
       "L 3047 0 \n",
       "L 2419 0 \n",
       "L 2419 1100 \n",
       "L 313 1100 \n",
       "L 313 1709 \n",
       "L 2253 4666 \n",
       "z\n",
       "\" transform=\"scale(0.015625)\"/>\n",
       "       </defs>\n",
       "       <use xlink:href=\"#DejaVuSans-31\" transform=\"translate(0 0.684375)\"/>\n",
       "       <use xlink:href=\"#DejaVuSans-30\" transform=\"translate(63.623047 0.684375)\"/>\n",
       "       <use xlink:href=\"#DejaVuSans-2212\" transform=\"translate(128.203125 38.965625) scale(0.7)\"/>\n",
       "       <use xlink:href=\"#DejaVuSans-34\" transform=\"translate(186.855469 38.965625) scale(0.7)\"/>\n",
       "      </g>\n",
       "     </g>\n",
       "    </g>\n",
       "    <g id=\"ytick_2\">\n",
       "     <g id=\"line2d_25\">\n",
       "      <path d=\"M 51.378125 171.420391 \n",
       "L 704.581071 171.420391 \n",
       "\" clip-path=\"url(#p761c893242)\" style=\"fill: none; stroke: #b0b0b0; stroke-width: 0.8; stroke-linecap: square\"/>\n",
       "     </g>\n",
       "     <g id=\"line2d_26\">\n",
       "      <g>\n",
       "       <use xlink:href=\"#m49d07e1efc\" x=\"51.378125\" y=\"171.420391\" style=\"stroke: #000000; stroke-width: 0.8\"/>\n",
       "      </g>\n",
       "     </g>\n",
       "     <g id=\"text_5\">\n",
       "      <!-- $\\mathdefault{10^{-3}}$ -->\n",
       "      <g transform=\"translate(20.878125 175.21961) scale(0.1 -0.1)\">\n",
       "       <use xlink:href=\"#DejaVuSans-31\" transform=\"translate(0 0.765625)\"/>\n",
       "       <use xlink:href=\"#DejaVuSans-30\" transform=\"translate(63.623047 0.765625)\"/>\n",
       "       <use xlink:href=\"#DejaVuSans-2212\" transform=\"translate(128.203125 39.046875) scale(0.7)\"/>\n",
       "       <use xlink:href=\"#DejaVuSans-33\" transform=\"translate(186.855469 39.046875) scale(0.7)\"/>\n",
       "      </g>\n",
       "     </g>\n",
       "    </g>\n",
       "    <g id=\"ytick_3\">\n",
       "     <g id=\"line2d_27\">\n",
       "      <path d=\"M 51.378125 136.712482 \n",
       "L 704.581071 136.712482 \n",
       "\" clip-path=\"url(#p761c893242)\" style=\"fill: none; stroke: #b0b0b0; stroke-width: 0.8; stroke-linecap: square\"/>\n",
       "     </g>\n",
       "     <g id=\"line2d_28\">\n",
       "      <g>\n",
       "       <use xlink:href=\"#m49d07e1efc\" x=\"51.378125\" y=\"136.712482\" style=\"stroke: #000000; stroke-width: 0.8\"/>\n",
       "      </g>\n",
       "     </g>\n",
       "     <g id=\"text_6\">\n",
       "      <!-- $\\mathdefault{10^{-2}}$ -->\n",
       "      <g transform=\"translate(20.878125 140.511701) scale(0.1 -0.1)\">\n",
       "       <use xlink:href=\"#DejaVuSans-31\" transform=\"translate(0 0.765625)\"/>\n",
       "       <use xlink:href=\"#DejaVuSans-30\" transform=\"translate(63.623047 0.765625)\"/>\n",
       "       <use xlink:href=\"#DejaVuSans-2212\" transform=\"translate(128.203125 39.046875) scale(0.7)\"/>\n",
       "       <use xlink:href=\"#DejaVuSans-32\" transform=\"translate(186.855469 39.046875) scale(0.7)\"/>\n",
       "      </g>\n",
       "     </g>\n",
       "    </g>\n",
       "    <g id=\"ytick_4\">\n",
       "     <g id=\"line2d_29\">\n",
       "      <path d=\"M 51.378125 102.004573 \n",
       "L 704.581071 102.004573 \n",
       "\" clip-path=\"url(#p761c893242)\" style=\"fill: none; stroke: #b0b0b0; stroke-width: 0.8; stroke-linecap: square\"/>\n",
       "     </g>\n",
       "     <g id=\"line2d_30\">\n",
       "      <g>\n",
       "       <use xlink:href=\"#m49d07e1efc\" x=\"51.378125\" y=\"102.004573\" style=\"stroke: #000000; stroke-width: 0.8\"/>\n",
       "      </g>\n",
       "     </g>\n",
       "     <g id=\"text_7\">\n",
       "      <!-- $\\mathdefault{10^{-1}}$ -->\n",
       "      <g transform=\"translate(20.878125 105.803792) scale(0.1 -0.1)\">\n",
       "       <use xlink:href=\"#DejaVuSans-31\" transform=\"translate(0 0.684375)\"/>\n",
       "       <use xlink:href=\"#DejaVuSans-30\" transform=\"translate(63.623047 0.684375)\"/>\n",
       "       <use xlink:href=\"#DejaVuSans-2212\" transform=\"translate(128.203125 38.965625) scale(0.7)\"/>\n",
       "       <use xlink:href=\"#DejaVuSans-31\" transform=\"translate(186.855469 38.965625) scale(0.7)\"/>\n",
       "      </g>\n",
       "     </g>\n",
       "    </g>\n",
       "    <g id=\"ytick_5\">\n",
       "     <g id=\"line2d_31\">\n",
       "      <path d=\"M 51.378125 67.296664 \n",
       "L 704.581071 67.296664 \n",
       "\" clip-path=\"url(#p761c893242)\" style=\"fill: none; stroke: #b0b0b0; stroke-width: 0.8; stroke-linecap: square\"/>\n",
       "     </g>\n",
       "     <g id=\"line2d_32\">\n",
       "      <g>\n",
       "       <use xlink:href=\"#m49d07e1efc\" x=\"51.378125\" y=\"67.296664\" style=\"stroke: #000000; stroke-width: 0.8\"/>\n",
       "      </g>\n",
       "     </g>\n",
       "     <g id=\"text_8\">\n",
       "      <!-- $\\mathdefault{10^{0}}$ -->\n",
       "      <g transform=\"translate(26.778125 71.095883) scale(0.1 -0.1)\">\n",
       "       <use xlink:href=\"#DejaVuSans-31\" transform=\"translate(0 0.765625)\"/>\n",
       "       <use xlink:href=\"#DejaVuSans-30\" transform=\"translate(63.623047 0.765625)\"/>\n",
       "       <use xlink:href=\"#DejaVuSans-30\" transform=\"translate(128.203125 39.046875) scale(0.7)\"/>\n",
       "      </g>\n",
       "     </g>\n",
       "    </g>\n",
       "    <g id=\"ytick_6\">\n",
       "     <g id=\"line2d_33\">\n",
       "      <path d=\"M 51.378125 32.588755 \n",
       "L 704.581071 32.588755 \n",
       "\" clip-path=\"url(#p761c893242)\" style=\"fill: none; stroke: #b0b0b0; stroke-width: 0.8; stroke-linecap: square\"/>\n",
       "     </g>\n",
       "     <g id=\"line2d_34\">\n",
       "      <g>\n",
       "       <use xlink:href=\"#m49d07e1efc\" x=\"51.378125\" y=\"32.588755\" style=\"stroke: #000000; stroke-width: 0.8\"/>\n",
       "      </g>\n",
       "     </g>\n",
       "     <g id=\"text_9\">\n",
       "      <!-- $\\mathdefault{10^{1}}$ -->\n",
       "      <g transform=\"translate(26.778125 36.387974) scale(0.1 -0.1)\">\n",
       "       <use xlink:href=\"#DejaVuSans-31\" transform=\"translate(0 0.684375)\"/>\n",
       "       <use xlink:href=\"#DejaVuSans-30\" transform=\"translate(63.623047 0.684375)\"/>\n",
       "       <use xlink:href=\"#DejaVuSans-31\" transform=\"translate(128.203125 38.965625) scale(0.7)\"/>\n",
       "      </g>\n",
       "     </g>\n",
       "    </g>\n",
       "    <g id=\"ytick_7\">\n",
       "     <g id=\"line2d_35\">\n",
       "      <defs>\n",
       "       <path id=\"m39d4797743\" d=\"M 0 0 \n",
       "L -2 0 \n",
       "\" style=\"stroke: #000000; stroke-width: 0.6\"/>\n",
       "      </defs>\n",
       "      <g>\n",
       "       <use xlink:href=\"#m39d4797743\" x=\"51.378125\" y=\"230.388088\" style=\"stroke: #000000; stroke-width: 0.6\"/>\n",
       "      </g>\n",
       "     </g>\n",
       "    </g>\n",
       "    <g id=\"ytick_8\">\n",
       "     <g id=\"line2d_36\">\n",
       "      <g>\n",
       "       <use xlink:href=\"#m39d4797743\" x=\"51.378125\" y=\"224.276328\" style=\"stroke: #000000; stroke-width: 0.6\"/>\n",
       "      </g>\n",
       "     </g>\n",
       "    </g>\n",
       "    <g id=\"ytick_9\">\n",
       "     <g id=\"line2d_37\">\n",
       "      <g>\n",
       "       <use xlink:href=\"#m39d4797743\" x=\"51.378125\" y=\"219.939966\" style=\"stroke: #000000; stroke-width: 0.6\"/>\n",
       "      </g>\n",
       "     </g>\n",
       "    </g>\n",
       "    <g id=\"ytick_10\">\n",
       "     <g id=\"line2d_38\">\n",
       "      <g>\n",
       "       <use xlink:href=\"#m39d4797743\" x=\"51.378125\" y=\"216.576422\" style=\"stroke: #000000; stroke-width: 0.6\"/>\n",
       "      </g>\n",
       "     </g>\n",
       "    </g>\n",
       "    <g id=\"ytick_11\">\n",
       "     <g id=\"line2d_39\">\n",
       "      <g>\n",
       "       <use xlink:href=\"#m39d4797743\" x=\"51.378125\" y=\"213.828207\" style=\"stroke: #000000; stroke-width: 0.6\"/>\n",
       "      </g>\n",
       "     </g>\n",
       "    </g>\n",
       "    <g id=\"ytick_12\">\n",
       "     <g id=\"line2d_40\">\n",
       "      <g>\n",
       "       <use xlink:href=\"#m39d4797743\" x=\"51.378125\" y=\"211.504624\" style=\"stroke: #000000; stroke-width: 0.6\"/>\n",
       "      </g>\n",
       "     </g>\n",
       "    </g>\n",
       "    <g id=\"ytick_13\">\n",
       "     <g id=\"line2d_41\">\n",
       "      <g>\n",
       "       <use xlink:href=\"#m39d4797743\" x=\"51.378125\" y=\"209.491844\" style=\"stroke: #000000; stroke-width: 0.6\"/>\n",
       "      </g>\n",
       "     </g>\n",
       "    </g>\n",
       "    <g id=\"ytick_14\">\n",
       "     <g id=\"line2d_42\">\n",
       "      <g>\n",
       "       <use xlink:href=\"#m39d4797743\" x=\"51.378125\" y=\"207.716447\" style=\"stroke: #000000; stroke-width: 0.6\"/>\n",
       "      </g>\n",
       "     </g>\n",
       "    </g>\n",
       "    <g id=\"ytick_15\">\n",
       "     <g id=\"line2d_43\">\n",
       "      <g>\n",
       "       <use xlink:href=\"#m39d4797743\" x=\"51.378125\" y=\"195.680179\" style=\"stroke: #000000; stroke-width: 0.6\"/>\n",
       "      </g>\n",
       "     </g>\n",
       "    </g>\n",
       "    <g id=\"ytick_16\">\n",
       "     <g id=\"line2d_44\">\n",
       "      <g>\n",
       "       <use xlink:href=\"#m39d4797743\" x=\"51.378125\" y=\"189.568419\" style=\"stroke: #000000; stroke-width: 0.6\"/>\n",
       "      </g>\n",
       "     </g>\n",
       "    </g>\n",
       "    <g id=\"ytick_17\">\n",
       "     <g id=\"line2d_45\">\n",
       "      <g>\n",
       "       <use xlink:href=\"#m39d4797743\" x=\"51.378125\" y=\"185.232057\" style=\"stroke: #000000; stroke-width: 0.6\"/>\n",
       "      </g>\n",
       "     </g>\n",
       "    </g>\n",
       "    <g id=\"ytick_18\">\n",
       "     <g id=\"line2d_46\">\n",
       "      <g>\n",
       "       <use xlink:href=\"#m39d4797743\" x=\"51.378125\" y=\"181.868513\" style=\"stroke: #000000; stroke-width: 0.6\"/>\n",
       "      </g>\n",
       "     </g>\n",
       "    </g>\n",
       "    <g id=\"ytick_19\">\n",
       "     <g id=\"line2d_47\">\n",
       "      <g>\n",
       "       <use xlink:href=\"#m39d4797743\" x=\"51.378125\" y=\"179.120298\" style=\"stroke: #000000; stroke-width: 0.6\"/>\n",
       "      </g>\n",
       "     </g>\n",
       "    </g>\n",
       "    <g id=\"ytick_20\">\n",
       "     <g id=\"line2d_48\">\n",
       "      <g>\n",
       "       <use xlink:href=\"#m39d4797743\" x=\"51.378125\" y=\"176.796714\" style=\"stroke: #000000; stroke-width: 0.6\"/>\n",
       "      </g>\n",
       "     </g>\n",
       "    </g>\n",
       "    <g id=\"ytick_21\">\n",
       "     <g id=\"line2d_49\">\n",
       "      <g>\n",
       "       <use xlink:href=\"#m39d4797743\" x=\"51.378125\" y=\"174.783935\" style=\"stroke: #000000; stroke-width: 0.6\"/>\n",
       "      </g>\n",
       "     </g>\n",
       "    </g>\n",
       "    <g id=\"ytick_22\">\n",
       "     <g id=\"line2d_50\">\n",
       "      <g>\n",
       "       <use xlink:href=\"#m39d4797743\" x=\"51.378125\" y=\"173.008538\" style=\"stroke: #000000; stroke-width: 0.6\"/>\n",
       "      </g>\n",
       "     </g>\n",
       "    </g>\n",
       "    <g id=\"ytick_23\">\n",
       "     <g id=\"line2d_51\">\n",
       "      <g>\n",
       "       <use xlink:href=\"#m39d4797743\" x=\"51.378125\" y=\"160.97227\" style=\"stroke: #000000; stroke-width: 0.6\"/>\n",
       "      </g>\n",
       "     </g>\n",
       "    </g>\n",
       "    <g id=\"ytick_24\">\n",
       "     <g id=\"line2d_52\">\n",
       "      <g>\n",
       "       <use xlink:href=\"#m39d4797743\" x=\"51.378125\" y=\"154.86051\" style=\"stroke: #000000; stroke-width: 0.6\"/>\n",
       "      </g>\n",
       "     </g>\n",
       "    </g>\n",
       "    <g id=\"ytick_25\">\n",
       "     <g id=\"line2d_53\">\n",
       "      <g>\n",
       "       <use xlink:href=\"#m39d4797743\" x=\"51.378125\" y=\"150.524148\" style=\"stroke: #000000; stroke-width: 0.6\"/>\n",
       "      </g>\n",
       "     </g>\n",
       "    </g>\n",
       "    <g id=\"ytick_26\">\n",
       "     <g id=\"line2d_54\">\n",
       "      <g>\n",
       "       <use xlink:href=\"#m39d4797743\" x=\"51.378125\" y=\"147.160604\" style=\"stroke: #000000; stroke-width: 0.6\"/>\n",
       "      </g>\n",
       "     </g>\n",
       "    </g>\n",
       "    <g id=\"ytick_27\">\n",
       "     <g id=\"line2d_55\">\n",
       "      <g>\n",
       "       <use xlink:href=\"#m39d4797743\" x=\"51.378125\" y=\"144.412388\" style=\"stroke: #000000; stroke-width: 0.6\"/>\n",
       "      </g>\n",
       "     </g>\n",
       "    </g>\n",
       "    <g id=\"ytick_28\">\n",
       "     <g id=\"line2d_56\">\n",
       "      <g>\n",
       "       <use xlink:href=\"#m39d4797743\" x=\"51.378125\" y=\"142.088805\" style=\"stroke: #000000; stroke-width: 0.6\"/>\n",
       "      </g>\n",
       "     </g>\n",
       "    </g>\n",
       "    <g id=\"ytick_29\">\n",
       "     <g id=\"line2d_57\">\n",
       "      <g>\n",
       "       <use xlink:href=\"#m39d4797743\" x=\"51.378125\" y=\"140.076026\" style=\"stroke: #000000; stroke-width: 0.6\"/>\n",
       "      </g>\n",
       "     </g>\n",
       "    </g>\n",
       "    <g id=\"ytick_30\">\n",
       "     <g id=\"line2d_58\">\n",
       "      <g>\n",
       "       <use xlink:href=\"#m39d4797743\" x=\"51.378125\" y=\"138.300629\" style=\"stroke: #000000; stroke-width: 0.6\"/>\n",
       "      </g>\n",
       "     </g>\n",
       "    </g>\n",
       "    <g id=\"ytick_31\">\n",
       "     <g id=\"line2d_59\">\n",
       "      <g>\n",
       "       <use xlink:href=\"#m39d4797743\" x=\"51.378125\" y=\"126.26436\" style=\"stroke: #000000; stroke-width: 0.6\"/>\n",
       "      </g>\n",
       "     </g>\n",
       "    </g>\n",
       "    <g id=\"ytick_32\">\n",
       "     <g id=\"line2d_60\">\n",
       "      <g>\n",
       "       <use xlink:href=\"#m39d4797743\" x=\"51.378125\" y=\"120.152601\" style=\"stroke: #000000; stroke-width: 0.6\"/>\n",
       "      </g>\n",
       "     </g>\n",
       "    </g>\n",
       "    <g id=\"ytick_33\">\n",
       "     <g id=\"line2d_61\">\n",
       "      <g>\n",
       "       <use xlink:href=\"#m39d4797743\" x=\"51.378125\" y=\"115.816239\" style=\"stroke: #000000; stroke-width: 0.6\"/>\n",
       "      </g>\n",
       "     </g>\n",
       "    </g>\n",
       "    <g id=\"ytick_34\">\n",
       "     <g id=\"line2d_62\">\n",
       "      <g>\n",
       "       <use xlink:href=\"#m39d4797743\" x=\"51.378125\" y=\"112.452695\" style=\"stroke: #000000; stroke-width: 0.6\"/>\n",
       "      </g>\n",
       "     </g>\n",
       "    </g>\n",
       "    <g id=\"ytick_35\">\n",
       "     <g id=\"line2d_63\">\n",
       "      <g>\n",
       "       <use xlink:href=\"#m39d4797743\" x=\"51.378125\" y=\"109.704479\" style=\"stroke: #000000; stroke-width: 0.6\"/>\n",
       "      </g>\n",
       "     </g>\n",
       "    </g>\n",
       "    <g id=\"ytick_36\">\n",
       "     <g id=\"line2d_64\">\n",
       "      <g>\n",
       "       <use xlink:href=\"#m39d4797743\" x=\"51.378125\" y=\"107.380896\" style=\"stroke: #000000; stroke-width: 0.6\"/>\n",
       "      </g>\n",
       "     </g>\n",
       "    </g>\n",
       "    <g id=\"ytick_37\">\n",
       "     <g id=\"line2d_65\">\n",
       "      <g>\n",
       "       <use xlink:href=\"#m39d4797743\" x=\"51.378125\" y=\"105.368117\" style=\"stroke: #000000; stroke-width: 0.6\"/>\n",
       "      </g>\n",
       "     </g>\n",
       "    </g>\n",
       "    <g id=\"ytick_38\">\n",
       "     <g id=\"line2d_66\">\n",
       "      <g>\n",
       "       <use xlink:href=\"#m39d4797743\" x=\"51.378125\" y=\"103.59272\" style=\"stroke: #000000; stroke-width: 0.6\"/>\n",
       "      </g>\n",
       "     </g>\n",
       "    </g>\n",
       "    <g id=\"ytick_39\">\n",
       "     <g id=\"line2d_67\">\n",
       "      <g>\n",
       "       <use xlink:href=\"#m39d4797743\" x=\"51.378125\" y=\"91.556451\" style=\"stroke: #000000; stroke-width: 0.6\"/>\n",
       "      </g>\n",
       "     </g>\n",
       "    </g>\n",
       "    <g id=\"ytick_40\">\n",
       "     <g id=\"line2d_68\">\n",
       "      <g>\n",
       "       <use xlink:href=\"#m39d4797743\" x=\"51.378125\" y=\"85.444692\" style=\"stroke: #000000; stroke-width: 0.6\"/>\n",
       "      </g>\n",
       "     </g>\n",
       "    </g>\n",
       "    <g id=\"ytick_41\">\n",
       "     <g id=\"line2d_69\">\n",
       "      <g>\n",
       "       <use xlink:href=\"#m39d4797743\" x=\"51.378125\" y=\"81.10833\" style=\"stroke: #000000; stroke-width: 0.6\"/>\n",
       "      </g>\n",
       "     </g>\n",
       "    </g>\n",
       "    <g id=\"ytick_42\">\n",
       "     <g id=\"line2d_70\">\n",
       "      <g>\n",
       "       <use xlink:href=\"#m39d4797743\" x=\"51.378125\" y=\"77.744786\" style=\"stroke: #000000; stroke-width: 0.6\"/>\n",
       "      </g>\n",
       "     </g>\n",
       "    </g>\n",
       "    <g id=\"ytick_43\">\n",
       "     <g id=\"line2d_71\">\n",
       "      <g>\n",
       "       <use xlink:href=\"#m39d4797743\" x=\"51.378125\" y=\"74.99657\" style=\"stroke: #000000; stroke-width: 0.6\"/>\n",
       "      </g>\n",
       "     </g>\n",
       "    </g>\n",
       "    <g id=\"ytick_44\">\n",
       "     <g id=\"line2d_72\">\n",
       "      <g>\n",
       "       <use xlink:href=\"#m39d4797743\" x=\"51.378125\" y=\"72.672987\" style=\"stroke: #000000; stroke-width: 0.6\"/>\n",
       "      </g>\n",
       "     </g>\n",
       "    </g>\n",
       "    <g id=\"ytick_45\">\n",
       "     <g id=\"line2d_73\">\n",
       "      <g>\n",
       "       <use xlink:href=\"#m39d4797743\" x=\"51.378125\" y=\"70.660208\" style=\"stroke: #000000; stroke-width: 0.6\"/>\n",
       "      </g>\n",
       "     </g>\n",
       "    </g>\n",
       "    <g id=\"ytick_46\">\n",
       "     <g id=\"line2d_74\">\n",
       "      <g>\n",
       "       <use xlink:href=\"#m39d4797743\" x=\"51.378125\" y=\"68.884811\" style=\"stroke: #000000; stroke-width: 0.6\"/>\n",
       "      </g>\n",
       "     </g>\n",
       "    </g>\n",
       "    <g id=\"ytick_47\">\n",
       "     <g id=\"line2d_75\">\n",
       "      <g>\n",
       "       <use xlink:href=\"#m39d4797743\" x=\"51.378125\" y=\"56.848542\" style=\"stroke: #000000; stroke-width: 0.6\"/>\n",
       "      </g>\n",
       "     </g>\n",
       "    </g>\n",
       "    <g id=\"ytick_48\">\n",
       "     <g id=\"line2d_76\">\n",
       "      <g>\n",
       "       <use xlink:href=\"#m39d4797743\" x=\"51.378125\" y=\"50.736783\" style=\"stroke: #000000; stroke-width: 0.6\"/>\n",
       "      </g>\n",
       "     </g>\n",
       "    </g>\n",
       "    <g id=\"ytick_49\">\n",
       "     <g id=\"line2d_77\">\n",
       "      <g>\n",
       "       <use xlink:href=\"#m39d4797743\" x=\"51.378125\" y=\"46.40042\" style=\"stroke: #000000; stroke-width: 0.6\"/>\n",
       "      </g>\n",
       "     </g>\n",
       "    </g>\n",
       "    <g id=\"ytick_50\">\n",
       "     <g id=\"line2d_78\">\n",
       "      <g>\n",
       "       <use xlink:href=\"#m39d4797743\" x=\"51.378125\" y=\"43.036877\" style=\"stroke: #000000; stroke-width: 0.6\"/>\n",
       "      </g>\n",
       "     </g>\n",
       "    </g>\n",
       "    <g id=\"ytick_51\">\n",
       "     <g id=\"line2d_79\">\n",
       "      <g>\n",
       "       <use xlink:href=\"#m39d4797743\" x=\"51.378125\" y=\"40.288661\" style=\"stroke: #000000; stroke-width: 0.6\"/>\n",
       "      </g>\n",
       "     </g>\n",
       "    </g>\n",
       "    <g id=\"ytick_52\">\n",
       "     <g id=\"line2d_80\">\n",
       "      <g>\n",
       "       <use xlink:href=\"#m39d4797743\" x=\"51.378125\" y=\"37.965078\" style=\"stroke: #000000; stroke-width: 0.6\"/>\n",
       "      </g>\n",
       "     </g>\n",
       "    </g>\n",
       "    <g id=\"ytick_53\">\n",
       "     <g id=\"line2d_81\">\n",
       "      <g>\n",
       "       <use xlink:href=\"#m39d4797743\" x=\"51.378125\" y=\"35.952299\" style=\"stroke: #000000; stroke-width: 0.6\"/>\n",
       "      </g>\n",
       "     </g>\n",
       "    </g>\n",
       "    <g id=\"ytick_54\">\n",
       "     <g id=\"line2d_82\">\n",
       "      <g>\n",
       "       <use xlink:href=\"#m39d4797743\" x=\"51.378125\" y=\"34.176902\" style=\"stroke: #000000; stroke-width: 0.6\"/>\n",
       "      </g>\n",
       "     </g>\n",
       "    </g>\n",
       "    <g id=\"text_10\">\n",
       "     <!-- Время, с. -->\n",
       "     <g transform=\"translate(14.798438 154.219469) rotate(-90) scale(0.1 -0.1)\">\n",
       "      <defs>\n",
       "       <path id=\"DejaVuSans-412\" d=\"M 1259 2228 \n",
       "L 1259 519 \n",
       "L 2272 519 \n",
       "Q 2781 519 3026 730 \n",
       "Q 3272 941 3272 1375 \n",
       "Q 3272 1813 3026 2020 \n",
       "Q 2781 2228 2272 2228 \n",
       "L 1259 2228 \n",
       "z\n",
       "M 1259 4147 \n",
       "L 1259 2741 \n",
       "L 2194 2741 \n",
       "Q 2656 2741 2882 2914 \n",
       "Q 3109 3088 3109 3444 \n",
       "Q 3109 3797 2882 3972 \n",
       "Q 2656 4147 2194 4147 \n",
       "L 1259 4147 \n",
       "z\n",
       "M 628 4666 \n",
       "L 2241 4666 \n",
       "Q 2963 4666 3353 4366 \n",
       "Q 3744 4066 3744 3513 \n",
       "Q 3744 3084 3544 2831 \n",
       "Q 3344 2578 2956 2516 \n",
       "Q 3422 2416 3680 2098 \n",
       "Q 3938 1781 3938 1306 \n",
       "Q 3938 681 3513 340 \n",
       "Q 3088 0 2303 0 \n",
       "L 628 0 \n",
       "L 628 4666 \n",
       "z\n",
       "\" transform=\"scale(0.015625)\"/>\n",
       "       <path id=\"DejaVuSans-440\" d=\"M 1159 525 \n",
       "L 1159 -1331 \n",
       "L 581 -1331 \n",
       "L 581 3500 \n",
       "L 1159 3500 \n",
       "L 1159 2969 \n",
       "Q 1341 3281 1617 3432 \n",
       "Q 1894 3584 2278 3584 \n",
       "Q 2916 3584 3314 3078 \n",
       "Q 3713 2572 3713 1747 \n",
       "Q 3713 922 3314 415 \n",
       "Q 2916 -91 2278 -91 \n",
       "Q 1894 -91 1617 61 \n",
       "Q 1341 213 1159 525 \n",
       "z\n",
       "M 3116 1747 \n",
       "Q 3116 2381 2855 2742 \n",
       "Q 2594 3103 2138 3103 \n",
       "Q 1681 3103 1420 2742 \n",
       "Q 1159 2381 1159 1747 \n",
       "Q 1159 1113 1420 752 \n",
       "Q 1681 391 2138 391 \n",
       "Q 2594 391 2855 752 \n",
       "Q 3116 1113 3116 1747 \n",
       "z\n",
       "\" transform=\"scale(0.015625)\"/>\n",
       "       <path id=\"DejaVuSans-435\" d=\"M 3597 1894 \n",
       "L 3597 1613 \n",
       "L 953 1613 \n",
       "Q 991 1019 1311 708 \n",
       "Q 1631 397 2203 397 \n",
       "Q 2534 397 2845 478 \n",
       "Q 3156 559 3463 722 \n",
       "L 3463 178 \n",
       "Q 3153 47 2828 -22 \n",
       "Q 2503 -91 2169 -91 \n",
       "Q 1331 -91 842 396 \n",
       "Q 353 884 353 1716 \n",
       "Q 353 2575 817 3079 \n",
       "Q 1281 3584 2069 3584 \n",
       "Q 2775 3584 3186 3129 \n",
       "Q 3597 2675 3597 1894 \n",
       "z\n",
       "M 3022 2063 \n",
       "Q 3016 2534 2758 2815 \n",
       "Q 2500 3097 2075 3097 \n",
       "Q 1594 3097 1305 2825 \n",
       "Q 1016 2553 972 2059 \n",
       "L 3022 2063 \n",
       "z\n",
       "\" transform=\"scale(0.015625)\"/>\n",
       "       <path id=\"DejaVuSans-43c\" d=\"M 581 3500 \n",
       "L 1422 3500 \n",
       "L 2416 1156 \n",
       "L 3413 3500 \n",
       "L 4247 3500 \n",
       "L 4247 0 \n",
       "L 3669 0 \n",
       "L 3669 2950 \n",
       "L 2703 672 \n",
       "L 2128 672 \n",
       "L 1159 2950 \n",
       "L 1159 0 \n",
       "L 581 0 \n",
       "L 581 3500 \n",
       "z\n",
       "\" transform=\"scale(0.015625)\"/>\n",
       "       <path id=\"DejaVuSans-44f\" d=\"M 1181 2491 \n",
       "Q 1181 2231 1381 2084 \n",
       "Q 1581 1938 1953 1938 \n",
       "L 2728 1938 \n",
       "L 2728 3041 \n",
       "L 1953 3041 \n",
       "Q 1581 3041 1381 2897 \n",
       "Q 1181 2753 1181 2491 \n",
       "z\n",
       "M 363 0 \n",
       "L 1431 1534 \n",
       "Q 1069 1616 828 1830 \n",
       "Q 588 2044 588 2491 \n",
       "Q 588 2997 923 3248 \n",
       "Q 1259 3500 1938 3500 \n",
       "L 3306 3500 \n",
       "L 3306 0 \n",
       "L 2728 0 \n",
       "L 2728 1478 \n",
       "L 2013 1478 \n",
       "L 981 0 \n",
       "L 363 0 \n",
       "z\n",
       "\" transform=\"scale(0.015625)\"/>\n",
       "       <path id=\"DejaVuSans-2c\" d=\"M 750 794 \n",
       "L 1409 794 \n",
       "L 1409 256 \n",
       "L 897 -744 \n",
       "L 494 -744 \n",
       "L 750 256 \n",
       "L 750 794 \n",
       "z\n",
       "\" transform=\"scale(0.015625)\"/>\n",
       "       <path id=\"DejaVuSans-20\" transform=\"scale(0.015625)\"/>\n",
       "       <path id=\"DejaVuSans-441\" d=\"M 3122 3366 \n",
       "L 3122 2828 \n",
       "Q 2878 2963 2633 3030 \n",
       "Q 2388 3097 2138 3097 \n",
       "Q 1578 3097 1268 2742 \n",
       "Q 959 2388 959 1747 \n",
       "Q 959 1106 1268 751 \n",
       "Q 1578 397 2138 397 \n",
       "Q 2388 397 2633 464 \n",
       "Q 2878 531 3122 666 \n",
       "L 3122 134 \n",
       "Q 2881 22 2623 -34 \n",
       "Q 2366 -91 2075 -91 \n",
       "Q 1284 -91 818 406 \n",
       "Q 353 903 353 1747 \n",
       "Q 353 2603 823 3093 \n",
       "Q 1294 3584 2113 3584 \n",
       "Q 2378 3584 2631 3529 \n",
       "Q 2884 3475 3122 3366 \n",
       "z\n",
       "\" transform=\"scale(0.015625)\"/>\n",
       "       <path id=\"DejaVuSans-2e\" d=\"M 684 794 \n",
       "L 1344 794 \n",
       "L 1344 0 \n",
       "L 684 0 \n",
       "L 684 794 \n",
       "z\n",
       "\" transform=\"scale(0.015625)\"/>\n",
       "      </defs>\n",
       "      <use xlink:href=\"#DejaVuSans-412\"/>\n",
       "      <use xlink:href=\"#DejaVuSans-440\" x=\"68.603516\"/>\n",
       "      <use xlink:href=\"#DejaVuSans-435\" x=\"132.080078\"/>\n",
       "      <use xlink:href=\"#DejaVuSans-43c\" x=\"193.603516\"/>\n",
       "      <use xlink:href=\"#DejaVuSans-44f\" x=\"269.042969\"/>\n",
       "      <use xlink:href=\"#DejaVuSans-2c\" x=\"329.199219\"/>\n",
       "      <use xlink:href=\"#DejaVuSans-20\" x=\"360.986328\"/>\n",
       "      <use xlink:href=\"#DejaVuSans-441\" x=\"392.773438\"/>\n",
       "      <use xlink:href=\"#DejaVuSans-2e\" x=\"447.753906\"/>\n",
       "     </g>\n",
       "    </g>\n",
       "   </g>\n",
       "   <g id=\"line2d_83\">\n",
       "    <path d=\"M 81.069168 223.327982 \n",
       "L 170.448113 228.354852 \n",
       "L 199.221707 222.884613 \n",
       "L 288.600653 208.100129 \n",
       "L 377.979598 189.019016 \n",
       "L 467.358544 168.71766 \n",
       "L 496.132137 160.960788 \n",
       "L 585.511083 136.983738 \n",
       "L 674.890028 109.674575 \n",
       "\" clip-path=\"url(#p761c893242)\" style=\"fill: none; stroke: #1f77b4; stroke-width: 1.5; stroke-linecap: square\"/>\n",
       "   </g>\n",
       "   <g id=\"line2d_84\">\n",
       "    <path d=\"M 81.069168 191.969562 \n",
       "L 170.448113 194.337696 \n",
       "L 199.221707 188.687718 \n",
       "L 288.600653 172.833359 \n",
       "L 377.979598 153.351288 \n",
       "L 467.358544 132.984456 \n",
       "L 496.132137 126.197141 \n",
       "L 585.511083 105.430703 \n",
       "L 674.890028 81.569641 \n",
       "\" clip-path=\"url(#p761c893242)\" style=\"fill: none; stroke: #ff7f0e; stroke-width: 1.5; stroke-linecap: square\"/>\n",
       "   </g>\n",
       "   <g id=\"line2d_85\">\n",
       "    <path d=\"M 81.069168 171.74847 \n",
       "L 170.448113 151.06491 \n",
       "L 199.221707 143.957998 \n",
       "L 288.600653 122.811753 \n",
       "L 377.979598 101.659222 \n",
       "L 467.358544 79.63855 \n",
       "L 496.132137 73.989428 \n",
       "L 585.511083 53.266001 \n",
       "L 674.890028 32.129398 \n",
       "\" clip-path=\"url(#p761c893242)\" style=\"fill: none; stroke: #2ca02c; stroke-width: 1.5; stroke-linecap: square\"/>\n",
       "   </g>\n",
       "   <g id=\"patch_3\">\n",
       "    <path d=\"M 51.378125 238.166125 \n",
       "L 51.378125 22.318125 \n",
       "\" style=\"fill: none; stroke: #000000; stroke-width: 0.8; stroke-linejoin: miter; stroke-linecap: square\"/>\n",
       "   </g>\n",
       "   <g id=\"patch_4\">\n",
       "    <path d=\"M 704.581071 238.166125 \n",
       "L 704.581071 22.318125 \n",
       "\" style=\"fill: none; stroke: #000000; stroke-width: 0.8; stroke-linejoin: miter; stroke-linecap: square\"/>\n",
       "   </g>\n",
       "   <g id=\"patch_5\">\n",
       "    <path d=\"M 51.378125 238.166125 \n",
       "L 704.581071 238.166125 \n",
       "\" style=\"fill: none; stroke: #000000; stroke-width: 0.8; stroke-linejoin: miter; stroke-linecap: square\"/>\n",
       "   </g>\n",
       "   <g id=\"patch_6\">\n",
       "    <path d=\"M 51.378125 22.318125 \n",
       "L 704.581071 22.318125 \n",
       "\" style=\"fill: none; stroke: #000000; stroke-width: 0.8; stroke-linejoin: miter; stroke-linecap: square\"/>\n",
       "   </g>\n",
       "   <g id=\"text_11\">\n",
       "    <!-- Сравнение скорости реализаций для задачи replace_zeros_to_means -->\n",
       "    <g transform=\"translate(160.645536 16.318125) scale(0.12 -0.12)\">\n",
       "     <defs>\n",
       "      <path id=\"DejaVuSans-421\" d=\"M 4122 4306 \n",
       "L 4122 3641 \n",
       "Q 3803 3938 3442 4084 \n",
       "Q 3081 4231 2675 4231 \n",
       "Q 1875 4231 1450 3742 \n",
       "Q 1025 3253 1025 2328 \n",
       "Q 1025 1406 1450 917 \n",
       "Q 1875 428 2675 428 \n",
       "Q 3081 428 3442 575 \n",
       "Q 3803 722 4122 1019 \n",
       "L 4122 359 \n",
       "Q 3791 134 3420 21 \n",
       "Q 3050 -91 2638 -91 \n",
       "Q 1578 -91 968 557 \n",
       "Q 359 1206 359 2328 \n",
       "Q 359 3453 968 4101 \n",
       "Q 1578 4750 2638 4750 \n",
       "Q 3056 4750 3426 4639 \n",
       "Q 3797 4528 4122 4306 \n",
       "z\n",
       "\" transform=\"scale(0.015625)\"/>\n",
       "      <path id=\"DejaVuSans-430\" d=\"M 2194 1759 \n",
       "Q 1497 1759 1228 1600 \n",
       "Q 959 1441 959 1056 \n",
       "Q 959 750 1161 570 \n",
       "Q 1363 391 1709 391 \n",
       "Q 2188 391 2477 730 \n",
       "Q 2766 1069 2766 1631 \n",
       "L 2766 1759 \n",
       "L 2194 1759 \n",
       "z\n",
       "M 3341 1997 \n",
       "L 3341 0 \n",
       "L 2766 0 \n",
       "L 2766 531 \n",
       "Q 2569 213 2275 61 \n",
       "Q 1981 -91 1556 -91 \n",
       "Q 1019 -91 701 211 \n",
       "Q 384 513 384 1019 \n",
       "Q 384 1609 779 1909 \n",
       "Q 1175 2209 1959 2209 \n",
       "L 2766 2209 \n",
       "L 2766 2266 \n",
       "Q 2766 2663 2505 2880 \n",
       "Q 2244 3097 1772 3097 \n",
       "Q 1472 3097 1187 3025 \n",
       "Q 903 2953 641 2809 \n",
       "L 641 3341 \n",
       "Q 956 3463 1253 3523 \n",
       "Q 1550 3584 1831 3584 \n",
       "Q 2591 3584 2966 3190 \n",
       "Q 3341 2797 3341 1997 \n",
       "z\n",
       "\" transform=\"scale(0.015625)\"/>\n",
       "      <path id=\"DejaVuSans-432\" d=\"M 1156 1613 \n",
       "L 1156 459 \n",
       "L 1975 459 \n",
       "Q 2369 459 2575 607 \n",
       "Q 2781 756 2781 1038 \n",
       "Q 2781 1319 2575 1466 \n",
       "Q 2369 1613 1975 1613 \n",
       "L 1156 1613 \n",
       "z\n",
       "M 1156 3041 \n",
       "L 1156 2072 \n",
       "L 1913 2072 \n",
       "Q 2238 2072 2444 2201 \n",
       "Q 2650 2331 2650 2563 \n",
       "Q 2650 2794 2444 2917 \n",
       "Q 2238 3041 1913 3041 \n",
       "L 1156 3041 \n",
       "z\n",
       "M 581 3500 \n",
       "L 1950 3500 \n",
       "Q 2566 3500 2897 3275 \n",
       "Q 3228 3050 3228 2634 \n",
       "Q 3228 2313 3059 2123 \n",
       "Q 2891 1934 2559 1888 \n",
       "Q 2956 1813 3175 1575 \n",
       "Q 3394 1338 3394 981 \n",
       "Q 3394 513 3033 256 \n",
       "Q 2672 0 2003 0 \n",
       "L 581 0 \n",
       "L 581 3500 \n",
       "z\n",
       "\" transform=\"scale(0.015625)\"/>\n",
       "      <path id=\"DejaVuSans-43d\" d=\"M 581 3500 \n",
       "L 1159 3500 \n",
       "L 1159 2072 \n",
       "L 3025 2072 \n",
       "L 3025 3500 \n",
       "L 3603 3500 \n",
       "L 3603 0 \n",
       "L 3025 0 \n",
       "L 3025 1613 \n",
       "L 1159 1613 \n",
       "L 1159 0 \n",
       "L 581 0 \n",
       "L 581 3500 \n",
       "z\n",
       "\" transform=\"scale(0.015625)\"/>\n",
       "      <path id=\"DejaVuSans-438\" d=\"M 3578 3500 \n",
       "L 3578 0 \n",
       "L 3006 0 \n",
       "L 3006 2809 \n",
       "L 1319 0 \n",
       "L 581 0 \n",
       "L 581 3500 \n",
       "L 1153 3500 \n",
       "L 1153 697 \n",
       "L 2838 3500 \n",
       "L 3578 3500 \n",
       "z\n",
       "\" transform=\"scale(0.015625)\"/>\n",
       "      <path id=\"DejaVuSans-43a\" d=\"M 581 3500 \n",
       "L 1153 3500 \n",
       "L 1153 1856 \n",
       "L 2775 3500 \n",
       "L 3481 3500 \n",
       "L 2144 2147 \n",
       "L 3653 0 \n",
       "L 3009 0 \n",
       "L 1769 1766 \n",
       "L 1153 1141 \n",
       "L 1153 0 \n",
       "L 581 0 \n",
       "L 581 3500 \n",
       "z\n",
       "\" transform=\"scale(0.015625)\"/>\n",
       "      <path id=\"DejaVuSans-43e\" d=\"M 1959 3097 \n",
       "Q 1497 3097 1228 2736 \n",
       "Q 959 2375 959 1747 \n",
       "Q 959 1119 1226 758 \n",
       "Q 1494 397 1959 397 \n",
       "Q 2419 397 2687 759 \n",
       "Q 2956 1122 2956 1747 \n",
       "Q 2956 2369 2687 2733 \n",
       "Q 2419 3097 1959 3097 \n",
       "z\n",
       "M 1959 3584 \n",
       "Q 2709 3584 3137 3096 \n",
       "Q 3566 2609 3566 1747 \n",
       "Q 3566 888 3137 398 \n",
       "Q 2709 -91 1959 -91 \n",
       "Q 1206 -91 779 398 \n",
       "Q 353 888 353 1747 \n",
       "Q 353 2609 779 3096 \n",
       "Q 1206 3584 1959 3584 \n",
       "z\n",
       "\" transform=\"scale(0.015625)\"/>\n",
       "      <path id=\"DejaVuSans-442\" d=\"M 188 3500 \n",
       "L 3541 3500 \n",
       "L 3541 3041 \n",
       "L 2147 3041 \n",
       "L 2147 0 \n",
       "L 1581 0 \n",
       "L 1581 3041 \n",
       "L 188 3041 \n",
       "L 188 3500 \n",
       "z\n",
       "\" transform=\"scale(0.015625)\"/>\n",
       "      <path id=\"DejaVuSans-43b\" d=\"M 238 0 \n",
       "L 238 478 \n",
       "Q 806 566 981 959 \n",
       "Q 1194 1513 1194 2928 \n",
       "L 1194 3500 \n",
       "L 3559 3500 \n",
       "L 3559 0 \n",
       "L 2984 0 \n",
       "L 2984 3041 \n",
       "L 1769 3041 \n",
       "L 1769 2694 \n",
       "Q 1769 1344 1494 738 \n",
       "Q 1200 91 238 0 \n",
       "z\n",
       "\" transform=\"scale(0.015625)\"/>\n",
       "      <path id=\"DejaVuSans-437\" d=\"M 2206 1888 \n",
       "Q 2594 1813 2809 1584 \n",
       "Q 3025 1356 3025 1019 \n",
       "Q 3025 478 2622 193 \n",
       "Q 2219 -91 1475 -91 \n",
       "Q 1225 -91 961 -47 \n",
       "Q 697 -3 416 84 \n",
       "L 416 619 \n",
       "Q 638 503 903 445 \n",
       "Q 1169 388 1459 388 \n",
       "Q 1931 388 2195 563 \n",
       "Q 2459 738 2459 1019 \n",
       "Q 2459 1294 2225 1461 \n",
       "Q 1991 1628 1563 1628 \n",
       "L 1100 1628 \n",
       "L 1100 2103 \n",
       "L 1584 2103 \n",
       "Q 1947 2103 2158 2242 \n",
       "Q 2369 2381 2369 2600 \n",
       "Q 2369 2800 2151 2944 \n",
       "Q 1934 3088 1563 3088 \n",
       "Q 1341 3088 1089 3047 \n",
       "Q 838 3006 534 2916 \n",
       "L 534 3438 \n",
       "Q 841 3513 1106 3550 \n",
       "Q 1372 3588 1609 3588 \n",
       "Q 2222 3588 2576 3342 \n",
       "Q 2931 3097 2931 2656 \n",
       "Q 2931 2366 2743 2164 \n",
       "Q 2556 1963 2206 1888 \n",
       "z\n",
       "\" transform=\"scale(0.015625)\"/>\n",
       "      <path id=\"DejaVuSans-446\" d=\"M 3603 0 \n",
       "L 581 0 \n",
       "L 581 3500 \n",
       "L 1159 3500 \n",
       "L 1159 459 \n",
       "L 3025 459 \n",
       "L 3025 3500 \n",
       "L 3603 3500 \n",
       "L 3603 459 \n",
       "L 4063 459 \n",
       "L 4063 -884 \n",
       "L 3603 -884 \n",
       "L 3603 0 \n",
       "z\n",
       "\" transform=\"scale(0.015625)\"/>\n",
       "      <path id=\"DejaVuSans-439\" d=\"M 3578 3500 \n",
       "L 3578 0 \n",
       "L 3006 0 \n",
       "L 3006 2809 \n",
       "L 1319 0 \n",
       "L 581 0 \n",
       "L 581 3500 \n",
       "L 1153 3500 \n",
       "L 1153 697 \n",
       "L 2838 3500 \n",
       "L 3578 3500 \n",
       "z\n",
       "M 1102 4833 \n",
       "L 1471 4833 \n",
       "Q 1505 4599 1656 4481 \n",
       "Q 1808 4364 2080 4364 \n",
       "Q 2349 4364 2499 4480 \n",
       "Q 2649 4596 2689 4833 \n",
       "L 3058 4833 \n",
       "Q 3027 4386 2780 4161 \n",
       "Q 2533 3936 2080 3936 \n",
       "Q 1627 3936 1380 4161 \n",
       "Q 1133 4386 1102 4833 \n",
       "z\n",
       "\" transform=\"scale(0.015625)\"/>\n",
       "      <path id=\"DejaVuSans-434\" d=\"M 1384 459 \n",
       "L 3053 459 \n",
       "L 3053 3041 \n",
       "L 1844 3041 \n",
       "L 1844 2603 \n",
       "Q 1844 1316 1475 628 \n",
       "L 1384 459 \n",
       "z\n",
       "M 550 459 \n",
       "Q 834 584 959 850 \n",
       "Q 1266 1509 1266 2838 \n",
       "L 1266 3500 \n",
       "L 3631 3500 \n",
       "L 3631 459 \n",
       "L 4091 459 \n",
       "L 4091 -884 \n",
       "L 3631 -884 \n",
       "L 3631 0 \n",
       "L 794 0 \n",
       "L 794 -884 \n",
       "L 334 -884 \n",
       "L 334 459 \n",
       "L 550 459 \n",
       "z\n",
       "\" transform=\"scale(0.015625)\"/>\n",
       "      <path id=\"DejaVuSans-447\" d=\"M 2625 0 \n",
       "L 2625 1472 \n",
       "L 1553 1472 \n",
       "Q 1075 1472 756 1769 \n",
       "Q 469 2038 469 2613 \n",
       "L 469 3500 \n",
       "L 1044 3500 \n",
       "L 1044 2666 \n",
       "Q 1044 2300 1206 2116 \n",
       "Q 1372 1931 1697 1931 \n",
       "L 2625 1931 \n",
       "L 2625 3500 \n",
       "L 3200 3500 \n",
       "L 3200 0 \n",
       "L 2625 0 \n",
       "z\n",
       "\" transform=\"scale(0.015625)\"/>\n",
       "      <path id=\"DejaVuSans-72\" d=\"M 2631 2963 \n",
       "Q 2534 3019 2420 3045 \n",
       "Q 2306 3072 2169 3072 \n",
       "Q 1681 3072 1420 2755 \n",
       "Q 1159 2438 1159 1844 \n",
       "L 1159 0 \n",
       "L 581 0 \n",
       "L 581 3500 \n",
       "L 1159 3500 \n",
       "L 1159 2956 \n",
       "Q 1341 3275 1631 3429 \n",
       "Q 1922 3584 2338 3584 \n",
       "Q 2397 3584 2469 3576 \n",
       "Q 2541 3569 2628 3553 \n",
       "L 2631 2963 \n",
       "z\n",
       "\" transform=\"scale(0.015625)\"/>\n",
       "      <path id=\"DejaVuSans-65\" d=\"M 3597 1894 \n",
       "L 3597 1613 \n",
       "L 953 1613 \n",
       "Q 991 1019 1311 708 \n",
       "Q 1631 397 2203 397 \n",
       "Q 2534 397 2845 478 \n",
       "Q 3156 559 3463 722 \n",
       "L 3463 178 \n",
       "Q 3153 47 2828 -22 \n",
       "Q 2503 -91 2169 -91 \n",
       "Q 1331 -91 842 396 \n",
       "Q 353 884 353 1716 \n",
       "Q 353 2575 817 3079 \n",
       "Q 1281 3584 2069 3584 \n",
       "Q 2775 3584 3186 3129 \n",
       "Q 3597 2675 3597 1894 \n",
       "z\n",
       "M 3022 2063 \n",
       "Q 3016 2534 2758 2815 \n",
       "Q 2500 3097 2075 3097 \n",
       "Q 1594 3097 1305 2825 \n",
       "Q 1016 2553 972 2059 \n",
       "L 3022 2063 \n",
       "z\n",
       "\" transform=\"scale(0.015625)\"/>\n",
       "      <path id=\"DejaVuSans-70\" d=\"M 1159 525 \n",
       "L 1159 -1331 \n",
       "L 581 -1331 \n",
       "L 581 3500 \n",
       "L 1159 3500 \n",
       "L 1159 2969 \n",
       "Q 1341 3281 1617 3432 \n",
       "Q 1894 3584 2278 3584 \n",
       "Q 2916 3584 3314 3078 \n",
       "Q 3713 2572 3713 1747 \n",
       "Q 3713 922 3314 415 \n",
       "Q 2916 -91 2278 -91 \n",
       "Q 1894 -91 1617 61 \n",
       "Q 1341 213 1159 525 \n",
       "z\n",
       "M 3116 1747 \n",
       "Q 3116 2381 2855 2742 \n",
       "Q 2594 3103 2138 3103 \n",
       "Q 1681 3103 1420 2742 \n",
       "Q 1159 2381 1159 1747 \n",
       "Q 1159 1113 1420 752 \n",
       "Q 1681 391 2138 391 \n",
       "Q 2594 391 2855 752 \n",
       "Q 3116 1113 3116 1747 \n",
       "z\n",
       "\" transform=\"scale(0.015625)\"/>\n",
       "      <path id=\"DejaVuSans-6c\" d=\"M 603 4863 \n",
       "L 1178 4863 \n",
       "L 1178 0 \n",
       "L 603 0 \n",
       "L 603 4863 \n",
       "z\n",
       "\" transform=\"scale(0.015625)\"/>\n",
       "      <path id=\"DejaVuSans-61\" d=\"M 2194 1759 \n",
       "Q 1497 1759 1228 1600 \n",
       "Q 959 1441 959 1056 \n",
       "Q 959 750 1161 570 \n",
       "Q 1363 391 1709 391 \n",
       "Q 2188 391 2477 730 \n",
       "Q 2766 1069 2766 1631 \n",
       "L 2766 1759 \n",
       "L 2194 1759 \n",
       "z\n",
       "M 3341 1997 \n",
       "L 3341 0 \n",
       "L 2766 0 \n",
       "L 2766 531 \n",
       "Q 2569 213 2275 61 \n",
       "Q 1981 -91 1556 -91 \n",
       "Q 1019 -91 701 211 \n",
       "Q 384 513 384 1019 \n",
       "Q 384 1609 779 1909 \n",
       "Q 1175 2209 1959 2209 \n",
       "L 2766 2209 \n",
       "L 2766 2266 \n",
       "Q 2766 2663 2505 2880 \n",
       "Q 2244 3097 1772 3097 \n",
       "Q 1472 3097 1187 3025 \n",
       "Q 903 2953 641 2809 \n",
       "L 641 3341 \n",
       "Q 956 3463 1253 3523 \n",
       "Q 1550 3584 1831 3584 \n",
       "Q 2591 3584 2966 3190 \n",
       "Q 3341 2797 3341 1997 \n",
       "z\n",
       "\" transform=\"scale(0.015625)\"/>\n",
       "      <path id=\"DejaVuSans-63\" d=\"M 3122 3366 \n",
       "L 3122 2828 \n",
       "Q 2878 2963 2633 3030 \n",
       "Q 2388 3097 2138 3097 \n",
       "Q 1578 3097 1268 2742 \n",
       "Q 959 2388 959 1747 \n",
       "Q 959 1106 1268 751 \n",
       "Q 1578 397 2138 397 \n",
       "Q 2388 397 2633 464 \n",
       "Q 2878 531 3122 666 \n",
       "L 3122 134 \n",
       "Q 2881 22 2623 -34 \n",
       "Q 2366 -91 2075 -91 \n",
       "Q 1284 -91 818 406 \n",
       "Q 353 903 353 1747 \n",
       "Q 353 2603 823 3093 \n",
       "Q 1294 3584 2113 3584 \n",
       "Q 2378 3584 2631 3529 \n",
       "Q 2884 3475 3122 3366 \n",
       "z\n",
       "\" transform=\"scale(0.015625)\"/>\n",
       "      <path id=\"DejaVuSans-5f\" d=\"M 3263 -1063 \n",
       "L 3263 -1509 \n",
       "L -63 -1509 \n",
       "L -63 -1063 \n",
       "L 3263 -1063 \n",
       "z\n",
       "\" transform=\"scale(0.015625)\"/>\n",
       "      <path id=\"DejaVuSans-7a\" d=\"M 353 3500 \n",
       "L 3084 3500 \n",
       "L 3084 2975 \n",
       "L 922 459 \n",
       "L 3084 459 \n",
       "L 3084 0 \n",
       "L 275 0 \n",
       "L 275 525 \n",
       "L 2438 3041 \n",
       "L 353 3041 \n",
       "L 353 3500 \n",
       "z\n",
       "\" transform=\"scale(0.015625)\"/>\n",
       "      <path id=\"DejaVuSans-6f\" d=\"M 1959 3097 \n",
       "Q 1497 3097 1228 2736 \n",
       "Q 959 2375 959 1747 \n",
       "Q 959 1119 1226 758 \n",
       "Q 1494 397 1959 397 \n",
       "Q 2419 397 2687 759 \n",
       "Q 2956 1122 2956 1747 \n",
       "Q 2956 2369 2687 2733 \n",
       "Q 2419 3097 1959 3097 \n",
       "z\n",
       "M 1959 3584 \n",
       "Q 2709 3584 3137 3096 \n",
       "Q 3566 2609 3566 1747 \n",
       "Q 3566 888 3137 398 \n",
       "Q 2709 -91 1959 -91 \n",
       "Q 1206 -91 779 398 \n",
       "Q 353 888 353 1747 \n",
       "Q 353 2609 779 3096 \n",
       "Q 1206 3584 1959 3584 \n",
       "z\n",
       "\" transform=\"scale(0.015625)\"/>\n",
       "      <path id=\"DejaVuSans-73\" d=\"M 2834 3397 \n",
       "L 2834 2853 \n",
       "Q 2591 2978 2328 3040 \n",
       "Q 2066 3103 1784 3103 \n",
       "Q 1356 3103 1142 2972 \n",
       "Q 928 2841 928 2578 \n",
       "Q 928 2378 1081 2264 \n",
       "Q 1234 2150 1697 2047 \n",
       "L 1894 2003 \n",
       "Q 2506 1872 2764 1633 \n",
       "Q 3022 1394 3022 966 \n",
       "Q 3022 478 2636 193 \n",
       "Q 2250 -91 1575 -91 \n",
       "Q 1294 -91 989 -36 \n",
       "Q 684 19 347 128 \n",
       "L 347 722 \n",
       "Q 666 556 975 473 \n",
       "Q 1284 391 1588 391 \n",
       "Q 1994 391 2212 530 \n",
       "Q 2431 669 2431 922 \n",
       "Q 2431 1156 2273 1281 \n",
       "Q 2116 1406 1581 1522 \n",
       "L 1381 1569 \n",
       "Q 847 1681 609 1914 \n",
       "Q 372 2147 372 2553 \n",
       "Q 372 3047 722 3315 \n",
       "Q 1072 3584 1716 3584 \n",
       "Q 2034 3584 2315 3537 \n",
       "Q 2597 3491 2834 3397 \n",
       "z\n",
       "\" transform=\"scale(0.015625)\"/>\n",
       "      <path id=\"DejaVuSans-74\" d=\"M 1172 4494 \n",
       "L 1172 3500 \n",
       "L 2356 3500 \n",
       "L 2356 3053 \n",
       "L 1172 3053 \n",
       "L 1172 1153 \n",
       "Q 1172 725 1289 603 \n",
       "Q 1406 481 1766 481 \n",
       "L 2356 481 \n",
       "L 2356 0 \n",
       "L 1766 0 \n",
       "Q 1100 0 847 248 \n",
       "Q 594 497 594 1153 \n",
       "L 594 3053 \n",
       "L 172 3053 \n",
       "L 172 3500 \n",
       "L 594 3500 \n",
       "L 594 4494 \n",
       "L 1172 4494 \n",
       "z\n",
       "\" transform=\"scale(0.015625)\"/>\n",
       "      <path id=\"DejaVuSans-6d\" d=\"M 3328 2828 \n",
       "Q 3544 3216 3844 3400 \n",
       "Q 4144 3584 4550 3584 \n",
       "Q 5097 3584 5394 3201 \n",
       "Q 5691 2819 5691 2113 \n",
       "L 5691 0 \n",
       "L 5113 0 \n",
       "L 5113 2094 \n",
       "Q 5113 2597 4934 2840 \n",
       "Q 4756 3084 4391 3084 \n",
       "Q 3944 3084 3684 2787 \n",
       "Q 3425 2491 3425 1978 \n",
       "L 3425 0 \n",
       "L 2847 0 \n",
       "L 2847 2094 \n",
       "Q 2847 2600 2669 2842 \n",
       "Q 2491 3084 2119 3084 \n",
       "Q 1678 3084 1418 2786 \n",
       "Q 1159 2488 1159 1978 \n",
       "L 1159 0 \n",
       "L 581 0 \n",
       "L 581 3500 \n",
       "L 1159 3500 \n",
       "L 1159 2956 \n",
       "Q 1356 3278 1631 3431 \n",
       "Q 1906 3584 2284 3584 \n",
       "Q 2666 3584 2933 3390 \n",
       "Q 3200 3197 3328 2828 \n",
       "z\n",
       "\" transform=\"scale(0.015625)\"/>\n",
       "      <path id=\"DejaVuSans-6e\" d=\"M 3513 2113 \n",
       "L 3513 0 \n",
       "L 2938 0 \n",
       "L 2938 2094 \n",
       "Q 2938 2591 2744 2837 \n",
       "Q 2550 3084 2163 3084 \n",
       "Q 1697 3084 1428 2787 \n",
       "Q 1159 2491 1159 1978 \n",
       "L 1159 0 \n",
       "L 581 0 \n",
       "L 581 3500 \n",
       "L 1159 3500 \n",
       "L 1159 2956 \n",
       "Q 1366 3272 1645 3428 \n",
       "Q 1925 3584 2291 3584 \n",
       "Q 2894 3584 3203 3211 \n",
       "Q 3513 2838 3513 2113 \n",
       "z\n",
       "\" transform=\"scale(0.015625)\"/>\n",
       "     </defs>\n",
       "     <use xlink:href=\"#DejaVuSans-421\"/>\n",
       "     <use xlink:href=\"#DejaVuSans-440\" x=\"69.824219\"/>\n",
       "     <use xlink:href=\"#DejaVuSans-430\" x=\"133.300781\"/>\n",
       "     <use xlink:href=\"#DejaVuSans-432\" x=\"194.580078\"/>\n",
       "     <use xlink:href=\"#DejaVuSans-43d\" x=\"253.515625\"/>\n",
       "     <use xlink:href=\"#DejaVuSans-435\" x=\"318.896484\"/>\n",
       "     <use xlink:href=\"#DejaVuSans-43d\" x=\"380.419922\"/>\n",
       "     <use xlink:href=\"#DejaVuSans-438\" x=\"445.800781\"/>\n",
       "     <use xlink:href=\"#DejaVuSans-435\" x=\"510.791016\"/>\n",
       "     <use xlink:href=\"#DejaVuSans-20\" x=\"572.314453\"/>\n",
       "     <use xlink:href=\"#DejaVuSans-441\" x=\"604.101562\"/>\n",
       "     <use xlink:href=\"#DejaVuSans-43a\" x=\"659.082031\"/>\n",
       "     <use xlink:href=\"#DejaVuSans-43e\" x=\"719.482422\"/>\n",
       "     <use xlink:href=\"#DejaVuSans-440\" x=\"780.664062\"/>\n",
       "     <use xlink:href=\"#DejaVuSans-43e\" x=\"844.140625\"/>\n",
       "     <use xlink:href=\"#DejaVuSans-441\" x=\"905.322266\"/>\n",
       "     <use xlink:href=\"#DejaVuSans-442\" x=\"960.302734\"/>\n",
       "     <use xlink:href=\"#DejaVuSans-438\" x=\"1018.554688\"/>\n",
       "     <use xlink:href=\"#DejaVuSans-20\" x=\"1083.544922\"/>\n",
       "     <use xlink:href=\"#DejaVuSans-440\" x=\"1115.332031\"/>\n",
       "     <use xlink:href=\"#DejaVuSans-435\" x=\"1178.808594\"/>\n",
       "     <use xlink:href=\"#DejaVuSans-430\" x=\"1240.332031\"/>\n",
       "     <use xlink:href=\"#DejaVuSans-43b\" x=\"1301.611328\"/>\n",
       "     <use xlink:href=\"#DejaVuSans-438\" x=\"1365.527344\"/>\n",
       "     <use xlink:href=\"#DejaVuSans-437\" x=\"1430.517578\"/>\n",
       "     <use xlink:href=\"#DejaVuSans-430\" x=\"1483.691406\"/>\n",
       "     <use xlink:href=\"#DejaVuSans-446\" x=\"1544.970703\"/>\n",
       "     <use xlink:href=\"#DejaVuSans-438\" x=\"1613.037109\"/>\n",
       "     <use xlink:href=\"#DejaVuSans-439\" x=\"1678.027344\"/>\n",
       "     <use xlink:href=\"#DejaVuSans-20\" x=\"1743.017578\"/>\n",
       "     <use xlink:href=\"#DejaVuSans-434\" x=\"1774.804688\"/>\n",
       "     <use xlink:href=\"#DejaVuSans-43b\" x=\"1843.945312\"/>\n",
       "     <use xlink:href=\"#DejaVuSans-44f\" x=\"1907.861328\"/>\n",
       "     <use xlink:href=\"#DejaVuSans-20\" x=\"1968.017578\"/>\n",
       "     <use xlink:href=\"#DejaVuSans-437\" x=\"1999.804688\"/>\n",
       "     <use xlink:href=\"#DejaVuSans-430\" x=\"2052.978516\"/>\n",
       "     <use xlink:href=\"#DejaVuSans-434\" x=\"2114.257812\"/>\n",
       "     <use xlink:href=\"#DejaVuSans-430\" x=\"2183.398438\"/>\n",
       "     <use xlink:href=\"#DejaVuSans-447\" x=\"2244.677734\"/>\n",
       "     <use xlink:href=\"#DejaVuSans-438\" x=\"2303.759766\"/>\n",
       "     <use xlink:href=\"#DejaVuSans-20\" x=\"2368.75\"/>\n",
       "     <use xlink:href=\"#DejaVuSans-72\" x=\"2400.537109\"/>\n",
       "     <use xlink:href=\"#DejaVuSans-65\" x=\"2439.400391\"/>\n",
       "     <use xlink:href=\"#DejaVuSans-70\" x=\"2500.923828\"/>\n",
       "     <use xlink:href=\"#DejaVuSans-6c\" x=\"2564.400391\"/>\n",
       "     <use xlink:href=\"#DejaVuSans-61\" x=\"2592.183594\"/>\n",
       "     <use xlink:href=\"#DejaVuSans-63\" x=\"2653.462891\"/>\n",
       "     <use xlink:href=\"#DejaVuSans-65\" x=\"2708.443359\"/>\n",
       "     <use xlink:href=\"#DejaVuSans-5f\" x=\"2769.966797\"/>\n",
       "     <use xlink:href=\"#DejaVuSans-7a\" x=\"2819.966797\"/>\n",
       "     <use xlink:href=\"#DejaVuSans-65\" x=\"2872.457031\"/>\n",
       "     <use xlink:href=\"#DejaVuSans-72\" x=\"2933.980469\"/>\n",
       "     <use xlink:href=\"#DejaVuSans-6f\" x=\"2972.84375\"/>\n",
       "     <use xlink:href=\"#DejaVuSans-73\" x=\"3034.025391\"/>\n",
       "     <use xlink:href=\"#DejaVuSans-5f\" x=\"3086.125\"/>\n",
       "     <use xlink:href=\"#DejaVuSans-74\" x=\"3136.125\"/>\n",
       "     <use xlink:href=\"#DejaVuSans-6f\" x=\"3175.333984\"/>\n",
       "     <use xlink:href=\"#DejaVuSans-5f\" x=\"3236.515625\"/>\n",
       "     <use xlink:href=\"#DejaVuSans-6d\" x=\"3286.515625\"/>\n",
       "     <use xlink:href=\"#DejaVuSans-65\" x=\"3383.927734\"/>\n",
       "     <use xlink:href=\"#DejaVuSans-61\" x=\"3445.451172\"/>\n",
       "     <use xlink:href=\"#DejaVuSans-6e\" x=\"3506.730469\"/>\n",
       "     <use xlink:href=\"#DejaVuSans-73\" x=\"3570.109375\"/>\n",
       "    </g>\n",
       "   </g>\n",
       "   <g id=\"legend_1\">\n",
       "    <g id=\"patch_7\">\n",
       "     <path d=\"M 58.378125 74.3525 \n",
       "L 126.204688 74.3525 \n",
       "Q 128.204688 74.3525 128.204688 72.3525 \n",
       "L 128.204688 29.318125 \n",
       "Q 128.204688 27.318125 126.204688 27.318125 \n",
       "L 58.378125 27.318125 \n",
       "Q 56.378125 27.318125 56.378125 29.318125 \n",
       "L 56.378125 72.3525 \n",
       "Q 56.378125 74.3525 58.378125 74.3525 \n",
       "z\n",
       "\" style=\"fill: #ffffff; opacity: 0.8; stroke: #cccccc; stroke-linejoin: miter\"/>\n",
       "    </g>\n",
       "    <g id=\"line2d_86\">\n",
       "     <path d=\"M 60.378125 35.416562 \n",
       "L 70.378125 35.416562 \n",
       "L 80.378125 35.416562 \n",
       "\" style=\"fill: none; stroke: #1f77b4; stroke-width: 1.5; stroke-linecap: square\"/>\n",
       "    </g>\n",
       "    <g id=\"text_12\">\n",
       "     <!-- C -->\n",
       "     <g transform=\"translate(88.378125 38.916562) scale(0.1 -0.1)\">\n",
       "      <defs>\n",
       "       <path id=\"DejaVuSans-43\" d=\"M 4122 4306 \n",
       "L 4122 3641 \n",
       "Q 3803 3938 3442 4084 \n",
       "Q 3081 4231 2675 4231 \n",
       "Q 1875 4231 1450 3742 \n",
       "Q 1025 3253 1025 2328 \n",
       "Q 1025 1406 1450 917 \n",
       "Q 1875 428 2675 428 \n",
       "Q 3081 428 3442 575 \n",
       "Q 3803 722 4122 1019 \n",
       "L 4122 359 \n",
       "Q 3791 134 3420 21 \n",
       "Q 3050 -91 2638 -91 \n",
       "Q 1578 -91 968 557 \n",
       "Q 359 1206 359 2328 \n",
       "Q 359 3453 968 4101 \n",
       "Q 1578 4750 2638 4750 \n",
       "Q 3056 4750 3426 4639 \n",
       "Q 3797 4528 4122 4306 \n",
       "z\n",
       "\" transform=\"scale(0.015625)\"/>\n",
       "      </defs>\n",
       "      <use xlink:href=\"#DejaVuSans-43\"/>\n",
       "     </g>\n",
       "    </g>\n",
       "    <g id=\"line2d_87\">\n",
       "     <path d=\"M 60.378125 50.094687 \n",
       "L 70.378125 50.094687 \n",
       "L 80.378125 50.094687 \n",
       "\" style=\"fill: none; stroke: #ff7f0e; stroke-width: 1.5; stroke-linecap: square\"/>\n",
       "    </g>\n",
       "    <g id=\"text_13\">\n",
       "     <!-- Numpy -->\n",
       "     <g transform=\"translate(88.378125 53.594687) scale(0.1 -0.1)\">\n",
       "      <defs>\n",
       "       <path id=\"DejaVuSans-4e\" d=\"M 628 4666 \n",
       "L 1478 4666 \n",
       "L 3547 763 \n",
       "L 3547 4666 \n",
       "L 4159 4666 \n",
       "L 4159 0 \n",
       "L 3309 0 \n",
       "L 1241 3903 \n",
       "L 1241 0 \n",
       "L 628 0 \n",
       "L 628 4666 \n",
       "z\n",
       "\" transform=\"scale(0.015625)\"/>\n",
       "       <path id=\"DejaVuSans-75\" d=\"M 544 1381 \n",
       "L 544 3500 \n",
       "L 1119 3500 \n",
       "L 1119 1403 \n",
       "Q 1119 906 1312 657 \n",
       "Q 1506 409 1894 409 \n",
       "Q 2359 409 2629 706 \n",
       "Q 2900 1003 2900 1516 \n",
       "L 2900 3500 \n",
       "L 3475 3500 \n",
       "L 3475 0 \n",
       "L 2900 0 \n",
       "L 2900 538 \n",
       "Q 2691 219 2414 64 \n",
       "Q 2138 -91 1772 -91 \n",
       "Q 1169 -91 856 284 \n",
       "Q 544 659 544 1381 \n",
       "z\n",
       "M 1991 3584 \n",
       "L 1991 3584 \n",
       "z\n",
       "\" transform=\"scale(0.015625)\"/>\n",
       "       <path id=\"DejaVuSans-79\" d=\"M 2059 -325 \n",
       "Q 1816 -950 1584 -1140 \n",
       "Q 1353 -1331 966 -1331 \n",
       "L 506 -1331 \n",
       "L 506 -850 \n",
       "L 844 -850 \n",
       "Q 1081 -850 1212 -737 \n",
       "Q 1344 -625 1503 -206 \n",
       "L 1606 56 \n",
       "L 191 3500 \n",
       "L 800 3500 \n",
       "L 1894 763 \n",
       "L 2988 3500 \n",
       "L 3597 3500 \n",
       "L 2059 -325 \n",
       "z\n",
       "\" transform=\"scale(0.015625)\"/>\n",
       "      </defs>\n",
       "      <use xlink:href=\"#DejaVuSans-4e\"/>\n",
       "      <use xlink:href=\"#DejaVuSans-75\" x=\"74.804688\"/>\n",
       "      <use xlink:href=\"#DejaVuSans-6d\" x=\"138.183594\"/>\n",
       "      <use xlink:href=\"#DejaVuSans-70\" x=\"235.595703\"/>\n",
       "      <use xlink:href=\"#DejaVuSans-79\" x=\"299.072266\"/>\n",
       "     </g>\n",
       "    </g>\n",
       "    <g id=\"line2d_88\">\n",
       "     <path d=\"M 60.378125 64.772812 \n",
       "L 70.378125 64.772812 \n",
       "L 80.378125 64.772812 \n",
       "\" style=\"fill: none; stroke: #2ca02c; stroke-width: 1.5; stroke-linecap: square\"/>\n",
       "    </g>\n",
       "    <g id=\"text_14\">\n",
       "     <!-- Python -->\n",
       "     <g transform=\"translate(88.378125 68.272812) scale(0.1 -0.1)\">\n",
       "      <defs>\n",
       "       <path id=\"DejaVuSans-50\" d=\"M 1259 4147 \n",
       "L 1259 2394 \n",
       "L 2053 2394 \n",
       "Q 2494 2394 2734 2622 \n",
       "Q 2975 2850 2975 3272 \n",
       "Q 2975 3691 2734 3919 \n",
       "Q 2494 4147 2053 4147 \n",
       "L 1259 4147 \n",
       "z\n",
       "M 628 4666 \n",
       "L 2053 4666 \n",
       "Q 2838 4666 3239 4311 \n",
       "Q 3641 3956 3641 3272 \n",
       "Q 3641 2581 3239 2228 \n",
       "Q 2838 1875 2053 1875 \n",
       "L 1259 1875 \n",
       "L 1259 0 \n",
       "L 628 0 \n",
       "L 628 4666 \n",
       "z\n",
       "\" transform=\"scale(0.015625)\"/>\n",
       "       <path id=\"DejaVuSans-68\" d=\"M 3513 2113 \n",
       "L 3513 0 \n",
       "L 2938 0 \n",
       "L 2938 2094 \n",
       "Q 2938 2591 2744 2837 \n",
       "Q 2550 3084 2163 3084 \n",
       "Q 1697 3084 1428 2787 \n",
       "Q 1159 2491 1159 1978 \n",
       "L 1159 0 \n",
       "L 581 0 \n",
       "L 581 4863 \n",
       "L 1159 4863 \n",
       "L 1159 2956 \n",
       "Q 1366 3272 1645 3428 \n",
       "Q 1925 3584 2291 3584 \n",
       "Q 2894 3584 3203 3211 \n",
       "Q 3513 2838 3513 2113 \n",
       "z\n",
       "\" transform=\"scale(0.015625)\"/>\n",
       "      </defs>\n",
       "      <use xlink:href=\"#DejaVuSans-50\"/>\n",
       "      <use xlink:href=\"#DejaVuSans-79\" x=\"60.302734\"/>\n",
       "      <use xlink:href=\"#DejaVuSans-74\" x=\"119.482422\"/>\n",
       "      <use xlink:href=\"#DejaVuSans-68\" x=\"158.691406\"/>\n",
       "      <use xlink:href=\"#DejaVuSans-6f\" x=\"222.070312\"/>\n",
       "      <use xlink:href=\"#DejaVuSans-6e\" x=\"283.251953\"/>\n",
       "     </g>\n",
       "    </g>\n",
       "   </g>\n",
       "  </g>\n",
       " </g>\n",
       " <defs>\n",
       "  <clipPath id=\"p761c893242\">\n",
       "   <rect x=\"51.378125\" y=\"22.318125\" width=\"653.202946\" height=\"215.848\"/>\n",
       "  </clipPath>\n",
       " </defs>\n",
       "</svg>\n"
      ],
      "text/plain": [
       "<Figure size 1000x400 with 1 Axes>"
      ]
     },
     "metadata": {},
     "output_type": "display_data"
    }
   ],
   "source": [
    "fig, ax = plt.subplots(1, 1, figsize=(10, 4))\n",
    "\n",
    "ax.plot(ns, times_c, label='C')\n",
    "ax.plot(ns, times_numpy, label='Numpy')\n",
    "ax.plot(ns, times_python, label='Python')\n",
    "\n",
    "ax.set_xscale('log')\n",
    "ax.set_yscale('log')\n",
    "\n",
    "ax.set_xlabel(r'$n$')\n",
    "ax.set_ylabel('Время, с.')\n",
    "ax.set_title('Сравнение скорости реализаций для задачи replace_zeros_to_means')\n",
    "\n",
    "ax.grid(True)\n",
    "ax.legend()\n",
    "\n",
    "fig.tight_layout()\n",
    "plt.show()"
   ]
  },
  {
   "cell_type": "markdown",
   "metadata": {
    "ExecuteTime": {
     "end_time": "2022-12-08T06:17:18.195563Z",
     "start_time": "2022-12-08T06:17:18.184562Z"
    }
   },
   "source": [
    "**Использование Ctypes позволило уменьшить время работы программы почти на порядок!**"
   ]
  },
  {
   "cell_type": "markdown",
   "metadata": {},
   "source": [
    "### `Ctypes. C++`"
   ]
  },
  {
   "cell_type": "markdown",
   "metadata": {},
   "source": [
    "Нужно учитывать, что при загрузке библиотеки должны быть доступны все другие динамические зависимости. Например, если требуется использовать `С++ Standart Library`, то нужно убедиться, что соответсвтующая библиотека указана в `PATH`! "
   ]
  },
  {
   "cell_type": "code",
   "execution_count": 82,
   "metadata": {
    "ExecuteTime": {
     "end_time": "2022-12-08T08:08:47.078005Z",
     "start_time": "2022-12-08T08:08:46.215985Z"
    }
   },
   "outputs": [],
   "source": [
    "! g++ -shared --std=c++20 -o ./ctypes_examples/bin/libctypes_cpp.dll -fPIC ./ctypes_examples/cpp.cpp"
   ]
  },
  {
   "cell_type": "code",
   "execution_count": 83,
   "metadata": {
    "ExecuteTime": {
     "end_time": "2022-12-08T08:08:48.058427Z",
     "start_time": "2022-12-08T08:08:48.048427Z"
    }
   },
   "outputs": [],
   "source": [
    "# ctypes.windll.LoadLibrary(\"C:/Toolchain/mingw64/bin/libstdc++-6.dll\")\n",
    "library_cpp = ctypes.CDLL(f'./ctypes_examples/bin/libctypes_cpp.dll')"
   ]
  },
  {
   "cell_type": "markdown",
   "metadata": {},
   "source": [
    "### `Ctypes. C++. Классы`"
   ]
  },
  {
   "cell_type": "markdown",
   "metadata": {},
   "source": [
    "Рассмотрим класс С++:\n",
    "```C++\n",
    "class Test {\n",
    "public:\n",
    "    Test(int a, char b, double c): a{a}, b{b}, c{c} {};\n",
    "\n",
    "    static bool is_prime(int val);\n",
    "    static bool is_palindrome(const std::string& string);\n",
    "public:\n",
    "    int a;\n",
    "    char b;\n",
    "    double c;\n",
    "\n",
    "    std::vector<double> vector;\n",
    "};\n",
    "```"
   ]
  },
  {
   "cell_type": "markdown",
   "metadata": {
    "ExecuteTime": {
     "end_time": "2022-12-08T07:28:01.110471Z",
     "start_time": "2022-12-08T07:28:01.099483Z"
    }
   },
   "source": [
    "### ```Ctypes. C++. Создание объекта```"
   ]
  },
  {
   "cell_type": "markdown",
   "metadata": {},
   "source": [
    "Так как `ctypes` работает только через `C ABI`, то для создания класса и взаимодействия с ним нужно реализовать обёртки, подчинающиеся `C` соглашению о вызовах."
   ]
  },
  {
   "cell_type": "markdown",
   "metadata": {
    "ExecuteTime": {
     "end_time": "2022-12-08T07:27:06.090820Z",
     "start_time": "2022-12-08T07:27:06.075820Z"
    }
   },
   "source": [
    "```C++\n",
    "// Создаем класс test, и получаем указатель на него.\n",
    "Test* test_new(int a, char b, double c) {\n",
    "    return new Test(a, b, c);\n",
    "}\n",
    "\n",
    "// Удаляем класс test.\n",
    "void test_del(Test * test) {\n",
    "    delete test;\n",
    "}\n",
    "```"
   ]
  },
  {
   "cell_type": "markdown",
   "metadata": {},
   "source": [
    "При создании объекта мы не имеем возможности отобразить его на стандартные типы `Python/ctypes`. Поэтому, единственный способ взаимодействия с таким объектом — через универсальный указатель `void *`. Такой объект будет по-сути чёрным ящиком. Однако, нужно учитывать, что выделением и отчищением памяти должнен заниматься сам пользователь! \n",
    "\n",
    "При этом сам объект можно передавать в качестве первого аргумента в соответствующие функции-обёртки. "
   ]
  },
  {
   "cell_type": "code",
   "execution_count": 84,
   "metadata": {
    "ExecuteTime": {
     "end_time": "2022-12-08T08:08:51.749262Z",
     "start_time": "2022-12-08T08:08:51.735261Z"
    }
   },
   "outputs": [],
   "source": [
    "# Указываем, что функция возвращает void *\n",
    "library_cpp.test_new.restype = ctypes.c_void_p\n",
    "# Указываем, что функция принимает аргумент int, char, double\n",
    "library_cpp.test_new.argtypes = [ctypes.c_int, ctypes.c_char, ctypes.c_double]"
   ]
  },
  {
   "cell_type": "code",
   "execution_count": 85,
   "metadata": {
    "ExecuteTime": {
     "end_time": "2022-12-08T08:08:52.141065Z",
     "start_time": "2022-12-08T08:08:52.136065Z"
    }
   },
   "outputs": [],
   "source": [
    "# Создание класса test\n",
    "test = library_cpp.test_new(10, 'C'.encode('utf-8'), 713.0)"
   ]
  },
  {
   "cell_type": "markdown",
   "metadata": {},
   "source": [
    "### ```Ctypes. C++. Вызов методов класса```"
   ]
  },
  {
   "cell_type": "markdown",
   "metadata": {},
   "source": [
    "```C++\n",
    "bool test_is_prime(Test * test, int val){\n",
    "    return test->is_prime(val);\n",
    "}\n",
    "\n",
    "bool test_is_palindrome(Test * test, char * c_ptr){\n",
    "    std::string string(c_ptr);\n",
    "\n",
    "    return test->is_palindrome(string);\n",
    "}\n",
    "```"
   ]
  },
  {
   "cell_type": "code",
   "execution_count": 86,
   "metadata": {
    "ExecuteTime": {
     "end_time": "2022-12-08T08:08:52.955663Z",
     "start_time": "2022-12-08T08:08:52.943663Z"
    }
   },
   "outputs": [],
   "source": [
    "# Указываем, что функция возвращает char *\n",
    "library_cpp.test_is_prime.restype = ctypes.c_bool\n",
    "# Указываем, что функция принимает аргумент void * и char *\n",
    "library_cpp.test_is_prime.argtypes = [ctypes.c_void_p, ctypes.c_int]\n",
    "\n",
    "# Указываем, что функция возвращает int\n",
    "library_cpp.test_is_palindrome.restype = ctypes.c_bool\n",
    "# Указываем, что функция принимает аргумент void * и int\n",
    "library_cpp.test_is_palindrome.argtypes = [ctypes.c_void_p, ctypes.c_char_p]"
   ]
  },
  {
   "cell_type": "code",
   "execution_count": 87,
   "metadata": {
    "ExecuteTime": {
     "end_time": "2022-12-08T08:08:53.349997Z",
     "start_time": "2022-12-08T08:08:53.343997Z"
    }
   },
   "outputs": [
    {
     "name": "stdout",
     "output_type": "stream",
     "text": [
      "ret test_is_prime: True\n"
     ]
    }
   ],
   "source": [
    "print('ret test_is_prime: {0}'.format(library_cpp.test_is_prime(test, 317)))"
   ]
  },
  {
   "cell_type": "code",
   "execution_count": 88,
   "metadata": {
    "ExecuteTime": {
     "end_time": "2022-12-08T08:08:53.553823Z",
     "start_time": "2022-12-08T08:08:53.551818Z"
    }
   },
   "outputs": [
    {
     "name": "stdout",
     "output_type": "stream",
     "text": [
      "ret test_is_palindrome: True\n"
     ]
    }
   ],
   "source": [
    "print('ret test_is_palindrome: {0}'.format(library_cpp.test_is_palindrome(test, 'nolemon,nomelon'.encode('utf-8'))))"
   ]
  },
  {
   "cell_type": "markdown",
   "metadata": {},
   "source": [
    "### ```Ctypes. C++. Обращение к переменным класса```"
   ]
  },
  {
   "cell_type": "markdown",
   "metadata": {},
   "source": [
    "Работа с переменными также должна вестись через функции-обёртки: геттеры и сеттеры:\n",
    "        \n",
    "```C++\n",
    "int test_get_a(Test * test){\n",
    "    return test->a;\n",
    "}\n",
    "\n",
    "char test_get_b(Test * test){\n",
    "    return test->b;\n",
    "}\n",
    "\n",
    "double test_get_c(Test * test){\n",
    "    return test->c;\n",
    "}\n",
    "```"
   ]
  },
  {
   "cell_type": "code",
   "execution_count": 89,
   "metadata": {
    "ExecuteTime": {
     "end_time": "2022-12-08T08:08:54.516158Z",
     "start_time": "2022-12-08T08:08:54.512158Z"
    }
   },
   "outputs": [],
   "source": [
    "library_cpp.test_get_a.restype = ctypes.c_int\n",
    "library_cpp.test_get_a.argtypes = [ctypes.c_void_p]\n",
    "\n",
    "library_cpp.test_get_b.restype = ctypes.c_char\n",
    "library_cpp.test_get_b.argtypes = [ctypes.c_void_p]\n",
    "\n",
    "library_cpp.test_get_c.restype = ctypes.c_double\n",
    "library_cpp.test_get_c.argtypes = [ctypes.c_void_p]"
   ]
  },
  {
   "cell_type": "code",
   "execution_count": 90,
   "metadata": {
    "ExecuteTime": {
     "end_time": "2022-12-08T08:08:54.770230Z",
     "start_time": "2022-12-08T08:08:54.759231Z"
    }
   },
   "outputs": [
    {
     "name": "stdout",
     "output_type": "stream",
     "text": [
      "ret test_get_a:  10\n",
      "ret test_get_b:  C\n",
      "ret test_get_c:  713.0\n"
     ]
    }
   ],
   "source": [
    "print('ret test_get_a: ', library_cpp.test_get_a(test))\n",
    "print('ret test_get_b: ', library_cpp.test_get_b(test).decode(\"utf-8\"))\n",
    "print('ret test_get_c: ', library_cpp.test_get_c(test))"
   ]
  },
  {
   "cell_type": "markdown",
   "metadata": {},
   "source": [
    "### ```Ctypes. C++. Стандартная библиотека```"
   ]
  },
  {
   "cell_type": "markdown",
   "metadata": {},
   "source": [
    "Работа со структурами данных и алгоритмами из стандартной библиотеки также должна проходить через обёртки:\n",
    "\n",
    "```C++\n",
    "std::vector<double> * test_get_vector(Test * test){\n",
    "    return &test->vector;\n",
    "}\n",
    "\n",
    "double test_vector_index(std::vector<double> * vector, unsigned long long idx){\n",
    "    return *(vector->begin() + idx);\n",
    "}\n",
    "\n",
    "void test_vector_push_back(std::vector<double> * vector, double value){\n",
    "    vector->push_back(value);\n",
    "}\n",
    "\n",
    "void test_vector_print(std::vector<double> * vector){\n",
    "    std::cout << \"Vector contains: \";\n",
    "    for(auto v : *vector){\n",
    "        std::cout << v << ' ';\n",
    "    }\n",
    "    std::cout << std::endl;\n",
    "}\n",
    "```"
   ]
  },
  {
   "cell_type": "code",
   "execution_count": 91,
   "metadata": {
    "ExecuteTime": {
     "end_time": "2022-12-08T08:08:55.788442Z",
     "start_time": "2022-12-08T08:08:55.783442Z"
    }
   },
   "outputs": [],
   "source": [
    "library_cpp.test_get_vector.restype = ctypes.c_void_p\n",
    "library_cpp.test_get_vector.argtypes = [ctypes.c_void_p]\n",
    "\n",
    "library_cpp.test_vector_index.restype = ctypes.c_double\n",
    "library_cpp.test_vector_index.argtypes = [ctypes.c_void_p, ctypes.c_ulonglong]\n",
    "\n",
    "library_cpp.test_vector_push_back.restype = None\n",
    "library_cpp.test_vector_push_back.argtypes = [ctypes.c_void_p, ctypes.c_double]\n",
    "\n",
    "library_cpp.test_vector_print.restype = None\n",
    "library_cpp.test_vector_print.argtypes = [ctypes.c_void_p]"
   ]
  },
  {
   "cell_type": "code",
   "execution_count": 92,
   "metadata": {
    "ExecuteTime": {
     "end_time": "2022-12-08T08:08:56.024080Z",
     "start_time": "2022-12-08T08:08:56.007081Z"
    }
   },
   "outputs": [],
   "source": [
    "vector = library_cpp.test_get_vector(test)"
   ]
  },
  {
   "cell_type": "code",
   "execution_count": 93,
   "metadata": {
    "ExecuteTime": {
     "end_time": "2022-12-08T08:08:56.197633Z",
     "start_time": "2022-12-08T08:08:56.183633Z"
    }
   },
   "outputs": [
    {
     "name": "stdout",
     "output_type": "stream",
     "text": [
      "vector[0]: 1.500, vector[1]: 2.500, vector[2]: 3.500\n",
      "Vector contains: 1.5 2.5 3.5 \n"
     ]
    }
   ],
   "source": [
    "library_cpp.test_vector_push_back(vector, 1.5)\n",
    "library_cpp.test_vector_push_back(vector, 2.5)\n",
    "library_cpp.test_vector_push_back(vector, 3.5)\n",
    "library_cpp.test_vector_print(vector)\n",
    "\n",
    "print('vector[0]: {0:.3f}, vector[1]: {1:.3f}, vector[2]: {2:.3f}'.format(\n",
    "    library_cpp.test_vector_index(vector, 0), \n",
    "    library_cpp.test_vector_index(vector, 1), \n",
    "    library_cpp.test_vector_index(vector, 2)\n",
    "))"
   ]
  },
  {
   "cell_type": "code",
   "execution_count": 94,
   "metadata": {
    "ExecuteTime": {
     "end_time": "2022-12-08T08:08:56.608891Z",
     "start_time": "2022-12-08T08:08:56.591891Z"
    }
   },
   "outputs": [
    {
     "name": "stdout",
     "output_type": "stream",
     "text": [
      "Vector contains: 1.5 2.5 3.5 \n",
      "vector[3]: -1.500, vector_one_more[3]: -1.500\n",
      "Vector contains: 1.5 2.5 3.5 -1.5 \n"
     ]
    }
   ],
   "source": [
    "vector_one_more = library_cpp.test_get_vector(test)\n",
    "library_cpp.test_vector_print(vector_one_more)\n",
    "library_cpp.test_vector_push_back(vector, -1.5)\n",
    "library_cpp.test_vector_print(vector)\n",
    "print('vector[3]: {0:.3f}, vector_one_more[3]: {1:.3f}'.format(\n",
    "    library_cpp.test_vector_index(vector, 3), \n",
    "    library_cpp.test_vector_index(vector_one_more, 3)\n",
    "))"
   ]
  },
  {
   "cell_type": "markdown",
   "metadata": {},
   "source": [
    "### `Ctypes. IO`"
   ]
  },
  {
   "cell_type": "markdown",
   "metadata": {},
   "source": [
    "В некоторых случаях может оказаться что чтение и запись данных в `Python` имеют неудовлетворительную скорость. В таком случае можно также воспользоваться C++ реализацией IO функций: \n",
    "```C++\n",
    "int * test_read_file(const char * path, unsigned long long n){\n",
    "    auto * array = new int[n];\n",
    "    std::ifstream file(path);\n",
    "    for(unsigned long long i = 0; i < n; ++i){\n",
    "        file >> array[i];\n",
    "    }\n",
    "    return array;\n",
    "}\n",
    "\n",
    "void test_int_array_delete(const int * array){\n",
    "    delete[] array;\n",
    "}\n",
    "```"
   ]
  },
  {
   "cell_type": "code",
   "execution_count": 95,
   "metadata": {
    "ExecuteTime": {
     "end_time": "2022-12-08T08:08:57.248296Z",
     "start_time": "2022-12-08T08:08:57.231309Z"
    }
   },
   "outputs": [],
   "source": [
    "library_cpp.test_read_file.restype = ctypes.POINTER(ctypes.c_int)\n",
    "library_cpp.test_read_file.argtypes = [ctypes.c_char_p, ctypes.c_ulonglong]\n",
    "\n",
    "library_cpp.test_int_array_delete.restype = None\n",
    "library_cpp.test_int_array_delete.argtypes = [ctypes.POINTER(ctypes.c_int)]"
   ]
  },
  {
   "cell_type": "code",
   "execution_count": 96,
   "metadata": {
    "ExecuteTime": {
     "end_time": "2022-12-08T08:08:58.164219Z",
     "start_time": "2022-12-08T08:08:57.472217Z"
    }
   },
   "outputs": [
    {
     "name": "stdout",
     "output_type": "stream",
     "text": [
      "Verify last value: 10998\n"
     ]
    }
   ],
   "source": [
    "start_cpp_read = time.time()\n",
    "data_ptr = library_cpp.test_read_file('data.txt'.encode('utf-8'), 10_000_000)\n",
    "array_from_data = np.ctypeslib.as_array(data_ptr, shape=[10_000, 1_000])\n",
    "print('Verify last value: {0}'.format(array_from_data[-1, -1]))\n",
    "total_time_cpp_read = time.time() - start_cpp_read\n",
    "\n",
    "library_cpp.test_int_array_delete(data_ptr)"
   ]
  },
  {
   "cell_type": "code",
   "execution_count": 97,
   "metadata": {
    "ExecuteTime": {
     "end_time": "2022-12-08T08:09:00.444219Z",
     "start_time": "2022-12-08T08:08:58.165233Z"
    }
   },
   "outputs": [
    {
     "name": "stdout",
     "output_type": "stream",
     "text": [
      "Verify last value: 10998\n"
     ]
    }
   ],
   "source": [
    "start_python_read = time.time()\n",
    "array = np.empty([10_000, 1_000], dtype=np.int32)\n",
    "\n",
    "with open('data.txt', 'r') as file:\n",
    "    for idx, line in enumerate(file):\n",
    "        for jdx, value in enumerate(line.strip().split(' ')):\n",
    "            array[idx, jdx] = int(value)\n",
    "\n",
    "array_from_file = array.reshape([10_000, 1_000])\n",
    "print('Verify last value: {0}'.format(array_from_file[-1, -1]))\n",
    "total_time_python_read = time.time() - start_python_read"
   ]
  },
  {
   "cell_type": "code",
   "execution_count": 98,
   "metadata": {
    "ExecuteTime": {
     "end_time": "2022-12-08T08:09:00.459217Z",
     "start_time": "2022-12-08T08:09:00.445218Z"
    }
   },
   "outputs": [
    {
     "name": "stdout",
     "output_type": "stream",
     "text": [
      "C function time: 0.534\n",
      "Pure Python time: 3.793\n"
     ]
    }
   ],
   "source": [
    "print('C function time: {0:.3f}'.format(total_time_cpp_read))\n",
    "print('Pure Python time: {0:.3f}'.format(total_time_python_read))"
   ]
  },
  {
   "cell_type": "markdown",
   "metadata": {},
   "source": [
    "### `Ctypes. libc`"
   ]
  },
  {
   "cell_type": "markdown",
   "metadata": {},
   "source": [
    "Также, `ctypes` можно использовать для доступа к функциям стандартной библиотеки языка `C`:"
   ]
  },
  {
   "cell_type": "code",
   "execution_count": 99,
   "metadata": {
    "ExecuteTime": {
     "end_time": "2022-12-08T08:09:02.057195Z",
     "start_time": "2022-12-08T08:09:02.047196Z"
    }
   },
   "outputs": [],
   "source": [
    "libc = ctypes.cdll.msvcrt if platform.system() == 'Windows' else ctypes.CDLL(\"libc.so.6\")"
   ]
  },
  {
   "cell_type": "code",
   "execution_count": 100,
   "metadata": {
    "ExecuteTime": {
     "end_time": "2022-12-08T08:09:02.484481Z",
     "start_time": "2022-12-08T08:09:02.471481Z"
    }
   },
   "outputs": [
    {
     "name": "stdout",
     "output_type": "stream",
     "text": [
      "Hello World!, Maksim\n"
     ]
    }
   ],
   "source": [
    "libc.printf('Hello World!, %s\\n'.encode('utf-8'), 'Maksim'.encode('utf-8'))\n",
    "libc.fflush(None);"
   ]
  },
  {
   "cell_type": "code",
   "execution_count": 101,
   "metadata": {
    "ExecuteTime": {
     "end_time": "2022-12-08T08:09:02.706483Z",
     "start_time": "2022-12-08T08:09:02.695485Z"
    }
   },
   "outputs": [
    {
     "name": "stdout",
     "output_type": "stream",
     "text": [
      "c_int(0) c_float(0.0) \n"
     ]
    }
   ],
   "source": [
    "int_val = ctypes.c_int()\n",
    "float_val = ctypes.c_float()\n",
    "str_val = ctypes.create_string_buffer(1024)\n",
    "libc.scanf('%d-%f-%s'.encode('utf-8'), ctypes.byref(int_val), ctypes.byref(float_val), str_val)\n",
    "print(int_val, float_val, str_val.value.decode('utf-8'))"
   ]
  },
  {
   "cell_type": "markdown",
   "metadata": {},
   "source": [
    "### `Ctypes. C++. Функции`"
   ]
  },
  {
   "cell_type": "markdown",
   "metadata": {},
   "source": [
    "Ctypes позволяет передавать `Python` функции внутрь `C/C++` кода. Это может быть полезно для написания `callback функций`.\n",
    "\n",
    "При этом, такие функции не будут захватывать `GIL`, что позволяет безопасно использовать этот механизм для многопоточных программ."
   ]
  },
  {
   "cell_type": "markdown",
   "metadata": {},
   "source": [
    "Рассмотрим использование таких функций на примере компаратора для сортировки:\n",
    "\n",
    "```C++\n",
    "typedef int (*comparator_type)(int, int);\n",
    "\n",
    "void test_sort(int * array, unsigned long long n, comparator_type comparator){\n",
    "    std::sort(array, array + n, comparator);\n",
    "}\n",
    "```"
   ]
  },
  {
   "cell_type": "code",
   "execution_count": 102,
   "metadata": {
    "ExecuteTime": {
     "end_time": "2022-12-08T08:09:03.994159Z",
     "start_time": "2022-12-08T08:09:03.983158Z"
    }
   },
   "outputs": [],
   "source": [
    "def simple_comparator(a, b):\n",
    "    return int(a > b)"
   ]
  },
  {
   "cell_type": "markdown",
   "metadata": {
    "ExecuteTime": {
     "end_time": "2022-12-08T07:50:17.727366Z",
     "start_time": "2022-12-08T07:50:17.717366Z"
    }
   },
   "source": [
    "Создаём тип, соответствующий вызываемой функции:"
   ]
  },
  {
   "cell_type": "code",
   "execution_count": 103,
   "metadata": {
    "ExecuteTime": {
     "end_time": "2022-12-08T08:09:04.419986Z",
     "start_time": "2022-12-08T08:09:04.406986Z"
    }
   },
   "outputs": [],
   "source": [
    "simple_comparator_type = ctypes.CFUNCTYPE(ctypes.c_int, ctypes.c_int, ctypes.c_int)"
   ]
  },
  {
   "cell_type": "code",
   "execution_count": 104,
   "metadata": {
    "ExecuteTime": {
     "end_time": "2022-12-08T08:09:04.875361Z",
     "start_time": "2022-12-08T08:09:04.871362Z"
    }
   },
   "outputs": [],
   "source": [
    "library_cpp.test_sort.restype = None\n",
    "library_cpp.test_sort.argtypes = [ctypes.POINTER(ctypes.c_int), ctypes.c_ulonglong, simple_comparator_type]"
   ]
  },
  {
   "cell_type": "code",
   "execution_count": 105,
   "metadata": {
    "ExecuteTime": {
     "end_time": "2022-12-08T08:09:05.081015Z",
     "start_time": "2022-12-08T08:09:05.071014Z"
    }
   },
   "outputs": [
    {
     "name": "stdout",
     "output_type": "stream",
     "text": [
      "Before sorting:  [78 52 72 35 84 78 46 61 36 11 62 99 61 39 65]\n",
      "After sorting (std::sort):  [335007449172 309237645390 223338299453 150323855406            0\n",
      "            0            0            0           36           11\n",
      "           62           99           61           39           65]\n"
     ]
    }
   ],
   "source": [
    "# нужно всегда помнить!\n",
    "\n",
    "array = np.random.randint(0, 100, size=[15])\n",
    "\n",
    "print(\"Before sorting: \", array)\n",
    "library_cpp.test_sort(\n",
    "    array.ctypes.data_as(ctypes.POINTER(ctypes.c_int)), ctypes.c_uint64(15), simple_comparator_type(simple_comparator)\n",
    ")\n",
    "print(\"After sorting (std::sort): \", array)"
   ]
  },
  {
   "cell_type": "markdown",
   "metadata": {},
   "source": [
    "### `Ctypes. C++. Функции`"
   ]
  },
  {
   "cell_type": "markdown",
   "metadata": {},
   "source": [
    "Также, можно использовать и более сложные функции:"
   ]
  },
  {
   "cell_type": "code",
   "execution_count": 106,
   "metadata": {
    "ExecuteTime": {
     "end_time": "2022-12-08T08:09:06.325625Z",
     "start_time": "2022-12-08T08:09:06.319626Z"
    }
   },
   "outputs": [],
   "source": [
    "def advanced_comparator(a, b):\n",
    "    return a[0] - b[0]"
   ]
  },
  {
   "cell_type": "code",
   "execution_count": 107,
   "metadata": {
    "ExecuteTime": {
     "end_time": "2022-12-08T08:09:06.482038Z",
     "start_time": "2022-12-08T08:09:06.479036Z"
    }
   },
   "outputs": [],
   "source": [
    "advanced_comparator_type = ctypes.CFUNCTYPE(ctypes.c_int, ctypes.POINTER(ctypes.c_int), ctypes.POINTER(ctypes.c_int))"
   ]
  },
  {
   "cell_type": "code",
   "execution_count": 108,
   "metadata": {
    "ExecuteTime": {
     "end_time": "2022-12-08T08:09:06.714793Z",
     "start_time": "2022-12-08T08:09:06.703793Z"
    }
   },
   "outputs": [
    {
     "name": "stdout",
     "output_type": "stream",
     "text": [
      "Before sorting:  [17 70 30 78  2 95 27 31  8  2 67 52 67 74 54]\n",
      "After sorting (libc qsort):  [ 2  2  8 17 27 30 31 52 54 67 67 70 74 78 95]\n"
     ]
    }
   ],
   "source": [
    "array = np.random.randint(0, 100, size=[15], dtype=np.int32)\n",
    "print(\"Before sorting: \", array)\n",
    "libc.qsort(\n",
    "    array.ctypes.data_as(ctypes.POINTER(ctypes.c_int)), 15,\n",
    "    ctypes.sizeof(ctypes.c_int), advanced_comparator_type(advanced_comparator)\n",
    ")\n",
    "print(\"After sorting (libc qsort): \", array)"
   ]
  },
  {
   "cell_type": "markdown",
   "metadata": {
    "slideshow": {
     "slide_type": "slide"
    }
   },
   "source": [
    "## `Спасибо за внимание!`"
   ]
  }
 ],
 "metadata": {
  "kernelspec": {
   "display_name": "Python 3 (ipykernel)",
   "language": "python",
   "name": "python3"
  },
  "language_info": {
   "codemirror_mode": {
    "name": "ipython",
    "version": 3
   },
   "file_extension": ".py",
   "mimetype": "text/x-python",
   "name": "python",
   "nbconvert_exporter": "python",
   "pygments_lexer": "ipython3",
   "version": "3.9.16"
  }
 },
 "nbformat": 4,
 "nbformat_minor": 2
}
